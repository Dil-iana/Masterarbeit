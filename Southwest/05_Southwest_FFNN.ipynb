{
 "cells": [
  {
   "cell_type": "code",
   "execution_count": 1,
   "id": "f5d1f583",
   "metadata": {
    "scrolled": false
   },
   "outputs": [
    {
     "name": "stderr",
     "output_type": "stream",
     "text": [
      "2022-12-02 20:53:54.476689: I tensorflow/core/platform/cpu_feature_guard.cc:193] This TensorFlow binary is optimized with oneAPI Deep Neural Network Library (oneDNN) to use the following CPU instructions in performance-critical operations:  AVX2 FMA\n",
      "To enable them in other operations, rebuild TensorFlow with the appropriate compiler flags.\n"
     ]
    }
   ],
   "source": [
    "import tensorflow as tf\n",
    "from tensorflow.keras.models import Sequential\n",
    "from tensorflow.keras.layers import Dense, Dropout\n",
    "import keras\n",
    "import pandas as pd\n",
    "from sklearn.model_selection import train_test_split\n",
    "from sklearn.preprocessing import MinMaxScaler\n",
    "from sklearn.metrics import mean_squared_error, mean_absolute_error\n",
    "import math\n",
    "import matplotlib.pyplot as plt\n",
    "from tensorflow.keras import initializers"
   ]
  },
  {
   "cell_type": "markdown",
   "id": "54f9bd01",
   "metadata": {},
   "source": [
    "## Import data "
   ]
  },
  {
   "cell_type": "code",
   "execution_count": 4,
   "id": "a992baa0",
   "metadata": {},
   "outputs": [],
   "source": [
    "df_southwest = pd.read_excel(r'/Users/dilianaserafimova/Desktop/df_southwest_clean.xlsx')"
   ]
  },
  {
   "cell_type": "code",
   "execution_count": 5,
   "id": "19f03ca1",
   "metadata": {},
   "outputs": [],
   "source": [
    "df_southwest = df_southwest.set_index(['date'])"
   ]
  },
  {
   "cell_type": "code",
   "execution_count": 6,
   "id": "3bae768c",
   "metadata": {},
   "outputs": [],
   "source": [
    "X = df_southwest[['revenue', 'seat_miles', 'load_factor', 'flights']]"
   ]
  },
  {
   "cell_type": "code",
   "execution_count": 7,
   "id": "82e97e35",
   "metadata": {},
   "outputs": [],
   "source": [
    "y = df_southwest['pax_count'].values"
   ]
  },
  {
   "cell_type": "markdown",
   "id": "20633ac5",
   "metadata": {},
   "source": [
    "## Train & test split"
   ]
  },
  {
   "cell_type": "code",
   "execution_count": 8,
   "id": "c54eb130",
   "metadata": {},
   "outputs": [],
   "source": [
    "X_train, X_test, y_train, y_test = train_test_split(X, y, test_size=0.2, random_state = 1)"
   ]
  },
  {
   "cell_type": "markdown",
   "id": "425cd75a",
   "metadata": {},
   "source": [
    "## Normalize the data"
   ]
  },
  {
   "cell_type": "code",
   "execution_count": 9,
   "id": "16720abf",
   "metadata": {},
   "outputs": [],
   "source": [
    "scaler = MinMaxScaler()"
   ]
  },
  {
   "cell_type": "code",
   "execution_count": 10,
   "id": "cebc19d9",
   "metadata": {},
   "outputs": [],
   "source": [
    "X_train = scaler.fit_transform(X_train)"
   ]
  },
  {
   "cell_type": "code",
   "execution_count": 11,
   "id": "7ca86aa3",
   "metadata": {},
   "outputs": [],
   "source": [
    "X_test = scaler.transform(X_test)"
   ]
  },
  {
   "cell_type": "markdown",
   "id": "2c1fb5df",
   "metadata": {},
   "source": [
    "## Creating the model "
   ]
  },
  {
   "cell_type": "code",
   "execution_count": 27,
   "id": "ce589b2c",
   "metadata": {},
   "outputs": [],
   "source": [
    "model = Sequential()\n",
    "\n",
    "model.add(Dense(4, activation='relu', \n",
    "                #kernel_initializer=initializers.RandomNormal(stddev=0.01),\n",
    "               # bias_initializer=initializers.Zeros()\n",
    "               ))\n",
    "model.add(Dense(8, activation='relu'))\n",
    "model.add(Dense(6, activation='relu'))\n",
    "model.add(Dense(5, activation='relu'))\n",
    "model.add(Dense(3, activation='relu'))\n",
    "model.add(Dense(2, activation='relu'))\n",
    "model.add(Dense(units=1,activation='relu'))"
   ]
  },
  {
   "cell_type": "code",
   "execution_count": 28,
   "id": "2a7029f3",
   "metadata": {},
   "outputs": [],
   "source": [
    "opt = keras.optimizers.Adam(learning_rate=0.2, beta_1=0.5, beta_2=0.999)\n",
    "\n",
    "model.compile(loss = 'mean_absolute_error', optimizer= opt)"
   ]
  },
  {
   "cell_type": "markdown",
   "id": "51a3371f",
   "metadata": {},
   "source": [
    "## Fit the model "
   ]
  },
  {
   "cell_type": "code",
   "execution_count": 29,
   "id": "e94ffd05",
   "metadata": {
    "scrolled": true
   },
   "outputs": [
    {
     "name": "stdout",
     "output_type": "stream",
     "text": [
      "Epoch 1/50\n",
      "6/6 [==============================] - 1s 44ms/step - loss: 9800355.0000 - val_loss: 9744503.0000\n",
      "Epoch 2/50\n",
      "6/6 [==============================] - 0s 11ms/step - loss: 9536450.0000 - val_loss: 5758340.5000\n",
      "Epoch 3/50\n",
      "6/6 [==============================] - 0s 11ms/step - loss: 3768632.2500 - val_loss: 473035.3750\n",
      "Epoch 4/50\n",
      "6/6 [==============================] - 0s 13ms/step - loss: 1229021.0000 - val_loss: 1993519.3750\n",
      "Epoch 5/50\n",
      "6/6 [==============================] - 0s 16ms/step - loss: 1178449.0000 - val_loss: 369411.7500\n",
      "Epoch 6/50\n",
      "6/6 [==============================] - 0s 13ms/step - loss: 633949.8125 - val_loss: 742150.3750\n",
      "Epoch 7/50\n",
      "6/6 [==============================] - 0s 11ms/step - loss: 753351.0000 - val_loss: 1941173.8750\n",
      "Epoch 8/50\n",
      "6/6 [==============================] - 0s 12ms/step - loss: 1371522.5000 - val_loss: 2042674.3750\n",
      "Epoch 9/50\n",
      "6/6 [==============================] - 0s 12ms/step - loss: 1106834.2500 - val_loss: 559138.1250\n",
      "Epoch 10/50\n",
      "6/6 [==============================] - 0s 10ms/step - loss: 675567.8125 - val_loss: 309626.5625\n",
      "Epoch 11/50\n",
      "6/6 [==============================] - 0s 10ms/step - loss: 654067.0625 - val_loss: 1217723.7500\n",
      "Epoch 12/50\n",
      "6/6 [==============================] - 0s 15ms/step - loss: 1055174.2500 - val_loss: 335110.1562\n",
      "Epoch 13/50\n",
      "6/6 [==============================] - 0s 14ms/step - loss: 980991.3125 - val_loss: 483325.6562\n",
      "Epoch 14/50\n",
      "6/6 [==============================] - 0s 14ms/step - loss: 1139454.2500 - val_loss: 426016.5000\n",
      "Epoch 15/50\n",
      "6/6 [==============================] - 0s 13ms/step - loss: 977490.6250 - val_loss: 918395.0000\n",
      "Epoch 16/50\n",
      "6/6 [==============================] - 0s 13ms/step - loss: 762137.9375 - val_loss: 892151.4375\n",
      "Epoch 17/50\n",
      "6/6 [==============================] - 0s 18ms/step - loss: 662205.2500 - val_loss: 1590278.8750\n",
      "Epoch 18/50\n",
      "6/6 [==============================] - 0s 12ms/step - loss: 895368.6250 - val_loss: 1372305.7500\n",
      "Epoch 19/50\n",
      "6/6 [==============================] - 0s 11ms/step - loss: 1157751.3750 - val_loss: 1386827.3750\n",
      "Epoch 20/50\n",
      "6/6 [==============================] - 0s 11ms/step - loss: 862128.8125 - val_loss: 1747154.8750\n",
      "Epoch 21/50\n",
      "6/6 [==============================] - 0s 13ms/step - loss: 822493.5000 - val_loss: 597423.6875\n",
      "Epoch 22/50\n",
      "6/6 [==============================] - 0s 10ms/step - loss: 583682.0000 - val_loss: 994686.6250\n",
      "Epoch 23/50\n",
      "6/6 [==============================] - 0s 13ms/step - loss: 699567.3125 - val_loss: 362343.5000\n",
      "Epoch 24/50\n",
      "6/6 [==============================] - 0s 11ms/step - loss: 657520.5000 - val_loss: 577747.4375\n",
      "Epoch 25/50\n",
      "6/6 [==============================] - 0s 11ms/step - loss: 796397.5000 - val_loss: 1625243.7500\n",
      "Epoch 26/50\n",
      "6/6 [==============================] - 0s 20ms/step - loss: 1137872.1250 - val_loss: 1366565.0000\n",
      "Epoch 27/50\n",
      "6/6 [==============================] - 0s 19ms/step - loss: 803091.1250 - val_loss: 674201.3125\n",
      "Epoch 28/50\n",
      "6/6 [==============================] - 0s 14ms/step - loss: 1134614.8750 - val_loss: 783110.6250\n",
      "Epoch 29/50\n",
      "6/6 [==============================] - 0s 11ms/step - loss: 920193.9375 - val_loss: 803288.6875\n",
      "Epoch 30/50\n",
      "6/6 [==============================] - 0s 11ms/step - loss: 787958.4375 - val_loss: 2075359.7500\n",
      "Epoch 31/50\n",
      "6/6 [==============================] - 0s 10ms/step - loss: 1440264.0000 - val_loss: 3006001.5000\n",
      "Epoch 32/50\n",
      "6/6 [==============================] - 0s 10ms/step - loss: 1671080.5000 - val_loss: 1563821.6250\n",
      "Epoch 33/50\n",
      "6/6 [==============================] - 0s 12ms/step - loss: 1006492.8750 - val_loss: 259304.8281\n",
      "Epoch 34/50\n",
      "6/6 [==============================] - 0s 13ms/step - loss: 551840.6875 - val_loss: 1265836.6250\n",
      "Epoch 35/50\n",
      "6/6 [==============================] - 0s 13ms/step - loss: 1121190.5000 - val_loss: 1845369.7500\n",
      "Epoch 36/50\n",
      "6/6 [==============================] - 0s 14ms/step - loss: 1198756.6250 - val_loss: 494559.3125\n",
      "Epoch 37/50\n",
      "6/6 [==============================] - 0s 12ms/step - loss: 646094.5000 - val_loss: 357271.8438\n",
      "Epoch 38/50\n",
      "6/6 [==============================] - 0s 12ms/step - loss: 595286.5000 - val_loss: 286630.7812\n",
      "Epoch 39/50\n",
      "6/6 [==============================] - 0s 19ms/step - loss: 612124.6250 - val_loss: 228855.1875\n",
      "Epoch 40/50\n",
      "6/6 [==============================] - 0s 19ms/step - loss: 505819.5000 - val_loss: 1258027.8750\n",
      "Epoch 41/50\n",
      "6/6 [==============================] - 0s 16ms/step - loss: 651756.9375 - val_loss: 1100020.2500\n",
      "Epoch 42/50\n",
      "6/6 [==============================] - 0s 15ms/step - loss: 729543.6875 - val_loss: 1153374.1250\n",
      "Epoch 43/50\n",
      "6/6 [==============================] - 0s 11ms/step - loss: 1178041.7500 - val_loss: 379666.6875\n",
      "Epoch 44/50\n",
      "6/6 [==============================] - 0s 11ms/step - loss: 514968.9375 - val_loss: 811922.8125\n",
      "Epoch 45/50\n",
      "6/6 [==============================] - 0s 18ms/step - loss: 504657.5625 - val_loss: 1102197.5000\n",
      "Epoch 46/50\n",
      "6/6 [==============================] - 0s 13ms/step - loss: 667921.8125 - val_loss: 1013187.0000\n",
      "Epoch 47/50\n",
      "6/6 [==============================] - 0s 13ms/step - loss: 630279.2500 - val_loss: 635317.0000\n",
      "Epoch 48/50\n",
      "6/6 [==============================] - 0s 15ms/step - loss: 615913.3750 - val_loss: 2128193.2500\n",
      "Epoch 49/50\n",
      "6/6 [==============================] - 0s 13ms/step - loss: 1331384.5000 - val_loss: 1201862.5000\n",
      "Epoch 50/50\n",
      "6/6 [==============================] - 0s 14ms/step - loss: 1113757.0000 - val_loss: 459319.5625\n"
     ]
    },
    {
     "data": {
      "text/plain": [
       "<keras.callbacks.History at 0x7ffc83ef4340>"
      ]
     },
     "execution_count": 29,
     "metadata": {},
     "output_type": "execute_result"
    }
   ],
   "source": [
    "model.fit(X_train, y_train, epochs = 50, validation_data=(X_test, y_test))"
   ]
  },
  {
   "cell_type": "code",
   "execution_count": 30,
   "id": "34de54cb",
   "metadata": {},
   "outputs": [],
   "source": [
    "losses = pd.DataFrame(model.history.history)"
   ]
  },
  {
   "cell_type": "code",
   "execution_count": 31,
   "id": "6a248c4d",
   "metadata": {
    "scrolled": false
   },
   "outputs": [
    {
     "data": {
      "text/html": [
       "<div>\n",
       "<style scoped>\n",
       "    .dataframe tbody tr th:only-of-type {\n",
       "        vertical-align: middle;\n",
       "    }\n",
       "\n",
       "    .dataframe tbody tr th {\n",
       "        vertical-align: top;\n",
       "    }\n",
       "\n",
       "    .dataframe thead th {\n",
       "        text-align: right;\n",
       "    }\n",
       "</style>\n",
       "<table border=\"1\" class=\"dataframe\">\n",
       "  <thead>\n",
       "    <tr style=\"text-align: right;\">\n",
       "      <th></th>\n",
       "      <th>loss</th>\n",
       "      <th>val_loss</th>\n",
       "    </tr>\n",
       "  </thead>\n",
       "  <tbody>\n",
       "    <tr>\n",
       "      <th>0</th>\n",
       "      <td>9800355.00</td>\n",
       "      <td>9744503.000</td>\n",
       "    </tr>\n",
       "    <tr>\n",
       "      <th>1</th>\n",
       "      <td>9536450.00</td>\n",
       "      <td>5758340.500</td>\n",
       "    </tr>\n",
       "    <tr>\n",
       "      <th>2</th>\n",
       "      <td>3768632.25</td>\n",
       "      <td>473035.375</td>\n",
       "    </tr>\n",
       "    <tr>\n",
       "      <th>3</th>\n",
       "      <td>1229021.00</td>\n",
       "      <td>1993519.375</td>\n",
       "    </tr>\n",
       "    <tr>\n",
       "      <th>4</th>\n",
       "      <td>1178449.00</td>\n",
       "      <td>369411.750</td>\n",
       "    </tr>\n",
       "  </tbody>\n",
       "</table>\n",
       "</div>"
      ],
      "text/plain": [
       "         loss     val_loss\n",
       "0  9800355.00  9744503.000\n",
       "1  9536450.00  5758340.500\n",
       "2  3768632.25   473035.375\n",
       "3  1229021.00  1993519.375\n",
       "4  1178449.00   369411.750"
      ]
     },
     "execution_count": 31,
     "metadata": {},
     "output_type": "execute_result"
    }
   ],
   "source": [
    "losses.head()"
   ]
  },
  {
   "cell_type": "code",
   "execution_count": 32,
   "id": "cd9ea547",
   "metadata": {
    "scrolled": false
   },
   "outputs": [
    {
     "data": {
      "text/plain": [
       "<AxesSubplot:>"
      ]
     },
     "execution_count": 32,
     "metadata": {},
     "output_type": "execute_result"
    },
    {
     "data": {
      "image/png": "[encoded data removed]",
      "text/plain": [
       "<Figure size 432x288 with 1 Axes>"
      ]
     },
     "metadata": {
      "needs_background": "light"
     },
     "output_type": "display_data"
    }
   ],
   "source": [
    "losses.plot()"
   ]
  },
  {
   "cell_type": "code",
   "execution_count": 33,
   "id": "a46ba159",
   "metadata": {
    "scrolled": true
   },
   "outputs": [
    {
     "name": "stdout",
     "output_type": "stream",
     "text": [
      "6/6 [==============================] - 0s 2ms/step\n",
      "2/2 [==============================] - 0s 4ms/step\n"
     ]
    }
   ],
   "source": [
    "trainPredict = model.predict(X_train)\n",
    "testPredict = model.predict(X_test)"
   ]
  },
  {
   "cell_type": "code",
   "execution_count": 34,
   "id": "f6096681",
   "metadata": {},
   "outputs": [
    {
     "name": "stdout",
     "output_type": "stream",
     "text": [
      "Model: \"sequential_2\"\n",
      "_________________________________________________________________\n",
      " Layer (type)                Output Shape              Param #   \n",
      "=================================================================\n",
      " dense_11 (Dense)            (None, 4)                 20        \n",
      "                                                                 \n",
      " dense_12 (Dense)            (None, 8)                 40        \n",
      "                                                                 \n",
      " dense_13 (Dense)            (None, 6)                 54        \n",
      "                                                                 \n",
      " dense_14 (Dense)            (None, 5)                 35        \n",
      "                                                                 \n",
      " dense_15 (Dense)            (None, 3)                 18        \n",
      "                                                                 \n",
      " dense_16 (Dense)            (None, 2)                 8         \n",
      "                                                                 \n",
      " dense_17 (Dense)            (None, 1)                 3         \n",
      "                                                                 \n",
      "=================================================================\n",
      "Total params: 178\n",
      "Trainable params: 178\n",
      "Non-trainable params: 0\n",
      "_________________________________________________________________\n",
      "Layer:  dense_11\n",
      "  --Kernels (Weights):  [array([[ 4.731294  ,  5.216789  , -0.05260813,  0.08530164],\n",
      "       [ 4.306694  ,  5.132424  , -0.09390432, -0.58154094],\n",
      "       [ 1.7126848 ,  4.4220896 , -0.30417073, -0.02300745],\n",
      "       [ 0.15757436,  1.586959  , -0.06817502, -0.78872406]],\n",
      "      dtype=float32), array([4.1738105, 5.0289183, 0.       , 0.       ], dtype=float32)]\n",
      "  --Biases:  [array([[ 4.731294  ,  5.216789  , -0.05260813,  0.08530164],\n",
      "       [ 4.306694  ,  5.132424  , -0.09390432, -0.58154094],\n",
      "       [ 1.7126848 ,  4.4220896 , -0.30417073, -0.02300745],\n",
      "       [ 0.15757436,  1.586959  , -0.06817502, -0.78872406]],\n",
      "      dtype=float32), array([4.1738105, 5.0289183, 0.       , 0.       ], dtype=float32)]\n",
      "Layer:  dense_12\n",
      "  --Kernels (Weights):  [array([[ 2.7476435 ,  3.8405914 ,  2.915151  ,  3.374546  ,  4.0423365 ,\n",
      "        -0.01633876, -0.558539  ,  3.1965327 ],\n",
      "       [ 1.8894339 ,  4.679797  ,  4.6453967 ,  4.311239  ,  4.494215  ,\n",
      "        -0.73986095, -0.50310373,  3.9851747 ],\n",
      "       [-0.14475489,  0.40219587,  0.07960445, -0.15789825,  0.2580402 ,\n",
      "         0.44763964, -0.6843775 , -0.1329251 ],\n",
      "       [-0.43865022, -0.36666933,  0.5133833 , -0.6443078 ,  0.6888103 ,\n",
      "        -0.07842684,  0.07857722, -0.6789218 ]], dtype=float32), array([ 3.9164991,  5.9850802,  5.9057827,  5.504643 ,  5.9910603,\n",
      "       -0.5659031,  0.       ,  5.4602356], dtype=float32)]\n",
      "  --Biases:  [array([[ 2.7476435 ,  3.8405914 ,  2.915151  ,  3.374546  ,  4.0423365 ,\n",
      "        -0.01633876, -0.558539  ,  3.1965327 ],\n",
      "       [ 1.8894339 ,  4.679797  ,  4.6453967 ,  4.311239  ,  4.494215  ,\n",
      "        -0.73986095, -0.50310373,  3.9851747 ],\n",
      "       [-0.14475489,  0.40219587,  0.07960445, -0.15789825,  0.2580402 ,\n",
      "         0.44763964, -0.6843775 , -0.1329251 ],\n",
      "       [-0.43865022, -0.36666933,  0.5133833 , -0.6443078 ,  0.6888103 ,\n",
      "        -0.07842684,  0.07857722, -0.6789218 ]], dtype=float32), array([ 3.9164991,  5.9850802,  5.9057827,  5.504643 ,  5.9910603,\n",
      "       -0.5659031,  0.       ,  5.4602356], dtype=float32)]\n",
      "Layer:  dense_13\n",
      "  --Kernels (Weights):  [array([[ 2.6827972 , -0.40656728,  0.503067  , -0.44966453,  2.0196042 ,\n",
      "         0.13820791],\n",
      "       [ 4.355555  , -1.0227109 , -0.8911523 , -0.34792992,  4.471388  ,\n",
      "        -0.24376464],\n",
      "       [ 3.868297  , -0.02171803,  0.0256022 , -1.0299785 ,  4.4254246 ,\n",
      "        -0.08672816],\n",
      "       [ 4.294092  , -0.54540586, -0.03307771,  0.04223961,  3.8508394 ,\n",
      "        -0.37158236],\n",
      "       [ 4.486168  ,  0.12506768, -0.7288753 , -0.08025078,  4.4259033 ,\n",
      "        -0.29190177],\n",
      "       [ 0.24935947, -0.11653286, -0.2533802 , -0.0083496 ,  0.05299398,\n",
      "        -0.02926856],\n",
      "       [ 0.39794648,  0.5860994 , -0.48906374,  0.46208906,  0.547148  ,\n",
      "        -0.59278524],\n",
      "       [ 4.073925  , -0.6821777 , -0.58189005, -0.51521254,  3.6868236 ,\n",
      "         0.2846154 ]], dtype=float32), array([ 6.822307  , -0.40298644, -0.40153173, -0.40151107,  6.7566957 ,\n",
      "        0.        ], dtype=float32)]\n",
      "  --Biases:  [array([[ 2.6827972 , -0.40656728,  0.503067  , -0.44966453,  2.0196042 ,\n",
      "         0.13820791],\n",
      "       [ 4.355555  , -1.0227109 , -0.8911523 , -0.34792992,  4.471388  ,\n",
      "        -0.24376464],\n",
      "       [ 3.868297  , -0.02171803,  0.0256022 , -1.0299785 ,  4.4254246 ,\n",
      "        -0.08672816],\n",
      "       [ 4.294092  , -0.54540586, -0.03307771,  0.04223961,  3.8508394 ,\n",
      "        -0.37158236],\n",
      "       [ 4.486168  ,  0.12506768, -0.7288753 , -0.08025078,  4.4259033 ,\n",
      "        -0.29190177],\n",
      "       [ 0.24935947, -0.11653286, -0.2533802 , -0.0083496 ,  0.05299398,\n",
      "        -0.02926856],\n",
      "       [ 0.39794648,  0.5860994 , -0.48906374,  0.46208906,  0.547148  ,\n",
      "        -0.59278524],\n",
      "       [ 4.073925  , -0.6821777 , -0.58189005, -0.51521254,  3.6868236 ,\n",
      "         0.2846154 ]], dtype=float32), array([ 6.822307  , -0.40298644, -0.40153173, -0.40151107,  6.7566957 ,\n",
      "        0.        ], dtype=float32)]\n",
      "Layer:  dense_14\n",
      "  --Kernels (Weights):  [array([[ 4.69393206e+00,  4.40395594e+00, -4.87024695e-01,\n",
      "         4.71529341e+00, -1.69315338e-02],\n",
      "       [ 3.68258287e-03,  5.18805981e-01,  1.36501551e-01,\n",
      "         3.70116234e-02, -1.10952675e-01],\n",
      "       [ 1.02614844e+00, -3.16502988e-01, -2.10024297e-01,\n",
      "        -3.13745774e-02,  5.86626112e-01],\n",
      "       [ 1.24743275e-01,  2.00504139e-01, -4.90569234e-01,\n",
      "        -2.40554228e-01, -4.22779828e-01],\n",
      "       [ 3.67245770e+00,  4.70389366e+00, -1.81458235e-01,\n",
      "         4.23767757e+00, -4.25158888e-01],\n",
      "       [ 3.35985422e-03, -3.52782637e-01,  4.08914983e-01,\n",
      "        -6.04527354e-01, -4.19783741e-01]], dtype=float32), array([7.51437  , 7.569581 , 0.       , 7.5583305, 0.       ],\n",
      "      dtype=float32)]\n",
      "  --Biases:  [array([[ 4.69393206e+00,  4.40395594e+00, -4.87024695e-01,\n",
      "         4.71529341e+00, -1.69315338e-02],\n",
      "       [ 3.68258287e-03,  5.18805981e-01,  1.36501551e-01,\n",
      "         3.70116234e-02, -1.10952675e-01],\n",
      "       [ 1.02614844e+00, -3.16502988e-01, -2.10024297e-01,\n",
      "        -3.13745774e-02,  5.86626112e-01],\n",
      "       [ 1.24743275e-01,  2.00504139e-01, -4.90569234e-01,\n",
      "        -2.40554228e-01, -4.22779828e-01],\n",
      "       [ 3.67245770e+00,  4.70389366e+00, -1.81458235e-01,\n",
      "         4.23767757e+00, -4.25158888e-01],\n",
      "       [ 3.35985422e-03, -3.52782637e-01,  4.08914983e-01,\n",
      "        -6.04527354e-01, -4.19783741e-01]], dtype=float32), array([7.51437  , 7.569581 , 0.       , 7.5583305, 0.       ],\n",
      "      dtype=float32)]\n",
      "Layer:  dense_15\n",
      "  --Kernels (Weights):  [array([[ 0.03009704,  3.8759084 ,  4.782347  ],\n",
      "       [-0.7887255 ,  4.849556  ,  4.4241867 ],\n",
      "       [-0.6978378 , -0.70417273, -0.19725037],\n",
      "       [ 0.17460684,  4.5258474 ,  4.67836   ],\n",
      "       [ 0.30763274,  0.1443302 , -0.02716571]], dtype=float32), array([-0.6334802,  8.18822  ,  8.2099495], dtype=float32)]\n",
      "  --Biases:  [array([[ 0.03009704,  3.8759084 ,  4.782347  ],\n",
      "       [-0.7887255 ,  4.849556  ,  4.4241867 ],\n",
      "       [-0.6978378 , -0.70417273, -0.19725037],\n",
      "       [ 0.17460684,  4.5258474 ,  4.67836   ],\n",
      "       [ 0.30763274,  0.1443302 , -0.02716571]], dtype=float32), array([-0.6334802,  8.18822  ,  8.2099495], dtype=float32)]\n",
      "Layer:  dense_16\n",
      "  --Kernels (Weights):  [array([[ 0.04423739,  0.45377946],\n",
      "       [ 4.5531545 , -0.02865732],\n",
      "       [ 4.7440267 , -0.7108597 ]], dtype=float32), array([8.662687, 0.      ], dtype=float32)]\n",
      "  --Biases:  [array([[ 0.04423739,  0.45377946],\n",
      "       [ 4.5531545 , -0.02865732],\n",
      "       [ 4.7440267 , -0.7108597 ]], dtype=float32), array([8.662687, 0.      ], dtype=float32)]\n",
      "Layer:  dense_17\n",
      "  --Kernels (Weights):  [array([[ 4.1125684 ],\n",
      "       [-0.14880598]], dtype=float32), array([8.021469], dtype=float32)]\n",
      "  --Biases:  [array([[ 4.1125684 ],\n",
      "       [-0.14880598]], dtype=float32), array([8.021469], dtype=float32)]\n"
     ]
    }
   ],
   "source": [
    "model.summary()\n",
    "for layer in model.layers:\n",
    "    print(\"Layer: \", layer.name) # print layer name\n",
    "    print(\"  --Kernels (Weights): \", layer.get_weights()) # weights\n",
    "    print(\"  --Biases: \", layer.get_weights()) # biases\n",
    "    "
   ]
  },
  {
   "cell_type": "code",
   "execution_count": 35,
   "id": "43a7c10d",
   "metadata": {},
   "outputs": [
    {
     "name": "stdout",
     "output_type": "stream",
     "text": [
      "Test Score: 538309.13 RMSE\n"
     ]
    }
   ],
   "source": [
    "testScore = math.sqrt(mean_squared_error(y_test, testPredict))\n",
    "print(\"Test Score: %.2f RMSE\" % (testScore))"
   ]
  },
  {
   "cell_type": "code",
   "execution_count": 36,
   "id": "06f01f08",
   "metadata": {
    "scrolled": true
   },
   "outputs": [
    {
     "name": "stdout",
     "output_type": "stream",
     "text": [
      "Train Score: 538309.13 RMSE\n"
     ]
    }
   ],
   "source": [
    "trainScore = math.sqrt(mean_squared_error(y_train, trainPredict))\n",
    "print(\"Train Score: %.2f RMSE\" % (testScore))"
   ]
  },
  {
   "cell_type": "code",
   "execution_count": 37,
   "id": "54b7bb3f",
   "metadata": {},
   "outputs": [],
   "source": [
    "def plot_delta(actual, predictions):\n",
    "    title = 'Passanger Predictions Store '\n",
    "    act = plt.plot(actual, color='blue', label='Actual')\n",
    "    pred = plt.plot(predictions, color='orange', label='Predictions')\n",
    "    plt.xlabel(\"Date\")\n",
    "    plt.ylabel(\"Paxe\")\n",
    "    plt.legend(loc='best')\n",
    "    plt.title(title)\n",
    "    plt.show()"
   ]
  },
  {
   "cell_type": "code",
   "execution_count": 38,
   "id": "ec621dc7",
   "metadata": {
    "scrolled": false
   },
   "outputs": [
    {
     "data": {
      "image/png": "[encoded data removed]",
      "text/plain": [
       "<Figure size 432x288 with 1 Axes>"
      ]
     },
     "metadata": {
      "needs_background": "light"
     },
     "output_type": "display_data"
    }
   ],
   "source": [
    "plot_delta(y_test, testPredict)"
   ]
  }
 ],
 "metadata": {
  "kernelspec": {
   "display_name": "Python 3 (ipykernel)",
   "language": "python",
   "name": "python3"
  },
  "language_info": {
   "codemirror_mode": {
    "name": "ipython",
    "version": 3
   },
   "file_extension": ".py",
   "mimetype": "text/x-python",
   "name": "python",
   "nbconvert_exporter": "python",
   "pygments_lexer": "ipython3",
   "version": "3.9.7"
  }
 },
 "nbformat": 4,
 "nbformat_minor": 5
}
