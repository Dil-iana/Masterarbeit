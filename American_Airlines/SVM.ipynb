{
 "cells": [
  {
   "cell_type": "markdown",
   "id": "e053b033",
   "metadata": {},
   "source": [
    "### Import libs"
   ]
  },
  {
   "cell_type": "code",
   "execution_count": 1,
   "id": "2e235ac1",
   "metadata": {},
   "outputs": [],
   "source": [
    "import pandas as pd\n",
    "import numpy as np\n",
    "import seaborn as sns\n",
    "import matplotlib.pyplot as plt\n",
    "import os\n",
    "from pandas import DataFrame\n",
    "from numpy import log\n",
    "from matplotlib import pyplot\n",
    "from sklearn.svm import SVR\n",
    "from sklearn.model_selection import train_test_split "
   ]
  },
  {
   "cell_type": "markdown",
   "id": "a7d10f7f",
   "metadata": {},
   "source": [
    "### Import data "
   ]
  },
  {
   "cell_type": "code",
   "execution_count": 2,
   "id": "a0a73a05",
   "metadata": {},
   "outputs": [],
   "source": [
    "df_american = pd.read_excel(r'/Users/dilianaserafimova/Desktop/df_american_clean.xlsx')"
   ]
  },
  {
   "cell_type": "markdown",
   "id": "d52389b9",
   "metadata": {},
   "source": [
    "### Date to index "
   ]
  },
  {
   "cell_type": "code",
   "execution_count": 3,
   "id": "3440e6f2",
   "metadata": {},
   "outputs": [],
   "source": [
    "df_american = df_american.set_index(['date'])"
   ]
  },
  {
   "cell_type": "code",
   "execution_count": 4,
   "id": "62d74ac8",
   "metadata": {},
   "outputs": [
    {
     "data": {
      "text/html": [
       "<div>\n",
       "<style scoped>\n",
       "    .dataframe tbody tr th:only-of-type {\n",
       "        vertical-align: middle;\n",
       "    }\n",
       "\n",
       "    .dataframe tbody tr th {\n",
       "        vertical-align: top;\n",
       "    }\n",
       "\n",
       "    .dataframe thead th {\n",
       "        text-align: right;\n",
       "    }\n",
       "</style>\n",
       "<table border=\"1\" class=\"dataframe\">\n",
       "  <thead>\n",
       "    <tr style=\"text-align: right;\">\n",
       "      <th></th>\n",
       "      <th>pax_count</th>\n",
       "      <th>revenue</th>\n",
       "      <th>seat_miles</th>\n",
       "      <th>load_factor</th>\n",
       "      <th>flights</th>\n",
       "    </tr>\n",
       "    <tr>\n",
       "      <th>date</th>\n",
       "      <th></th>\n",
       "      <th></th>\n",
       "      <th></th>\n",
       "      <th></th>\n",
       "      <th></th>\n",
       "    </tr>\n",
       "  </thead>\n",
       "  <tbody>\n",
       "    <tr>\n",
       "      <th>2003-01-01</th>\n",
       "      <td>7013818</td>\n",
       "      <td>9405547</td>\n",
       "      <td>14038698</td>\n",
       "      <td>67.00</td>\n",
       "      <td>78214</td>\n",
       "    </tr>\n",
       "    <tr>\n",
       "      <th>2003-02-01</th>\n",
       "      <td>6363926</td>\n",
       "      <td>8355084</td>\n",
       "      <td>12142241</td>\n",
       "      <td>68.81</td>\n",
       "      <td>67463</td>\n",
       "    </tr>\n",
       "    <tr>\n",
       "      <th>2003-03-01</th>\n",
       "      <td>7628481</td>\n",
       "      <td>9981627</td>\n",
       "      <td>13929984</td>\n",
       "      <td>71.66</td>\n",
       "      <td>77125</td>\n",
       "    </tr>\n",
       "    <tr>\n",
       "      <th>2003-04-01</th>\n",
       "      <td>7103085</td>\n",
       "      <td>9325622</td>\n",
       "      <td>13210596</td>\n",
       "      <td>70.59</td>\n",
       "      <td>73182</td>\n",
       "    </tr>\n",
       "    <tr>\n",
       "      <th>2003-05-01</th>\n",
       "      <td>7447462</td>\n",
       "      <td>9838460</td>\n",
       "      <td>13345197</td>\n",
       "      <td>73.72</td>\n",
       "      <td>73381</td>\n",
       "    </tr>\n",
       "  </tbody>\n",
       "</table>\n",
       "</div>"
      ],
      "text/plain": [
       "            pax_count  revenue  seat_miles  load_factor  flights\n",
       "date                                                            \n",
       "2003-01-01    7013818  9405547    14038698        67.00    78214\n",
       "2003-02-01    6363926  8355084    12142241        68.81    67463\n",
       "2003-03-01    7628481  9981627    13929984        71.66    77125\n",
       "2003-04-01    7103085  9325622    13210596        70.59    73182\n",
       "2003-05-01    7447462  9838460    13345197        73.72    73381"
      ]
     },
     "execution_count": 4,
     "metadata": {},
     "output_type": "execute_result"
    }
   ],
   "source": [
    "df_american.head()"
   ]
  },
  {
   "cell_type": "markdown",
   "id": "3d8e93a7",
   "metadata": {},
   "source": [
    "### Train Test Set "
   ]
  },
  {
   "cell_type": "code",
   "execution_count": 5,
   "id": "152c642d",
   "metadata": {},
   "outputs": [],
   "source": [
    "X = df_american[['revenue', 'seat_miles', 'load_factor', 'flights']]"
   ]
  },
  {
   "cell_type": "code",
   "execution_count": 6,
   "id": "8a075890",
   "metadata": {},
   "outputs": [],
   "source": [
    "y = df_american['pax_count']"
   ]
  },
  {
   "cell_type": "code",
   "execution_count": 7,
   "id": "c5826f5e",
   "metadata": {},
   "outputs": [],
   "source": [
    "X_train, X_test, y_train, y_test = train_test_split(X, y, test_size = 0.2, random_state = 101)"
   ]
  },
  {
   "cell_type": "markdown",
   "id": "b5b2beef",
   "metadata": {},
   "source": [
    "### Model "
   ]
  },
  {
   "cell_type": "code",
   "execution_count": null,
   "id": "b51ea577",
   "metadata": {},
   "outputs": [],
   "source": [
    "for k in ['linear', 'poly', 'rbf', 'sigmoid']:\n",
    "    clf = SVR(kernel=k)\n",
    "    clf.fit(X_train, y_train)\n",
    "    confidence = clf.score(X_train, y_train)\n",
    "    print(k, confidence)"
   ]
  },
  {
   "cell_type": "markdown",
   "id": "1e2680d2",
   "metadata": {},
   "source": [
    "### Fit model"
   ]
  },
  {
   "cell_type": "code",
   "execution_count": null,
   "id": "d93d33da",
   "metadata": {},
   "outputs": [],
   "source": [
    "svr_model = SVR(kernel='linear', C=1, gamma=0.5)\n",
    "svr_model.fit(X_train, y_train)"
   ]
  },
  {
   "cell_type": "markdown",
   "id": "e01bc451",
   "metadata": {},
   "source": [
    "### Define Function RMSE"
   ]
  },
  {
   "cell_type": "code",
   "execution_count": null,
   "id": "19746928",
   "metadata": {},
   "outputs": [],
   "source": [
    "def rmse(x, y):\n",
    "    return sqrt(mean_squared_error(x, y))"
   ]
  },
  {
   "cell_type": "markdown",
   "id": "614248bc",
   "metadata": {},
   "source": [
    "### Prediction "
   ]
  },
  {
   "cell_type": "code",
   "execution_count": null,
   "id": "c8dba548",
   "metadata": {},
   "outputs": [],
   "source": [
    "train_predict = svr_model.predict(X_train)"
   ]
  },
  {
   "cell_type": "markdown",
   "id": "572a7cc8",
   "metadata": {},
   "source": [
    "### Evaluation"
   ]
  },
  {
   "cell_type": "code",
   "execution_count": null,
   "id": "7c20d3ca",
   "metadata": {},
   "outputs": [],
   "source": [
    "print(\"Training Evaluation - SVR Baseline\")\n",
    "print(\"RMSE\", \":\", rmse(y_train, train_predict))"
   ]
  },
  {
   "cell_type": "markdown",
   "id": "09970b9c",
   "metadata": {},
   "source": [
    "### Plot "
   ]
  },
  {
   "cell_type": "code",
   "execution_count": null,
   "id": "bb549c60",
   "metadata": {},
   "outputs": [],
   "source": [
    "def plot_stores(actual, predictions):\n",
    "    title = 'Sales Predictions Storeb'\n",
    "    act = plt.plot(actual, color='turquoise', label='Actual')\n",
    "    pred = plt.plot(predictions, color='darkgoldenrod', label='Predictions')\n",
    "    plt.xlabel(\"Date\")\n",
    "    plt.ylabel(\"Sales\")\n",
    "    plt.legend(loc='best')\n",
    "    plt.title(title)\n",
    "    plt.show()"
   ]
  },
  {
   "cell_type": "code",
   "execution_count": null,
   "id": "8e4aab3c",
   "metadata": {},
   "outputs": [],
   "source": [
    "train_predict = pd.DataFrame([[x, y] for x, y in zip(y_train.index,train_predict)], columns=[\"date\", \"pred\"])\n",
    "train_predict = train_predict.set_index('date')"
   ]
  },
  {
   "cell_type": "code",
   "execution_count": null,
   "id": "2d1dcb53",
   "metadata": {},
   "outputs": [],
   "source": [
    "plot_stores(y_train, train_predict)"
   ]
  }
 ],
 "metadata": {
  "kernelspec": {
   "display_name": "Python 3 (ipykernel)",
   "language": "python",
   "name": "python3"
  },
  "language_info": {
   "codemirror_mode": {
    "name": "ipython",
    "version": 3
   },
   "file_extension": ".py",
   "mimetype": "text/x-python",
   "name": "python",
   "nbconvert_exporter": "python",
   "pygments_lexer": "ipython3",
   "version": "3.9.7"
  }
 },
 "nbformat": 4,
 "nbformat_minor": 5
}
