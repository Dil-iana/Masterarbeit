{
 "cells": [
  {
   "cell_type": "code",
   "execution_count": 2,
   "id": "ff5862b5",
   "metadata": {},
   "outputs": [],
   "source": [
    "from pmdarima import auto_arima\n",
    "import pmdarima as pm\n",
    "from pandas.plotting import autocorrelation_plot"
   ]
  },
  {
   "cell_type": "code",
   "execution_count": 3,
   "id": "ea5b9ea8",
   "metadata": {},
   "outputs": [],
   "source": [
    "from sklearn.metrics import mean_squared_error, mean_absolute_error\n",
    "from math import sqrt"
   ]
  },
  {
   "cell_type": "code",
   "execution_count": 4,
   "id": "14aa1db5",
   "metadata": {},
   "outputs": [],
   "source": [
    "from statsmodels.tsa.arima.model import ARIMA\n",
    "from statsmodels.tsa.seasonal import seasonal_decompose\n",
    "from statsmodels.tsa.holtwinters import SimpleExpSmoothing\n",
    "from statsmodels.tsa.holtwinters import Holt\n",
    "from statsmodels.tsa.holtwinters import ExponentialSmoothing\n",
    "from statsmodels.tsa.stattools import adfuller"
   ]
  },
  {
   "cell_type": "code",
   "execution_count": 5,
   "id": "098f7971",
   "metadata": {},
   "outputs": [],
   "source": [
    "import pandas as pd\n",
    "import numpy as np\n",
    "import seaborn as sns\n",
    "import matplotlib.pyplot as plt\n",
    "import os\n",
    "from matplotlib import pyplot\n",
    "from pandas import DataFrame\n",
    "from numpy import log"
   ]
  },
  {
   "cell_type": "code",
   "execution_count": 6,
   "id": "73c4872c",
   "metadata": {},
   "outputs": [],
   "source": [
    "df_american = pd.read_excel(r'/Users/dilianaserafimova/Desktop/American_Airlines.xlsx')"
   ]
  },
  {
   "cell_type": "code",
   "execution_count": 7,
   "id": "0753b706",
   "metadata": {},
   "outputs": [
    {
     "data": {
      "text/html": [
       "<div>\n",
       "<style scoped>\n",
       "    .dataframe tbody tr th:only-of-type {\n",
       "        vertical-align: middle;\n",
       "    }\n",
       "\n",
       "    .dataframe tbody tr th {\n",
       "        vertical-align: top;\n",
       "    }\n",
       "\n",
       "    .dataframe thead th {\n",
       "        text-align: right;\n",
       "    }\n",
       "</style>\n",
       "<table border=\"1\" class=\"dataframe\">\n",
       "  <thead>\n",
       "    <tr style=\"text-align: right;\">\n",
       "      <th></th>\n",
       "      <th>Year</th>\n",
       "      <th>Month</th>\n",
       "      <th>date</th>\n",
       "      <th>flight_domestic</th>\n",
       "      <th>flight_int</th>\n",
       "      <th>pax_count</th>\n",
       "      <th>revenue</th>\n",
       "      <th>seat_miles</th>\n",
       "      <th>load_factor</th>\n",
       "      <th>flights</th>\n",
       "    </tr>\n",
       "  </thead>\n",
       "  <tbody>\n",
       "    <tr>\n",
       "      <th>0</th>\n",
       "      <td>2002</td>\n",
       "      <td>10</td>\n",
       "      <td>2002 10</td>\n",
       "      <td>6,483,209</td>\n",
       "      <td>1,268,032</td>\n",
       "      <td>7,751,241</td>\n",
       "      <td>9,981,313</td>\n",
       "      <td>14,558,503</td>\n",
       "      <td>68.56</td>\n",
       "      <td>83,649</td>\n",
       "    </tr>\n",
       "    <tr>\n",
       "      <th>1</th>\n",
       "      <td>2002</td>\n",
       "      <td>11</td>\n",
       "      <td>2002 11</td>\n",
       "      <td>5,836,804</td>\n",
       "      <td>1,248,937</td>\n",
       "      <td>7,085,741</td>\n",
       "      <td>9,102,300</td>\n",
       "      <td>13,472,175</td>\n",
       "      <td>67.56</td>\n",
       "      <td>77,398</td>\n",
       "    </tr>\n",
       "    <tr>\n",
       "      <th>2</th>\n",
       "      <td>2002</td>\n",
       "      <td>12</td>\n",
       "      <td>2002 12</td>\n",
       "      <td>6,473,000</td>\n",
       "      <td>1,428,359</td>\n",
       "      <td>7,901,359</td>\n",
       "      <td>10,351,711</td>\n",
       "      <td>14,119,643</td>\n",
       "      <td>73.31</td>\n",
       "      <td>79,962</td>\n",
       "    </tr>\n",
       "    <tr>\n",
       "      <th>3</th>\n",
       "      <td>2002</td>\n",
       "      <td>TOTAL</td>\n",
       "      <td>2002 TOTAL</td>\n",
       "      <td>77,435,542</td>\n",
       "      <td>16,564,424</td>\n",
       "      <td>93,999,966</td>\n",
       "      <td>121,504,345</td>\n",
       "      <td>171,711,646</td>\n",
       "      <td>70.76</td>\n",
       "      <td>990,931</td>\n",
       "    </tr>\n",
       "    <tr>\n",
       "      <th>4</th>\n",
       "      <td>2003</td>\n",
       "      <td>1</td>\n",
       "      <td>2003 1</td>\n",
       "      <td>5,659,172</td>\n",
       "      <td>1,354,646</td>\n",
       "      <td>7,013,818</td>\n",
       "      <td>9,405,547</td>\n",
       "      <td>14,038,698</td>\n",
       "      <td>67.00</td>\n",
       "      <td>78,214</td>\n",
       "    </tr>\n",
       "  </tbody>\n",
       "</table>\n",
       "</div>"
      ],
      "text/plain": [
       "   Year  Month        date flight_domestic  flight_int   pax_count  \\\n",
       "0  2002     10     2002 10       6,483,209   1,268,032   7,751,241   \n",
       "1  2002     11     2002 11       5,836,804   1,248,937   7,085,741   \n",
       "2  2002     12     2002 12       6,473,000   1,428,359   7,901,359   \n",
       "3  2002  TOTAL  2002 TOTAL      77,435,542  16,564,424  93,999,966   \n",
       "4  2003      1      2003 1       5,659,172   1,354,646   7,013,818   \n",
       "\n",
       "       revenue   seat_miles  load_factor  flights  \n",
       "0    9,981,313   14,558,503        68.56   83,649  \n",
       "1    9,102,300   13,472,175        67.56   77,398  \n",
       "2   10,351,711   14,119,643        73.31   79,962  \n",
       "3  121,504,345  171,711,646        70.76  990,931  \n",
       "4    9,405,547   14,038,698        67.00   78,214  "
      ]
     },
     "execution_count": 7,
     "metadata": {},
     "output_type": "execute_result"
    }
   ],
   "source": [
    "df_american.head()"
   ]
  },
  {
   "cell_type": "markdown",
   "id": "e94a77ca",
   "metadata": {},
   "source": [
    "## Delete irrelevant data / years / months "
   ]
  },
  {
   "cell_type": "markdown",
   "id": "1c525aa0",
   "metadata": {},
   "source": [
    "#### Delete irrelevant date"
   ]
  },
  {
   "cell_type": "code",
   "execution_count": 8,
   "id": "af63bddd",
   "metadata": {},
   "outputs": [],
   "source": [
    "indexNames = df_american[df_american['Year'] == 2002].index\n",
    "df_american.drop(indexNames , inplace=True)\n"
   ]
  },
  {
   "cell_type": "code",
   "execution_count": 9,
   "id": "092b0a84",
   "metadata": {},
   "outputs": [],
   "source": [
    "indexNames = df_american[df_american['Year'] == 2020].index\n",
    "df_american.drop(indexNames , inplace=True)"
   ]
  },
  {
   "cell_type": "code",
   "execution_count": 10,
   "id": "976ab048",
   "metadata": {},
   "outputs": [],
   "source": [
    "indexNames = df_american[df_american['Year'] == 2021].index\n",
    "df_american.drop(indexNames , inplace=True)"
   ]
  },
  {
   "cell_type": "code",
   "execution_count": 11,
   "id": "9f2a12dc",
   "metadata": {},
   "outputs": [],
   "source": [
    "indexNames = df_american[df_american['Year'] == 2022].index\n",
    "df_american.drop(indexNames , inplace=True)"
   ]
  },
  {
   "cell_type": "markdown",
   "id": "5ceebde8",
   "metadata": {},
   "source": [
    "#### Delete irrelevant content"
   ]
  },
  {
   "cell_type": "code",
   "execution_count": 12,
   "id": "92cea3fb",
   "metadata": {},
   "outputs": [],
   "source": [
    "indexNames = df_american[df_american['Month'] == 'TOTAL'].index\n",
    "df_american.drop(indexNames , inplace=True)"
   ]
  },
  {
   "cell_type": "markdown",
   "id": "ce22b132",
   "metadata": {},
   "source": [
    "#### Delete irrelevant column"
   ]
  },
  {
   "cell_type": "code",
   "execution_count": 13,
   "id": "88a87714",
   "metadata": {
    "scrolled": true
   },
   "outputs": [],
   "source": [
    "df_american = df_american.drop([\"flight_domestic\", \"flight_int\", 'Year', 'Month'], axis=1)"
   ]
  },
  {
   "cell_type": "markdown",
   "id": "c84666fd",
   "metadata": {},
   "source": [
    "#### Delete NaN"
   ]
  },
  {
   "cell_type": "code",
   "execution_count": 14,
   "id": "38950fb2",
   "metadata": {},
   "outputs": [],
   "source": [
    "incomplete_columns = list(df_american.columns[df_american.isnull().any()])"
   ]
  },
  {
   "cell_type": "code",
   "execution_count": 15,
   "id": "2cfb2ae8",
   "metadata": {},
   "outputs": [
    {
     "data": {
      "text/plain": [
       "[]"
      ]
     },
     "execution_count": 15,
     "metadata": {},
     "output_type": "execute_result"
    }
   ],
   "source": [
    "incomplete_columns"
   ]
  },
  {
   "cell_type": "markdown",
   "id": "f9b4337e",
   "metadata": {},
   "source": [
    "#### Datensatz ist vollständig"
   ]
  },
  {
   "cell_type": "markdown",
   "id": "e113e2fb",
   "metadata": {},
   "source": [
    "## Convert argument to datetime"
   ]
  },
  {
   "cell_type": "code",
   "execution_count": 16,
   "id": "00c21cc6",
   "metadata": {},
   "outputs": [],
   "source": [
    "df_american['date'] = pd.to_datetime(df_american['date'])"
   ]
  },
  {
   "cell_type": "code",
   "execution_count": 17,
   "id": "976234d6",
   "metadata": {
    "scrolled": true
   },
   "outputs": [
    {
     "data": {
      "text/html": [
       "<div>\n",
       "<style scoped>\n",
       "    .dataframe tbody tr th:only-of-type {\n",
       "        vertical-align: middle;\n",
       "    }\n",
       "\n",
       "    .dataframe tbody tr th {\n",
       "        vertical-align: top;\n",
       "    }\n",
       "\n",
       "    .dataframe thead th {\n",
       "        text-align: right;\n",
       "    }\n",
       "</style>\n",
       "<table border=\"1\" class=\"dataframe\">\n",
       "  <thead>\n",
       "    <tr style=\"text-align: right;\">\n",
       "      <th></th>\n",
       "      <th>date</th>\n",
       "      <th>pax_count</th>\n",
       "      <th>revenue</th>\n",
       "      <th>seat_miles</th>\n",
       "      <th>load_factor</th>\n",
       "      <th>flights</th>\n",
       "    </tr>\n",
       "  </thead>\n",
       "  <tbody>\n",
       "    <tr>\n",
       "      <th>4</th>\n",
       "      <td>2003-01-01</td>\n",
       "      <td>7,013,818</td>\n",
       "      <td>9,405,547</td>\n",
       "      <td>14,038,698</td>\n",
       "      <td>67.00</td>\n",
       "      <td>78,214</td>\n",
       "    </tr>\n",
       "    <tr>\n",
       "      <th>5</th>\n",
       "      <td>2003-02-01</td>\n",
       "      <td>6,363,926</td>\n",
       "      <td>8,355,084</td>\n",
       "      <td>12,142,241</td>\n",
       "      <td>68.81</td>\n",
       "      <td>67,463</td>\n",
       "    </tr>\n",
       "    <tr>\n",
       "      <th>6</th>\n",
       "      <td>2003-03-01</td>\n",
       "      <td>7,628,481</td>\n",
       "      <td>9,981,627</td>\n",
       "      <td>13,929,984</td>\n",
       "      <td>71.66</td>\n",
       "      <td>77,125</td>\n",
       "    </tr>\n",
       "    <tr>\n",
       "      <th>7</th>\n",
       "      <td>2003-04-01</td>\n",
       "      <td>7,103,085</td>\n",
       "      <td>9,325,622</td>\n",
       "      <td>13,210,596</td>\n",
       "      <td>70.59</td>\n",
       "      <td>73,182</td>\n",
       "    </tr>\n",
       "    <tr>\n",
       "      <th>8</th>\n",
       "      <td>2003-05-01</td>\n",
       "      <td>7,447,462</td>\n",
       "      <td>9,838,460</td>\n",
       "      <td>13,345,197</td>\n",
       "      <td>73.72</td>\n",
       "      <td>73,381</td>\n",
       "    </tr>\n",
       "  </tbody>\n",
       "</table>\n",
       "</div>"
      ],
      "text/plain": [
       "        date  pax_count    revenue  seat_miles  load_factor flights\n",
       "4 2003-01-01  7,013,818  9,405,547  14,038,698        67.00  78,214\n",
       "5 2003-02-01  6,363,926  8,355,084  12,142,241        68.81  67,463\n",
       "6 2003-03-01  7,628,481  9,981,627  13,929,984        71.66  77,125\n",
       "7 2003-04-01  7,103,085  9,325,622  13,210,596        70.59  73,182\n",
       "8 2003-05-01  7,447,462  9,838,460  13,345,197        73.72  73,381"
      ]
     },
     "execution_count": 17,
     "metadata": {},
     "output_type": "execute_result"
    }
   ],
   "source": [
    "df_american.head()"
   ]
  },
  {
   "cell_type": "markdown",
   "id": "5f376232",
   "metadata": {},
   "source": [
    "## Convert data types"
   ]
  },
  {
   "cell_type": "code",
   "execution_count": 18,
   "id": "0e3dbf19",
   "metadata": {
    "scrolled": true
   },
   "outputs": [
    {
     "data": {
      "text/plain": [
       "date           datetime64[ns]\n",
       "pax_count              object\n",
       "revenue                object\n",
       "seat_miles             object\n",
       "load_factor           float64\n",
       "flights                object\n",
       "dtype: object"
      ]
     },
     "execution_count": 18,
     "metadata": {},
     "output_type": "execute_result"
    }
   ],
   "source": [
    "df_american.dtypes"
   ]
  },
  {
   "cell_type": "code",
   "execution_count": 19,
   "id": "7f733b5f",
   "metadata": {},
   "outputs": [
    {
     "name": "stderr",
     "output_type": "stream",
     "text": [
      "/var/folders/_h/_0hrsyw93ljbt2ws9kq8w6z40000gn/T/ipykernel_2826/1319109083.py:1: FutureWarning: The default value of regex will change from True to False in a future version.\n",
      "  df_american['pax_count'] = df_american['pax_count'].str.replace('[^\\w\\s]','').astype(int)\n"
     ]
    }
   ],
   "source": [
    "df_american['pax_count'] = df_american['pax_count'].str.replace('[^\\w\\s]','').astype(int)"
   ]
  },
  {
   "cell_type": "code",
   "execution_count": 20,
   "id": "a02665f2",
   "metadata": {},
   "outputs": [
    {
     "name": "stderr",
     "output_type": "stream",
     "text": [
      "/var/folders/_h/_0hrsyw93ljbt2ws9kq8w6z40000gn/T/ipykernel_2826/2518242079.py:1: FutureWarning: The default value of regex will change from True to False in a future version.\n",
      "  df_american['revenue'] = df_american['revenue'].str.replace('[^\\w\\s]','').astype(int)\n"
     ]
    }
   ],
   "source": [
    "df_american['revenue'] = df_american['revenue'].str.replace('[^\\w\\s]','').astype(int)"
   ]
  },
  {
   "cell_type": "code",
   "execution_count": 21,
   "id": "57a0f6f0",
   "metadata": {},
   "outputs": [
    {
     "name": "stderr",
     "output_type": "stream",
     "text": [
      "/var/folders/_h/_0hrsyw93ljbt2ws9kq8w6z40000gn/T/ipykernel_2826/2597891616.py:1: FutureWarning: The default value of regex will change from True to False in a future version.\n",
      "  df_american['seat_miles'] = df_american['seat_miles'].str.replace('[^\\w\\s]','').astype(int)\n"
     ]
    }
   ],
   "source": [
    "df_american['seat_miles'] = df_american['seat_miles'].str.replace('[^\\w\\s]','').astype(int)"
   ]
  },
  {
   "cell_type": "code",
   "execution_count": 22,
   "id": "17039953",
   "metadata": {},
   "outputs": [
    {
     "name": "stderr",
     "output_type": "stream",
     "text": [
      "/var/folders/_h/_0hrsyw93ljbt2ws9kq8w6z40000gn/T/ipykernel_2826/4142843975.py:1: FutureWarning: The default value of regex will change from True to False in a future version.\n",
      "  df_american['flights'] = df_american['flights'].str.replace('[^\\w\\s]','').astype(int)\n"
     ]
    }
   ],
   "source": [
    "df_american['flights'] = df_american['flights'].str.replace('[^\\w\\s]','').astype(int)"
   ]
  },
  {
   "cell_type": "code",
   "execution_count": 23,
   "id": "ba9489bf",
   "metadata": {
    "scrolled": false
   },
   "outputs": [
    {
     "data": {
      "text/html": [
       "<div>\n",
       "<style scoped>\n",
       "    .dataframe tbody tr th:only-of-type {\n",
       "        vertical-align: middle;\n",
       "    }\n",
       "\n",
       "    .dataframe tbody tr th {\n",
       "        vertical-align: top;\n",
       "    }\n",
       "\n",
       "    .dataframe thead th {\n",
       "        text-align: right;\n",
       "    }\n",
       "</style>\n",
       "<table border=\"1\" class=\"dataframe\">\n",
       "  <thead>\n",
       "    <tr style=\"text-align: right;\">\n",
       "      <th></th>\n",
       "      <th>date</th>\n",
       "      <th>pax_count</th>\n",
       "      <th>revenue</th>\n",
       "      <th>seat_miles</th>\n",
       "      <th>load_factor</th>\n",
       "      <th>flights</th>\n",
       "    </tr>\n",
       "  </thead>\n",
       "  <tbody>\n",
       "    <tr>\n",
       "      <th>4</th>\n",
       "      <td>2003-01-01</td>\n",
       "      <td>7013818</td>\n",
       "      <td>9405547</td>\n",
       "      <td>14038698</td>\n",
       "      <td>67.00</td>\n",
       "      <td>78214</td>\n",
       "    </tr>\n",
       "    <tr>\n",
       "      <th>5</th>\n",
       "      <td>2003-02-01</td>\n",
       "      <td>6363926</td>\n",
       "      <td>8355084</td>\n",
       "      <td>12142241</td>\n",
       "      <td>68.81</td>\n",
       "      <td>67463</td>\n",
       "    </tr>\n",
       "    <tr>\n",
       "      <th>6</th>\n",
       "      <td>2003-03-01</td>\n",
       "      <td>7628481</td>\n",
       "      <td>9981627</td>\n",
       "      <td>13929984</td>\n",
       "      <td>71.66</td>\n",
       "      <td>77125</td>\n",
       "    </tr>\n",
       "    <tr>\n",
       "      <th>7</th>\n",
       "      <td>2003-04-01</td>\n",
       "      <td>7103085</td>\n",
       "      <td>9325622</td>\n",
       "      <td>13210596</td>\n",
       "      <td>70.59</td>\n",
       "      <td>73182</td>\n",
       "    </tr>\n",
       "    <tr>\n",
       "      <th>8</th>\n",
       "      <td>2003-05-01</td>\n",
       "      <td>7447462</td>\n",
       "      <td>9838460</td>\n",
       "      <td>13345197</td>\n",
       "      <td>73.72</td>\n",
       "      <td>73381</td>\n",
       "    </tr>\n",
       "  </tbody>\n",
       "</table>\n",
       "</div>"
      ],
      "text/plain": [
       "        date  pax_count  revenue  seat_miles  load_factor  flights\n",
       "4 2003-01-01    7013818  9405547    14038698        67.00    78214\n",
       "5 2003-02-01    6363926  8355084    12142241        68.81    67463\n",
       "6 2003-03-01    7628481  9981627    13929984        71.66    77125\n",
       "7 2003-04-01    7103085  9325622    13210596        70.59    73182\n",
       "8 2003-05-01    7447462  9838460    13345197        73.72    73381"
      ]
     },
     "execution_count": 23,
     "metadata": {},
     "output_type": "execute_result"
    }
   ],
   "source": [
    "df_american.head()"
   ]
  },
  {
   "cell_type": "markdown",
   "id": "8ce72334",
   "metadata": {},
   "source": [
    "# Support Machine Vector"
   ]
  },
  {
   "cell_type": "code",
   "execution_count": 44,
   "id": "d053f974",
   "metadata": {
    "scrolled": true
   },
   "outputs": [
    {
     "data": {
      "text/html": [
       "<div>\n",
       "<style scoped>\n",
       "    .dataframe tbody tr th:only-of-type {\n",
       "        vertical-align: middle;\n",
       "    }\n",
       "\n",
       "    .dataframe tbody tr th {\n",
       "        vertical-align: top;\n",
       "    }\n",
       "\n",
       "    .dataframe thead th {\n",
       "        text-align: right;\n",
       "    }\n",
       "</style>\n",
       "<table border=\"1\" class=\"dataframe\">\n",
       "  <thead>\n",
       "    <tr style=\"text-align: right;\">\n",
       "      <th></th>\n",
       "      <th>date</th>\n",
       "      <th>pax_count</th>\n",
       "      <th>revenue</th>\n",
       "      <th>seat_miles</th>\n",
       "      <th>load_factor</th>\n",
       "      <th>flights</th>\n",
       "    </tr>\n",
       "  </thead>\n",
       "  <tbody>\n",
       "    <tr>\n",
       "      <th>180</th>\n",
       "      <td>2016-08-01</td>\n",
       "      <td>12704813</td>\n",
       "      <td>18239760</td>\n",
       "      <td>21833789</td>\n",
       "      <td>83.54</td>\n",
       "      <td>96048</td>\n",
       "    </tr>\n",
       "    <tr>\n",
       "      <th>181</th>\n",
       "      <td>2016-09-01</td>\n",
       "      <td>11220742</td>\n",
       "      <td>15765724</td>\n",
       "      <td>19169639</td>\n",
       "      <td>82.24</td>\n",
       "      <td>86065</td>\n",
       "    </tr>\n",
       "    <tr>\n",
       "      <th>182</th>\n",
       "      <td>2016-10-01</td>\n",
       "      <td>11764077</td>\n",
       "      <td>16332729</td>\n",
       "      <td>19622032</td>\n",
       "      <td>83.24</td>\n",
       "      <td>88625</td>\n",
       "    </tr>\n",
       "  </tbody>\n",
       "</table>\n",
       "</div>"
      ],
      "text/plain": [
       "          date  pax_count   revenue  seat_miles  load_factor  flights\n",
       "180 2016-08-01   12704813  18239760    21833789        83.54    96048\n",
       "181 2016-09-01   11220742  15765724    19169639        82.24    86065\n",
       "182 2016-10-01   11764077  16332729    19622032        83.24    88625"
      ]
     },
     "execution_count": 44,
     "metadata": {},
     "output_type": "execute_result"
    }
   ],
   "source": [
    "paxes = df_american['pax_count']\n",
    "size = int(len(paxes) * 0.8)\n",
    "training_set, test_set = df_american[0:size], df_american[size:len(paxes)]\n",
    "test_set.head(3)"
   ]
  },
  {
   "cell_type": "code",
   "execution_count": 45,
   "id": "447c6f32",
   "metadata": {},
   "outputs": [],
   "source": [
    "from sklearn.svm import SVR\n"
   ]
  },
  {
   "cell_type": "code",
   "execution_count": 46,
   "id": "37dff008",
   "metadata": {},
   "outputs": [],
   "source": [
    "dates = training_set['date'].to_numpy()\n",
    "paxes = training_set['pax_count'].to_numpy()"
   ]
  },
  {
   "cell_type": "code",
   "execution_count": 47,
   "id": "bcc47a2c",
   "metadata": {},
   "outputs": [],
   "source": [
    "dates = np.reshape(dates, (len(dates), 1))\n",
    "paxes = np.reshape(paxes, (len(paxes), 1))"
   ]
  },
  {
   "cell_type": "code",
   "execution_count": 48,
   "id": "d85151a9",
   "metadata": {
    "scrolled": true
   },
   "outputs": [
    {
     "data": {
      "text/html": [
       "<style>#sk-container-id-3 {color: black;background-color: white;}#sk-container-id-3 pre{padding: 0;}#sk-container-id-3 div.sk-toggleable {background-color: white;}#sk-container-id-3 label.sk-toggleable__label {cursor: pointer;display: block;width: 100%;margin-bottom: 0;padding: 0.3em;box-sizing: border-box;text-align: center;}#sk-container-id-3 label.sk-toggleable__label-arrow:before {content: \"▸\";float: left;margin-right: 0.25em;color: #696969;}#sk-container-id-3 label.sk-toggleable__label-arrow:hover:before {color: black;}#sk-container-id-3 div.sk-estimator:hover label.sk-toggleable__label-arrow:before {color: black;}#sk-container-id-3 div.sk-toggleable__content {max-height: 0;max-width: 0;overflow: hidden;text-align: left;background-color: #f0f8ff;}#sk-container-id-3 div.sk-toggleable__content pre {margin: 0.2em;color: black;border-radius: 0.25em;background-color: #f0f8ff;}#sk-container-id-3 input.sk-toggleable__control:checked~div.sk-toggleable__content {max-height: 200px;max-width: 100%;overflow: auto;}#sk-container-id-3 input.sk-toggleable__control:checked~label.sk-toggleable__label-arrow:before {content: \"▾\";}#sk-container-id-3 div.sk-estimator input.sk-toggleable__control:checked~label.sk-toggleable__label {background-color: #d4ebff;}#sk-container-id-3 div.sk-label input.sk-toggleable__control:checked~label.sk-toggleable__label {background-color: #d4ebff;}#sk-container-id-3 input.sk-hidden--visually {border: 0;clip: rect(1px 1px 1px 1px);clip: rect(1px, 1px, 1px, 1px);height: 1px;margin: -1px;overflow: hidden;padding: 0;position: absolute;width: 1px;}#sk-container-id-3 div.sk-estimator {font-family: monospace;background-color: #f0f8ff;border: 1px dotted black;border-radius: 0.25em;box-sizing: border-box;margin-bottom: 0.5em;}#sk-container-id-3 div.sk-estimator:hover {background-color: #d4ebff;}#sk-container-id-3 div.sk-parallel-item::after {content: \"\";width: 100%;border-bottom: 1px solid gray;flex-grow: 1;}#sk-container-id-3 div.sk-label:hover label.sk-toggleable__label {background-color: #d4ebff;}#sk-container-id-3 div.sk-serial::before {content: \"\";position: absolute;border-left: 1px solid gray;box-sizing: border-box;top: 0;bottom: 0;left: 50%;z-index: 0;}#sk-container-id-3 div.sk-serial {display: flex;flex-direction: column;align-items: center;background-color: white;padding-right: 0.2em;padding-left: 0.2em;position: relative;}#sk-container-id-3 div.sk-item {position: relative;z-index: 1;}#sk-container-id-3 div.sk-parallel {display: flex;align-items: stretch;justify-content: center;background-color: white;position: relative;}#sk-container-id-3 div.sk-item::before, #sk-container-id-3 div.sk-parallel-item::before {content: \"\";position: absolute;border-left: 1px solid gray;box-sizing: border-box;top: 0;bottom: 0;left: 50%;z-index: -1;}#sk-container-id-3 div.sk-parallel-item {display: flex;flex-direction: column;z-index: 1;position: relative;background-color: white;}#sk-container-id-3 div.sk-parallel-item:first-child::after {align-self: flex-end;width: 50%;}#sk-container-id-3 div.sk-parallel-item:last-child::after {align-self: flex-start;width: 50%;}#sk-container-id-3 div.sk-parallel-item:only-child::after {width: 0;}#sk-container-id-3 div.sk-dashed-wrapped {border: 1px dashed gray;margin: 0 0.4em 0.5em 0.4em;box-sizing: border-box;padding-bottom: 0.4em;background-color: white;}#sk-container-id-3 div.sk-label label {font-family: monospace;font-weight: bold;display: inline-block;line-height: 1.2em;}#sk-container-id-3 div.sk-label-container {text-align: center;}#sk-container-id-3 div.sk-container {/* jupyter's `normalize.less` sets `[hidden] { display: none; }` but bootstrap.min.css set `[hidden] { display: none !important; }` so we also need the `!important` here to be able to override the default hidden behavior on the sphinx rendered scikit-learn.org. See: https://github.com/scikit-learn/scikit-learn/issues/21755 */display: inline-block !important;position: relative;}#sk-container-id-3 div.sk-text-repr-fallback {display: none;}</style><div id=\"sk-container-id-3\" class=\"sk-top-container\"><div class=\"sk-text-repr-fallback\"><pre>SVR(C=1000.0, gamma=0.1)</pre><b>In a Jupyter environment, please rerun this cell to show the HTML representation or trust the notebook. <br />On GitHub, the HTML representation is unable to render, please try loading this page with nbviewer.org.</b></div><div class=\"sk-container\" hidden><div class=\"sk-item\"><div class=\"sk-estimator sk-toggleable\"><input class=\"sk-toggleable__control sk-hidden--visually\" id=\"sk-estimator-id-3\" type=\"checkbox\" checked><label for=\"sk-estimator-id-3\" class=\"sk-toggleable__label sk-toggleable__label-arrow\">SVR</label><div class=\"sk-toggleable__content\"><pre>SVR(C=1000.0, gamma=0.1)</pre></div></div></div></div></div>"
      ],
      "text/plain": [
       "SVR(C=1000.0, gamma=0.1)"
      ]
     },
     "execution_count": 48,
     "metadata": {},
     "output_type": "execute_result"
    }
   ],
   "source": [
    "svr_rbf = SVR(kernel= 'rbf', C= 1e3, gamma= 0.1)\n",
    "svr_rbf.fit(dates, paxes.ravel())"
   ]
  },
  {
   "cell_type": "code",
   "execution_count": 49,
   "id": "aadfe58a",
   "metadata": {},
   "outputs": [
    {
     "data": {
      "image/png": "[encoded data removed]",
      "text/plain": [
       "<Figure size 864x432 with 1 Axes>"
      ]
     },
     "metadata": {
      "needs_background": "light"
     },
     "output_type": "display_data"
    }
   ],
   "source": [
    "plt.figure(figsize = (12,6))\n",
    "plt.plot(dates, paxes, color= 'black', label= 'Data')\n",
    "plt.plot(training_set['date'], svr_rbf.predict(dates), color= 'red', label= 'RBF model') \n",
    "plt.xlabel('Date')\n",
    "plt.ylabel('Pax')\n",
    "plt.show()"
   ]
  }
 ],
 "metadata": {
  "kernelspec": {
   "display_name": "Python 3 (ipykernel)",
   "language": "python",
   "name": "python3"
  },
  "language_info": {
   "codemirror_mode": {
    "name": "ipython",
    "version": 3
   },
   "file_extension": ".py",
   "mimetype": "text/x-python",
   "name": "python",
   "nbconvert_exporter": "python",
   "pygments_lexer": "ipython3",
   "version": "3.9.7"
  }
 },
 "nbformat": 4,
 "nbformat_minor": 5
}
