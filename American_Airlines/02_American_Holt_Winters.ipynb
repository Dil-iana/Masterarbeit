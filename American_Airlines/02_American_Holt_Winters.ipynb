{
 "cells": [
  {
   "cell_type": "code",
   "execution_count": 66,
   "id": "ff5862b5",
   "metadata": {},
   "outputs": [],
   "source": [
    "from pmdarima import auto_arima\n",
    "from pandas.plotting import autocorrelation_plot"
   ]
  },
  {
   "cell_type": "code",
   "execution_count": 67,
   "id": "ea5b9ea8",
   "metadata": {},
   "outputs": [],
   "source": [
    "from sklearn.metrics import mean_squared_error, mean_absolute_error\n",
    "from math import sqrt"
   ]
  },
  {
   "cell_type": "code",
   "execution_count": 68,
   "id": "14aa1db5",
   "metadata": {},
   "outputs": [],
   "source": [
    "from statsmodels.tsa.arima.model import ARIMA\n",
    "from statsmodels.tsa.seasonal import seasonal_decompose\n",
    "from statsmodels.tsa.holtwinters import SimpleExpSmoothing\n",
    "from statsmodels.tsa.holtwinters import Holt\n",
    "from statsmodels.tsa.holtwinters import ExponentialSmoothing\n",
    "from statsmodels.tsa.stattools import adfuller"
   ]
  },
  {
   "cell_type": "code",
   "execution_count": 69,
   "id": "098f7971",
   "metadata": {},
   "outputs": [],
   "source": [
    "import pandas as pd\n",
    "import numpy as np\n",
    "import seaborn as sns\n",
    "import matplotlib.pyplot as plt\n",
    "import os\n",
    "from matplotlib import pyplot\n",
    "from pandas import DataFrame\n",
    "from numpy import log"
   ]
  },
  {
   "cell_type": "code",
   "execution_count": 70,
   "id": "73c4872c",
   "metadata": {},
   "outputs": [],
   "source": [
    "df_american = pd.read_excel(r'/Users/dilianaserafimova/Desktop/df_american_clean.xlsx')"
   ]
  },
  {
   "cell_type": "code",
   "execution_count": 71,
   "id": "b029cf08",
   "metadata": {},
   "outputs": [],
   "source": [
    "df_american = df_american.set_index(['date'])"
   ]
  },
  {
   "cell_type": "code",
   "execution_count": 72,
   "id": "a587e7d0",
   "metadata": {},
   "outputs": [
    {
     "data": {
      "text/html": [
       "<div>\n",
       "<style scoped>\n",
       "    .dataframe tbody tr th:only-of-type {\n",
       "        vertical-align: middle;\n",
       "    }\n",
       "\n",
       "    .dataframe tbody tr th {\n",
       "        vertical-align: top;\n",
       "    }\n",
       "\n",
       "    .dataframe thead th {\n",
       "        text-align: right;\n",
       "    }\n",
       "</style>\n",
       "<table border=\"1\" class=\"dataframe\">\n",
       "  <thead>\n",
       "    <tr style=\"text-align: right;\">\n",
       "      <th></th>\n",
       "      <th>pax_count</th>\n",
       "      <th>revenue</th>\n",
       "      <th>seat_miles</th>\n",
       "      <th>load_factor</th>\n",
       "      <th>flights</th>\n",
       "    </tr>\n",
       "    <tr>\n",
       "      <th>date</th>\n",
       "      <th></th>\n",
       "      <th></th>\n",
       "      <th></th>\n",
       "      <th></th>\n",
       "      <th></th>\n",
       "    </tr>\n",
       "  </thead>\n",
       "  <tbody>\n",
       "    <tr>\n",
       "      <th>2003-01-01</th>\n",
       "      <td>7013818</td>\n",
       "      <td>9405547</td>\n",
       "      <td>14038698</td>\n",
       "      <td>67.00</td>\n",
       "      <td>78214</td>\n",
       "    </tr>\n",
       "    <tr>\n",
       "      <th>2003-02-01</th>\n",
       "      <td>6363926</td>\n",
       "      <td>8355084</td>\n",
       "      <td>12142241</td>\n",
       "      <td>68.81</td>\n",
       "      <td>67463</td>\n",
       "    </tr>\n",
       "    <tr>\n",
       "      <th>2003-03-01</th>\n",
       "      <td>7628481</td>\n",
       "      <td>9981627</td>\n",
       "      <td>13929984</td>\n",
       "      <td>71.66</td>\n",
       "      <td>77125</td>\n",
       "    </tr>\n",
       "    <tr>\n",
       "      <th>2003-04-01</th>\n",
       "      <td>7103085</td>\n",
       "      <td>9325622</td>\n",
       "      <td>13210596</td>\n",
       "      <td>70.59</td>\n",
       "      <td>73182</td>\n",
       "    </tr>\n",
       "    <tr>\n",
       "      <th>2003-05-01</th>\n",
       "      <td>7447462</td>\n",
       "      <td>9838460</td>\n",
       "      <td>13345197</td>\n",
       "      <td>73.72</td>\n",
       "      <td>73381</td>\n",
       "    </tr>\n",
       "  </tbody>\n",
       "</table>\n",
       "</div>"
      ],
      "text/plain": [
       "            pax_count  revenue  seat_miles  load_factor  flights\n",
       "date                                                            \n",
       "2003-01-01    7013818  9405547    14038698        67.00    78214\n",
       "2003-02-01    6363926  8355084    12142241        68.81    67463\n",
       "2003-03-01    7628481  9981627    13929984        71.66    77125\n",
       "2003-04-01    7103085  9325622    13210596        70.59    73182\n",
       "2003-05-01    7447462  9838460    13345197        73.72    73381"
      ]
     },
     "execution_count": 72,
     "metadata": {},
     "output_type": "execute_result"
    }
   ],
   "source": [
    "df_american.head()"
   ]
  },
  {
   "cell_type": "markdown",
   "id": "994ae0df",
   "metadata": {},
   "source": [
    "# Holt-Winters"
   ]
  },
  {
   "cell_type": "markdown",
   "id": "997be64f",
   "metadata": {},
   "source": [
    "## Data split"
   ]
  },
  {
   "cell_type": "code",
   "execution_count": 73,
   "id": "9e44e673",
   "metadata": {
    "scrolled": true
   },
   "outputs": [
    {
     "data": {
      "text/plain": [
       "date\n",
       "2016-08-01    12704813\n",
       "2016-09-01    11220742\n",
       "2016-10-01    11764077\n",
       "2016-11-01    11169788\n",
       "2016-12-01    11695734\n",
       "2017-01-01    11051300\n",
       "2017-02-01    10167600\n",
       "2017-03-01    12532952\n",
       "2017-04-01    12059664\n",
       "2017-05-01    12682795\n",
       "Name: pax_count, dtype: int64"
      ]
     },
     "execution_count": 73,
     "metadata": {},
     "output_type": "execute_result"
    }
   ],
   "source": [
    "X = df_american['pax_count']\n",
    "size = int(len(X) * 0.8)\n",
    "training_set, test_set = X[0:size], X[size:len(X)]\n",
    "test_set.head(10)"
   ]
  },
  {
   "cell_type": "code",
   "execution_count": 74,
   "id": "c27e635d",
   "metadata": {},
   "outputs": [
    {
     "data": {
      "text/plain": [
       "date\n",
       "2015-10-01    12419858\n",
       "2015-11-01    11520798\n",
       "2015-12-01    12091996\n",
       "2016-01-01    11281553\n",
       "2016-02-01    10561759\n",
       "2016-03-01    12635859\n",
       "2016-04-01    11830169\n",
       "2016-05-01    12614397\n",
       "2016-06-01    13146977\n",
       "2016-07-01    13563881\n",
       "Name: pax_count, dtype: int64"
      ]
     },
     "execution_count": 74,
     "metadata": {},
     "output_type": "execute_result"
    }
   ],
   "source": [
    "training_set.tail(10)"
   ]
  },
  {
   "cell_type": "code",
   "execution_count": 75,
   "id": "20816a62",
   "metadata": {
    "scrolled": true
   },
   "outputs": [
    {
     "data": {
      "text/plain": [
       "<AxesSubplot:xlabel='date'>"
      ]
     },
     "execution_count": 75,
     "metadata": {},
     "output_type": "execute_result"
    },
    {
     "data": {
      "image/png": "[encoded data removed]",
      "text/plain": [
       "<Figure size 648x432 with 1 Axes>"
      ]
     },
     "metadata": {
      "needs_background": "light"
     },
     "output_type": "display_data"
    }
   ],
   "source": [
    "training_set.plot(figsize = (9,6), legend = True)\n",
    "test_set.plot(legend = True)"
   ]
  },
  {
   "cell_type": "code",
   "execution_count": null,
   "id": "4e4f79a6",
   "metadata": {},
   "outputs": [],
   "source": []
  },
  {
   "cell_type": "markdown",
   "id": "0fc7e000",
   "metadata": {},
   "source": [
    "### Model fitting"
   ]
  },
  {
   "cell_type": "markdown",
   "id": "f299bffd",
   "metadata": {},
   "source": [
    "#### Multiplicative"
   ]
  },
  {
   "cell_type": "code",
   "execution_count": 76,
   "id": "d3ccd7ef",
   "metadata": {},
   "outputs": [
    {
     "name": "stderr",
     "output_type": "stream",
     "text": [
      "/Users/dilianaserafimova/Ananconda/anaconda3/lib/python3.9/site-packages/statsmodels/tsa/base/tsa_model.py:524: ValueWarning: No frequency information was provided, so inferred frequency MS will be used.\n",
      "  warnings.warn('No frequency information was'\n",
      "/Users/dilianaserafimova/Ananconda/anaconda3/lib/python3.9/site-packages/statsmodels/tsa/holtwinters/model.py:427: FutureWarning: After 0.13 initialization must be handled at model creation\n",
      "  warnings.warn(\n",
      "/Users/dilianaserafimova/Ananconda/anaconda3/lib/python3.9/site-packages/statsmodels/tsa/holtwinters/model.py:920: ConvergenceWarning: Optimization failed to converge. Check mle_retvals.\n",
      "  warnings.warn(\n"
     ]
    }
   ],
   "source": [
    "fitted_model_mul = ExponentialSmoothing(training_set,\n",
    "                             trend= 'mul',\n",
    "                             seasonal = 'mul',\n",
    "                             seasonal_periods= 12).fit()"
   ]
  },
  {
   "cell_type": "markdown",
   "id": "98e84722",
   "metadata": {},
   "source": [
    "#### Additiv"
   ]
  },
  {
   "cell_type": "code",
   "execution_count": 77,
   "id": "d426d4f1",
   "metadata": {},
   "outputs": [
    {
     "name": "stderr",
     "output_type": "stream",
     "text": [
      "/Users/dilianaserafimova/Ananconda/anaconda3/lib/python3.9/site-packages/statsmodels/tsa/base/tsa_model.py:524: ValueWarning: No frequency information was provided, so inferred frequency MS will be used.\n",
      "  warnings.warn('No frequency information was'\n",
      "/Users/dilianaserafimova/Ananconda/anaconda3/lib/python3.9/site-packages/statsmodels/tsa/holtwinters/model.py:920: ConvergenceWarning: Optimization failed to converge. Check mle_retvals.\n",
      "  warnings.warn(\n"
     ]
    }
   ],
   "source": [
    "fitted_model_add = ExponentialSmoothing(training_set,\n",
    "                             trend= 'add',\n",
    "                             seasonal = 'add',\n",
    "                             seasonal_periods= 12).fit()"
   ]
  },
  {
   "cell_type": "code",
   "execution_count": 78,
   "id": "548b852e",
   "metadata": {},
   "outputs": [
    {
     "name": "stdout",
     "output_type": "stream",
     "text": [
      "                       ExponentialSmoothing Model Results                       \n",
      "================================================================================\n",
      "Dep. Variable:                pax_count   No. Observations:                  163\n",
      "Model:             ExponentialSmoothing   SSE                 41249554058803.055\n",
      "Optimized:                         True   AIC                           4311.877\n",
      "Trend:                   Multiplicative   BIC                           4361.377\n",
      "Seasonal:                Multiplicative   AICC                          4316.627\n",
      "Seasonal Periods:                    12   Date:                 Fri, 25 Nov 2022\n",
      "Box-Cox:                          False   Time:                         22:53:09\n",
      "Box-Cox Coeff.:                    None                                         \n",
      "=================================================================================\n",
      "                          coeff                 code              optimized      \n",
      "---------------------------------------------------------------------------------\n",
      "smoothing_level               0.9242857                alpha                 True\n",
      "smoothing_trend                  0.0001                 beta                 True\n",
      "smoothing_seasonal            0.0757143                gamma                 True\n",
      "initial_level                7.4083e+06                  l.0                 True\n",
      "initial_trend                 1.0025569                  b.0                 True\n",
      "initial_seasons.0             0.9467475                  s.0                 True\n",
      "initial_seasons.1             0.8590230                  s.1                 True\n",
      "initial_seasons.2             1.0297167                  s.2                 True\n",
      "initial_seasons.3             0.9587970                  s.3                 True\n",
      "initial_seasons.4             1.0052821                  s.4                 True\n",
      "initial_seasons.5             1.0787076                  s.5                 True\n",
      "initial_seasons.6             1.1800783                  s.6                 True\n",
      "initial_seasons.7             1.1371186                  s.7                 True\n",
      "initial_seasons.8             0.8791553                  s.8                 True\n",
      "initial_seasons.9             0.9817544                  s.9                 True\n",
      "initial_seasons.10            0.9153252                 s.10                 True\n",
      "initial_seasons.11            1.0021501                 s.11                 True\n",
      "---------------------------------------------------------------------------------\n"
     ]
    }
   ],
   "source": [
    "print(fitted_model_mul.summary())"
   ]
  },
  {
   "cell_type": "code",
   "execution_count": 79,
   "id": "ef6436ea",
   "metadata": {},
   "outputs": [
    {
     "name": "stdout",
     "output_type": "stream",
     "text": [
      "                       ExponentialSmoothing Model Results                       \n",
      "================================================================================\n",
      "Dep. Variable:                pax_count   No. Observations:                  163\n",
      "Model:             ExponentialSmoothing   SSE                 40132239465999.320\n",
      "Optimized:                         True   AIC                           4307.400\n",
      "Trend:                         Additive   BIC                           4356.901\n",
      "Seasonal:                      Additive   AICC                          4312.150\n",
      "Seasonal Periods:                    12   Date:                 Fri, 25 Nov 2022\n",
      "Box-Cox:                          False   Time:                         22:53:09\n",
      "Box-Cox Coeff.:                    None                                         \n",
      "=================================================================================\n",
      "                          coeff                 code              optimized      \n",
      "---------------------------------------------------------------------------------\n",
      "smoothing_level               0.8535714                alpha                 True\n",
      "smoothing_trend                  0.0001                 beta                 True\n",
      "smoothing_seasonal            0.0798701                gamma                 True\n",
      "initial_level                7.4083e+06                  l.0                 True\n",
      "initial_trend                 19169.292                  b.0                 True\n",
      "initial_seasons.0           -3.9451e+05                  s.0                 True\n",
      "initial_seasons.1           -1.0444e+06                  s.1                 True\n",
      "initial_seasons.2            2.2015e+05                  s.2                 True\n",
      "initial_seasons.3           -3.0525e+05                  s.3                 True\n",
      "initial_seasons.4             39131.857                  s.4                 True\n",
      "initial_seasons.5            5.8309e+05                  s.5                 True\n",
      "initial_seasons.6            1.3341e+06                  s.6                 True\n",
      "initial_seasons.7            1.0158e+06                  s.7                 True\n",
      "initial_seasons.8           -8.9526e+05                  s.8                 True\n",
      "initial_seasons.9           -1.3517e+05                  s.9                 True\n",
      "initial_seasons.10           -6.273e+05                 s.10                 True\n",
      "initial_seasons.11            15928.857                 s.11                 True\n",
      "---------------------------------------------------------------------------------\n"
     ]
    }
   ],
   "source": [
    "print(fitted_model_add.summary())"
   ]
  },
  {
   "cell_type": "markdown",
   "id": "f02a3060",
   "metadata": {},
   "source": [
    "### Predictions "
   ]
  },
  {
   "cell_type": "code",
   "execution_count": 80,
   "id": "98652db9",
   "metadata": {},
   "outputs": [
    {
     "name": "stderr",
     "output_type": "stream",
     "text": [
      "/Users/dilianaserafimova/Ananconda/anaconda3/lib/python3.9/site-packages/statsmodels/tsa/base/tsa_model.py:132: FutureWarning: The 'freq' argument in Timestamp is deprecated and will be removed in a future version.\n",
      "  date_key = Timestamp(key, freq=base_index.freq)\n"
     ]
    }
   ],
   "source": [
    "predictions_hw_mul = fitted_model_mul.forecast(steps = len(test_set)).rename(\"Holt-Winters\")"
   ]
  },
  {
   "cell_type": "code",
   "execution_count": 81,
   "id": "215f8fba",
   "metadata": {},
   "outputs": [
    {
     "data": {
      "text/plain": [
       "2019-08-01    1.399066e+07\n",
       "2019-09-01    1.164999e+07\n",
       "2019-10-01    1.235859e+07\n",
       "2019-11-01    1.165636e+07\n",
       "2019-12-01    1.250366e+07\n",
       "Freq: MS, Name: Holt-Winters, dtype: float64"
      ]
     },
     "execution_count": 81,
     "metadata": {},
     "output_type": "execute_result"
    }
   ],
   "source": [
    "predictions_hw_mul.tail()"
   ]
  },
  {
   "cell_type": "code",
   "execution_count": 82,
   "id": "d1451b4e",
   "metadata": {},
   "outputs": [],
   "source": [
    "predictions_hw_add = fitted_model_add.forecast(steps = len(test_set)).rename(\"Holt-Winters\")"
   ]
  },
  {
   "cell_type": "code",
   "execution_count": 83,
   "id": "b63cc07f",
   "metadata": {
    "scrolled": true
   },
   "outputs": [
    {
     "data": {
      "text/plain": [
       "2016-08-01    1.304767e+07\n",
       "2016-09-01    1.162580e+07\n",
       "2016-10-01    1.212232e+07\n",
       "2016-11-01    1.165109e+07\n",
       "2016-12-01    1.218028e+07\n",
       "Freq: MS, Name: Holt-Winters, dtype: float64"
      ]
     },
     "execution_count": 83,
     "metadata": {},
     "output_type": "execute_result"
    }
   ],
   "source": [
    "predictions_hw_add.head()"
   ]
  },
  {
   "cell_type": "markdown",
   "id": "035b3e98",
   "metadata": {},
   "source": [
    "### Visualization"
   ]
  },
  {
   "cell_type": "code",
   "execution_count": 84,
   "id": "eeb54d83",
   "metadata": {},
   "outputs": [
    {
     "data": {
      "text/plain": [
       "<AxesSubplot:xlabel='date'>"
      ]
     },
     "execution_count": 84,
     "metadata": {},
     "output_type": "execute_result"
    },
    {
     "data": {
      "image/png": "[encoded data removed]",
      "text/plain": [
       "<Figure size 648x432 with 1 Axes>"
      ]
     },
     "metadata": {
      "needs_background": "light"
     },
     "output_type": "display_data"
    }
   ],
   "source": [
    "predictions_hw_mul.plot(legend = True, label = 'Multiplicative', figsize = (9,6))\n",
    "predictions_hw_add.plot(legend = True, label = 'Additiv')\n",
    "test_set.plot(legend = True, label = 'Input-Data')"
   ]
  },
  {
   "cell_type": "markdown",
   "id": "891cc48e",
   "metadata": {},
   "source": [
    "### Model assessment"
   ]
  },
  {
   "cell_type": "markdown",
   "id": "4c34362a",
   "metadata": {},
   "source": [
    "#### MAE and RMSE"
   ]
  },
  {
   "cell_type": "code",
   "execution_count": 85,
   "id": "cf6dd1f8",
   "metadata": {},
   "outputs": [
    {
     "name": "stdout",
     "output_type": "stream",
     "text": [
      "482550.28\n"
     ]
    }
   ],
   "source": [
    "print(round(mean_absolute_error(test_set, predictions_hw_mul),2))\n"
   ]
  },
  {
   "cell_type": "code",
   "execution_count": 86,
   "id": "9e34a68c",
   "metadata": {},
   "outputs": [
    {
     "name": "stdout",
     "output_type": "stream",
     "text": [
      "370653.95\n"
     ]
    }
   ],
   "source": [
    "print(round(mean_absolute_error(test_set, predictions_hw_add),2))"
   ]
  },
  {
   "cell_type": "code",
   "execution_count": 87,
   "id": "246b27b4",
   "metadata": {},
   "outputs": [
    {
     "name": "stdout",
     "output_type": "stream",
     "text": [
      "548867.34\n"
     ]
    }
   ],
   "source": [
    "print(round(np.sqrt(mean_squared_error(test_set, predictions_hw_mul)), 2))"
   ]
  },
  {
   "cell_type": "code",
   "execution_count": 88,
   "id": "1cc12ed2",
   "metadata": {},
   "outputs": [
    {
     "name": "stdout",
     "output_type": "stream",
     "text": [
      "464826.38\n"
     ]
    }
   ],
   "source": [
    "print(round(np.sqrt(mean_squared_error(test_set, predictions_hw_add)), 2))"
   ]
  },
  {
   "cell_type": "markdown",
   "id": "6074023a",
   "metadata": {},
   "source": [
    "#### MAPE function"
   ]
  },
  {
   "cell_type": "code",
   "execution_count": 89,
   "id": "4867e28f",
   "metadata": {},
   "outputs": [],
   "source": [
    "def MAPE(y_true, y_pred):\n",
    "    y_true, y_pred = np.array(y_true), np.array(y_pred)\n",
    "    return np.mean(np.abs(y_true - y_pred) / y_true) * 100"
   ]
  },
  {
   "cell_type": "code",
   "execution_count": 90,
   "id": "8b02acc9",
   "metadata": {},
   "outputs": [
    {
     "data": {
      "text/plain": [
       "3.85"
      ]
     },
     "execution_count": 90,
     "metadata": {},
     "output_type": "execute_result"
    }
   ],
   "source": [
    "round(MAPE(test_set, predictions_hw_mul),2)"
   ]
  },
  {
   "cell_type": "code",
   "execution_count": 91,
   "id": "3da6be0e",
   "metadata": {},
   "outputs": [
    {
     "data": {
      "text/plain": [
       "3.13"
      ]
     },
     "execution_count": 91,
     "metadata": {},
     "output_type": "execute_result"
    }
   ],
   "source": [
    "round(MAPE(test_set, predictions_hw_add),2)"
   ]
  },
  {
   "cell_type": "markdown",
   "id": "a7b111b8",
   "metadata": {},
   "source": [
    "### Export Forecast"
   ]
  },
  {
   "cell_type": "code",
   "execution_count": 56,
   "id": "85c581e9",
   "metadata": {},
   "outputs": [
    {
     "name": "stdout",
     "output_type": "stream",
     "text": [
      "/Users/dilianaserafimova/Library/Mobile Documents/com~apple~CloudDocs/Documents/My Files/Master Studium/Masterarbeit/Forecast/American Airlines\n"
     ]
    }
   ],
   "source": [
    "%cd  /Users/dilianaserafimova/Library/Mobile Documents/com~apple~CloudDocs/Documents/My Files/Master Studium/Masterarbeit/Forecast/American Airlines"
   ]
  },
  {
   "cell_type": "code",
   "execution_count": 57,
   "id": "462d3076",
   "metadata": {},
   "outputs": [],
   "source": [
    "predictions_hw_mul.to_csv('predictions_hw_mul.csv', index = True)"
   ]
  },
  {
   "cell_type": "code",
   "execution_count": 58,
   "id": "0a614619",
   "metadata": {},
   "outputs": [],
   "source": [
    "predictions_hw_add.to_csv('predictions_hw_add.csv', index = True)"
   ]
  }
 ],
 "metadata": {
  "kernelspec": {
   "display_name": "Python 3 (ipykernel)",
   "language": "python",
   "name": "python3"
  },
  "language_info": {
   "codemirror_mode": {
    "name": "ipython",
    "version": 3
   },
   "file_extension": ".py",
   "mimetype": "text/x-python",
   "name": "python",
   "nbconvert_exporter": "python",
   "pygments_lexer": "ipython3",
   "version": "3.9.7"
  }
 },
 "nbformat": 4,
 "nbformat_minor": 5
}
