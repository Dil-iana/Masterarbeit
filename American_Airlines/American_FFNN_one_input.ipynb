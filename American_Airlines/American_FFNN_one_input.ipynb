{
 "cells": [
  {
   "cell_type": "code",
   "execution_count": 1,
   "id": "ea5b9ea8",
   "metadata": {},
   "outputs": [],
   "source": [
    "from sklearn.metrics import mean_squared_error, mean_absolute_error\n",
    "from math import sqrt"
   ]
  },
  {
   "cell_type": "code",
   "execution_count": 2,
   "id": "098f7971",
   "metadata": {},
   "outputs": [],
   "source": [
    "import numpy as np\n",
    "import pandas as pd\n",
    "import matplotlib.pyplot as plt\n",
    "import math"
   ]
  },
  {
   "cell_type": "code",
   "execution_count": 3,
   "id": "954d5440",
   "metadata": {},
   "outputs": [
    {
     "name": "stderr",
     "output_type": "stream",
     "text": [
      "2022-11-29 20:00:56.485106: I tensorflow/core/platform/cpu_feature_guard.cc:193] This TensorFlow binary is optimized with oneAPI Deep Neural Network Library (oneDNN) to use the following CPU instructions in performance-critical operations:  AVX2 FMA\n",
      "To enable them in other operations, rebuild TensorFlow with the appropriate compiler flags.\n"
     ]
    }
   ],
   "source": [
    "from keras.models import Sequential\n",
    "from keras.layers import Dense\n",
    "from sklearn.preprocessing import MinMaxScaler"
   ]
  },
  {
   "cell_type": "code",
   "execution_count": 4,
   "id": "73c4872c",
   "metadata": {},
   "outputs": [],
   "source": [
    "df_american = pd.read_excel(r'/Users/dilianaserafimova/Desktop/American_Airlines_clean.xlsx')"
   ]
  },
  {
   "cell_type": "code",
   "execution_count": 5,
   "id": "0753b706",
   "metadata": {
    "scrolled": true
   },
   "outputs": [
    {
     "data": {
      "text/html": [
       "<div>\n",
       "<style scoped>\n",
       "    .dataframe tbody tr th:only-of-type {\n",
       "        vertical-align: middle;\n",
       "    }\n",
       "\n",
       "    .dataframe tbody tr th {\n",
       "        vertical-align: top;\n",
       "    }\n",
       "\n",
       "    .dataframe thead th {\n",
       "        text-align: right;\n",
       "    }\n",
       "</style>\n",
       "<table border=\"1\" class=\"dataframe\">\n",
       "  <thead>\n",
       "    <tr style=\"text-align: right;\">\n",
       "      <th></th>\n",
       "      <th>date</th>\n",
       "      <th>pax_count</th>\n",
       "      <th>revenue</th>\n",
       "      <th>seat_miles</th>\n",
       "      <th>load_factor</th>\n",
       "      <th>flights</th>\n",
       "    </tr>\n",
       "  </thead>\n",
       "  <tbody>\n",
       "    <tr>\n",
       "      <th>0</th>\n",
       "      <td>2003-01-01</td>\n",
       "      <td>7013818</td>\n",
       "      <td>9405547</td>\n",
       "      <td>14038698</td>\n",
       "      <td>67.00</td>\n",
       "      <td>78214</td>\n",
       "    </tr>\n",
       "    <tr>\n",
       "      <th>1</th>\n",
       "      <td>2003-02-01</td>\n",
       "      <td>6363926</td>\n",
       "      <td>8355084</td>\n",
       "      <td>12142241</td>\n",
       "      <td>68.81</td>\n",
       "      <td>67463</td>\n",
       "    </tr>\n",
       "    <tr>\n",
       "      <th>2</th>\n",
       "      <td>2003-03-01</td>\n",
       "      <td>7628481</td>\n",
       "      <td>9981627</td>\n",
       "      <td>13929984</td>\n",
       "      <td>71.66</td>\n",
       "      <td>77125</td>\n",
       "    </tr>\n",
       "    <tr>\n",
       "      <th>3</th>\n",
       "      <td>2003-04-01</td>\n",
       "      <td>7103085</td>\n",
       "      <td>9325622</td>\n",
       "      <td>13210596</td>\n",
       "      <td>70.59</td>\n",
       "      <td>73182</td>\n",
       "    </tr>\n",
       "    <tr>\n",
       "      <th>4</th>\n",
       "      <td>2003-05-01</td>\n",
       "      <td>7447462</td>\n",
       "      <td>9838460</td>\n",
       "      <td>13345197</td>\n",
       "      <td>73.72</td>\n",
       "      <td>73381</td>\n",
       "    </tr>\n",
       "  </tbody>\n",
       "</table>\n",
       "</div>"
      ],
      "text/plain": [
       "        date  pax_count  revenue  seat_miles  load_factor  flights\n",
       "0 2003-01-01    7013818  9405547    14038698        67.00    78214\n",
       "1 2003-02-01    6363926  8355084    12142241        68.81    67463\n",
       "2 2003-03-01    7628481  9981627    13929984        71.66    77125\n",
       "3 2003-04-01    7103085  9325622    13210596        70.59    73182\n",
       "4 2003-05-01    7447462  9838460    13345197        73.72    73381"
      ]
     },
     "execution_count": 5,
     "metadata": {},
     "output_type": "execute_result"
    }
   ],
   "source": [
    "df_american.head()"
   ]
  },
  {
   "cell_type": "markdown",
   "id": "beab7581",
   "metadata": {},
   "source": [
    "## Only 1 feature "
   ]
  },
  {
   "cell_type": "code",
   "execution_count": 6,
   "id": "c4a11efb",
   "metadata": {},
   "outputs": [],
   "source": [
    "paxes = df_american['pax_count']"
   ]
  },
  {
   "cell_type": "code",
   "execution_count": 7,
   "id": "e90084db",
   "metadata": {
    "scrolled": true
   },
   "outputs": [
    {
     "data": {
      "text/plain": [
       "0    7013818\n",
       "1    6363926\n",
       "2    7628481\n",
       "3    7103085\n",
       "4    7447462\n",
       "Name: pax_count, dtype: int64"
      ]
     },
     "execution_count": 7,
     "metadata": {},
     "output_type": "execute_result"
    }
   ],
   "source": [
    "paxes.head()"
   ]
  },
  {
   "cell_type": "markdown",
   "id": "453bff04",
   "metadata": {},
   "source": [
    "## Convert pandas dataframe to numpy array"
   ]
  },
  {
   "cell_type": "code",
   "execution_count": 8,
   "id": "ab78e104",
   "metadata": {},
   "outputs": [],
   "source": [
    "dataset = paxes.values\n",
    "#dateset = dataset.astype('float32')\n",
    "dataset = dataset.reshape(-1, 1)"
   ]
  },
  {
   "cell_type": "markdown",
   "id": "391a3103",
   "metadata": {},
   "source": [
    "## Normalization"
   ]
  },
  {
   "cell_type": "code",
   "execution_count": 9,
   "id": "f0a980d5",
   "metadata": {},
   "outputs": [],
   "source": [
    "scaler = MinMaxScaler(feature_range=(0,1))\n",
    "dataset = scaler.fit_transform(dataset)"
   ]
  },
  {
   "cell_type": "markdown",
   "id": "52f9aba3",
   "metadata": {},
   "source": [
    "## Split the data"
   ]
  },
  {
   "cell_type": "code",
   "execution_count": 10,
   "id": "11a260f0",
   "metadata": {},
   "outputs": [],
   "source": [
    "train_size = int(len(dataset)*0.8)\n",
    "test_size = len(dataset) - train_size\n",
    "train, test = dataset[0:train_size,:], dataset[train_size:len(dataset),:]"
   ]
  },
  {
   "cell_type": "code",
   "execution_count": 11,
   "id": "12013040",
   "metadata": {},
   "outputs": [
    {
     "name": "stdout",
     "output_type": "stream",
     "text": [
      "163\n"
     ]
    }
   ],
   "source": [
    "print (train_size)"
   ]
  },
  {
   "cell_type": "code",
   "execution_count": 12,
   "id": "7030206a",
   "metadata": {},
   "outputs": [
    {
     "name": "stdout",
     "output_type": "stream",
     "text": [
      "41\n"
     ]
    }
   ],
   "source": [
    "print(test_size)"
   ]
  },
  {
   "cell_type": "markdown",
   "id": "8ce72334",
   "metadata": {},
   "source": [
    "# Feed Forward Neural Network"
   ]
  },
  {
   "cell_type": "code",
   "execution_count": 13,
   "id": "846d0d65",
   "metadata": {},
   "outputs": [],
   "source": [
    "def to_sequences(dataset, seq_size=1):\n",
    "    x = []\n",
    "    y = []\n",
    "    \n",
    "    for i in range(len(dataset)-seq_size-1):\n",
    "        #print(i)\n",
    "        window = dataset[i:(i+seq_size), 0]\n",
    "        x.append(window)\n",
    "        y.append(dataset[i+seq_size,0])\n",
    "    return np.array(x), np.array(y)"
   ]
  },
  {
   "cell_type": "code",
   "execution_count": 14,
   "id": "f986d06b",
   "metadata": {},
   "outputs": [],
   "source": [
    "seq_size = 12"
   ]
  },
  {
   "cell_type": "code",
   "execution_count": 16,
   "id": "095f321c",
   "metadata": {},
   "outputs": [],
   "source": [
    "trainX, trainY = to_sequences(train, seq_size)\n",
    "testX, testY = to_sequences(test, seq_size)"
   ]
  },
  {
   "cell_type": "code",
   "execution_count": 17,
   "id": "1226cb98",
   "metadata": {},
   "outputs": [
    {
     "name": "stdout",
     "output_type": "stream",
     "text": [
      "Shape of training set: (150, 12)\n",
      "Shape of test set: (28, 12)\n"
     ]
    }
   ],
   "source": [
    "print(\"Shape of training set: {}\".format(trainX.shape))\n",
    "print(\"Shape of test set: {}\".format(testX.shape))"
   ]
  },
  {
   "cell_type": "code",
   "execution_count": 18,
   "id": "3ab7f2a3",
   "metadata": {},
   "outputs": [
    {
     "name": "stdout",
     "output_type": "stream",
     "text": [
      "28\n"
     ]
    }
   ],
   "source": [
    "print(len(testY))"
   ]
  },
  {
   "cell_type": "markdown",
   "id": "1160248b",
   "metadata": {},
   "source": [
    "## Creat and fit dense model"
   ]
  },
  {
   "cell_type": "markdown",
   "id": "d36c8246",
   "metadata": {},
   "source": [
    "### Specify the structure of a neural network "
   ]
  },
  {
   "cell_type": "code",
   "execution_count": 19,
   "id": "1445b0f4",
   "metadata": {},
   "outputs": [
    {
     "name": "stderr",
     "output_type": "stream",
     "text": [
      "2022-11-29 20:01:55.100532: I tensorflow/core/platform/cpu_feature_guard.cc:193] This TensorFlow binary is optimized with oneAPI Deep Neural Network Library (oneDNN) to use the following CPU instructions in performance-critical operations:  AVX2 FMA\n",
      "To enable them in other operations, rebuild TensorFlow with the appropriate compiler flags.\n"
     ]
    }
   ],
   "source": [
    "model = Sequential()\n",
    "model.add(Dense(64, input_dim=seq_size, activation = 'relu'))\n",
    "model.add(Dense(32, activation='relu'))\n",
    "model.add(Dense(1))"
   ]
  },
  {
   "cell_type": "markdown",
   "id": "71241f37",
   "metadata": {},
   "source": [
    "### Compile the keras model "
   ]
  },
  {
   "cell_type": "code",
   "execution_count": 20,
   "id": "10ab9b2c",
   "metadata": {},
   "outputs": [],
   "source": [
    "model.compile(loss='mean_squared_error', optimizer='adam', metrics = ['acc'])"
   ]
  },
  {
   "cell_type": "code",
   "execution_count": 21,
   "id": "28df1bea",
   "metadata": {
    "scrolled": false
   },
   "outputs": [
    {
     "name": "stdout",
     "output_type": "stream",
     "text": [
      "Model: \"sequential\"\n",
      "_________________________________________________________________\n",
      " Layer (type)                Output Shape              Param #   \n",
      "=================================================================\n",
      " dense (Dense)               (None, 64)                832       \n",
      "                                                                 \n",
      " dense_1 (Dense)             (None, 32)                2080      \n",
      "                                                                 \n",
      " dense_2 (Dense)             (None, 1)                 33        \n",
      "                                                                 \n",
      "=================================================================\n",
      "Total params: 2,945\n",
      "Trainable params: 2,945\n",
      "Non-trainable params: 0\n",
      "_________________________________________________________________\n",
      "None\n"
     ]
    }
   ],
   "source": [
    "print(model.summary())"
   ]
  },
  {
   "cell_type": "markdown",
   "id": "ba2b41a0",
   "metadata": {},
   "source": [
    "### Fit keras model on the dataset "
   ]
  },
  {
   "cell_type": "code",
   "execution_count": 39,
   "id": "d9f5385c",
   "metadata": {},
   "outputs": [
    {
     "data": {
      "text/plain": [
       "<keras.callbacks.History at 0x7fa95a398e50>"
      ]
     },
     "execution_count": 39,
     "metadata": {},
     "output_type": "execute_result"
    }
   ],
   "source": [
    "model.fit(trainX, trainY, validation_data=(testX, testY),\n",
    "         verbose=0, epochs=100)"
   ]
  },
  {
   "cell_type": "markdown",
   "id": "8ec031b3",
   "metadata": {},
   "source": [
    "### Make predictions"
   ]
  },
  {
   "cell_type": "code",
   "execution_count": 40,
   "id": "8c45cbd6",
   "metadata": {
    "scrolled": false
   },
   "outputs": [
    {
     "name": "stdout",
     "output_type": "stream",
     "text": [
      "5/5 [==============================] - 0s 3ms/step\n",
      "1/1 [==============================] - 0s 27ms/step\n"
     ]
    }
   ],
   "source": [
    "trainPredict = model.predict(trainX)\n",
    "testPredict = model.predict(testX)"
   ]
  },
  {
   "cell_type": "markdown",
   "id": "83902a86",
   "metadata": {},
   "source": [
    "### Invert normalization"
   ]
  },
  {
   "cell_type": "code",
   "execution_count": 41,
   "id": "4073d787",
   "metadata": {},
   "outputs": [],
   "source": [
    "trainPredict = scaler.inverse_transform(trainPredict)\n",
    "trainY_inverse = scaler.inverse_transform([trainY])\n",
    "testPredict = scaler.inverse_transform(testPredict)\n",
    "testY_inverse = scaler.inverse_transform([testY])"
   ]
  },
  {
   "cell_type": "code",
   "execution_count": 42,
   "id": "15aa8258",
   "metadata": {},
   "outputs": [
    {
     "name": "stdout",
     "output_type": "stream",
     "text": [
      "150\n"
     ]
    }
   ],
   "source": [
    "print(len(trainPredict))"
   ]
  },
  {
   "cell_type": "code",
   "execution_count": 43,
   "id": "6e7fa43e",
   "metadata": {},
   "outputs": [
    {
     "name": "stdout",
     "output_type": "stream",
     "text": [
      "28\n"
     ]
    }
   ],
   "source": [
    "print(len(testPredict))"
   ]
  },
  {
   "cell_type": "markdown",
   "id": "38fab346",
   "metadata": {},
   "source": [
    "### RMSE "
   ]
  },
  {
   "cell_type": "code",
   "execution_count": 44,
   "id": "c687b29b",
   "metadata": {},
   "outputs": [
    {
     "name": "stdout",
     "output_type": "stream",
     "text": [
      "Train Score: 357429.79 RMSE\n"
     ]
    }
   ],
   "source": [
    "trainScore = math.sqrt(mean_squared_error(trainY_inverse[0],trainPredict[:,0]))\n",
    "print(\"Train Score: %.2f RMSE\" % (trainScore))"
   ]
  },
  {
   "cell_type": "code",
   "execution_count": 45,
   "id": "63620aef",
   "metadata": {
    "scrolled": true
   },
   "outputs": [
    {
     "name": "stdout",
     "output_type": "stream",
     "text": [
      "Test Score: 572711.06 RMSE\n"
     ]
    }
   ],
   "source": [
    "testScore = math.sqrt(mean_squared_error(testY_inverse[0], testPredict[:,0]))\n",
    "print(\"Test Score: %.2f RMSE\" % (testScore))"
   ]
  },
  {
   "cell_type": "markdown",
   "id": "5b3eee08",
   "metadata": {},
   "source": [
    "### Shift train predictions for plotting"
   ]
  },
  {
   "cell_type": "code",
   "execution_count": 29,
   "id": "0c82a1ef",
   "metadata": {},
   "outputs": [],
   "source": [
    "trainPredictPlot = np.empty_like(dataset)\n",
    "trainPredictPlot[:,:] = np.nan\n",
    "trainPredictPlot[seq_size:len(trainPredict)+(seq_size),:] = trainPredict"
   ]
  },
  {
   "cell_type": "markdown",
   "id": "0003a924",
   "metadata": {},
   "source": [
    "### Shift test predictions for plotting"
   ]
  },
  {
   "cell_type": "code",
   "execution_count": 30,
   "id": "7b541c25",
   "metadata": {},
   "outputs": [],
   "source": [
    "testPredictPlot = np.empty_like(dataset)\n",
    "testPredictPlot[:,:] = np.nan\n",
    "testPredictPlot[len(trainPredict)+(seq_size*2)+1:len(dataset)-1,:]= testPredict"
   ]
  },
  {
   "cell_type": "markdown",
   "id": "ef2a055f",
   "metadata": {},
   "source": [
    "# Visualization"
   ]
  },
  {
   "cell_type": "code",
   "execution_count": 31,
   "id": "f9dc32ac",
   "metadata": {
    "scrolled": true
   },
   "outputs": [
    {
     "data": {
      "image/png": "[encoded data removed]",
      "text/plain": [
       "<Figure size 432x288 with 1 Axes>"
      ]
     },
     "metadata": {
      "needs_background": "light"
     },
     "output_type": "display_data"
    }
   ],
   "source": [
    "plt.plot(scaler.inverse_transform(dataset), color='black')\n",
    "plt.plot(trainPredictPlot)\n",
    "plt.plot(testPredictPlot)\n",
    "plt.show()"
   ]
  },
  {
   "cell_type": "code",
   "execution_count": 46,
   "id": "5e482a96",
   "metadata": {},
   "outputs": [
    {
     "name": "stdout",
     "output_type": "stream",
     "text": [
      "/Users/dilianaserafimova/Library/Mobile Documents/com~apple~CloudDocs/Documents/My Files/Master Studium/Masterarbeit/Forecast/American Airlines\n"
     ]
    }
   ],
   "source": [
    "%cd  /Users/dilianaserafimova/Library/Mobile Documents/com~apple~CloudDocs/Documents/My Files/Master Studium/Masterarbeit/Forecast/American Airlines"
   ]
  },
  {
   "cell_type": "code",
   "execution_count": 47,
   "id": "15c2dd91",
   "metadata": {},
   "outputs": [],
   "source": [
    "testY_inverse.tofile('predictions_ffnn.csv', sep = ',')"
   ]
  }
 ],
 "metadata": {
  "kernelspec": {
   "display_name": "Python 3 (ipykernel)",
   "language": "python",
   "name": "python3"
  },
  "language_info": {
   "codemirror_mode": {
    "name": "ipython",
    "version": 3
   },
   "file_extension": ".py",
   "mimetype": "text/x-python",
   "name": "python",
   "nbconvert_exporter": "python",
   "pygments_lexer": "ipython3",
   "version": "3.9.7"
  }
 },
 "nbformat": 4,
 "nbformat_minor": 5
}
