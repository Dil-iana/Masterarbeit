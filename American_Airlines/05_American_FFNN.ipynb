{
 "cells": [
  {
   "cell_type": "code",
   "execution_count": 1,
   "id": "f5d1f583",
   "metadata": {
    "scrolled": true
   },
   "outputs": [
    {
     "name": "stderr",
     "output_type": "stream",
     "text": [
      "2022-12-02 18:22:51.769849: I tensorflow/core/platform/cpu_feature_guard.cc:193] This TensorFlow binary is optimized with oneAPI Deep Neural Network Library (oneDNN) to use the following CPU instructions in performance-critical operations:  AVX2 FMA\n",
      "To enable them in other operations, rebuild TensorFlow with the appropriate compiler flags.\n"
     ]
    }
   ],
   "source": [
    "import tensorflow as tf\n",
    "from tensorflow.keras.models import Sequential\n",
    "from tensorflow.keras.layers import Dense, Dropout\n",
    "import keras\n",
    "import pandas as pd\n",
    "from sklearn.model_selection import train_test_split\n",
    "from sklearn.preprocessing import MinMaxScaler\n",
    "from sklearn.metrics import mean_squared_error, mean_absolute_error\n",
    "import math\n",
    "import matplotlib.pyplot as plt\n",
    "from tensorflow.keras import initializers"
   ]
  },
  {
   "cell_type": "markdown",
   "id": "54f9bd01",
   "metadata": {},
   "source": [
    "## Import data "
   ]
  },
  {
   "cell_type": "code",
   "execution_count": 2,
   "id": "a992baa0",
   "metadata": {},
   "outputs": [],
   "source": [
    "df_american = pd.read_excel(r'/Users/dilianaserafimova/Desktop/df_american_clean.xlsx')"
   ]
  },
  {
   "cell_type": "code",
   "execution_count": 3,
   "id": "19f03ca1",
   "metadata": {},
   "outputs": [],
   "source": [
    "df_american = df_american.set_index(['date'])"
   ]
  },
  {
   "cell_type": "code",
   "execution_count": 4,
   "id": "3bae768c",
   "metadata": {},
   "outputs": [],
   "source": [
    "X = df_american[['revenue', 'seat_miles', 'load_factor', 'flights']]"
   ]
  },
  {
   "cell_type": "code",
   "execution_count": 5,
   "id": "82e97e35",
   "metadata": {},
   "outputs": [],
   "source": [
    "y = df_american['pax_count'].values"
   ]
  },
  {
   "cell_type": "markdown",
   "id": "20633ac5",
   "metadata": {},
   "source": [
    "## Train & test split"
   ]
  },
  {
   "cell_type": "code",
   "execution_count": 6,
   "id": "c54eb130",
   "metadata": {},
   "outputs": [],
   "source": [
    "X_train, X_test, y_train, y_test = train_test_split(X, y, test_size=0.2, random_state = 0)"
   ]
  },
  {
   "cell_type": "markdown",
   "id": "425cd75a",
   "metadata": {},
   "source": [
    "## Normalize the data"
   ]
  },
  {
   "cell_type": "code",
   "execution_count": 7,
   "id": "16720abf",
   "metadata": {},
   "outputs": [],
   "source": [
    "scaler = MinMaxScaler()"
   ]
  },
  {
   "cell_type": "code",
   "execution_count": 8,
   "id": "cebc19d9",
   "metadata": {},
   "outputs": [],
   "source": [
    "X_train = scaler.fit_transform(X_train)"
   ]
  },
  {
   "cell_type": "code",
   "execution_count": 9,
   "id": "7ca86aa3",
   "metadata": {},
   "outputs": [],
   "source": [
    "X_test = scaler.transform(X_test)"
   ]
  },
  {
   "cell_type": "markdown",
   "id": "2c1fb5df",
   "metadata": {},
   "source": [
    "## Creating the model "
   ]
  },
  {
   "cell_type": "code",
   "execution_count": 44,
   "id": "ce589b2c",
   "metadata": {},
   "outputs": [],
   "source": [
    "model = Sequential()\n",
    "\n",
    "model.add(Dense(4, activation='relu', \n",
    "                #kernel_initializer=initializers.RandomNormal(stddev=0.01),\n",
    "               # bias_initializer=initializers.Zeros()\n",
    "               ))\n",
    "model.add(Dense(8, activation='relu'))\n",
    "model.add(Dense(5, activation='relu'))\n",
    "model.add(Dense(3, activation='relu'))\n",
    "model.add(Dense(units=1,activation='relu'))"
   ]
  },
  {
   "cell_type": "code",
   "execution_count": 45,
   "id": "2a7029f3",
   "metadata": {},
   "outputs": [],
   "source": [
    "opt = keras.optimizers.Adam(learning_rate=0.2)\n",
    "\n",
    "model.compile(loss = 'mean_absolute_error', optimizer= opt)"
   ]
  },
  {
   "cell_type": "markdown",
   "id": "51a3371f",
   "metadata": {},
   "source": [
    "## Fit the model "
   ]
  },
  {
   "cell_type": "code",
   "execution_count": 47,
   "id": "e94ffd05",
   "metadata": {
    "scrolled": true
   },
   "outputs": [
    {
     "name": "stdout",
     "output_type": "stream",
     "text": [
      "Epoch 1/100\n",
      "6/6 [==============================] - 1s 51ms/step - loss: 8841776.0000 - val_loss: 8679733.0000\n",
      "Epoch 2/100\n",
      "6/6 [==============================] - 0s 13ms/step - loss: 8841160.0000 - val_loss: 8677078.0000\n",
      "Epoch 3/100\n",
      "6/6 [==============================] - 0s 14ms/step - loss: 8834848.0000 - val_loss: 8657540.0000\n",
      "Epoch 4/100\n",
      "6/6 [==============================] - 0s 12ms/step - loss: 8796240.0000 - val_loss: 8562100.0000\n",
      "Epoch 5/100\n",
      "6/6 [==============================] - 0s 16ms/step - loss: 8632499.0000 - val_loss: 8208567.5000\n",
      "Epoch 6/100\n",
      "6/6 [==============================] - 0s 19ms/step - loss: 8067343.5000 - val_loss: 7133660.0000\n",
      "Epoch 7/100\n",
      "6/6 [==============================] - 0s 16ms/step - loss: 6467232.5000 - val_loss: 4332060.5000\n",
      "Epoch 8/100\n",
      "6/6 [==============================] - 0s 16ms/step - loss: 2612308.5000 - val_loss: 1560608.7500\n",
      "Epoch 9/100\n",
      "6/6 [==============================] - 0s 11ms/step - loss: 1740255.6250 - val_loss: 465440.1875\n",
      "Epoch 10/100\n",
      "6/6 [==============================] - 0s 15ms/step - loss: 964194.5625 - val_loss: 1109222.5000\n",
      "Epoch 11/100\n",
      "6/6 [==============================] - 0s 11ms/step - loss: 637744.3750 - val_loss: 859412.1250\n",
      "Epoch 12/100\n",
      "6/6 [==============================] - 0s 14ms/step - loss: 700411.0625 - val_loss: 557990.5625\n",
      "Epoch 13/100\n",
      "6/6 [==============================] - 0s 11ms/step - loss: 484332.5000 - val_loss: 456187.7500\n",
      "Epoch 14/100\n",
      "6/6 [==============================] - 0s 11ms/step - loss: 454831.3750 - val_loss: 486215.4688\n",
      "Epoch 15/100\n",
      "6/6 [==============================] - 0s 12ms/step - loss: 433285.0000 - val_loss: 446721.3125\n",
      "Epoch 16/100\n",
      "6/6 [==============================] - 0s 21ms/step - loss: 436686.2812 - val_loss: 437931.7188\n",
      "Epoch 17/100\n",
      "6/6 [==============================] - 0s 12ms/step - loss: 407831.4375 - val_loss: 429310.0000\n",
      "Epoch 18/100\n",
      "6/6 [==============================] - 0s 14ms/step - loss: 411974.1875 - val_loss: 448332.7812\n",
      "Epoch 19/100\n",
      "6/6 [==============================] - 0s 17ms/step - loss: 398794.8750 - val_loss: 423038.5000\n",
      "Epoch 20/100\n",
      "6/6 [==============================] - 0s 13ms/step - loss: 388490.3438 - val_loss: 436794.2500\n",
      "Epoch 21/100\n",
      "6/6 [==============================] - 0s 14ms/step - loss: 385870.5000 - val_loss: 407969.8438\n",
      "Epoch 22/100\n",
      "6/6 [==============================] - 0s 12ms/step - loss: 382172.8125 - val_loss: 457452.0000\n",
      "Epoch 23/100\n",
      "6/6 [==============================] - 0s 13ms/step - loss: 373659.3125 - val_loss: 414800.3750\n",
      "Epoch 24/100\n",
      "6/6 [==============================] - 0s 13ms/step - loss: 400901.1875 - val_loss: 435112.7188\n",
      "Epoch 25/100\n",
      "6/6 [==============================] - 0s 13ms/step - loss: 364356.1250 - val_loss: 382443.0625\n",
      "Epoch 26/100\n",
      "6/6 [==============================] - 0s 15ms/step - loss: 346785.4375 - val_loss: 408371.9688\n",
      "Epoch 27/100\n",
      "6/6 [==============================] - 0s 15ms/step - loss: 376757.7188 - val_loss: 370981.1562\n",
      "Epoch 28/100\n",
      "6/6 [==============================] - 0s 12ms/step - loss: 378463.1562 - val_loss: 398506.9688\n",
      "Epoch 29/100\n",
      "6/6 [==============================] - 0s 14ms/step - loss: 343489.2500 - val_loss: 359443.7812\n",
      "Epoch 30/100\n",
      "6/6 [==============================] - 0s 10ms/step - loss: 336855.4375 - val_loss: 375202.1562\n",
      "Epoch 31/100\n",
      "6/6 [==============================] - 0s 12ms/step - loss: 347130.2812 - val_loss: 350717.6250\n",
      "Epoch 32/100\n",
      "6/6 [==============================] - 0s 12ms/step - loss: 339237.6562 - val_loss: 354326.1875\n",
      "Epoch 33/100\n",
      "6/6 [==============================] - 0s 11ms/step - loss: 360665.8750 - val_loss: 401429.1250\n",
      "Epoch 34/100\n",
      "6/6 [==============================] - 0s 10ms/step - loss: 335943.8438 - val_loss: 365141.8438\n",
      "Epoch 35/100\n",
      "6/6 [==============================] - 0s 11ms/step - loss: 347749.5312 - val_loss: 369937.9375\n",
      "Epoch 36/100\n",
      "6/6 [==============================] - 0s 10ms/step - loss: 309938.7188 - val_loss: 344949.3125\n",
      "Epoch 37/100\n",
      "6/6 [==============================] - 0s 10ms/step - loss: 319886.3438 - val_loss: 344588.0938\n",
      "Epoch 38/100\n",
      "6/6 [==============================] - 0s 12ms/step - loss: 326513.1875 - val_loss: 374336.2188\n",
      "Epoch 39/100\n",
      "6/6 [==============================] - 0s 11ms/step - loss: 313654.0000 - val_loss: 334933.5625\n",
      "Epoch 40/100\n",
      "6/6 [==============================] - 0s 12ms/step - loss: 294464.3125 - val_loss: 332108.9375\n",
      "Epoch 41/100\n",
      "6/6 [==============================] - 0s 14ms/step - loss: 291659.7812 - val_loss: 334759.5938\n",
      "Epoch 42/100\n",
      "6/6 [==============================] - 0s 10ms/step - loss: 290067.5938 - val_loss: 334433.8438\n",
      "Epoch 43/100\n",
      "6/6 [==============================] - 0s 10ms/step - loss: 292511.4062 - val_loss: 344569.1250\n",
      "Epoch 44/100\n",
      "6/6 [==============================] - 0s 11ms/step - loss: 301867.9375 - val_loss: 336111.0312\n",
      "Epoch 45/100\n",
      "6/6 [==============================] - 0s 11ms/step - loss: 300299.5625 - val_loss: 401842.0625\n",
      "Epoch 46/100\n",
      "6/6 [==============================] - 0s 11ms/step - loss: 452308.8438 - val_loss: 466916.5000\n",
      "Epoch 47/100\n",
      "6/6 [==============================] - 0s 10ms/step - loss: 377033.9688 - val_loss: 523613.4688\n",
      "Epoch 48/100\n",
      "6/6 [==============================] - 0s 11ms/step - loss: 442373.5312 - val_loss: 474061.1250\n",
      "Epoch 49/100\n",
      "6/6 [==============================] - 0s 10ms/step - loss: 375583.7188 - val_loss: 326185.5000\n",
      "Epoch 50/100\n",
      "6/6 [==============================] - 0s 11ms/step - loss: 382021.5625 - val_loss: 376666.4375\n",
      "Epoch 51/100\n",
      "6/6 [==============================] - 0s 12ms/step - loss: 319332.9688 - val_loss: 314648.1250\n",
      "Epoch 52/100\n",
      "6/6 [==============================] - 0s 10ms/step - loss: 284160.2500 - val_loss: 316980.0625\n",
      "Epoch 53/100\n",
      "6/6 [==============================] - 0s 12ms/step - loss: 272328.9062 - val_loss: 313614.3438\n",
      "Epoch 54/100\n",
      "6/6 [==============================] - 0s 12ms/step - loss: 294614.0938 - val_loss: 309882.0000\n",
      "Epoch 55/100\n",
      "6/6 [==============================] - 0s 10ms/step - loss: 279247.1562 - val_loss: 358764.6250\n",
      "Epoch 56/100\n",
      "6/6 [==============================] - 0s 12ms/step - loss: 318591.5625 - val_loss: 311501.9688\n",
      "Epoch 57/100\n",
      "6/6 [==============================] - 0s 12ms/step - loss: 273023.9688 - val_loss: 308844.9375\n",
      "Epoch 58/100\n",
      "6/6 [==============================] - 0s 16ms/step - loss: 270595.9375 - val_loss: 297820.9375\n",
      "Epoch 59/100\n",
      "6/6 [==============================] - 0s 11ms/step - loss: 258787.6250 - val_loss: 292437.3125\n",
      "Epoch 60/100\n",
      "6/6 [==============================] - 0s 12ms/step - loss: 267121.1562 - val_loss: 409344.2812\n",
      "Epoch 61/100\n",
      "6/6 [==============================] - 0s 18ms/step - loss: 320763.1562 - val_loss: 307658.1562\n",
      "Epoch 62/100\n",
      "6/6 [==============================] - 0s 14ms/step - loss: 283493.0938 - val_loss: 286665.2812\n",
      "Epoch 63/100\n",
      "6/6 [==============================] - 0s 19ms/step - loss: 256309.9375 - val_loss: 301875.3125\n",
      "Epoch 64/100\n",
      "6/6 [==============================] - 0s 14ms/step - loss: 255812.9844 - val_loss: 285383.2500\n",
      "Epoch 65/100\n",
      "6/6 [==============================] - 0s 12ms/step - loss: 254144.5469 - val_loss: 281052.5000\n",
      "Epoch 66/100\n",
      "6/6 [==============================] - 0s 16ms/step - loss: 264190.0312 - val_loss: 277513.5000\n",
      "Epoch 67/100\n",
      "6/6 [==============================] - 0s 16ms/step - loss: 248401.2812 - val_loss: 270085.2500\n",
      "Epoch 68/100\n",
      "6/6 [==============================] - 0s 14ms/step - loss: 247466.6719 - val_loss: 268854.2500\n",
      "Epoch 69/100\n",
      "6/6 [==============================] - 0s 13ms/step - loss: 240794.8750 - val_loss: 267380.6875\n",
      "Epoch 70/100\n",
      "6/6 [==============================] - 0s 12ms/step - loss: 247699.6875 - val_loss: 336753.9375\n",
      "Epoch 71/100\n",
      "6/6 [==============================] - 0s 14ms/step - loss: 292723.2500 - val_loss: 360765.1562\n",
      "Epoch 72/100\n",
      "6/6 [==============================] - 0s 12ms/step - loss: 336684.0625 - val_loss: 260431.4688\n",
      "Epoch 73/100\n",
      "6/6 [==============================] - 0s 11ms/step - loss: 276217.1250 - val_loss: 489514.9375\n",
      "Epoch 74/100\n",
      "6/6 [==============================] - 0s 12ms/step - loss: 446521.7188 - val_loss: 514522.2500\n",
      "Epoch 75/100\n",
      "6/6 [==============================] - 0s 17ms/step - loss: 394650.2188 - val_loss: 547535.0625\n",
      "Epoch 76/100\n",
      "6/6 [==============================] - 0s 11ms/step - loss: 364156.0625 - val_loss: 484673.4688\n",
      "Epoch 77/100\n",
      "6/6 [==============================] - 0s 10ms/step - loss: 347529.7188 - val_loss: 311205.8438\n",
      "Epoch 78/100\n",
      "6/6 [==============================] - 0s 11ms/step - loss: 352051.7188 - val_loss: 281633.0625\n",
      "Epoch 79/100\n",
      "6/6 [==============================] - 0s 11ms/step - loss: 359451.3750 - val_loss: 302057.4688\n",
      "Epoch 80/100\n",
      "6/6 [==============================] - 0s 11ms/step - loss: 251404.0312 - val_loss: 254817.3438\n",
      "Epoch 81/100\n",
      "6/6 [==============================] - 0s 11ms/step - loss: 284539.5938 - val_loss: 404630.0625\n",
      "Epoch 82/100\n",
      "6/6 [==============================] - 0s 12ms/step - loss: 341620.1562 - val_loss: 332633.5000\n",
      "Epoch 83/100\n",
      "6/6 [==============================] - 0s 10ms/step - loss: 273845.7500 - val_loss: 246290.3906\n",
      "Epoch 84/100\n",
      "6/6 [==============================] - 0s 10ms/step - loss: 228954.0781 - val_loss: 239597.7500\n",
      "Epoch 85/100\n",
      "6/6 [==============================] - 0s 10ms/step - loss: 225528.9062 - val_loss: 247655.0312\n",
      "Epoch 86/100\n",
      "6/6 [==============================] - 0s 11ms/step - loss: 216413.8438 - val_loss: 233624.6406\n",
      "Epoch 87/100\n",
      "6/6 [==============================] - 0s 11ms/step - loss: 207889.4531 - val_loss: 229578.0469\n",
      "Epoch 88/100\n",
      "6/6 [==============================] - 0s 12ms/step - loss: 209122.7188 - val_loss: 226631.8125\n",
      "Epoch 89/100\n",
      "6/6 [==============================] - 0s 11ms/step - loss: 233210.0625 - val_loss: 291199.1562\n",
      "Epoch 90/100\n",
      "6/6 [==============================] - 0s 12ms/step - loss: 256699.9219 - val_loss: 244877.7344\n",
      "Epoch 91/100\n",
      "6/6 [==============================] - 0s 11ms/step - loss: 229110.6719 - val_loss: 240760.1719\n",
      "Epoch 92/100\n",
      "6/6 [==============================] - 0s 10ms/step - loss: 224948.0781 - val_loss: 267481.7500\n",
      "Epoch 93/100\n",
      "6/6 [==============================] - 0s 11ms/step - loss: 237432.0781 - val_loss: 229344.0469\n",
      "Epoch 94/100\n",
      "6/6 [==============================] - 0s 11ms/step - loss: 242422.9219 - val_loss: 250879.6094\n",
      "Epoch 95/100\n",
      "6/6 [==============================] - 0s 11ms/step - loss: 229532.8125 - val_loss: 250319.7031\n",
      "Epoch 96/100\n",
      "6/6 [==============================] - 0s 10ms/step - loss: 260665.5469 - val_loss: 247316.2500\n",
      "Epoch 97/100\n",
      "6/6 [==============================] - 0s 10ms/step - loss: 214318.1406 - val_loss: 223966.0781\n",
      "Epoch 98/100\n",
      "6/6 [==============================] - 0s 11ms/step - loss: 240057.4062 - val_loss: 305456.7500\n",
      "Epoch 99/100\n",
      "6/6 [==============================] - 0s 11ms/step - loss: 233793.0312 - val_loss: 269790.7188\n",
      "Epoch 100/100\n",
      "6/6 [==============================] - 0s 11ms/step - loss: 235705.2812 - val_loss: 219573.2188\n"
     ]
    },
    {
     "data": {
      "text/plain": [
       "<keras.callbacks.History at 0x7feec5c235b0>"
      ]
     },
     "execution_count": 47,
     "metadata": {},
     "output_type": "execute_result"
    }
   ],
   "source": [
    "model.fit(X_train, y_train, epochs = 100, validation_data=(X_test, y_test))"
   ]
  },
  {
   "cell_type": "code",
   "execution_count": 48,
   "id": "34de54cb",
   "metadata": {},
   "outputs": [],
   "source": [
    "losses = pd.DataFrame(model.history.history)"
   ]
  },
  {
   "cell_type": "code",
   "execution_count": 49,
   "id": "6a248c4d",
   "metadata": {
    "scrolled": true
   },
   "outputs": [
    {
     "data": {
      "text/html": [
       "<div>\n",
       "<style scoped>\n",
       "    .dataframe tbody tr th:only-of-type {\n",
       "        vertical-align: middle;\n",
       "    }\n",
       "\n",
       "    .dataframe tbody tr th {\n",
       "        vertical-align: top;\n",
       "    }\n",
       "\n",
       "    .dataframe thead th {\n",
       "        text-align: right;\n",
       "    }\n",
       "</style>\n",
       "<table border=\"1\" class=\"dataframe\">\n",
       "  <thead>\n",
       "    <tr style=\"text-align: right;\">\n",
       "      <th></th>\n",
       "      <th>loss</th>\n",
       "      <th>val_loss</th>\n",
       "    </tr>\n",
       "  </thead>\n",
       "  <tbody>\n",
       "    <tr>\n",
       "      <th>0</th>\n",
       "      <td>8.841776e+06</td>\n",
       "      <td>8.679733e+06</td>\n",
       "    </tr>\n",
       "    <tr>\n",
       "      <th>1</th>\n",
       "      <td>8.841160e+06</td>\n",
       "      <td>8.677078e+06</td>\n",
       "    </tr>\n",
       "    <tr>\n",
       "      <th>2</th>\n",
       "      <td>8.834848e+06</td>\n",
       "      <td>8.657540e+06</td>\n",
       "    </tr>\n",
       "    <tr>\n",
       "      <th>3</th>\n",
       "      <td>8.796240e+06</td>\n",
       "      <td>8.562100e+06</td>\n",
       "    </tr>\n",
       "    <tr>\n",
       "      <th>4</th>\n",
       "      <td>8.632499e+06</td>\n",
       "      <td>8.208568e+06</td>\n",
       "    </tr>\n",
       "    <tr>\n",
       "      <th>...</th>\n",
       "      <td>...</td>\n",
       "      <td>...</td>\n",
       "    </tr>\n",
       "    <tr>\n",
       "      <th>95</th>\n",
       "      <td>2.606655e+05</td>\n",
       "      <td>2.473162e+05</td>\n",
       "    </tr>\n",
       "    <tr>\n",
       "      <th>96</th>\n",
       "      <td>2.143181e+05</td>\n",
       "      <td>2.239661e+05</td>\n",
       "    </tr>\n",
       "    <tr>\n",
       "      <th>97</th>\n",
       "      <td>2.400574e+05</td>\n",
       "      <td>3.054568e+05</td>\n",
       "    </tr>\n",
       "    <tr>\n",
       "      <th>98</th>\n",
       "      <td>2.337930e+05</td>\n",
       "      <td>2.697907e+05</td>\n",
       "    </tr>\n",
       "    <tr>\n",
       "      <th>99</th>\n",
       "      <td>2.357053e+05</td>\n",
       "      <td>2.195732e+05</td>\n",
       "    </tr>\n",
       "  </tbody>\n",
       "</table>\n",
       "<p>100 rows × 2 columns</p>\n",
       "</div>"
      ],
      "text/plain": [
       "            loss      val_loss\n",
       "0   8.841776e+06  8.679733e+06\n",
       "1   8.841160e+06  8.677078e+06\n",
       "2   8.834848e+06  8.657540e+06\n",
       "3   8.796240e+06  8.562100e+06\n",
       "4   8.632499e+06  8.208568e+06\n",
       "..           ...           ...\n",
       "95  2.606655e+05  2.473162e+05\n",
       "96  2.143181e+05  2.239661e+05\n",
       "97  2.400574e+05  3.054568e+05\n",
       "98  2.337930e+05  2.697907e+05\n",
       "99  2.357053e+05  2.195732e+05\n",
       "\n",
       "[100 rows x 2 columns]"
      ]
     },
     "execution_count": 49,
     "metadata": {},
     "output_type": "execute_result"
    }
   ],
   "source": [
    "losses"
   ]
  },
  {
   "cell_type": "code",
   "execution_count": 50,
   "id": "cd9ea547",
   "metadata": {
    "scrolled": false
   },
   "outputs": [
    {
     "data": {
      "text/plain": [
       "<AxesSubplot:>"
      ]
     },
     "execution_count": 50,
     "metadata": {},
     "output_type": "execute_result"
    },
    {
     "data": {
      "image/png": "[encoded data removed]",
      "text/plain": [
       "<Figure size 432x288 with 1 Axes>"
      ]
     },
     "metadata": {
      "needs_background": "light"
     },
     "output_type": "display_data"
    }
   ],
   "source": [
    "losses.plot()"
   ]
  },
  {
   "cell_type": "code",
   "execution_count": 51,
   "id": "a46ba159",
   "metadata": {
    "scrolled": false
   },
   "outputs": [
    {
     "name": "stdout",
     "output_type": "stream",
     "text": [
      "6/6 [==============================] - 0s 2ms/step\n",
      "2/2 [==============================] - 0s 4ms/step\n"
     ]
    }
   ],
   "source": [
    "trainPredict = model.predict(X_train)\n",
    "testPredict = model.predict(X_test)"
   ]
  },
  {
   "cell_type": "code",
   "execution_count": 52,
   "id": "f6096681",
   "metadata": {},
   "outputs": [
    {
     "name": "stdout",
     "output_type": "stream",
     "text": [
      "Model: \"sequential_3\"\n",
      "_________________________________________________________________\n",
      " Layer (type)                Output Shape              Param #   \n",
      "=================================================================\n",
      " dense_15 (Dense)            (None, 4)                 20        \n",
      "                                                                 \n",
      " dense_16 (Dense)            (None, 8)                 40        \n",
      "                                                                 \n",
      " dense_17 (Dense)            (None, 5)                 45        \n",
      "                                                                 \n",
      " dense_18 (Dense)            (None, 3)                 18        \n",
      "                                                                 \n",
      " dense_19 (Dense)            (None, 1)                 4         \n",
      "                                                                 \n",
      "=================================================================\n",
      "Total params: 127\n",
      "Trainable params: 127\n",
      "Non-trainable params: 0\n",
      "_________________________________________________________________\n",
      "Layer:  dense_15\n",
      "  --Kernels (Weights):  [array([[-0.79609364, -0.39773783,  9.8795395 , -0.99646264],\n",
      "       [-0.19091564, -0.4235792 , 16.06127   , -1.2835783 ],\n",
      "       [-0.6316652 , -0.696542  ,  2.7785645 , -1.2585986 ],\n",
      "       [ 0.04220319, -0.18742412,  0.6498355 , -0.5339022 ]],\n",
      "      dtype=float32), array([ 0.       ,  0.       , 15.167196 , -1.1060952], dtype=float32)]\n",
      "  --Biases:  [array([[-0.79609364, -0.39773783,  9.8795395 , -0.99646264],\n",
      "       [-0.19091564, -0.4235792 , 16.06127   , -1.2835783 ],\n",
      "       [-0.6316652 , -0.696542  ,  2.7785645 , -1.2585986 ],\n",
      "       [ 0.04220319, -0.18742412,  0.6498355 , -0.5339022 ]],\n",
      "      dtype=float32), array([ 0.       ,  0.       , 15.167196 , -1.1060952], dtype=float32)]\n",
      "Layer:  dense_16\n",
      "  --Kernels (Weights):  [array([[-0.2944399 ,  0.53704745,  0.20851463,  0.3818633 ,  0.49754888,\n",
      "        -0.54033726, -0.36902988,  0.4161592 ],\n",
      "       [-0.26402387,  0.17531097, -0.4152562 , -0.05469143,  0.01896709,\n",
      "        -0.17447007, -0.06474429,  0.36716646],\n",
      "       [-0.3804739 , -0.39205083, 11.310935  , -1.5538996 , 11.289919  ,\n",
      "        10.360292  , 11.007666  , -1.1521175 ],\n",
      "       [-0.54856026, -0.65844333,  0.62066287, -0.7687741 ,  1.4366684 ,\n",
      "         1.4925538 ,  0.7425179 , -0.96163464]], dtype=float32), array([ 0.      ,  0.      , 16.304605, -1.109371, 16.272797, 16.168528,\n",
      "       16.21813 , -1.111762], dtype=float32)]\n",
      "  --Biases:  [array([[-0.2944399 ,  0.53704745,  0.20851463,  0.3818633 ,  0.49754888,\n",
      "        -0.54033726, -0.36902988,  0.4161592 ],\n",
      "       [-0.26402387,  0.17531097, -0.4152562 , -0.05469143,  0.01896709,\n",
      "        -0.17447007, -0.06474429,  0.36716646],\n",
      "       [-0.3804739 , -0.39205083, 11.310935  , -1.5538996 , 11.289919  ,\n",
      "        10.360292  , 11.007666  , -1.1521175 ],\n",
      "       [-0.54856026, -0.65844333,  0.62066287, -0.7687741 ,  1.4366684 ,\n",
      "         1.4925538 ,  0.7425179 , -0.96163464]], dtype=float32), array([ 0.      ,  0.      , 16.304605, -1.109371, 16.272797, 16.168528,\n",
      "       16.21813 , -1.111762], dtype=float32)]\n",
      "Layer:  dense_17\n",
      "  --Kernels (Weights):  [array([[-2.0583436e-01, -4.8972309e-01, -1.8303251e-01, -4.6855807e-03,\n",
      "        -3.6032245e-01],\n",
      "       [ 4.2322838e-01, -1.4449358e-02, -6.7840165e-01, -3.3087987e-01,\n",
      "         5.8536136e-01],\n",
      "       [ 8.4836636e+00,  1.1662092e+01, -2.4679616e-01, -5.9703511e-01,\n",
      "         1.0837973e+01],\n",
      "       [-6.4456171e-01,  1.1091812e+00,  4.9633813e-01,  5.5049717e-01,\n",
      "         6.8721503e-01],\n",
      "       [ 7.6029778e+00,  1.1479621e+01, -1.9479114e-01, -5.0929660e-01,\n",
      "         1.1231158e+01],\n",
      "       [ 8.3357687e+00,  1.1132827e+01, -5.9424901e-01, -2.8788367e-01,\n",
      "         1.0762516e+01],\n",
      "       [ 8.4477320e+00,  1.1305344e+01, -5.4156744e-01, -3.8687572e-01,\n",
      "         1.0960372e+01],\n",
      "       [-3.1674913e-01,  6.9384432e-01, -2.8736517e-01,  1.2086350e-01,\n",
      "         7.7580374e-01]], dtype=float32), array([14.191086, 17.460403,  0.      ,  0.      , 16.79241 ],\n",
      "      dtype=float32)]\n",
      "  --Biases:  [array([[-2.0583436e-01, -4.8972309e-01, -1.8303251e-01, -4.6855807e-03,\n",
      "        -3.6032245e-01],\n",
      "       [ 4.2322838e-01, -1.4449358e-02, -6.7840165e-01, -3.3087987e-01,\n",
      "         5.8536136e-01],\n",
      "       [ 8.4836636e+00,  1.1662092e+01, -2.4679616e-01, -5.9703511e-01,\n",
      "         1.0837973e+01],\n",
      "       [-6.4456171e-01,  1.1091812e+00,  4.9633813e-01,  5.5049717e-01,\n",
      "         6.8721503e-01],\n",
      "       [ 7.6029778e+00,  1.1479621e+01, -1.9479114e-01, -5.0929660e-01,\n",
      "         1.1231158e+01],\n",
      "       [ 8.3357687e+00,  1.1132827e+01, -5.9424901e-01, -2.8788367e-01,\n",
      "         1.0762516e+01],\n",
      "       [ 8.4477320e+00,  1.1305344e+01, -5.4156744e-01, -3.8687572e-01,\n",
      "         1.0960372e+01],\n",
      "       [-3.1674913e-01,  6.9384432e-01, -2.8736517e-01,  1.2086350e-01,\n",
      "         7.7580374e-01]], dtype=float32), array([14.191086, 17.460403,  0.      ,  0.      , 16.79241 ],\n",
      "      dtype=float32)]\n",
      "Layer:  dense_18\n",
      "  --Kernels (Weights):  [array([[ 8.277965  , -0.6110326 ,  8.242909  ],\n",
      "       [11.703183  , -0.3025567 , 11.63078   ],\n",
      "       [-0.10043806, -0.52953947,  0.4626004 ],\n",
      "       [-0.17586184,  0.83012825,  0.5023255 ],\n",
      "       [11.13464   , -0.15555322, 10.079011  ]], dtype=float32), array([17.59356 ,  0.      , 17.441807], dtype=float32)]\n",
      "  --Biases:  [array([[ 8.277965  , -0.6110326 ,  8.242909  ],\n",
      "       [11.703183  , -0.3025567 , 11.63078   ],\n",
      "       [-0.10043806, -0.52953947,  0.4626004 ],\n",
      "       [-0.17586184,  0.83012825,  0.5023255 ],\n",
      "       [11.13464   , -0.15555322, 10.079011  ]], dtype=float32), array([17.59356 ,  0.      , 17.441807], dtype=float32)]\n",
      "Layer:  dense_19\n",
      "  --Kernels (Weights):  [array([[11.888238 ],\n",
      "       [ 1.0238141],\n",
      "       [10.9403515]], dtype=float32), array([15.218982], dtype=float32)]\n",
      "  --Biases:  [array([[11.888238 ],\n",
      "       [ 1.0238141],\n",
      "       [10.9403515]], dtype=float32), array([15.218982], dtype=float32)]\n"
     ]
    }
   ],
   "source": [
    "model.summary()\n",
    "for layer in model.layers:\n",
    "    print(\"Layer: \", layer.name) # print layer name\n",
    "    print(\"  --Kernels (Weights): \", layer.get_weights()) # weights\n",
    "    print(\"  --Biases: \", layer.get_weights()) # biases\n",
    "    "
   ]
  },
  {
   "cell_type": "code",
   "execution_count": 53,
   "id": "43a7c10d",
   "metadata": {},
   "outputs": [
    {
     "name": "stdout",
     "output_type": "stream",
     "text": [
      "Test Score: 279770.94 RMSE\n"
     ]
    }
   ],
   "source": [
    "testScore = math.sqrt(mean_squared_error(y_test, testPredict))\n",
    "print(\"Test Score: %.2f RMSE\" % (testScore))"
   ]
  },
  {
   "cell_type": "code",
   "execution_count": 54,
   "id": "06f01f08",
   "metadata": {
    "scrolled": true
   },
   "outputs": [
    {
     "name": "stdout",
     "output_type": "stream",
     "text": [
      "Train Score: 279770.94 RMSE\n"
     ]
    }
   ],
   "source": [
    "trainScore = math.sqrt(mean_squared_error(y_train, trainPredict))\n",
    "print(\"Train Score: %.2f RMSE\" % (testScore))"
   ]
  },
  {
   "cell_type": "code",
   "execution_count": 55,
   "id": "54b7bb3f",
   "metadata": {},
   "outputs": [],
   "source": [
    "def plot_american(actual, predictions):\n",
    "    title = 'Passanger Predictions Store '\n",
    "    act = plt.plot(actual, color='blue', label='Actual')\n",
    "    pred = plt.plot(predictions, color='orange', label='Predictions')\n",
    "    plt.xlabel(\"Date\")\n",
    "    plt.ylabel(\"Paxe\")\n",
    "    plt.legend(loc='best')\n",
    "    plt.title(title)\n",
    "    plt.show()"
   ]
  },
  {
   "cell_type": "code",
   "execution_count": 56,
   "id": "ec621dc7",
   "metadata": {
    "scrolled": false
   },
   "outputs": [
    {
     "data": {
      "image/png": "[encoded data removed]",
      "text/plain": [
       "<Figure size 432x288 with 1 Axes>"
      ]
     },
     "metadata": {
      "needs_background": "light"
     },
     "output_type": "display_data"
    }
   ],
   "source": [
    "plot_american(y_test, testPredict)"
   ]
  },
  {
   "cell_type": "code",
   "execution_count": 58,
   "id": "c8fd7f59",
   "metadata": {
    "scrolled": true
   },
   "outputs": [
    {
     "name": "stdout",
     "output_type": "stream",
     "text": [
      "41\n"
     ]
    }
   ],
   "source": [
    "print(len(y_test))"
   ]
  }
 ],
 "metadata": {
  "kernelspec": {
   "display_name": "Python 3 (ipykernel)",
   "language": "python",
   "name": "python3"
  },
  "language_info": {
   "codemirror_mode": {
    "name": "ipython",
    "version": 3
   },
   "file_extension": ".py",
   "mimetype": "text/x-python",
   "name": "python",
   "nbconvert_exporter": "python",
   "pygments_lexer": "ipython3",
   "version": "3.9.7"
  }
 },
 "nbformat": 4,
 "nbformat_minor": 5
}
