{
 "cells": [
  {
   "cell_type": "code",
   "execution_count": 9,
   "id": "f5d1f583",
   "metadata": {
    "scrolled": true
   },
   "outputs": [],
   "source": [
    "import tensorflow as tf\n",
    "from tensorflow.keras.models import Sequential\n",
    "from tensorflow.keras.layers import Dense, Dropout\n",
    "import pandas as pd\n",
    "from sklearn.model_selection import train_test_split\n",
    "from sklearn.preprocessing import MinMaxScaler\n",
    "from sklearn.metrics import mean_squared_error, mean_absolute_error\n",
    "import math\n",
    "import matplotlib.pyplot as plt"
   ]
  },
  {
   "cell_type": "markdown",
   "id": "54f9bd01",
   "metadata": {},
   "source": [
    "## Import data "
   ]
  },
  {
   "cell_type": "code",
   "execution_count": 10,
   "id": "a992baa0",
   "metadata": {},
   "outputs": [],
   "source": [
    "df_american = pd.read_excel(r'/Users/dilianaserafimova/Desktop/df_american_clean.xlsx')"
   ]
  },
  {
   "cell_type": "code",
   "execution_count": 11,
   "id": "19f03ca1",
   "metadata": {},
   "outputs": [],
   "source": [
    "df_american = df_american.set_index(['date'])"
   ]
  },
  {
   "cell_type": "code",
   "execution_count": 12,
   "id": "3bae768c",
   "metadata": {},
   "outputs": [],
   "source": [
    "X = df_american[['revenue', 'seat_miles', 'load_factor', 'flights']]"
   ]
  },
  {
   "cell_type": "code",
   "execution_count": 13,
   "id": "82e97e35",
   "metadata": {},
   "outputs": [],
   "source": [
    "y = df_american['pax_count'].values"
   ]
  },
  {
   "cell_type": "markdown",
   "id": "20633ac5",
   "metadata": {},
   "source": [
    "## Train & test split"
   ]
  },
  {
   "cell_type": "code",
   "execution_count": 14,
   "id": "c54eb130",
   "metadata": {},
   "outputs": [],
   "source": [
    "X_train, X_test, y_train, y_test = train_test_split(X, y, test_size=0.2, random_state = 0)"
   ]
  },
  {
   "cell_type": "markdown",
   "id": "425cd75a",
   "metadata": {},
   "source": [
    "## Normalize the data"
   ]
  },
  {
   "cell_type": "code",
   "execution_count": 15,
   "id": "16720abf",
   "metadata": {},
   "outputs": [],
   "source": [
    "scaler = MinMaxScaler()"
   ]
  },
  {
   "cell_type": "code",
   "execution_count": 16,
   "id": "cebc19d9",
   "metadata": {},
   "outputs": [],
   "source": [
    "X_train = scaler.fit_transform(X_train)"
   ]
  },
  {
   "cell_type": "code",
   "execution_count": 17,
   "id": "7ca86aa3",
   "metadata": {},
   "outputs": [],
   "source": [
    "X_test = scaler.transform(X_test)"
   ]
  },
  {
   "cell_type": "markdown",
   "id": "2c1fb5df",
   "metadata": {},
   "source": [
    "## Creating the model "
   ]
  },
  {
   "cell_type": "code",
   "execution_count": 45,
   "id": "ce589b2c",
   "metadata": {},
   "outputs": [],
   "source": [
    "model = Sequential()\n",
    "\n",
    "model.add(Dense(4, activation='relu'))\n",
    "model.add(Dense(8, activation='relu'))\n",
    "model.add(Dense(5, activation='relu'))\n",
    "model.add(Dense(3, activation='relu'))\n",
    "model.add(Dense(units=1,activation='relu'))\n",
    "\n",
    "model.compile(loss = 'mean_absolute_error', optimizer= 'adam')"
   ]
  },
  {
   "cell_type": "markdown",
   "id": "51a3371f",
   "metadata": {},
   "source": [
    "## Fit the model "
   ]
  },
  {
   "cell_type": "code",
   "execution_count": 46,
   "id": "e94ffd05",
   "metadata": {
    "scrolled": true
   },
   "outputs": [
    {
     "name": "stdout",
     "output_type": "stream",
     "text": [
      "Epoch 1/100\n",
      "6/6 [==============================] - 2s 60ms/step - loss: 8841790.0000 - val_loss: 8679891.0000\n",
      "Epoch 2/100\n",
      "6/6 [==============================] - 0s 21ms/step - loss: 8841790.0000 - val_loss: 8679891.0000\n",
      "Epoch 3/100\n",
      "6/6 [==============================] - 0s 18ms/step - loss: 8841791.0000 - val_loss: 8679891.0000\n",
      "Epoch 4/100\n",
      "6/6 [==============================] - 0s 13ms/step - loss: 8841791.0000 - val_loss: 8679891.0000\n",
      "Epoch 5/100\n",
      "6/6 [==============================] - 0s 16ms/step - loss: 8841792.0000 - val_loss: 8679891.0000\n",
      "Epoch 6/100\n",
      "6/6 [==============================] - 0s 12ms/step - loss: 8841792.0000 - val_loss: 8679891.0000\n",
      "Epoch 7/100\n",
      "6/6 [==============================] - 0s 12ms/step - loss: 8841791.0000 - val_loss: 8679891.0000\n",
      "Epoch 8/100\n",
      "6/6 [==============================] - 0s 12ms/step - loss: 8841792.0000 - val_loss: 8679891.0000\n",
      "Epoch 9/100\n",
      "6/6 [==============================] - 0s 11ms/step - loss: 8841791.0000 - val_loss: 8679891.0000\n",
      "Epoch 10/100\n",
      "6/6 [==============================] - 0s 17ms/step - loss: 8841792.0000 - val_loss: 8679891.0000\n",
      "Epoch 11/100\n",
      "6/6 [==============================] - 0s 12ms/step - loss: 8841791.0000 - val_loss: 8679891.0000\n",
      "Epoch 12/100\n",
      "6/6 [==============================] - 0s 11ms/step - loss: 8841791.0000 - val_loss: 8679891.0000\n",
      "Epoch 13/100\n",
      "6/6 [==============================] - 0s 11ms/step - loss: 8841792.0000 - val_loss: 8679889.0000\n",
      "Epoch 14/100\n",
      "6/6 [==============================] - 0s 11ms/step - loss: 8841791.0000 - val_loss: 8679889.0000\n",
      "Epoch 15/100\n",
      "6/6 [==============================] - 0s 10ms/step - loss: 8841790.0000 - val_loss: 8679889.0000\n",
      "Epoch 16/100\n",
      "6/6 [==============================] - 0s 12ms/step - loss: 8841791.0000 - val_loss: 8679889.0000\n",
      "Epoch 17/100\n",
      "6/6 [==============================] - 0s 11ms/step - loss: 8841790.0000 - val_loss: 8679889.0000\n",
      "Epoch 18/100\n",
      "6/6 [==============================] - 0s 12ms/step - loss: 8841789.0000 - val_loss: 8679889.0000\n",
      "Epoch 19/100\n",
      "6/6 [==============================] - 0s 11ms/step - loss: 8841791.0000 - val_loss: 8679889.0000\n",
      "Epoch 20/100\n",
      "6/6 [==============================] - 0s 11ms/step - loss: 8841791.0000 - val_loss: 8679889.0000\n",
      "Epoch 21/100\n",
      "6/6 [==============================] - 0s 11ms/step - loss: 8841789.0000 - val_loss: 8679889.0000\n",
      "Epoch 22/100\n",
      "6/6 [==============================] - 0s 12ms/step - loss: 8841789.0000 - val_loss: 8679889.0000\n",
      "Epoch 23/100\n",
      "6/6 [==============================] - 0s 15ms/step - loss: 8841789.0000 - val_loss: 8679888.0000\n",
      "Epoch 24/100\n",
      "6/6 [==============================] - 0s 11ms/step - loss: 8841789.0000 - val_loss: 8679888.0000\n",
      "Epoch 25/100\n",
      "6/6 [==============================] - 0s 11ms/step - loss: 8841789.0000 - val_loss: 8679888.0000\n",
      "Epoch 26/100\n",
      "6/6 [==============================] - 0s 11ms/step - loss: 8841789.0000 - val_loss: 8679888.0000\n",
      "Epoch 27/100\n",
      "6/6 [==============================] - 0s 11ms/step - loss: 8841788.0000 - val_loss: 8679888.0000\n",
      "Epoch 28/100\n",
      "6/6 [==============================] - 0s 11ms/step - loss: 8841788.0000 - val_loss: 8679888.0000\n",
      "Epoch 29/100\n",
      "6/6 [==============================] - 0s 12ms/step - loss: 8841788.0000 - val_loss: 8679888.0000\n",
      "Epoch 30/100\n",
      "6/6 [==============================] - 0s 16ms/step - loss: 8841788.0000 - val_loss: 8679888.0000\n",
      "Epoch 31/100\n",
      "6/6 [==============================] - 0s 17ms/step - loss: 8841788.0000 - val_loss: 8679887.0000\n",
      "Epoch 32/100\n",
      "6/6 [==============================] - 0s 15ms/step - loss: 8841788.0000 - val_loss: 8679887.0000\n",
      "Epoch 33/100\n",
      "6/6 [==============================] - 0s 15ms/step - loss: 8841788.0000 - val_loss: 8679887.0000\n",
      "Epoch 34/100\n",
      "6/6 [==============================] - 0s 14ms/step - loss: 8841787.0000 - val_loss: 8679887.0000\n",
      "Epoch 35/100\n",
      "6/6 [==============================] - 0s 15ms/step - loss: 8841788.0000 - val_loss: 8679886.0000\n",
      "Epoch 36/100\n",
      "6/6 [==============================] - 0s 17ms/step - loss: 8841787.0000 - val_loss: 8679884.0000\n",
      "Epoch 37/100\n",
      "6/6 [==============================] - 0s 16ms/step - loss: 8841786.0000 - val_loss: 8679884.0000\n",
      "Epoch 38/100\n",
      "6/6 [==============================] - 0s 14ms/step - loss: 8841785.0000 - val_loss: 8679884.0000\n",
      "Epoch 39/100\n",
      "6/6 [==============================] - 0s 14ms/step - loss: 8841785.0000 - val_loss: 8679884.0000\n",
      "Epoch 40/100\n",
      "6/6 [==============================] - 0s 16ms/step - loss: 8841784.0000 - val_loss: 8679883.0000\n",
      "Epoch 41/100\n",
      "6/6 [==============================] - 0s 13ms/step - loss: 8841784.0000 - val_loss: 8679883.0000\n",
      "Epoch 42/100\n",
      "6/6 [==============================] - 0s 14ms/step - loss: 8841782.0000 - val_loss: 8679881.0000\n",
      "Epoch 43/100\n",
      "6/6 [==============================] - 0s 15ms/step - loss: 8841781.0000 - val_loss: 8679881.0000\n",
      "Epoch 44/100\n",
      "6/6 [==============================] - 0s 15ms/step - loss: 8841781.0000 - val_loss: 8679879.0000\n",
      "Epoch 45/100\n",
      "6/6 [==============================] - 0s 16ms/step - loss: 8841780.0000 - val_loss: 8679879.0000\n",
      "Epoch 46/100\n",
      "6/6 [==============================] - 0s 15ms/step - loss: 8841780.0000 - val_loss: 8679877.0000\n",
      "Epoch 47/100\n",
      "6/6 [==============================] - 0s 16ms/step - loss: 8841778.0000 - val_loss: 8679877.0000\n",
      "Epoch 48/100\n",
      "6/6 [==============================] - 0s 15ms/step - loss: 8841776.0000 - val_loss: 8679875.0000\n",
      "Epoch 49/100\n",
      "6/6 [==============================] - 0s 15ms/step - loss: 8841775.0000 - val_loss: 8679874.0000\n",
      "Epoch 50/100\n",
      "6/6 [==============================] - 0s 16ms/step - loss: 8841774.0000 - val_loss: 8679871.0000\n",
      "Epoch 51/100\n",
      "6/6 [==============================] - 0s 18ms/step - loss: 8841771.0000 - val_loss: 8679870.0000\n",
      "Epoch 52/100\n",
      "6/6 [==============================] - 0s 17ms/step - loss: 8841770.0000 - val_loss: 8679869.0000\n",
      "Epoch 53/100\n",
      "6/6 [==============================] - 0s 23ms/step - loss: 8841768.0000 - val_loss: 8679866.0000\n",
      "Epoch 54/100\n",
      "6/6 [==============================] - 0s 11ms/step - loss: 8841766.0000 - val_loss: 8679863.0000\n",
      "Epoch 55/100\n",
      "6/6 [==============================] - 0s 14ms/step - loss: 8841764.0000 - val_loss: 8679861.0000\n",
      "Epoch 56/100\n",
      "6/6 [==============================] - 0s 16ms/step - loss: 8841761.0000 - val_loss: 8679860.0000\n",
      "Epoch 57/100\n",
      "6/6 [==============================] - 0s 12ms/step - loss: 8841758.0000 - val_loss: 8679857.0000\n",
      "Epoch 58/100\n",
      "6/6 [==============================] - 0s 11ms/step - loss: 8841756.0000 - val_loss: 8679853.0000\n",
      "Epoch 59/100\n",
      "6/6 [==============================] - 0s 18ms/step - loss: 8841752.0000 - val_loss: 8679852.0000\n",
      "Epoch 60/100\n",
      "6/6 [==============================] - 0s 17ms/step - loss: 8841750.0000 - val_loss: 8679848.0000\n",
      "Epoch 61/100\n",
      "6/6 [==============================] - 0s 13ms/step - loss: 8841746.0000 - val_loss: 8679844.0000\n",
      "Epoch 62/100\n",
      "6/6 [==============================] - 0s 11ms/step - loss: 8841742.0000 - val_loss: 8679840.0000\n",
      "Epoch 63/100\n",
      "6/6 [==============================] - 0s 12ms/step - loss: 8841737.0000 - val_loss: 8679835.0000\n",
      "Epoch 64/100\n",
      "6/6 [==============================] - 0s 11ms/step - loss: 8841733.0000 - val_loss: 8679831.0000\n",
      "Epoch 65/100\n",
      "6/6 [==============================] - 0s 13ms/step - loss: 8841729.0000 - val_loss: 8679827.0000\n",
      "Epoch 66/100\n",
      "6/6 [==============================] - 0s 15ms/step - loss: 8841724.0000 - val_loss: 8679820.0000\n",
      "Epoch 67/100\n",
      "6/6 [==============================] - 0s 11ms/step - loss: 8841719.0000 - val_loss: 8679817.0000\n",
      "Epoch 68/100\n",
      "6/6 [==============================] - 0s 16ms/step - loss: 8841714.0000 - val_loss: 8679811.0000\n",
      "Epoch 69/100\n",
      "6/6 [==============================] - 0s 15ms/step - loss: 8841708.0000 - val_loss: 8679805.0000\n",
      "Epoch 70/100\n",
      "6/6 [==============================] - 0s 12ms/step - loss: 8841702.0000 - val_loss: 8679799.0000\n",
      "Epoch 71/100\n",
      "6/6 [==============================] - 0s 13ms/step - loss: 8841695.0000 - val_loss: 8679792.0000\n",
      "Epoch 72/100\n",
      "6/6 [==============================] - 0s 12ms/step - loss: 8841689.0000 - val_loss: 8679785.0000\n",
      "Epoch 73/100\n",
      "6/6 [==============================] - 0s 16ms/step - loss: 8841680.0000 - val_loss: 8679778.0000\n",
      "Epoch 74/100\n",
      "6/6 [==============================] - 0s 17ms/step - loss: 8841673.0000 - val_loss: 8679770.0000\n"
     ]
    },
    {
     "name": "stdout",
     "output_type": "stream",
     "text": [
      "Epoch 75/100\n",
      "6/6 [==============================] - 0s 16ms/step - loss: 8841665.0000 - val_loss: 8679761.0000\n",
      "Epoch 76/100\n",
      "6/6 [==============================] - 0s 20ms/step - loss: 8841657.0000 - val_loss: 8679753.0000\n",
      "Epoch 77/100\n",
      "6/6 [==============================] - 0s 25ms/step - loss: 8841648.0000 - val_loss: 8679744.0000\n",
      "Epoch 78/100\n",
      "6/6 [==============================] - 0s 18ms/step - loss: 8841638.0000 - val_loss: 8679733.0000\n",
      "Epoch 79/100\n",
      "6/6 [==============================] - 0s 14ms/step - loss: 8841627.0000 - val_loss: 8679724.0000\n",
      "Epoch 80/100\n",
      "6/6 [==============================] - 0s 20ms/step - loss: 8841616.0000 - val_loss: 8679713.0000\n",
      "Epoch 81/100\n",
      "6/6 [==============================] - 0s 17ms/step - loss: 8841605.0000 - val_loss: 8679701.0000\n",
      "Epoch 82/100\n",
      "6/6 [==============================] - 0s 13ms/step - loss: 8841594.0000 - val_loss: 8679689.0000\n",
      "Epoch 83/100\n",
      "6/6 [==============================] - 0s 14ms/step - loss: 8841581.0000 - val_loss: 8679678.0000\n",
      "Epoch 84/100\n",
      "6/6 [==============================] - 0s 16ms/step - loss: 8841569.0000 - val_loss: 8679664.0000\n",
      "Epoch 85/100\n",
      "6/6 [==============================] - 0s 20ms/step - loss: 8841554.0000 - val_loss: 8679650.0000\n",
      "Epoch 86/100\n",
      "6/6 [==============================] - 0s 14ms/step - loss: 8841541.0000 - val_loss: 8679636.0000\n",
      "Epoch 87/100\n",
      "6/6 [==============================] - 0s 13ms/step - loss: 8841525.0000 - val_loss: 8679621.0000\n",
      "Epoch 88/100\n",
      "6/6 [==============================] - 0s 11ms/step - loss: 8841509.0000 - val_loss: 8679605.0000\n",
      "Epoch 89/100\n",
      "6/6 [==============================] - 0s 21ms/step - loss: 8841494.0000 - val_loss: 8679589.0000\n",
      "Epoch 90/100\n",
      "6/6 [==============================] - 0s 18ms/step - loss: 8841476.0000 - val_loss: 8679572.0000\n",
      "Epoch 91/100\n",
      "6/6 [==============================] - 0s 12ms/step - loss: 8841459.0000 - val_loss: 8679554.0000\n",
      "Epoch 92/100\n",
      "6/6 [==============================] - 0s 11ms/step - loss: 8841439.0000 - val_loss: 8679535.0000\n",
      "Epoch 93/100\n",
      "6/6 [==============================] - 0s 12ms/step - loss: 8841421.0000 - val_loss: 8679516.0000\n",
      "Epoch 94/100\n",
      "6/6 [==============================] - 0s 12ms/step - loss: 8841400.0000 - val_loss: 8679494.0000\n",
      "Epoch 95/100\n",
      "6/6 [==============================] - 0s 15ms/step - loss: 8841379.0000 - val_loss: 8679473.0000\n",
      "Epoch 96/100\n",
      "6/6 [==============================] - 0s 15ms/step - loss: 8841355.0000 - val_loss: 8679452.0000\n",
      "Epoch 97/100\n",
      "6/6 [==============================] - 0s 14ms/step - loss: 8841333.0000 - val_loss: 8679427.0000\n",
      "Epoch 98/100\n",
      "6/6 [==============================] - 0s 11ms/step - loss: 8841308.0000 - val_loss: 8679404.0000\n",
      "Epoch 99/100\n",
      "6/6 [==============================] - 0s 11ms/step - loss: 8841282.0000 - val_loss: 8679378.0000\n",
      "Epoch 100/100\n",
      "6/6 [==============================] - 0s 14ms/step - loss: 8841255.0000 - val_loss: 8679352.0000\n"
     ]
    },
    {
     "data": {
      "text/plain": [
       "<keras.callbacks.History at 0x7fcab2f36310>"
      ]
     },
     "execution_count": 46,
     "metadata": {},
     "output_type": "execute_result"
    }
   ],
   "source": [
    "model.fit(X_train, y_train, epochs = 100, validation_data=(X_test, y_test))"
   ]
  },
  {
   "cell_type": "code",
   "execution_count": 47,
   "id": "34de54cb",
   "metadata": {},
   "outputs": [],
   "source": [
    "losses = pd.DataFrame(model.history.history)"
   ]
  },
  {
   "cell_type": "code",
   "execution_count": 48,
   "id": "6a248c4d",
   "metadata": {
    "scrolled": true
   },
   "outputs": [
    {
     "data": {
      "text/html": [
       "<div>\n",
       "<style scoped>\n",
       "    .dataframe tbody tr th:only-of-type {\n",
       "        vertical-align: middle;\n",
       "    }\n",
       "\n",
       "    .dataframe tbody tr th {\n",
       "        vertical-align: top;\n",
       "    }\n",
       "\n",
       "    .dataframe thead th {\n",
       "        text-align: right;\n",
       "    }\n",
       "</style>\n",
       "<table border=\"1\" class=\"dataframe\">\n",
       "  <thead>\n",
       "    <tr style=\"text-align: right;\">\n",
       "      <th></th>\n",
       "      <th>loss</th>\n",
       "      <th>val_loss</th>\n",
       "    </tr>\n",
       "  </thead>\n",
       "  <tbody>\n",
       "    <tr>\n",
       "      <th>0</th>\n",
       "      <td>8841790.0</td>\n",
       "      <td>8679891.0</td>\n",
       "    </tr>\n",
       "    <tr>\n",
       "      <th>1</th>\n",
       "      <td>8841790.0</td>\n",
       "      <td>8679891.0</td>\n",
       "    </tr>\n",
       "    <tr>\n",
       "      <th>2</th>\n",
       "      <td>8841791.0</td>\n",
       "      <td>8679891.0</td>\n",
       "    </tr>\n",
       "    <tr>\n",
       "      <th>3</th>\n",
       "      <td>8841791.0</td>\n",
       "      <td>8679891.0</td>\n",
       "    </tr>\n",
       "    <tr>\n",
       "      <th>4</th>\n",
       "      <td>8841792.0</td>\n",
       "      <td>8679891.0</td>\n",
       "    </tr>\n",
       "    <tr>\n",
       "      <th>...</th>\n",
       "      <td>...</td>\n",
       "      <td>...</td>\n",
       "    </tr>\n",
       "    <tr>\n",
       "      <th>95</th>\n",
       "      <td>8841355.0</td>\n",
       "      <td>8679452.0</td>\n",
       "    </tr>\n",
       "    <tr>\n",
       "      <th>96</th>\n",
       "      <td>8841333.0</td>\n",
       "      <td>8679427.0</td>\n",
       "    </tr>\n",
       "    <tr>\n",
       "      <th>97</th>\n",
       "      <td>8841308.0</td>\n",
       "      <td>8679404.0</td>\n",
       "    </tr>\n",
       "    <tr>\n",
       "      <th>98</th>\n",
       "      <td>8841282.0</td>\n",
       "      <td>8679378.0</td>\n",
       "    </tr>\n",
       "    <tr>\n",
       "      <th>99</th>\n",
       "      <td>8841255.0</td>\n",
       "      <td>8679352.0</td>\n",
       "    </tr>\n",
       "  </tbody>\n",
       "</table>\n",
       "<p>100 rows × 2 columns</p>\n",
       "</div>"
      ],
      "text/plain": [
       "         loss   val_loss\n",
       "0   8841790.0  8679891.0\n",
       "1   8841790.0  8679891.0\n",
       "2   8841791.0  8679891.0\n",
       "3   8841791.0  8679891.0\n",
       "4   8841792.0  8679891.0\n",
       "..        ...        ...\n",
       "95  8841355.0  8679452.0\n",
       "96  8841333.0  8679427.0\n",
       "97  8841308.0  8679404.0\n",
       "98  8841282.0  8679378.0\n",
       "99  8841255.0  8679352.0\n",
       "\n",
       "[100 rows x 2 columns]"
      ]
     },
     "execution_count": 48,
     "metadata": {},
     "output_type": "execute_result"
    }
   ],
   "source": [
    "losses"
   ]
  },
  {
   "cell_type": "code",
   "execution_count": 49,
   "id": "cd9ea547",
   "metadata": {
    "scrolled": true
   },
   "outputs": [
    {
     "data": {
      "text/plain": [
       "<AxesSubplot:>"
      ]
     },
     "execution_count": 49,
     "metadata": {},
     "output_type": "execute_result"
    },
    {
     "data": {
      "image/png": "[encoded data removed]",
      "text/plain": [
       "<Figure size 432x288 with 1 Axes>"
      ]
     },
     "metadata": {
      "needs_background": "light"
     },
     "output_type": "display_data"
    }
   ],
   "source": [
    "losses.plot()"
   ]
  },
  {
   "cell_type": "code",
   "execution_count": 50,
   "id": "a46ba159",
   "metadata": {
    "scrolled": false
   },
   "outputs": [
    {
     "name": "stdout",
     "output_type": "stream",
     "text": [
      "6/6 [==============================] - 0s 2ms/step\n",
      "2/2 [==============================] - 0s 3ms/step\n"
     ]
    }
   ],
   "source": [
    "trainPredict = model.predict(X_train)\n",
    "testPredict = model.predict(X_test)"
   ]
  },
  {
   "cell_type": "code",
   "execution_count": 51,
   "id": "f6096681",
   "metadata": {},
   "outputs": [
    {
     "name": "stdout",
     "output_type": "stream",
     "text": [
      "Model: \"sequential_8\"\n",
      "_________________________________________________________________\n",
      " Layer (type)                Output Shape              Param #   \n",
      "=================================================================\n",
      " dense_21 (Dense)            (None, 4)                 20        \n",
      "                                                                 \n",
      " dense_22 (Dense)            (None, 8)                 40        \n",
      "                                                                 \n",
      " dense_23 (Dense)            (None, 5)                 45        \n",
      "                                                                 \n",
      " dense_24 (Dense)            (None, 3)                 18        \n",
      "                                                                 \n",
      " dense_25 (Dense)            (None, 1)                 4         \n",
      "                                                                 \n",
      "=================================================================\n",
      "Total params: 127\n",
      "Trainable params: 127\n",
      "Non-trainable params: 0\n",
      "_________________________________________________________________\n",
      "Layer:  dense_21\n",
      "  --Kernels (Weights):  [array([[-0.7267359 ,  1.447424  ,  0.38616598,  0.7641146 ],\n",
      "       [-0.05157059,  1.8901204 , -0.7563291 ,  0.7513206 ],\n",
      "       [-0.41164237,  2.0532174 , -0.14537293,  2.0409281 ],\n",
      "       [-0.1256513 ,  2.1556273 ,  0.10852988,  1.6326756 ]],\n",
      "      dtype=float32), array([ 0.        ,  1.3201252 , -0.01069663,  1.2908046 ], dtype=float32)]\n",
      "  --Biases:  [array([[-0.7267359 ,  1.447424  ,  0.38616598,  0.7641146 ],\n",
      "       [-0.05157059,  1.8901204 , -0.7563291 ,  0.7513206 ],\n",
      "       [-0.41164237,  2.0532174 , -0.14537293,  2.0409281 ],\n",
      "       [-0.1256513 ,  2.1556273 ,  0.10852988,  1.6326756 ]],\n",
      "      dtype=float32), array([ 0.        ,  1.3201252 , -0.01069663,  1.2908046 ], dtype=float32)]\n",
      "Layer:  dense_22\n",
      "  --Kernels (Weights):  [array([[ 0.66165084, -0.04841459,  0.54156655, -0.5407274 ,  0.02702928,\n",
      "        -0.29633313,  0.5598077 , -0.6838903 ],\n",
      "       [-0.4699493 ,  1.6545354 , -0.5810407 ,  1.2558684 ,  1.2544161 ,\n",
      "         1.5992339 , -0.11088818,  0.0612061 ],\n",
      "       [-0.5316365 , -0.09320188, -0.09477931, -0.6242653 , -0.67027295,\n",
      "        -0.07243361, -0.15118212, -0.11070913],\n",
      "       [ 0.10499907,  1.974644  , -0.5196374 ,  1.4654747 ,  0.99286574,\n",
      "         1.0276905 , -0.4323744 , -0.66038877]], dtype=float32), array([ 0.        ,  1.2475328 ,  0.        ,  1.1621772 ,  1.1623225 ,\n",
      "        1.175075  ,  0.        , -0.09323413], dtype=float32)]\n",
      "  --Biases:  [array([[ 0.66165084, -0.04841459,  0.54156655, -0.5407274 ,  0.02702928,\n",
      "        -0.29633313,  0.5598077 , -0.6838903 ],\n",
      "       [-0.4699493 ,  1.6545354 , -0.5810407 ,  1.2558684 ,  1.2544161 ,\n",
      "         1.5992339 , -0.11088818,  0.0612061 ],\n",
      "       [-0.5316365 , -0.09320188, -0.09477931, -0.6242653 , -0.67027295,\n",
      "        -0.07243361, -0.15118212, -0.11070913],\n",
      "       [ 0.10499907,  1.974644  , -0.5196374 ,  1.4654747 ,  0.99286574,\n",
      "         1.0276905 , -0.4323744 , -0.66038877]], dtype=float32), array([ 0.        ,  1.2475328 ,  0.        ,  1.1621772 ,  1.1623225 ,\n",
      "        1.175075  ,  0.        , -0.09323413], dtype=float32)]\n",
      "Layer:  dense_23\n",
      "  --Kernels (Weights):  [array([[-0.32315516,  0.17813653, -0.6501995 , -0.6335972 , -0.34476018],\n",
      "       [-0.40952125, -0.07827646,  1.2956795 ,  1.3261728 ,  1.3052979 ],\n",
      "       [ 0.06808072, -0.04964584,  0.28958243, -0.25067106,  0.04608679],\n",
      "       [-0.6737519 , -0.42887723,  0.8066576 ,  1.0629224 ,  1.6004105 ],\n",
      "       [-0.10028428, -0.56700015,  0.95603365,  0.91542846,  1.9146532 ],\n",
      "       [-0.06780553, -0.2658133 ,  1.5602883 ,  1.9526485 ,  1.5607558 ],\n",
      "       [-0.61557865, -0.58683836, -0.3596342 , -0.23688516, -0.23739877],\n",
      "       [-0.5740948 , -0.48420155, -0.6802249 ,  0.02819955, -0.37685075]],\n",
      "      dtype=float32), array([0.        , 0.        , 0.82366025, 1.1161752 , 0.9650284 ],\n",
      "      dtype=float32)]\n",
      "  --Biases:  [array([[-0.32315516,  0.17813653, -0.6501995 , -0.6335972 , -0.34476018],\n",
      "       [-0.40952125, -0.07827646,  1.2956795 ,  1.3261728 ,  1.3052979 ],\n",
      "       [ 0.06808072, -0.04964584,  0.28958243, -0.25067106,  0.04608679],\n",
      "       [-0.6737519 , -0.42887723,  0.8066576 ,  1.0629224 ,  1.6004105 ],\n",
      "       [-0.10028428, -0.56700015,  0.95603365,  0.91542846,  1.9146532 ],\n",
      "       [-0.06780553, -0.2658133 ,  1.5602883 ,  1.9526485 ,  1.5607558 ],\n",
      "       [-0.61557865, -0.58683836, -0.3596342 , -0.23688516, -0.23739877],\n",
      "       [-0.5740948 , -0.48420155, -0.6802249 ,  0.02819955, -0.37685075]],\n",
      "      dtype=float32), array([0.        , 0.        , 0.82366025, 1.1161752 , 0.9650284 ],\n",
      "      dtype=float32)]\n",
      "Layer:  dense_24\n",
      "  --Kernels (Weights):  [array([[-0.4714031 , -0.5452566 , -0.3289066 ],\n",
      "       [-0.76979697, -0.6911003 , -0.2218731 ],\n",
      "       [ 1.1436152 , -0.31227738, -0.44942674],\n",
      "       [ 1.3671263 , -0.37096444,  0.2681536 ],\n",
      "       [ 2.098202  , -0.19951314, -0.5477947 ]], dtype=float32), array([0.85843104, 0.        , 0.        ], dtype=float32)]\n",
      "  --Biases:  [array([[-0.4714031 , -0.5452566 , -0.3289066 ],\n",
      "       [-0.76979697, -0.6911003 , -0.2218731 ],\n",
      "       [ 1.1436152 , -0.31227738, -0.44942674],\n",
      "       [ 1.3671263 , -0.37096444,  0.2681536 ],\n",
      "       [ 2.098202  , -0.19951314, -0.5477947 ]], dtype=float32), array([0.85843104, 0.        , 0.        ], dtype=float32)]\n",
      "Layer:  dense_25\n",
      "  --Kernels (Weights):  [array([[ 1.4928703 ],\n",
      "       [-1.1264261 ],\n",
      "       [ 0.11105943]], dtype=float32), array([0.59999317], dtype=float32)]\n",
      "  --Biases:  [array([[ 1.4928703 ],\n",
      "       [-1.1264261 ],\n",
      "       [ 0.11105943]], dtype=float32), array([0.59999317], dtype=float32)]\n"
     ]
    }
   ],
   "source": [
    "model.summary()\n",
    "for layer in model.layers:\n",
    "    print(\"Layer: \", layer.name) # print layer name\n",
    "    print(\"  --Kernels (Weights): \", layer.get_weights()) # weights\n",
    "    print(\"  --Biases: \", layer.get_weights()) # biases\n",
    "    "
   ]
  },
  {
   "cell_type": "code",
   "execution_count": 52,
   "id": "43a7c10d",
   "metadata": {},
   "outputs": [
    {
     "name": "stdout",
     "output_type": "stream",
     "text": [
      "Test Score: 8979916.21 RMSE\n"
     ]
    }
   ],
   "source": [
    "testScore = math.sqrt(mean_squared_error(y_test, testPredict))\n",
    "print(\"Test Score: %.2f RMSE\" % (testScore))"
   ]
  },
  {
   "cell_type": "code",
   "execution_count": 53,
   "id": "06f01f08",
   "metadata": {
    "scrolled": true
   },
   "outputs": [
    {
     "name": "stdout",
     "output_type": "stream",
     "text": [
      "Train Score: 8979916.21 RMSE\n"
     ]
    }
   ],
   "source": [
    "trainScore = math.sqrt(mean_squared_error(y_train, trainPredict))\n",
    "print(\"Train Score: %.2f RMSE\" % (testScore))"
   ]
  },
  {
   "cell_type": "code",
   "execution_count": 54,
   "id": "54b7bb3f",
   "metadata": {},
   "outputs": [],
   "source": [
    "def plot_american(actual, predictions):\n",
    "    title = 'Sales Predictions Store '\n",
    "    act = plt.plot(actual, color='turquoise', label='Actual')\n",
    "    pred = plt.plot(predictions, color='darkgoldenrod', label='Predictions')\n",
    "    plt.xlabel(\"Date\")\n",
    "    plt.ylabel(\"Paxe\")\n",
    "    plt.legend(loc='best')\n",
    "    plt.title(title)\n",
    "    plt.show()"
   ]
  },
  {
   "cell_type": "code",
   "execution_count": 55,
   "id": "ec621dc7",
   "metadata": {
    "scrolled": false
   },
   "outputs": [
    {
     "data": {
      "image/png": "[encoded data removed]",
      "text/plain": [
       "<Figure size 432x288 with 1 Axes>"
      ]
     },
     "metadata": {
      "needs_background": "light"
     },
     "output_type": "display_data"
    }
   ],
   "source": [
    "plot_american(y_test, testPredict)"
   ]
  }
 ],
 "metadata": {
  "kernelspec": {
   "display_name": "Python 3 (ipykernel)",
   "language": "python",
   "name": "python3"
  },
  "language_info": {
   "codemirror_mode": {
    "name": "ipython",
    "version": 3
   },
   "file_extension": ".py",
   "mimetype": "text/x-python",
   "name": "python",
   "nbconvert_exporter": "python",
   "pygments_lexer": "ipython3",
   "version": "3.9.7"
  }
 },
 "nbformat": 4,
 "nbformat_minor": 5
}
