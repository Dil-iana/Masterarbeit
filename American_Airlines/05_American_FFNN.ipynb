{
 "cells": [
  {
   "cell_type": "code",
   "execution_count": 1,
   "id": "f5d1f583",
   "metadata": {
    "scrolled": true
   },
   "outputs": [
    {
     "name": "stderr",
     "output_type": "stream",
     "text": [
      "2022-11-29 12:09:47.191280: I tensorflow/core/platform/cpu_feature_guard.cc:193] This TensorFlow binary is optimized with oneAPI Deep Neural Network Library (oneDNN) to use the following CPU instructions in performance-critical operations:  AVX2 FMA\n",
      "To enable them in other operations, rebuild TensorFlow with the appropriate compiler flags.\n"
     ]
    }
   ],
   "source": [
    "import tensorflow as tf\n",
    "from tensorflow.keras.models import Sequential\n",
    "from tensorflow.keras.layers import Dense, Dropout\n",
    "import pandas as pd\n",
    "from sklearn.model_selection import train_test_split\n",
    "from sklearn.preprocessing import MinMaxScaler\n",
    "from sklearn.metrics import mean_squared_error, mean_absolute_error\n",
    "import math\n",
    "import matplotlib.pyplot as plt"
   ]
  },
  {
   "cell_type": "markdown",
   "id": "54f9bd01",
   "metadata": {},
   "source": [
    "## Import data "
   ]
  },
  {
   "cell_type": "code",
   "execution_count": 2,
   "id": "a992baa0",
   "metadata": {},
   "outputs": [],
   "source": [
    "df_american = pd.read_excel(r'/Users/dilianaserafimova/Desktop/df_american_clean.xlsx')"
   ]
  },
  {
   "cell_type": "code",
   "execution_count": 3,
   "id": "19f03ca1",
   "metadata": {},
   "outputs": [],
   "source": [
    "df_american = df_american.set_index(['date'])"
   ]
  },
  {
   "cell_type": "code",
   "execution_count": 4,
   "id": "3bae768c",
   "metadata": {},
   "outputs": [],
   "source": [
    "X = df_american[['revenue', 'seat_miles', 'load_factor', 'flights']]"
   ]
  },
  {
   "cell_type": "code",
   "execution_count": 5,
   "id": "82e97e35",
   "metadata": {},
   "outputs": [],
   "source": [
    "y = df_american['pax_count'].values"
   ]
  },
  {
   "cell_type": "markdown",
   "id": "20633ac5",
   "metadata": {},
   "source": [
    "## Train & test split"
   ]
  },
  {
   "cell_type": "code",
   "execution_count": 6,
   "id": "c54eb130",
   "metadata": {},
   "outputs": [],
   "source": [
    "X_train, X_test, y_train, y_test = train_test_split(X, y, test_size=0.2, random_state = 0)"
   ]
  },
  {
   "cell_type": "markdown",
   "id": "425cd75a",
   "metadata": {},
   "source": [
    "## Normalize the data"
   ]
  },
  {
   "cell_type": "code",
   "execution_count": 7,
   "id": "16720abf",
   "metadata": {},
   "outputs": [],
   "source": [
    "scaler = MinMaxScaler()"
   ]
  },
  {
   "cell_type": "code",
   "execution_count": 8,
   "id": "cebc19d9",
   "metadata": {},
   "outputs": [],
   "source": [
    "X_train = scaler.fit_transform(X_train)"
   ]
  },
  {
   "cell_type": "code",
   "execution_count": 9,
   "id": "7ca86aa3",
   "metadata": {},
   "outputs": [],
   "source": [
    "X_test = scaler.transform(X_test)"
   ]
  },
  {
   "cell_type": "markdown",
   "id": "2c1fb5df",
   "metadata": {},
   "source": [
    "## Creating the model "
   ]
  },
  {
   "cell_type": "code",
   "execution_count": 10,
   "id": "ce589b2c",
   "metadata": {},
   "outputs": [
    {
     "name": "stderr",
     "output_type": "stream",
     "text": [
      "2022-11-29 12:10:05.611444: I tensorflow/core/platform/cpu_feature_guard.cc:193] This TensorFlow binary is optimized with oneAPI Deep Neural Network Library (oneDNN) to use the following CPU instructions in performance-critical operations:  AVX2 FMA\n",
      "To enable them in other operations, rebuild TensorFlow with the appropriate compiler flags.\n"
     ]
    }
   ],
   "source": [
    "model = Sequential()\n",
    "\n",
    "model.add(Dense(4, activation='relu'))\n",
    "model.add(Dropout(0.2))\n",
    "\n",
    "model.add(Dense(units=1,activation='relu'))\n",
    "\n",
    "model.compile(loss = 'mean_squared_error', optimizer= 'adam')"
   ]
  },
  {
   "cell_type": "markdown",
   "id": "51a3371f",
   "metadata": {},
   "source": [
    "## Fit the model "
   ]
  },
  {
   "cell_type": "code",
   "execution_count": 11,
   "id": "e94ffd05",
   "metadata": {
    "scrolled": false
   },
   "outputs": [
    {
     "name": "stdout",
     "output_type": "stream",
     "text": [
      "Epoch 1/10\n",
      "6/6 [==============================] - 1s 44ms/step - loss: 83325016342528.0000 - val_loss: 80648849063936.0000\n",
      "Epoch 2/10\n",
      "6/6 [==============================] - 0s 10ms/step - loss: 83325024731136.0000 - val_loss: 80648849063936.0000\n",
      "Epoch 3/10\n",
      "6/6 [==============================] - 0s 12ms/step - loss: 83325016342528.0000 - val_loss: 80648849063936.0000\n",
      "Epoch 4/10\n",
      "6/6 [==============================] - 0s 17ms/step - loss: 83325016342528.0000 - val_loss: 80648849063936.0000\n",
      "Epoch 5/10\n",
      "6/6 [==============================] - 0s 12ms/step - loss: 83325024731136.0000 - val_loss: 80648849063936.0000\n",
      "Epoch 6/10\n",
      "6/6 [==============================] - 0s 11ms/step - loss: 83325024731136.0000 - val_loss: 80648849063936.0000\n",
      "Epoch 7/10\n",
      "6/6 [==============================] - 0s 10ms/step - loss: 83325024731136.0000 - val_loss: 80648849063936.0000\n",
      "Epoch 8/10\n",
      "6/6 [==============================] - 0s 16ms/step - loss: 83325024731136.0000 - val_loss: 80648849063936.0000\n",
      "Epoch 9/10\n",
      "6/6 [==============================] - 0s 11ms/step - loss: 83325016342528.0000 - val_loss: 80648849063936.0000\n",
      "Epoch 10/10\n",
      "6/6 [==============================] - 0s 10ms/step - loss: 83325033119744.0000 - val_loss: 80648849063936.0000\n"
     ]
    },
    {
     "data": {
      "text/plain": [
       "<keras.callbacks.History at 0x7f89bb484d90>"
      ]
     },
     "execution_count": 11,
     "metadata": {},
     "output_type": "execute_result"
    }
   ],
   "source": [
    "model.fit(X_train, y_train, epochs = 10, validation_data=(X_test, y_test))"
   ]
  },
  {
   "cell_type": "code",
   "execution_count": 12,
   "id": "34de54cb",
   "metadata": {},
   "outputs": [],
   "source": [
    "losses = pd.DataFrame(model.history.history)"
   ]
  },
  {
   "cell_type": "code",
   "execution_count": 13,
   "id": "6a248c4d",
   "metadata": {
    "scrolled": true
   },
   "outputs": [
    {
     "data": {
      "text/html": [
       "<div>\n",
       "<style scoped>\n",
       "    .dataframe tbody tr th:only-of-type {\n",
       "        vertical-align: middle;\n",
       "    }\n",
       "\n",
       "    .dataframe tbody tr th {\n",
       "        vertical-align: top;\n",
       "    }\n",
       "\n",
       "    .dataframe thead th {\n",
       "        text-align: right;\n",
       "    }\n",
       "</style>\n",
       "<table border=\"1\" class=\"dataframe\">\n",
       "  <thead>\n",
       "    <tr style=\"text-align: right;\">\n",
       "      <th></th>\n",
       "      <th>loss</th>\n",
       "      <th>val_loss</th>\n",
       "    </tr>\n",
       "  </thead>\n",
       "  <tbody>\n",
       "    <tr>\n",
       "      <th>0</th>\n",
       "      <td>8.332502e+13</td>\n",
       "      <td>8.064885e+13</td>\n",
       "    </tr>\n",
       "    <tr>\n",
       "      <th>1</th>\n",
       "      <td>8.332502e+13</td>\n",
       "      <td>8.064885e+13</td>\n",
       "    </tr>\n",
       "    <tr>\n",
       "      <th>2</th>\n",
       "      <td>8.332502e+13</td>\n",
       "      <td>8.064885e+13</td>\n",
       "    </tr>\n",
       "    <tr>\n",
       "      <th>3</th>\n",
       "      <td>8.332502e+13</td>\n",
       "      <td>8.064885e+13</td>\n",
       "    </tr>\n",
       "    <tr>\n",
       "      <th>4</th>\n",
       "      <td>8.332502e+13</td>\n",
       "      <td>8.064885e+13</td>\n",
       "    </tr>\n",
       "    <tr>\n",
       "      <th>5</th>\n",
       "      <td>8.332502e+13</td>\n",
       "      <td>8.064885e+13</td>\n",
       "    </tr>\n",
       "    <tr>\n",
       "      <th>6</th>\n",
       "      <td>8.332502e+13</td>\n",
       "      <td>8.064885e+13</td>\n",
       "    </tr>\n",
       "    <tr>\n",
       "      <th>7</th>\n",
       "      <td>8.332502e+13</td>\n",
       "      <td>8.064885e+13</td>\n",
       "    </tr>\n",
       "    <tr>\n",
       "      <th>8</th>\n",
       "      <td>8.332502e+13</td>\n",
       "      <td>8.064885e+13</td>\n",
       "    </tr>\n",
       "    <tr>\n",
       "      <th>9</th>\n",
       "      <td>8.332503e+13</td>\n",
       "      <td>8.064885e+13</td>\n",
       "    </tr>\n",
       "  </tbody>\n",
       "</table>\n",
       "</div>"
      ],
      "text/plain": [
       "           loss      val_loss\n",
       "0  8.332502e+13  8.064885e+13\n",
       "1  8.332502e+13  8.064885e+13\n",
       "2  8.332502e+13  8.064885e+13\n",
       "3  8.332502e+13  8.064885e+13\n",
       "4  8.332502e+13  8.064885e+13\n",
       "5  8.332502e+13  8.064885e+13\n",
       "6  8.332502e+13  8.064885e+13\n",
       "7  8.332502e+13  8.064885e+13\n",
       "8  8.332502e+13  8.064885e+13\n",
       "9  8.332503e+13  8.064885e+13"
      ]
     },
     "execution_count": 13,
     "metadata": {},
     "output_type": "execute_result"
    }
   ],
   "source": [
    "losses"
   ]
  },
  {
   "cell_type": "code",
   "execution_count": 14,
   "id": "cd9ea547",
   "metadata": {
    "scrolled": false
   },
   "outputs": [
    {
     "data": {
      "text/plain": [
       "<AxesSubplot:>"
      ]
     },
     "execution_count": 14,
     "metadata": {},
     "output_type": "execute_result"
    },
    {
     "data": {
      "image/png": "[encoded data removed]",
      "text/plain": [
       "<Figure size 432x288 with 1 Axes>"
      ]
     },
     "metadata": {
      "needs_background": "light"
     },
     "output_type": "display_data"
    }
   ],
   "source": [
    "losses.plot()"
   ]
  },
  {
   "cell_type": "code",
   "execution_count": 15,
   "id": "a46ba159",
   "metadata": {
    "scrolled": false
   },
   "outputs": [
    {
     "name": "stdout",
     "output_type": "stream",
     "text": [
      "6/6 [==============================] - 0s 2ms/step\n",
      "2/2 [==============================] - 0s 3ms/step\n"
     ]
    }
   ],
   "source": [
    "trainPredict = model.predict(X_train)\n",
    "testPredict = model.predict(X_test)"
   ]
  },
  {
   "cell_type": "code",
   "execution_count": 17,
   "id": "f6096681",
   "metadata": {},
   "outputs": [
    {
     "name": "stdout",
     "output_type": "stream",
     "text": [
      "Model: \"sequential\"\n",
      "_________________________________________________________________\n",
      " Layer (type)                Output Shape              Param #   \n",
      "=================================================================\n",
      " dense (Dense)               (None, 4)                 20        \n",
      "                                                                 \n",
      " dropout (Dropout)           (None, 4)                 0         \n",
      "                                                                 \n",
      " dense_1 (Dense)             (None, 1)                 5         \n",
      "                                                                 \n",
      "=================================================================\n",
      "Total params: 25\n",
      "Trainable params: 25\n",
      "Non-trainable params: 0\n",
      "_________________________________________________________________\n",
      "Layer:  dense\n",
      "  --Kernels (Weights):  [array([[-0.2307341 ,  0.26094326,  0.3721084 , -0.5292907 ],\n",
      "       [-0.50695187,  0.56115764,  0.57014966, -0.4588708 ],\n",
      "       [ 0.27013168,  0.6668317 , -0.13071449, -0.15046525],\n",
      "       [ 0.57093066, -0.15500787,  0.12343893, -0.01388431]],\n",
      "      dtype=float32), array([ 0.06916185, -0.03861254,  0.06243362,  0.        ], dtype=float32)]\n",
      "  --Biases:  [array([[-0.2307341 ,  0.26094326,  0.3721084 , -0.5292907 ],\n",
      "       [-0.50695187,  0.56115764,  0.57014966, -0.4588708 ],\n",
      "       [ 0.27013168,  0.6668317 , -0.13071449, -0.15046525],\n",
      "       [ 0.57093066, -0.15500787,  0.12343893, -0.01388431]],\n",
      "      dtype=float32), array([ 0.06916185, -0.03861254,  0.06243362,  0.        ], dtype=float32)]\n",
      "Layer:  dropout\n",
      "  --Kernels (Weights):  []\n",
      "  --Biases:  []\n",
      "Layer:  dense_1\n",
      "  --Kernels (Weights):  [array([[0.10961393],\n",
      "       [0.01496717],\n",
      "       [0.34848452],\n",
      "       [0.43507206]], dtype=float32), array([0.06236085], dtype=float32)]\n",
      "  --Biases:  [array([[0.10961393],\n",
      "       [0.01496717],\n",
      "       [0.34848452],\n",
      "       [0.43507206]], dtype=float32), array([0.06236085], dtype=float32)]\n"
     ]
    }
   ],
   "source": [
    "model.summary()\n",
    "for layer in model.layers:\n",
    "    print(\"Layer: \", layer.name) # print layer name\n",
    "    print(\"  --Kernels (Weights): \", layer.get_weights()) # weights\n",
    "    print(\"  --Biases: \", layer.get_weights()) # biases\n",
    "    "
   ]
  },
  {
   "cell_type": "code",
   "execution_count": 18,
   "id": "43a7c10d",
   "metadata": {},
   "outputs": [
    {
     "name": "stdout",
     "output_type": "stream",
     "text": [
      "Test Score: 8980469.76 RMSE\n"
     ]
    }
   ],
   "source": [
    "testScore = math.sqrt(mean_squared_error(y_test, testPredict))\n",
    "print(\"Test Score: %.2f RMSE\" % (testScore))"
   ]
  },
  {
   "cell_type": "code",
   "execution_count": 20,
   "id": "06f01f08",
   "metadata": {
    "scrolled": true
   },
   "outputs": [
    {
     "name": "stdout",
     "output_type": "stream",
     "text": [
      "Train Score: 8980469.76 RMSE\n"
     ]
    }
   ],
   "source": [
    "trainScore = math.sqrt(mean_squared_error(y_train, trainPredict))\n",
    "print(\"Train Score: %.2f RMSE\" % (testScore))"
   ]
  },
  {
   "cell_type": "code",
   "execution_count": 21,
   "id": "54b7bb3f",
   "metadata": {},
   "outputs": [],
   "source": [
    "def plot_american(actual, predictions):\n",
    "    title = 'Sales Predictions Store '\n",
    "    act = plt.plot(actual, color='turquoise', label='Actual')\n",
    "    pred = plt.plot(predictions, color='darkgoldenrod', label='Predictions')\n",
    "    plt.xlabel(\"Date\")\n",
    "    plt.ylabel(\"Paxe\")\n",
    "    plt.legend(loc='best')\n",
    "    plt.title(title)\n",
    "    plt.show()"
   ]
  },
  {
   "cell_type": "code",
   "execution_count": 22,
   "id": "ec621dc7",
   "metadata": {
    "scrolled": true
   },
   "outputs": [
    {
     "data": {
      "image/png": "[encoded data removed]",
      "text/plain": [
       "<Figure size 432x288 with 1 Axes>"
      ]
     },
     "metadata": {
      "needs_background": "light"
     },
     "output_type": "display_data"
    }
   ],
   "source": [
    "plot_american(y_test, testPredict)"
   ]
  }
 ],
 "metadata": {
  "kernelspec": {
   "display_name": "Python 3 (ipykernel)",
   "language": "python",
   "name": "python3"
  },
  "language_info": {
   "codemirror_mode": {
    "name": "ipython",
    "version": 3
   },
   "file_extension": ".py",
   "mimetype": "text/x-python",
   "name": "python",
   "nbconvert_exporter": "python",
   "pygments_lexer": "ipython3",
   "version": "3.9.7"
  }
 },
 "nbformat": 4,
 "nbformat_minor": 5
}
