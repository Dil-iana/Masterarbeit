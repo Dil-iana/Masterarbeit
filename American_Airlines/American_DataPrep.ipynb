{
 "cells": [
  {
   "cell_type": "code",
   "execution_count": 1,
   "id": "c6346a9e",
   "metadata": {
    "scrolled": true
   },
   "outputs": [
    {
     "name": "stdout",
     "output_type": "stream",
     "text": [
      "Requirement already satisfied: pmdarima in ./Ananconda/anaconda3/lib/python3.9/site-packages (1.8.5)\n",
      "Requirement already satisfied: scikit-learn>=0.22 in ./Ananconda/anaconda3/lib/python3.9/site-packages (from pmdarima) (1.1.2)\n",
      "Requirement already satisfied: statsmodels!=0.12.0,>=0.11 in ./Ananconda/anaconda3/lib/python3.9/site-packages (from pmdarima) (0.12.2)\n",
      "Requirement already satisfied: joblib>=0.11 in ./Ananconda/anaconda3/lib/python3.9/site-packages (from pmdarima) (1.1.0)\n",
      "Requirement already satisfied: Cython!=0.29.18,>=0.29 in ./Ananconda/anaconda3/lib/python3.9/site-packages (from pmdarima) (0.29.24)\n",
      "Requirement already satisfied: pandas>=0.19 in ./Ananconda/anaconda3/lib/python3.9/site-packages (from pmdarima) (1.3.4)\n",
      "Requirement already satisfied: scipy>=1.3.2 in ./Ananconda/anaconda3/lib/python3.9/site-packages (from pmdarima) (1.7.1)\n",
      "Requirement already satisfied: urllib3 in ./Ananconda/anaconda3/lib/python3.9/site-packages (from pmdarima) (1.26.7)\n",
      "Requirement already satisfied: setuptools!=50.0.0,>=38.6.0 in ./Ananconda/anaconda3/lib/python3.9/site-packages (from pmdarima) (58.0.4)\n",
      "Requirement already satisfied: numpy>=1.19.3 in ./Ananconda/anaconda3/lib/python3.9/site-packages (from pmdarima) (1.20.3)\n",
      "Requirement already satisfied: python-dateutil>=2.7.3 in ./Ananconda/anaconda3/lib/python3.9/site-packages (from pandas>=0.19->pmdarima) (2.8.2)\n",
      "Requirement already satisfied: pytz>=2017.3 in ./Ananconda/anaconda3/lib/python3.9/site-packages (from pandas>=0.19->pmdarima) (2021.3)\n",
      "Requirement already satisfied: six>=1.5 in ./Ananconda/anaconda3/lib/python3.9/site-packages (from python-dateutil>=2.7.3->pandas>=0.19->pmdarima) (1.16.0)\n",
      "Requirement already satisfied: threadpoolctl>=2.0.0 in ./Ananconda/anaconda3/lib/python3.9/site-packages (from scikit-learn>=0.22->pmdarima) (2.2.0)\n",
      "Requirement already satisfied: patsy>=0.5 in ./Ananconda/anaconda3/lib/python3.9/site-packages (from statsmodels!=0.12.0,>=0.11->pmdarima) (0.5.2)\n"
     ]
    }
   ],
   "source": [
    "!pip install pmdarima"
   ]
  },
  {
   "cell_type": "code",
   "execution_count": 1,
   "id": "ff5862b5",
   "metadata": {},
   "outputs": [],
   "source": [
    "from pmdarima import auto_arima\n",
    "from pandas.plotting import autocorrelation_plot"
   ]
  },
  {
   "cell_type": "code",
   "execution_count": 2,
   "id": "ea5b9ea8",
   "metadata": {},
   "outputs": [],
   "source": [
    "from sklearn.metrics import mean_squared_error, mean_absolute_error\n",
    "from math import sqrt"
   ]
  },
  {
   "cell_type": "code",
   "execution_count": 3,
   "id": "14aa1db5",
   "metadata": {},
   "outputs": [],
   "source": [
    "from statsmodels.tsa.arima.model import ARIMA\n",
    "from statsmodels.tsa.seasonal import seasonal_decompose\n",
    "from statsmodels.tsa.holtwinters import SimpleExpSmoothing\n",
    "from statsmodels.tsa.holtwinters import Holt\n",
    "from statsmodels.tsa.holtwinters import ExponentialSmoothing\n",
    "from statsmodels.tsa.stattools import adfuller"
   ]
  },
  {
   "cell_type": "code",
   "execution_count": 4,
   "id": "098f7971",
   "metadata": {},
   "outputs": [],
   "source": [
    "import pandas as pd\n",
    "import numpy as np\n",
    "import seaborn as sns\n",
    "import matplotlib.pyplot as plt\n",
    "import os\n",
    "from matplotlib import pyplot\n",
    "from pandas import DataFrame\n",
    "from numpy import log"
   ]
  },
  {
   "cell_type": "code",
   "execution_count": 5,
   "id": "73c4872c",
   "metadata": {},
   "outputs": [],
   "source": [
    "df_american = pd.read_excel(r'/Users/dilianaserafimova/Desktop/American_Airlines.xlsx')"
   ]
  },
  {
   "cell_type": "code",
   "execution_count": 6,
   "id": "0753b706",
   "metadata": {
    "scrolled": true
   },
   "outputs": [
    {
     "data": {
      "text/html": [
       "<div>\n",
       "<style scoped>\n",
       "    .dataframe tbody tr th:only-of-type {\n",
       "        vertical-align: middle;\n",
       "    }\n",
       "\n",
       "    .dataframe tbody tr th {\n",
       "        vertical-align: top;\n",
       "    }\n",
       "\n",
       "    .dataframe thead th {\n",
       "        text-align: right;\n",
       "    }\n",
       "</style>\n",
       "<table border=\"1\" class=\"dataframe\">\n",
       "  <thead>\n",
       "    <tr style=\"text-align: right;\">\n",
       "      <th></th>\n",
       "      <th>Year</th>\n",
       "      <th>Month</th>\n",
       "      <th>date</th>\n",
       "      <th>flight_domestic</th>\n",
       "      <th>flight_int</th>\n",
       "      <th>pax_count</th>\n",
       "      <th>revenue</th>\n",
       "      <th>seat_miles</th>\n",
       "      <th>load_factor</th>\n",
       "      <th>flights</th>\n",
       "    </tr>\n",
       "  </thead>\n",
       "  <tbody>\n",
       "    <tr>\n",
       "      <th>0</th>\n",
       "      <td>2002</td>\n",
       "      <td>10</td>\n",
       "      <td>2002 10</td>\n",
       "      <td>6,483,209</td>\n",
       "      <td>1,268,032</td>\n",
       "      <td>7,751,241</td>\n",
       "      <td>9,981,313</td>\n",
       "      <td>14,558,503</td>\n",
       "      <td>68.56</td>\n",
       "      <td>83,649</td>\n",
       "    </tr>\n",
       "    <tr>\n",
       "      <th>1</th>\n",
       "      <td>2002</td>\n",
       "      <td>11</td>\n",
       "      <td>2002 11</td>\n",
       "      <td>5,836,804</td>\n",
       "      <td>1,248,937</td>\n",
       "      <td>7,085,741</td>\n",
       "      <td>9,102,300</td>\n",
       "      <td>13,472,175</td>\n",
       "      <td>67.56</td>\n",
       "      <td>77,398</td>\n",
       "    </tr>\n",
       "    <tr>\n",
       "      <th>2</th>\n",
       "      <td>2002</td>\n",
       "      <td>12</td>\n",
       "      <td>2002 12</td>\n",
       "      <td>6,473,000</td>\n",
       "      <td>1,428,359</td>\n",
       "      <td>7,901,359</td>\n",
       "      <td>10,351,711</td>\n",
       "      <td>14,119,643</td>\n",
       "      <td>73.31</td>\n",
       "      <td>79,962</td>\n",
       "    </tr>\n",
       "    <tr>\n",
       "      <th>3</th>\n",
       "      <td>2002</td>\n",
       "      <td>TOTAL</td>\n",
       "      <td>2002 TOTAL</td>\n",
       "      <td>77,435,542</td>\n",
       "      <td>16,564,424</td>\n",
       "      <td>93,999,966</td>\n",
       "      <td>121,504,345</td>\n",
       "      <td>171,711,646</td>\n",
       "      <td>70.76</td>\n",
       "      <td>990,931</td>\n",
       "    </tr>\n",
       "    <tr>\n",
       "      <th>4</th>\n",
       "      <td>2003</td>\n",
       "      <td>1</td>\n",
       "      <td>2003 1</td>\n",
       "      <td>5,659,172</td>\n",
       "      <td>1,354,646</td>\n",
       "      <td>7,013,818</td>\n",
       "      <td>9,405,547</td>\n",
       "      <td>14,038,698</td>\n",
       "      <td>67.00</td>\n",
       "      <td>78,214</td>\n",
       "    </tr>\n",
       "  </tbody>\n",
       "</table>\n",
       "</div>"
      ],
      "text/plain": [
       "   Year  Month        date flight_domestic  flight_int   pax_count  \\\n",
       "0  2002     10     2002 10       6,483,209   1,268,032   7,751,241   \n",
       "1  2002     11     2002 11       5,836,804   1,248,937   7,085,741   \n",
       "2  2002     12     2002 12       6,473,000   1,428,359   7,901,359   \n",
       "3  2002  TOTAL  2002 TOTAL      77,435,542  16,564,424  93,999,966   \n",
       "4  2003      1      2003 1       5,659,172   1,354,646   7,013,818   \n",
       "\n",
       "       revenue   seat_miles  load_factor  flights  \n",
       "0    9,981,313   14,558,503        68.56   83,649  \n",
       "1    9,102,300   13,472,175        67.56   77,398  \n",
       "2   10,351,711   14,119,643        73.31   79,962  \n",
       "3  121,504,345  171,711,646        70.76  990,931  \n",
       "4    9,405,547   14,038,698        67.00   78,214  "
      ]
     },
     "execution_count": 6,
     "metadata": {},
     "output_type": "execute_result"
    }
   ],
   "source": [
    "df_american.head()"
   ]
  },
  {
   "cell_type": "markdown",
   "id": "e94a77ca",
   "metadata": {},
   "source": [
    "## Delete irrelevant data / years / months "
   ]
  },
  {
   "cell_type": "markdown",
   "id": "1c525aa0",
   "metadata": {},
   "source": [
    "#### Delete irrelevant date"
   ]
  },
  {
   "cell_type": "code",
   "execution_count": 7,
   "id": "af63bddd",
   "metadata": {},
   "outputs": [],
   "source": [
    "indexNames = df_american[df_american['Year'] == 2002].index\n",
    "df_american.drop(indexNames , inplace=True)\n"
   ]
  },
  {
   "cell_type": "code",
   "execution_count": 8,
   "id": "092b0a84",
   "metadata": {},
   "outputs": [],
   "source": [
    "indexNames = df_american[df_american['Year'] == 2020].index\n",
    "df_american.drop(indexNames , inplace=True)"
   ]
  },
  {
   "cell_type": "code",
   "execution_count": 9,
   "id": "976ab048",
   "metadata": {},
   "outputs": [],
   "source": [
    "indexNames = df_american[df_american['Year'] == 2021].index\n",
    "df_american.drop(indexNames , inplace=True)"
   ]
  },
  {
   "cell_type": "code",
   "execution_count": 10,
   "id": "9f2a12dc",
   "metadata": {},
   "outputs": [],
   "source": [
    "indexNames = df_american[df_american['Year'] == 2022].index\n",
    "df_american.drop(indexNames , inplace=True)"
   ]
  },
  {
   "cell_type": "code",
   "execution_count": 11,
   "id": "8cca4e81",
   "metadata": {
    "scrolled": true
   },
   "outputs": [
    {
     "name": "stdout",
     "output_type": "stream",
     "text": [
      "     Year  Month        date flight_domestic  flight_int    pax_count  \\\n",
      "4    2003      1      2003 1       5,659,172   1,354,646    7,013,818   \n",
      "5    2003      2      2003 2       5,224,456   1,139,470    6,363,926   \n",
      "6    2003      3      2003 3       6,307,672   1,320,809    7,628,481   \n",
      "7    2003      4      2003 4       5,905,978   1,197,107    7,103,085   \n",
      "8    2003      5      2003 5       6,217,128   1,230,334    7,447,462   \n",
      "..    ...    ...         ...             ...         ...          ...   \n",
      "220  2019      9      2019 9       9,967,442   2,239,025   12,206,467   \n",
      "221  2019     10     2019 10      10,783,388   2,292,466   13,075,854   \n",
      "222  2019     11     2019 11      10,206,878   2,057,374   12,264,252   \n",
      "223  2019     12     2019 12      10,960,472   2,440,847   13,401,319   \n",
      "224  2019  TOTAL  2019 TOTAL     126,030,910  29,751,701  155,782,611   \n",
      "\n",
      "         revenue   seat_miles  load_factor    flights  \n",
      "4      9,405,547   14,038,698        67.00     78,214  \n",
      "5      8,355,084   12,142,241        68.81     67,463  \n",
      "6      9,981,627   13,929,984        71.66     77,125  \n",
      "7      9,325,622   13,210,596        70.59     73,182  \n",
      "8      9,838,460   13,345,197        73.72     73,381  \n",
      "..           ...          ...          ...        ...  \n",
      "220   17,168,819   20,627,543        83.23     90,188  \n",
      "221   17,716,228   20,825,302        85.07      94,21  \n",
      "222   15,941,539   19,259,149        82.77     90,132  \n",
      "223   18,001,967   20,880,585        86.21     94,286  \n",
      "224  212,809,789  248,779,882        85.54  1,115,027  \n",
      "\n",
      "[221 rows x 10 columns]\n"
     ]
    }
   ],
   "source": [
    "print(df_american)"
   ]
  },
  {
   "cell_type": "markdown",
   "id": "5ceebde8",
   "metadata": {},
   "source": [
    "#### Delete irrelevant content"
   ]
  },
  {
   "cell_type": "code",
   "execution_count": 12,
   "id": "92cea3fb",
   "metadata": {},
   "outputs": [],
   "source": [
    "indexNames = df_american[df_american['Month'] == 'TOTAL'].index\n",
    "df_american.drop(indexNames , inplace=True)"
   ]
  },
  {
   "cell_type": "code",
   "execution_count": 13,
   "id": "d966184a",
   "metadata": {},
   "outputs": [
    {
     "data": {
      "text/html": [
       "<div>\n",
       "<style scoped>\n",
       "    .dataframe tbody tr th:only-of-type {\n",
       "        vertical-align: middle;\n",
       "    }\n",
       "\n",
       "    .dataframe tbody tr th {\n",
       "        vertical-align: top;\n",
       "    }\n",
       "\n",
       "    .dataframe thead th {\n",
       "        text-align: right;\n",
       "    }\n",
       "</style>\n",
       "<table border=\"1\" class=\"dataframe\">\n",
       "  <thead>\n",
       "    <tr style=\"text-align: right;\">\n",
       "      <th></th>\n",
       "      <th>Year</th>\n",
       "      <th>Month</th>\n",
       "      <th>date</th>\n",
       "      <th>flight_domestic</th>\n",
       "      <th>flight_int</th>\n",
       "      <th>pax_count</th>\n",
       "      <th>revenue</th>\n",
       "      <th>seat_miles</th>\n",
       "      <th>load_factor</th>\n",
       "      <th>flights</th>\n",
       "    </tr>\n",
       "  </thead>\n",
       "  <tbody>\n",
       "    <tr>\n",
       "      <th>4</th>\n",
       "      <td>2003</td>\n",
       "      <td>1</td>\n",
       "      <td>2003 1</td>\n",
       "      <td>5,659,172</td>\n",
       "      <td>1,354,646</td>\n",
       "      <td>7,013,818</td>\n",
       "      <td>9,405,547</td>\n",
       "      <td>14,038,698</td>\n",
       "      <td>67.00</td>\n",
       "      <td>78,214</td>\n",
       "    </tr>\n",
       "    <tr>\n",
       "      <th>5</th>\n",
       "      <td>2003</td>\n",
       "      <td>2</td>\n",
       "      <td>2003 2</td>\n",
       "      <td>5,224,456</td>\n",
       "      <td>1,139,470</td>\n",
       "      <td>6,363,926</td>\n",
       "      <td>8,355,084</td>\n",
       "      <td>12,142,241</td>\n",
       "      <td>68.81</td>\n",
       "      <td>67,463</td>\n",
       "    </tr>\n",
       "    <tr>\n",
       "      <th>6</th>\n",
       "      <td>2003</td>\n",
       "      <td>3</td>\n",
       "      <td>2003 3</td>\n",
       "      <td>6,307,672</td>\n",
       "      <td>1,320,809</td>\n",
       "      <td>7,628,481</td>\n",
       "      <td>9,981,627</td>\n",
       "      <td>13,929,984</td>\n",
       "      <td>71.66</td>\n",
       "      <td>77,125</td>\n",
       "    </tr>\n",
       "    <tr>\n",
       "      <th>7</th>\n",
       "      <td>2003</td>\n",
       "      <td>4</td>\n",
       "      <td>2003 4</td>\n",
       "      <td>5,905,978</td>\n",
       "      <td>1,197,107</td>\n",
       "      <td>7,103,085</td>\n",
       "      <td>9,325,622</td>\n",
       "      <td>13,210,596</td>\n",
       "      <td>70.59</td>\n",
       "      <td>73,182</td>\n",
       "    </tr>\n",
       "    <tr>\n",
       "      <th>8</th>\n",
       "      <td>2003</td>\n",
       "      <td>5</td>\n",
       "      <td>2003 5</td>\n",
       "      <td>6,217,128</td>\n",
       "      <td>1,230,334</td>\n",
       "      <td>7,447,462</td>\n",
       "      <td>9,838,460</td>\n",
       "      <td>13,345,197</td>\n",
       "      <td>73.72</td>\n",
       "      <td>73,381</td>\n",
       "    </tr>\n",
       "    <tr>\n",
       "      <th>9</th>\n",
       "      <td>2003</td>\n",
       "      <td>6</td>\n",
       "      <td>2003 6</td>\n",
       "      <td>6,547,986</td>\n",
       "      <td>1,443,436</td>\n",
       "      <td>7,991,422</td>\n",
       "      <td>10,853,896</td>\n",
       "      <td>13,757,115</td>\n",
       "      <td>78.90</td>\n",
       "      <td>73,643</td>\n",
       "    </tr>\n",
       "    <tr>\n",
       "      <th>10</th>\n",
       "      <td>2003</td>\n",
       "      <td>7</td>\n",
       "      <td>2003 7</td>\n",
       "      <td>7,007,137</td>\n",
       "      <td>1,735,273</td>\n",
       "      <td>8,742,410</td>\n",
       "      <td>11,959,953</td>\n",
       "      <td>14,757,282</td>\n",
       "      <td>81.04</td>\n",
       "      <td>77,892</td>\n",
       "    </tr>\n",
       "    <tr>\n",
       "      <th>11</th>\n",
       "      <td>2003</td>\n",
       "      <td>8</td>\n",
       "      <td>2003 8</td>\n",
       "      <td>6,696,062</td>\n",
       "      <td>1,728,088</td>\n",
       "      <td>8,424,150</td>\n",
       "      <td>11,676,743</td>\n",
       "      <td>14,662,709</td>\n",
       "      <td>79.64</td>\n",
       "      <td>77,131</td>\n",
       "    </tr>\n",
       "    <tr>\n",
       "      <th>12</th>\n",
       "      <td>2003</td>\n",
       "      <td>9</td>\n",
       "      <td>2003 9</td>\n",
       "      <td>5,268,120</td>\n",
       "      <td>1,244,953</td>\n",
       "      <td>6,513,073</td>\n",
       "      <td>8,996,800</td>\n",
       "      <td>13,461,035</td>\n",
       "      <td>66.84</td>\n",
       "      <td>71,251</td>\n",
       "    </tr>\n",
       "    <tr>\n",
       "      <th>13</th>\n",
       "      <td>2003</td>\n",
       "      <td>10</td>\n",
       "      <td>2003 10</td>\n",
       "      <td>5,999,944</td>\n",
       "      <td>1,273,217</td>\n",
       "      <td>7,273,161</td>\n",
       "      <td>9,812,839</td>\n",
       "      <td>13,964,015</td>\n",
       "      <td>70.27</td>\n",
       "      <td>74,234</td>\n",
       "    </tr>\n",
       "    <tr>\n",
       "      <th>14</th>\n",
       "      <td>2003</td>\n",
       "      <td>11</td>\n",
       "      <td>2003 11</td>\n",
       "      <td>5,444,921</td>\n",
       "      <td>1,336,110</td>\n",
       "      <td>6,781,031</td>\n",
       "      <td>9,377,403</td>\n",
       "      <td>13,264,404</td>\n",
       "      <td>70.70</td>\n",
       "      <td>67,603</td>\n",
       "    </tr>\n",
       "    <tr>\n",
       "      <th>15</th>\n",
       "      <td>2003</td>\n",
       "      <td>12</td>\n",
       "      <td>2003 12</td>\n",
       "      <td>5,892,720</td>\n",
       "      <td>1,531,539</td>\n",
       "      <td>7,424,259</td>\n",
       "      <td>10,342,231</td>\n",
       "      <td>14,006,899</td>\n",
       "      <td>73.84</td>\n",
       "      <td>71,615</td>\n",
       "    </tr>\n",
       "    <tr>\n",
       "      <th>17</th>\n",
       "      <td>2004</td>\n",
       "      <td>1</td>\n",
       "      <td>2004 1</td>\n",
       "      <td>5,474,024</td>\n",
       "      <td>1,472,700</td>\n",
       "      <td>6,946,724</td>\n",
       "      <td>9,767,917</td>\n",
       "      <td>14,150,931</td>\n",
       "      <td>69.03</td>\n",
       "      <td>70,879</td>\n",
       "    </tr>\n",
       "    <tr>\n",
       "      <th>18</th>\n",
       "      <td>2004</td>\n",
       "      <td>2</td>\n",
       "      <td>2004 2</td>\n",
       "      <td>5,493,738</td>\n",
       "      <td>1,335,590</td>\n",
       "      <td>6,829,328</td>\n",
       "      <td>9,371,570</td>\n",
       "      <td>13,585,245</td>\n",
       "      <td>68.98</td>\n",
       "      <td>67,356</td>\n",
       "    </tr>\n",
       "    <tr>\n",
       "      <th>19</th>\n",
       "      <td>2004</td>\n",
       "      <td>3</td>\n",
       "      <td>2004 3</td>\n",
       "      <td>6,425,095</td>\n",
       "      <td>1,534,482</td>\n",
       "      <td>7,959,577</td>\n",
       "      <td>11,062,857</td>\n",
       "      <td>14,710,842</td>\n",
       "      <td>75.20</td>\n",
       "      <td>72,419</td>\n",
       "    </tr>\n",
       "    <tr>\n",
       "      <th>20</th>\n",
       "      <td>2004</td>\n",
       "      <td>4</td>\n",
       "      <td>2004 4</td>\n",
       "      <td>6,209,747</td>\n",
       "      <td>1,515,225</td>\n",
       "      <td>7,724,972</td>\n",
       "      <td>10,818,884</td>\n",
       "      <td>14,415,871</td>\n",
       "      <td>75.05</td>\n",
       "      <td>70,168</td>\n",
       "    </tr>\n",
       "    <tr>\n",
       "      <th>21</th>\n",
       "      <td>2004</td>\n",
       "      <td>5</td>\n",
       "      <td>2004 5</td>\n",
       "      <td>6,080,757</td>\n",
       "      <td>1,480,462</td>\n",
       "      <td>7,561,219</td>\n",
       "      <td>10,725,007</td>\n",
       "      <td>14,647,356</td>\n",
       "      <td>73.22</td>\n",
       "      <td>69,975</td>\n",
       "    </tr>\n",
       "    <tr>\n",
       "      <th>22</th>\n",
       "      <td>2004</td>\n",
       "      <td>6</td>\n",
       "      <td>2004 6</td>\n",
       "      <td>6,520,178</td>\n",
       "      <td>1,655,385</td>\n",
       "      <td>8,175,563</td>\n",
       "      <td>11,741,988</td>\n",
       "      <td>14,848,751</td>\n",
       "      <td>79.08</td>\n",
       "      <td>70,358</td>\n",
       "    </tr>\n",
       "    <tr>\n",
       "      <th>23</th>\n",
       "      <td>2004</td>\n",
       "      <td>7</td>\n",
       "      <td>2004 7</td>\n",
       "      <td>6,717,316</td>\n",
       "      <td>1,974,326</td>\n",
       "      <td>8,691,642</td>\n",
       "      <td>12,590,886</td>\n",
       "      <td>15,516,784</td>\n",
       "      <td>81.14</td>\n",
       "      <td>72,584</td>\n",
       "    </tr>\n",
       "    <tr>\n",
       "      <th>24</th>\n",
       "      <td>2004</td>\n",
       "      <td>8</td>\n",
       "      <td>2004 8</td>\n",
       "      <td>6,405,790</td>\n",
       "      <td>1,914,936</td>\n",
       "      <td>8,320,726</td>\n",
       "      <td>12,177,757</td>\n",
       "      <td>15,507,084</td>\n",
       "      <td>78.53</td>\n",
       "      <td>72,582</td>\n",
       "    </tr>\n",
       "  </tbody>\n",
       "</table>\n",
       "</div>"
      ],
      "text/plain": [
       "    Year Month     date flight_domestic flight_int  pax_count     revenue  \\\n",
       "4   2003     1   2003 1       5,659,172  1,354,646  7,013,818   9,405,547   \n",
       "5   2003     2   2003 2       5,224,456  1,139,470  6,363,926   8,355,084   \n",
       "6   2003     3   2003 3       6,307,672  1,320,809  7,628,481   9,981,627   \n",
       "7   2003     4   2003 4       5,905,978  1,197,107  7,103,085   9,325,622   \n",
       "8   2003     5   2003 5       6,217,128  1,230,334  7,447,462   9,838,460   \n",
       "9   2003     6   2003 6       6,547,986  1,443,436  7,991,422  10,853,896   \n",
       "10  2003     7   2003 7       7,007,137  1,735,273  8,742,410  11,959,953   \n",
       "11  2003     8   2003 8       6,696,062  1,728,088  8,424,150  11,676,743   \n",
       "12  2003     9   2003 9       5,268,120  1,244,953  6,513,073   8,996,800   \n",
       "13  2003    10  2003 10       5,999,944  1,273,217  7,273,161   9,812,839   \n",
       "14  2003    11  2003 11       5,444,921  1,336,110  6,781,031   9,377,403   \n",
       "15  2003    12  2003 12       5,892,720  1,531,539  7,424,259  10,342,231   \n",
       "17  2004     1   2004 1       5,474,024  1,472,700  6,946,724   9,767,917   \n",
       "18  2004     2   2004 2       5,493,738  1,335,590  6,829,328   9,371,570   \n",
       "19  2004     3   2004 3       6,425,095  1,534,482  7,959,577  11,062,857   \n",
       "20  2004     4   2004 4       6,209,747  1,515,225  7,724,972  10,818,884   \n",
       "21  2004     5   2004 5       6,080,757  1,480,462  7,561,219  10,725,007   \n",
       "22  2004     6   2004 6       6,520,178  1,655,385  8,175,563  11,741,988   \n",
       "23  2004     7   2004 7       6,717,316  1,974,326  8,691,642  12,590,886   \n",
       "24  2004     8   2004 8       6,405,790  1,914,936  8,320,726  12,177,757   \n",
       "\n",
       "    seat_miles  load_factor flights  \n",
       "4   14,038,698        67.00  78,214  \n",
       "5   12,142,241        68.81  67,463  \n",
       "6   13,929,984        71.66  77,125  \n",
       "7   13,210,596        70.59  73,182  \n",
       "8   13,345,197        73.72  73,381  \n",
       "9   13,757,115        78.90  73,643  \n",
       "10  14,757,282        81.04  77,892  \n",
       "11  14,662,709        79.64  77,131  \n",
       "12  13,461,035        66.84  71,251  \n",
       "13  13,964,015        70.27  74,234  \n",
       "14  13,264,404        70.70  67,603  \n",
       "15  14,006,899        73.84  71,615  \n",
       "17  14,150,931        69.03  70,879  \n",
       "18  13,585,245        68.98  67,356  \n",
       "19  14,710,842        75.20  72,419  \n",
       "20  14,415,871        75.05  70,168  \n",
       "21  14,647,356        73.22  69,975  \n",
       "22  14,848,751        79.08  70,358  \n",
       "23  15,516,784        81.14  72,584  \n",
       "24  15,507,084        78.53  72,582  "
      ]
     },
     "execution_count": 13,
     "metadata": {},
     "output_type": "execute_result"
    }
   ],
   "source": [
    "df_american.head(20)"
   ]
  },
  {
   "cell_type": "markdown",
   "id": "ce22b132",
   "metadata": {},
   "source": [
    "#### Delete irrelevant column"
   ]
  },
  {
   "cell_type": "code",
   "execution_count": 14,
   "id": "88a87714",
   "metadata": {
    "scrolled": true
   },
   "outputs": [],
   "source": [
    "df_american = df_american.drop([\"flight_domestic\", \"flight_int\", 'Year', 'Month'], axis=1)"
   ]
  },
  {
   "cell_type": "markdown",
   "id": "c84666fd",
   "metadata": {},
   "source": [
    "#### Delete NaN"
   ]
  },
  {
   "cell_type": "code",
   "execution_count": 15,
   "id": "38950fb2",
   "metadata": {},
   "outputs": [],
   "source": [
    "incomplete_columns = list(df_american.columns[df_american.isnull().any()])"
   ]
  },
  {
   "cell_type": "code",
   "execution_count": 16,
   "id": "2cfb2ae8",
   "metadata": {},
   "outputs": [
    {
     "data": {
      "text/plain": [
       "[]"
      ]
     },
     "execution_count": 16,
     "metadata": {},
     "output_type": "execute_result"
    }
   ],
   "source": [
    "incomplete_columns"
   ]
  },
  {
   "cell_type": "markdown",
   "id": "f9b4337e",
   "metadata": {},
   "source": [
    "#### Datensatz ist vollständig"
   ]
  },
  {
   "cell_type": "markdown",
   "id": "e113e2fb",
   "metadata": {},
   "source": [
    "## Convert argument to datetime"
   ]
  },
  {
   "cell_type": "code",
   "execution_count": 17,
   "id": "00c21cc6",
   "metadata": {},
   "outputs": [],
   "source": [
    "df_american['date'] = pd.to_datetime(df_american['date'])"
   ]
  },
  {
   "cell_type": "code",
   "execution_count": 18,
   "id": "976234d6",
   "metadata": {},
   "outputs": [
    {
     "data": {
      "text/html": [
       "<div>\n",
       "<style scoped>\n",
       "    .dataframe tbody tr th:only-of-type {\n",
       "        vertical-align: middle;\n",
       "    }\n",
       "\n",
       "    .dataframe tbody tr th {\n",
       "        vertical-align: top;\n",
       "    }\n",
       "\n",
       "    .dataframe thead th {\n",
       "        text-align: right;\n",
       "    }\n",
       "</style>\n",
       "<table border=\"1\" class=\"dataframe\">\n",
       "  <thead>\n",
       "    <tr style=\"text-align: right;\">\n",
       "      <th></th>\n",
       "      <th>date</th>\n",
       "      <th>pax_count</th>\n",
       "      <th>revenue</th>\n",
       "      <th>seat_miles</th>\n",
       "      <th>load_factor</th>\n",
       "      <th>flights</th>\n",
       "    </tr>\n",
       "  </thead>\n",
       "  <tbody>\n",
       "    <tr>\n",
       "      <th>4</th>\n",
       "      <td>2003-01-01</td>\n",
       "      <td>7,013,818</td>\n",
       "      <td>9,405,547</td>\n",
       "      <td>14,038,698</td>\n",
       "      <td>67.00</td>\n",
       "      <td>78,214</td>\n",
       "    </tr>\n",
       "    <tr>\n",
       "      <th>5</th>\n",
       "      <td>2003-02-01</td>\n",
       "      <td>6,363,926</td>\n",
       "      <td>8,355,084</td>\n",
       "      <td>12,142,241</td>\n",
       "      <td>68.81</td>\n",
       "      <td>67,463</td>\n",
       "    </tr>\n",
       "    <tr>\n",
       "      <th>6</th>\n",
       "      <td>2003-03-01</td>\n",
       "      <td>7,628,481</td>\n",
       "      <td>9,981,627</td>\n",
       "      <td>13,929,984</td>\n",
       "      <td>71.66</td>\n",
       "      <td>77,125</td>\n",
       "    </tr>\n",
       "    <tr>\n",
       "      <th>7</th>\n",
       "      <td>2003-04-01</td>\n",
       "      <td>7,103,085</td>\n",
       "      <td>9,325,622</td>\n",
       "      <td>13,210,596</td>\n",
       "      <td>70.59</td>\n",
       "      <td>73,182</td>\n",
       "    </tr>\n",
       "    <tr>\n",
       "      <th>8</th>\n",
       "      <td>2003-05-01</td>\n",
       "      <td>7,447,462</td>\n",
       "      <td>9,838,460</td>\n",
       "      <td>13,345,197</td>\n",
       "      <td>73.72</td>\n",
       "      <td>73,381</td>\n",
       "    </tr>\n",
       "  </tbody>\n",
       "</table>\n",
       "</div>"
      ],
      "text/plain": [
       "        date  pax_count    revenue  seat_miles  load_factor flights\n",
       "4 2003-01-01  7,013,818  9,405,547  14,038,698        67.00  78,214\n",
       "5 2003-02-01  6,363,926  8,355,084  12,142,241        68.81  67,463\n",
       "6 2003-03-01  7,628,481  9,981,627  13,929,984        71.66  77,125\n",
       "7 2003-04-01  7,103,085  9,325,622  13,210,596        70.59  73,182\n",
       "8 2003-05-01  7,447,462  9,838,460  13,345,197        73.72  73,381"
      ]
     },
     "execution_count": 18,
     "metadata": {},
     "output_type": "execute_result"
    }
   ],
   "source": [
    "df_american.head()"
   ]
  },
  {
   "cell_type": "markdown",
   "id": "5f376232",
   "metadata": {},
   "source": [
    "## Convert data types"
   ]
  },
  {
   "cell_type": "code",
   "execution_count": 19,
   "id": "0e3dbf19",
   "metadata": {
    "scrolled": true
   },
   "outputs": [
    {
     "data": {
      "text/plain": [
       "date           datetime64[ns]\n",
       "pax_count              object\n",
       "revenue                object\n",
       "seat_miles             object\n",
       "load_factor           float64\n",
       "flights                object\n",
       "dtype: object"
      ]
     },
     "execution_count": 19,
     "metadata": {},
     "output_type": "execute_result"
    }
   ],
   "source": [
    "df_american.dtypes"
   ]
  },
  {
   "cell_type": "code",
   "execution_count": 20,
   "id": "7f733b5f",
   "metadata": {},
   "outputs": [
    {
     "name": "stderr",
     "output_type": "stream",
     "text": [
      "/var/folders/_h/_0hrsyw93ljbt2ws9kq8w6z40000gn/T/ipykernel_3244/1319109083.py:1: FutureWarning: The default value of regex will change from True to False in a future version.\n",
      "  df_american['pax_count'] = df_american['pax_count'].str.replace('[^\\w\\s]','').astype(int)\n"
     ]
    }
   ],
   "source": [
    "df_american['pax_count'] = df_american['pax_count'].str.replace('[^\\w\\s]','').astype(int)"
   ]
  },
  {
   "cell_type": "code",
   "execution_count": 21,
   "id": "a02665f2",
   "metadata": {},
   "outputs": [
    {
     "name": "stderr",
     "output_type": "stream",
     "text": [
      "/var/folders/_h/_0hrsyw93ljbt2ws9kq8w6z40000gn/T/ipykernel_3244/2518242079.py:1: FutureWarning: The default value of regex will change from True to False in a future version.\n",
      "  df_american['revenue'] = df_american['revenue'].str.replace('[^\\w\\s]','').astype(int)\n"
     ]
    }
   ],
   "source": [
    "df_american['revenue'] = df_american['revenue'].str.replace('[^\\w\\s]','').astype(int)"
   ]
  },
  {
   "cell_type": "code",
   "execution_count": 22,
   "id": "57a0f6f0",
   "metadata": {},
   "outputs": [
    {
     "name": "stderr",
     "output_type": "stream",
     "text": [
      "/var/folders/_h/_0hrsyw93ljbt2ws9kq8w6z40000gn/T/ipykernel_3244/2597891616.py:1: FutureWarning: The default value of regex will change from True to False in a future version.\n",
      "  df_american['seat_miles'] = df_american['seat_miles'].str.replace('[^\\w\\s]','').astype(int)\n"
     ]
    }
   ],
   "source": [
    "df_american['seat_miles'] = df_american['seat_miles'].str.replace('[^\\w\\s]','').astype(int)"
   ]
  },
  {
   "cell_type": "code",
   "execution_count": 23,
   "id": "17039953",
   "metadata": {},
   "outputs": [
    {
     "name": "stderr",
     "output_type": "stream",
     "text": [
      "/var/folders/_h/_0hrsyw93ljbt2ws9kq8w6z40000gn/T/ipykernel_3244/4142843975.py:1: FutureWarning: The default value of regex will change from True to False in a future version.\n",
      "  df_american['flights'] = df_american['flights'].str.replace('[^\\w\\s]','').astype(int)\n"
     ]
    }
   ],
   "source": [
    "df_american['flights'] = df_american['flights'].str.replace('[^\\w\\s]','').astype(int)"
   ]
  },
  {
   "cell_type": "code",
   "execution_count": 24,
   "id": "ba9489bf",
   "metadata": {},
   "outputs": [
    {
     "data": {
      "text/html": [
       "<div>\n",
       "<style scoped>\n",
       "    .dataframe tbody tr th:only-of-type {\n",
       "        vertical-align: middle;\n",
       "    }\n",
       "\n",
       "    .dataframe tbody tr th {\n",
       "        vertical-align: top;\n",
       "    }\n",
       "\n",
       "    .dataframe thead th {\n",
       "        text-align: right;\n",
       "    }\n",
       "</style>\n",
       "<table border=\"1\" class=\"dataframe\">\n",
       "  <thead>\n",
       "    <tr style=\"text-align: right;\">\n",
       "      <th></th>\n",
       "      <th>date</th>\n",
       "      <th>pax_count</th>\n",
       "      <th>revenue</th>\n",
       "      <th>seat_miles</th>\n",
       "      <th>load_factor</th>\n",
       "      <th>flights</th>\n",
       "    </tr>\n",
       "  </thead>\n",
       "  <tbody>\n",
       "    <tr>\n",
       "      <th>4</th>\n",
       "      <td>2003-01-01</td>\n",
       "      <td>7013818</td>\n",
       "      <td>9405547</td>\n",
       "      <td>14038698</td>\n",
       "      <td>67.00</td>\n",
       "      <td>78214</td>\n",
       "    </tr>\n",
       "    <tr>\n",
       "      <th>5</th>\n",
       "      <td>2003-02-01</td>\n",
       "      <td>6363926</td>\n",
       "      <td>8355084</td>\n",
       "      <td>12142241</td>\n",
       "      <td>68.81</td>\n",
       "      <td>67463</td>\n",
       "    </tr>\n",
       "    <tr>\n",
       "      <th>6</th>\n",
       "      <td>2003-03-01</td>\n",
       "      <td>7628481</td>\n",
       "      <td>9981627</td>\n",
       "      <td>13929984</td>\n",
       "      <td>71.66</td>\n",
       "      <td>77125</td>\n",
       "    </tr>\n",
       "    <tr>\n",
       "      <th>7</th>\n",
       "      <td>2003-04-01</td>\n",
       "      <td>7103085</td>\n",
       "      <td>9325622</td>\n",
       "      <td>13210596</td>\n",
       "      <td>70.59</td>\n",
       "      <td>73182</td>\n",
       "    </tr>\n",
       "    <tr>\n",
       "      <th>8</th>\n",
       "      <td>2003-05-01</td>\n",
       "      <td>7447462</td>\n",
       "      <td>9838460</td>\n",
       "      <td>13345197</td>\n",
       "      <td>73.72</td>\n",
       "      <td>73381</td>\n",
       "    </tr>\n",
       "  </tbody>\n",
       "</table>\n",
       "</div>"
      ],
      "text/plain": [
       "        date  pax_count  revenue  seat_miles  load_factor  flights\n",
       "4 2003-01-01    7013818  9405547    14038698        67.00    78214\n",
       "5 2003-02-01    6363926  8355084    12142241        68.81    67463\n",
       "6 2003-03-01    7628481  9981627    13929984        71.66    77125\n",
       "7 2003-04-01    7103085  9325622    13210596        70.59    73182\n",
       "8 2003-05-01    7447462  9838460    13345197        73.72    73381"
      ]
     },
     "execution_count": 24,
     "metadata": {},
     "output_type": "execute_result"
    }
   ],
   "source": [
    "df_american.head()"
   ]
  },
  {
   "cell_type": "code",
   "execution_count": 25,
   "id": "21efbc96",
   "metadata": {},
   "outputs": [
    {
     "data": {
      "text/plain": [
       "date           datetime64[ns]\n",
       "pax_count               int64\n",
       "revenue                 int64\n",
       "seat_miles              int64\n",
       "load_factor           float64\n",
       "flights                 int64\n",
       "dtype: object"
      ]
     },
     "execution_count": 25,
     "metadata": {},
     "output_type": "execute_result"
    }
   ],
   "source": [
    "df_american.dtypes"
   ]
  },
  {
   "cell_type": "markdown",
   "id": "e81217aa",
   "metadata": {},
   "source": [
    "## Date to Index"
   ]
  },
  {
   "cell_type": "code",
   "execution_count": 26,
   "id": "12617c95",
   "metadata": {},
   "outputs": [],
   "source": [
    "df_american = df_american.set_index(['date'])"
   ]
  },
  {
   "cell_type": "code",
   "execution_count": 31,
   "id": "df39ac7e",
   "metadata": {},
   "outputs": [
    {
     "data": {
      "text/html": [
       "<div>\n",
       "<style scoped>\n",
       "    .dataframe tbody tr th:only-of-type {\n",
       "        vertical-align: middle;\n",
       "    }\n",
       "\n",
       "    .dataframe tbody tr th {\n",
       "        vertical-align: top;\n",
       "    }\n",
       "\n",
       "    .dataframe thead th {\n",
       "        text-align: right;\n",
       "    }\n",
       "</style>\n",
       "<table border=\"1\" class=\"dataframe\">\n",
       "  <thead>\n",
       "    <tr style=\"text-align: right;\">\n",
       "      <th></th>\n",
       "      <th>pax_count</th>\n",
       "      <th>revenue</th>\n",
       "      <th>seat_miles</th>\n",
       "      <th>load_factor</th>\n",
       "      <th>flights</th>\n",
       "    </tr>\n",
       "    <tr>\n",
       "      <th>date</th>\n",
       "      <th></th>\n",
       "      <th></th>\n",
       "      <th></th>\n",
       "      <th></th>\n",
       "      <th></th>\n",
       "    </tr>\n",
       "  </thead>\n",
       "  <tbody>\n",
       "    <tr>\n",
       "      <th>2003-01-01</th>\n",
       "      <td>7013818</td>\n",
       "      <td>9405547</td>\n",
       "      <td>14038698</td>\n",
       "      <td>67.00</td>\n",
       "      <td>78214</td>\n",
       "    </tr>\n",
       "    <tr>\n",
       "      <th>2003-02-01</th>\n",
       "      <td>6363926</td>\n",
       "      <td>8355084</td>\n",
       "      <td>12142241</td>\n",
       "      <td>68.81</td>\n",
       "      <td>67463</td>\n",
       "    </tr>\n",
       "    <tr>\n",
       "      <th>2003-03-01</th>\n",
       "      <td>7628481</td>\n",
       "      <td>9981627</td>\n",
       "      <td>13929984</td>\n",
       "      <td>71.66</td>\n",
       "      <td>77125</td>\n",
       "    </tr>\n",
       "    <tr>\n",
       "      <th>2003-04-01</th>\n",
       "      <td>7103085</td>\n",
       "      <td>9325622</td>\n",
       "      <td>13210596</td>\n",
       "      <td>70.59</td>\n",
       "      <td>73182</td>\n",
       "    </tr>\n",
       "    <tr>\n",
       "      <th>2003-05-01</th>\n",
       "      <td>7447462</td>\n",
       "      <td>9838460</td>\n",
       "      <td>13345197</td>\n",
       "      <td>73.72</td>\n",
       "      <td>73381</td>\n",
       "    </tr>\n",
       "  </tbody>\n",
       "</table>\n",
       "</div>"
      ],
      "text/plain": [
       "            pax_count  revenue  seat_miles  load_factor  flights\n",
       "date                                                            \n",
       "2003-01-01    7013818  9405547    14038698        67.00    78214\n",
       "2003-02-01    6363926  8355084    12142241        68.81    67463\n",
       "2003-03-01    7628481  9981627    13929984        71.66    77125\n",
       "2003-04-01    7103085  9325622    13210596        70.59    73182\n",
       "2003-05-01    7447462  9838460    13345197        73.72    73381"
      ]
     },
     "execution_count": 31,
     "metadata": {},
     "output_type": "execute_result"
    }
   ],
   "source": [
    "df_american.head()"
   ]
  },
  {
   "cell_type": "markdown",
   "id": "3b280585",
   "metadata": {},
   "source": [
    "## Clean data safe "
   ]
  },
  {
   "cell_type": "code",
   "execution_count": 29,
   "id": "a9ba8656",
   "metadata": {},
   "outputs": [
    {
     "name": "stdout",
     "output_type": "stream",
     "text": [
      "/Users/dilianaserafimova/Library/Mobile Documents/com~apple~CloudDocs/Documents/My Files/Master Studium/Masterarbeit/Clean_Data/American Airlines\n"
     ]
    }
   ],
   "source": [
    "%cd  /Users/dilianaserafimova/Library/Mobile Documents/com~apple~CloudDocs/Documents/My Files/Master Studium/Masterarbeit/Clean_Data/American Airlines"
   ]
  },
  {
   "cell_type": "code",
   "execution_count": 30,
   "id": "e54ec16d",
   "metadata": {},
   "outputs": [],
   "source": [
    "df_american.to_excel('df_american_clean.xlsx', index = True)"
   ]
  },
  {
   "cell_type": "markdown",
   "id": "661463c8",
   "metadata": {},
   "source": [
    "## Generating rolling means and standard deviations"
   ]
  },
  {
   "cell_type": "markdown",
   "id": "1bd33012",
   "metadata": {},
   "source": [
    "### Rolling mean"
   ]
  },
  {
   "cell_type": "code",
   "execution_count": 28,
   "id": "79042578",
   "metadata": {},
   "outputs": [],
   "source": [
    "df_american['pax_count_rolling_mean'] = df_american['pax_count'].rolling(12).mean()"
   ]
  },
  {
   "cell_type": "markdown",
   "id": "c1ee00ee",
   "metadata": {},
   "source": [
    "### Rolling std"
   ]
  },
  {
   "cell_type": "code",
   "execution_count": 29,
   "id": "2353789c",
   "metadata": {},
   "outputs": [],
   "source": [
    "df_american['pax_count_rolling_std'] = df_american['pax_count'].rolling(12).std()"
   ]
  },
  {
   "cell_type": "markdown",
   "id": "9fe5ef6a",
   "metadata": {},
   "source": [
    "### Plot"
   ]
  },
  {
   "cell_type": "code",
   "execution_count": 30,
   "id": "947d665f",
   "metadata": {
    "scrolled": true
   },
   "outputs": [
    {
     "data": {
      "image/png": "[encoded data removed]",
      "text/plain": [
       "<Figure size 432x288 with 1 Axes>"
      ]
     },
     "metadata": {
      "needs_background": "light"
     },
     "output_type": "display_data"
    }
   ],
   "source": [
    "plt.plot(df_american['pax_count_rolling_mean'], label = 'Monthly Rolling Mean', color = 'purple')\n",
    "plt.plot(df_american['pax_count_rolling_std'], label = 'Monthly Rolling Std', color = 'green')\n",
    "plt.plot(df_american['pax_count'], label='Raw Data')\n",
    "plt.legend()\n",
    "plt.xlabel('Year')\n",
    "plt.ylabel('Passanger')\n",
    "plt.show()"
   ]
  },
  {
   "cell_type": "code",
   "execution_count": 31,
   "id": "15870ea4",
   "metadata": {},
   "outputs": [
    {
     "data": {
      "text/plain": [
       "[<matplotlib.lines.Line2D at 0x7fb7a8823eb0>]"
      ]
     },
     "execution_count": 31,
     "metadata": {},
     "output_type": "execute_result"
    },
    {
     "data": {
      "image/png": "[encoded data removed]",
      "text/plain": [
       "<Figure size 432x288 with 1 Axes>"
      ]
     },
     "metadata": {
      "needs_background": "light"
     },
     "output_type": "display_data"
    }
   ],
   "source": [
    "plt.plot(df_american['pax_count_rolling_mean'], label = 'Monthly Rolling Mean', color = 'purple')"
   ]
  },
  {
   "cell_type": "markdown",
   "id": "9ffa86f7",
   "metadata": {},
   "source": [
    "## Seasonal decompose"
   ]
  },
  {
   "cell_type": "code",
   "execution_count": 32,
   "id": "5be475e3",
   "metadata": {},
   "outputs": [],
   "source": [
    "result=seasonal_decompose(df_american['pax_count'], model='multiplicable', period=12)"
   ]
  },
  {
   "cell_type": "code",
   "execution_count": 33,
   "id": "f8d899c7",
   "metadata": {},
   "outputs": [
    {
     "data": {
      "text/plain": [
       "<AxesSubplot:xlabel='date'>"
      ]
     },
     "execution_count": 33,
     "metadata": {},
     "output_type": "execute_result"
    },
    {
     "data": {
      "image/png": "[encoded data removed]",
      "text/plain": [
       "<Figure size 432x288 with 1 Axes>"
      ]
     },
     "metadata": {
      "needs_background": "light"
     },
     "output_type": "display_data"
    }
   ],
   "source": [
    "result.seasonal.plot()"
   ]
  },
  {
   "cell_type": "code",
   "execution_count": 34,
   "id": "c5649526",
   "metadata": {},
   "outputs": [
    {
     "data": {
      "text/plain": [
       "<AxesSubplot:xlabel='date'>"
      ]
     },
     "execution_count": 34,
     "metadata": {},
     "output_type": "execute_result"
    },
    {
     "data": {
      "image/png": "[encoded data removed]",
      "text/plain": [
       "<Figure size 432x288 with 1 Axes>"
      ]
     },
     "metadata": {
      "needs_background": "light"
     },
     "output_type": "display_data"
    }
   ],
   "source": [
    "result.trend.plot()"
   ]
  },
  {
   "cell_type": "code",
   "execution_count": 35,
   "id": "8d3fc14c",
   "metadata": {},
   "outputs": [
    {
     "data": {
      "text/plain": [
       "<AxesSubplot:xlabel='date'>"
      ]
     },
     "execution_count": 35,
     "metadata": {},
     "output_type": "execute_result"
    },
    {
     "data": {
      "image/png": "[encoded data removed]",
      "text/plain": [
       "<Figure size 432x288 with 1 Axes>"
      ]
     },
     "metadata": {
      "needs_background": "light"
     },
     "output_type": "display_data"
    }
   ],
   "source": [
    "result.resid.plot()"
   ]
  },
  {
   "cell_type": "code",
   "execution_count": 36,
   "id": "a1462914",
   "metadata": {},
   "outputs": [
    {
     "data": {
      "image/png": "[encoded data removed]",
      "text/plain": [
       "<Figure size 432x288 with 4 Axes>"
      ]
     },
     "execution_count": 36,
     "metadata": {},
     "output_type": "execute_result"
    },
    {
     "data": {
      "image/png": "[encoded data removed]",
      "text/plain": [
       "<Figure size 432x288 with 4 Axes>"
      ]
     },
     "metadata": {
      "needs_background": "light"
     },
     "output_type": "display_data"
    }
   ],
   "source": [
    "result.plot()"
   ]
  },
  {
   "cell_type": "code",
   "execution_count": 37,
   "id": "9e44e673",
   "metadata": {
    "scrolled": true
   },
   "outputs": [
    {
     "data": {
      "text/plain": [
       "date\n",
       "2016-08-01    12704813\n",
       "2016-09-01    11220742\n",
       "2016-10-01    11764077\n",
       "2016-11-01    11169788\n",
       "2016-12-01    11695734\n",
       "2017-01-01    11051300\n",
       "2017-02-01    10167600\n",
       "2017-03-01    12532952\n",
       "2017-04-01    12059664\n",
       "2017-05-01    12682795\n",
       "Name: pax_count, dtype: int64"
      ]
     },
     "execution_count": 37,
     "metadata": {},
     "output_type": "execute_result"
    }
   ],
   "source": [
    "X = df_american['pax_count']\n",
    "size = int(len(X) * 0.8)\n",
    "training_set, test_set = X[0:size], X[size:len(X)]\n",
    "test_set.head(10)"
   ]
  },
  {
   "cell_type": "code",
   "execution_count": 38,
   "id": "c27e635d",
   "metadata": {},
   "outputs": [
    {
     "data": {
      "text/plain": [
       "date\n",
       "2015-10-01    12419858\n",
       "2015-11-01    11520798\n",
       "2015-12-01    12091996\n",
       "2016-01-01    11281553\n",
       "2016-02-01    10561759\n",
       "2016-03-01    12635859\n",
       "2016-04-01    11830169\n",
       "2016-05-01    12614397\n",
       "2016-06-01    13146977\n",
       "2016-07-01    13563881\n",
       "Name: pax_count, dtype: int64"
      ]
     },
     "execution_count": 38,
     "metadata": {},
     "output_type": "execute_result"
    }
   ],
   "source": [
    "training_set.tail(10)"
   ]
  },
  {
   "cell_type": "code",
   "execution_count": 39,
   "id": "20816a62",
   "metadata": {},
   "outputs": [
    {
     "data": {
      "text/plain": [
       "<AxesSubplot:xlabel='date'>"
      ]
     },
     "execution_count": 39,
     "metadata": {},
     "output_type": "execute_result"
    },
    {
     "data": {
      "image/png": "[encoded data removed]",
      "text/plain": [
       "<Figure size 648x432 with 1 Axes>"
      ]
     },
     "metadata": {
      "needs_background": "light"
     },
     "output_type": "display_data"
    }
   ],
   "source": [
    "training_set.plot(figsize = (9,6), legend = True)\n",
    "test_set.plot(legend = True)"
   ]
  }
 ],
 "metadata": {
  "kernelspec": {
   "display_name": "Python 3 (ipykernel)",
   "language": "python",
   "name": "python3"
  },
  "language_info": {
   "codemirror_mode": {
    "name": "ipython",
    "version": 3
   },
   "file_extension": ".py",
   "mimetype": "text/x-python",
   "name": "python",
   "nbconvert_exporter": "python",
   "pygments_lexer": "ipython3",
   "version": "3.9.7"
  }
 },
 "nbformat": 4,
 "nbformat_minor": 5
}
