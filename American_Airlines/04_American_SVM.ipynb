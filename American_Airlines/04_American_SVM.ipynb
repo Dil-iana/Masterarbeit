{
 "cells": [
  {
   "cell_type": "markdown",
   "id": "f1fb8140",
   "metadata": {},
   "source": [
    "### Import libs"
   ]
  },
  {
   "cell_type": "code",
   "execution_count": 24,
   "id": "f87efc2f",
   "metadata": {},
   "outputs": [],
   "source": [
    "import pandas as pd\n",
    "import math\n",
    "import matplotlib.pyplot as plt\n",
    "\n",
    "from math import sqrt\n",
    "from matplotlib import pyplot\n",
    "from sklearn.svm import SVR\n",
    "from sklearn.model_selection import train_test_split\n",
    "from sklearn.metrics import mean_squared_error"
   ]
  },
  {
   "cell_type": "markdown",
   "id": "f0dde421",
   "metadata": {},
   "source": [
    "### Import data "
   ]
  },
  {
   "cell_type": "code",
   "execution_count": 25,
   "id": "6c0c65ba",
   "metadata": {},
   "outputs": [],
   "source": [
    "df_american = pd.read_excel(r'/Users/dilianaserafimova/Desktop/df_american_clean.xlsx')"
   ]
  },
  {
   "cell_type": "markdown",
   "id": "2fda27f5",
   "metadata": {},
   "source": [
    "### Date to index "
   ]
  },
  {
   "cell_type": "code",
   "execution_count": 26,
   "id": "fb412fe8",
   "metadata": {},
   "outputs": [],
   "source": [
    "df_american = df_american.set_index(['date'])"
   ]
  },
  {
   "cell_type": "code",
   "execution_count": 27,
   "id": "64eb3da9",
   "metadata": {},
   "outputs": [
    {
     "data": {
      "text/html": [
       "<div>\n",
       "<style scoped>\n",
       "    .dataframe tbody tr th:only-of-type {\n",
       "        vertical-align: middle;\n",
       "    }\n",
       "\n",
       "    .dataframe tbody tr th {\n",
       "        vertical-align: top;\n",
       "    }\n",
       "\n",
       "    .dataframe thead th {\n",
       "        text-align: right;\n",
       "    }\n",
       "</style>\n",
       "<table border=\"1\" class=\"dataframe\">\n",
       "  <thead>\n",
       "    <tr style=\"text-align: right;\">\n",
       "      <th></th>\n",
       "      <th>pax_count</th>\n",
       "      <th>revenue</th>\n",
       "      <th>seat_miles</th>\n",
       "      <th>load_factor</th>\n",
       "      <th>flights</th>\n",
       "    </tr>\n",
       "    <tr>\n",
       "      <th>date</th>\n",
       "      <th></th>\n",
       "      <th></th>\n",
       "      <th></th>\n",
       "      <th></th>\n",
       "      <th></th>\n",
       "    </tr>\n",
       "  </thead>\n",
       "  <tbody>\n",
       "    <tr>\n",
       "      <th>2003-01-01</th>\n",
       "      <td>7013818</td>\n",
       "      <td>9405547</td>\n",
       "      <td>14038698</td>\n",
       "      <td>67.00</td>\n",
       "      <td>78214</td>\n",
       "    </tr>\n",
       "    <tr>\n",
       "      <th>2003-02-01</th>\n",
       "      <td>6363926</td>\n",
       "      <td>8355084</td>\n",
       "      <td>12142241</td>\n",
       "      <td>68.81</td>\n",
       "      <td>67463</td>\n",
       "    </tr>\n",
       "    <tr>\n",
       "      <th>2003-03-01</th>\n",
       "      <td>7628481</td>\n",
       "      <td>9981627</td>\n",
       "      <td>13929984</td>\n",
       "      <td>71.66</td>\n",
       "      <td>77125</td>\n",
       "    </tr>\n",
       "    <tr>\n",
       "      <th>2003-04-01</th>\n",
       "      <td>7103085</td>\n",
       "      <td>9325622</td>\n",
       "      <td>13210596</td>\n",
       "      <td>70.59</td>\n",
       "      <td>73182</td>\n",
       "    </tr>\n",
       "    <tr>\n",
       "      <th>2003-05-01</th>\n",
       "      <td>7447462</td>\n",
       "      <td>9838460</td>\n",
       "      <td>13345197</td>\n",
       "      <td>73.72</td>\n",
       "      <td>73381</td>\n",
       "    </tr>\n",
       "  </tbody>\n",
       "</table>\n",
       "</div>"
      ],
      "text/plain": [
       "            pax_count  revenue  seat_miles  load_factor  flights\n",
       "date                                                            \n",
       "2003-01-01    7013818  9405547    14038698        67.00    78214\n",
       "2003-02-01    6363926  8355084    12142241        68.81    67463\n",
       "2003-03-01    7628481  9981627    13929984        71.66    77125\n",
       "2003-04-01    7103085  9325622    13210596        70.59    73182\n",
       "2003-05-01    7447462  9838460    13345197        73.72    73381"
      ]
     },
     "execution_count": 27,
     "metadata": {},
     "output_type": "execute_result"
    }
   ],
   "source": [
    "df_american.head()"
   ]
  },
  {
   "cell_type": "markdown",
   "id": "68cb4fa1",
   "metadata": {},
   "source": [
    "### Train Test Set "
   ]
  },
  {
   "cell_type": "code",
   "execution_count": 28,
   "id": "a76d2a81",
   "metadata": {},
   "outputs": [],
   "source": [
    "X = df_american[['revenue', 'seat_miles', 'load_factor', 'flights']]"
   ]
  },
  {
   "cell_type": "code",
   "execution_count": 29,
   "id": "49c09ef1",
   "metadata": {},
   "outputs": [],
   "source": [
    "y = df_american['pax_count']"
   ]
  },
  {
   "cell_type": "code",
   "execution_count": 30,
   "id": "f3bf41d6",
   "metadata": {},
   "outputs": [],
   "source": [
    "X_train, X_test, y_train, y_test = train_test_split(X, y, test_size = 0.2, random_state = 42, shuffle = False)"
   ]
  },
  {
   "cell_type": "markdown",
   "id": "fb463be6",
   "metadata": {},
   "source": [
    "### Model "
   ]
  },
  {
   "cell_type": "code",
   "execution_count": 31,
   "id": "319c69a0",
   "metadata": {},
   "outputs": [
    {
     "name": "stdout",
     "output_type": "stream",
     "text": [
      "linear -322.84118669513833\n",
      "poly -0.05872503075161206\n",
      "rbf -0.059071163046023\n",
      "sigmoid -0.05908043396720086\n"
     ]
    }
   ],
   "source": [
    "for k in ['linear', 'poly', 'rbf', 'sigmoid']:\n",
    "    clf = SVR(kernel=k)\n",
    "    clf.fit(X_train, y_train)\n",
    "    confidence = clf.score(X_train, y_train)\n",
    "    print(k, confidence)"
   ]
  },
  {
   "cell_type": "markdown",
   "id": "e52976ca",
   "metadata": {},
   "source": [
    "### Fit model"
   ]
  },
  {
   "cell_type": "code",
   "execution_count": 46,
   "id": "d8906a68",
   "metadata": {},
   "outputs": [
    {
     "data": {
      "text/html": [
       "<style>#sk-container-id-4 {color: black;background-color: white;}#sk-container-id-4 pre{padding: 0;}#sk-container-id-4 div.sk-toggleable {background-color: white;}#sk-container-id-4 label.sk-toggleable__label {cursor: pointer;display: block;width: 100%;margin-bottom: 0;padding: 0.3em;box-sizing: border-box;text-align: center;}#sk-container-id-4 label.sk-toggleable__label-arrow:before {content: \"▸\";float: left;margin-right: 0.25em;color: #696969;}#sk-container-id-4 label.sk-toggleable__label-arrow:hover:before {color: black;}#sk-container-id-4 div.sk-estimator:hover label.sk-toggleable__label-arrow:before {color: black;}#sk-container-id-4 div.sk-toggleable__content {max-height: 0;max-width: 0;overflow: hidden;text-align: left;background-color: #f0f8ff;}#sk-container-id-4 div.sk-toggleable__content pre {margin: 0.2em;color: black;border-radius: 0.25em;background-color: #f0f8ff;}#sk-container-id-4 input.sk-toggleable__control:checked~div.sk-toggleable__content {max-height: 200px;max-width: 100%;overflow: auto;}#sk-container-id-4 input.sk-toggleable__control:checked~label.sk-toggleable__label-arrow:before {content: \"▾\";}#sk-container-id-4 div.sk-estimator input.sk-toggleable__control:checked~label.sk-toggleable__label {background-color: #d4ebff;}#sk-container-id-4 div.sk-label input.sk-toggleable__control:checked~label.sk-toggleable__label {background-color: #d4ebff;}#sk-container-id-4 input.sk-hidden--visually {border: 0;clip: rect(1px 1px 1px 1px);clip: rect(1px, 1px, 1px, 1px);height: 1px;margin: -1px;overflow: hidden;padding: 0;position: absolute;width: 1px;}#sk-container-id-4 div.sk-estimator {font-family: monospace;background-color: #f0f8ff;border: 1px dotted black;border-radius: 0.25em;box-sizing: border-box;margin-bottom: 0.5em;}#sk-container-id-4 div.sk-estimator:hover {background-color: #d4ebff;}#sk-container-id-4 div.sk-parallel-item::after {content: \"\";width: 100%;border-bottom: 1px solid gray;flex-grow: 1;}#sk-container-id-4 div.sk-label:hover label.sk-toggleable__label {background-color: #d4ebff;}#sk-container-id-4 div.sk-serial::before {content: \"\";position: absolute;border-left: 1px solid gray;box-sizing: border-box;top: 0;bottom: 0;left: 50%;z-index: 0;}#sk-container-id-4 div.sk-serial {display: flex;flex-direction: column;align-items: center;background-color: white;padding-right: 0.2em;padding-left: 0.2em;position: relative;}#sk-container-id-4 div.sk-item {position: relative;z-index: 1;}#sk-container-id-4 div.sk-parallel {display: flex;align-items: stretch;justify-content: center;background-color: white;position: relative;}#sk-container-id-4 div.sk-item::before, #sk-container-id-4 div.sk-parallel-item::before {content: \"\";position: absolute;border-left: 1px solid gray;box-sizing: border-box;top: 0;bottom: 0;left: 50%;z-index: -1;}#sk-container-id-4 div.sk-parallel-item {display: flex;flex-direction: column;z-index: 1;position: relative;background-color: white;}#sk-container-id-4 div.sk-parallel-item:first-child::after {align-self: flex-end;width: 50%;}#sk-container-id-4 div.sk-parallel-item:last-child::after {align-self: flex-start;width: 50%;}#sk-container-id-4 div.sk-parallel-item:only-child::after {width: 0;}#sk-container-id-4 div.sk-dashed-wrapped {border: 1px dashed gray;margin: 0 0.4em 0.5em 0.4em;box-sizing: border-box;padding-bottom: 0.4em;background-color: white;}#sk-container-id-4 div.sk-label label {font-family: monospace;font-weight: bold;display: inline-block;line-height: 1.2em;}#sk-container-id-4 div.sk-label-container {text-align: center;}#sk-container-id-4 div.sk-container {/* jupyter's `normalize.less` sets `[hidden] { display: none; }` but bootstrap.min.css set `[hidden] { display: none !important; }` so we also need the `!important` here to be able to override the default hidden behavior on the sphinx rendered scikit-learn.org. See: https://github.com/scikit-learn/scikit-learn/issues/21755 */display: inline-block !important;position: relative;}#sk-container-id-4 div.sk-text-repr-fallback {display: none;}</style><div id=\"sk-container-id-4\" class=\"sk-top-container\"><div class=\"sk-text-repr-fallback\"><pre>SVR(C=10000.0, gamma=0.1)</pre><b>In a Jupyter environment, please rerun this cell to show the HTML representation or trust the notebook. <br />On GitHub, the HTML representation is unable to render, please try loading this page with nbviewer.org.</b></div><div class=\"sk-container\" hidden><div class=\"sk-item\"><div class=\"sk-estimator sk-toggleable\"><input class=\"sk-toggleable__control sk-hidden--visually\" id=\"sk-estimator-id-4\" type=\"checkbox\" checked><label for=\"sk-estimator-id-4\" class=\"sk-toggleable__label sk-toggleable__label-arrow\">SVR</label><div class=\"sk-toggleable__content\"><pre>SVR(C=10000.0, gamma=0.1)</pre></div></div></div></div></div>"
      ],
      "text/plain": [
       "SVR(C=10000.0, gamma=0.1)"
      ]
     },
     "execution_count": 46,
     "metadata": {},
     "output_type": "execute_result"
    }
   ],
   "source": [
    "svr_model = SVR(kernel='rbf', C=1e4, gamma=0.1)\n",
    "svr_model.fit(X_train, y_train)"
   ]
  },
  {
   "cell_type": "markdown",
   "id": "e39b0c72",
   "metadata": {},
   "source": [
    "### Prediction "
   ]
  },
  {
   "cell_type": "code",
   "execution_count": 47,
   "id": "539c083a",
   "metadata": {},
   "outputs": [],
   "source": [
    "train_predict = svr_model.predict(X_train)"
   ]
  },
  {
   "cell_type": "markdown",
   "id": "ab8bf0cb",
   "metadata": {},
   "source": [
    "### Evaluation"
   ]
  },
  {
   "cell_type": "code",
   "execution_count": 48,
   "id": "896b84ed",
   "metadata": {},
   "outputs": [],
   "source": [
    "def rmse(x, y):\n",
    "    return sqrt(mean_squared_error(x, y))"
   ]
  },
  {
   "cell_type": "code",
   "execution_count": 49,
   "id": "c2d4eb7f",
   "metadata": {},
   "outputs": [
    {
     "name": "stdout",
     "output_type": "stream",
     "text": [
      "Training Evaluation - SVR\n",
      "RMSE : 1532264.9806529817\n"
     ]
    }
   ],
   "source": [
    "print(\"Training Evaluation - SVR\")\n",
    "print(\"RMSE\", \":\", rmse(y_train, train_predict))"
   ]
  },
  {
   "cell_type": "markdown",
   "id": "438ef86b",
   "metadata": {},
   "source": [
    "### Plot "
   ]
  },
  {
   "cell_type": "code",
   "execution_count": 50,
   "id": "10c83ca6",
   "metadata": {},
   "outputs": [],
   "source": [
    "def plot_stores(actual, predictions):\n",
    "    title = 'Pax Prediction'\n",
    "    act = plt.plot(actual, color='turquoise', label='Actual')\n",
    "    pred = plt.plot(predictions, color='darkgoldenrod', label='Predictions')\n",
    "    plt.xlabel(\"Date\")\n",
    "    plt.ylabel(\"Paxes\")\n",
    "    plt.legend(loc='best')\n",
    "    plt.title(title)\n",
    "    plt.show()"
   ]
  },
  {
   "cell_type": "code",
   "execution_count": 51,
   "id": "9fccb81b",
   "metadata": {},
   "outputs": [],
   "source": [
    "train_predict = pd.DataFrame([[x, y] for x, y in zip(y_train.index,train_predict)], columns=[\"date\", \"pred\"])\n",
    "train_predict = train_predict.set_index('date')"
   ]
  },
  {
   "cell_type": "code",
   "execution_count": 52,
   "id": "8dae50ef",
   "metadata": {
    "scrolled": true
   },
   "outputs": [
    {
     "data": {
      "image/png": "[encoded data removed]",
      "text/plain": [
       "<Figure size 432x288 with 1 Axes>"
      ]
     },
     "metadata": {
      "needs_background": "light"
     },
     "output_type": "display_data"
    }
   ],
   "source": [
    "plot_stores(y_train, train_predict)"
   ]
  }
 ],
 "metadata": {
  "kernelspec": {
   "display_name": "Python 3 (ipykernel)",
   "language": "python",
   "name": "python3"
  },
  "language_info": {
   "codemirror_mode": {
    "name": "ipython",
    "version": 3
   },
   "file_extension": ".py",
   "mimetype": "text/x-python",
   "name": "python",
   "nbconvert_exporter": "python",
   "pygments_lexer": "ipython3",
   "version": "3.9.7"
  }
 },
 "nbformat": 4,
 "nbformat_minor": 5
}
