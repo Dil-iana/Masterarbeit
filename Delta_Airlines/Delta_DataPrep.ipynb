{
 "cells": [
  {
   "cell_type": "code",
   "execution_count": 1,
   "id": "ed0ab902",
   "metadata": {},
   "outputs": [],
   "source": [
    "from pmdarima import auto_arima\n",
    "from pandas.plotting import autocorrelation_plot"
   ]
  },
  {
   "cell_type": "code",
   "execution_count": 2,
   "id": "6c6e3190",
   "metadata": {},
   "outputs": [],
   "source": [
    "from sklearn.metrics import mean_squared_error, mean_absolute_error\n",
    "from math import sqrt"
   ]
  },
  {
   "cell_type": "code",
   "execution_count": 3,
   "id": "8277313e",
   "metadata": {},
   "outputs": [],
   "source": [
    "from statsmodels.tsa.arima.model import ARIMA\n",
    "from statsmodels.tsa.seasonal import seasonal_decompose\n",
    "from statsmodels.tsa.holtwinters import SimpleExpSmoothing\n",
    "from statsmodels.tsa.holtwinters import Holt\n",
    "from statsmodels.tsa.holtwinters import ExponentialSmoothing\n",
    "from statsmodels.tsa.stattools import adfuller"
   ]
  },
  {
   "cell_type": "code",
   "execution_count": 4,
   "id": "5840448c",
   "metadata": {},
   "outputs": [],
   "source": [
    "import pandas as pd\n",
    "import numpy as np\n",
    "import seaborn as sns\n",
    "import matplotlib.pyplot as plt\n",
    "import os\n",
    "from matplotlib import pyplot\n",
    "from pandas import DataFrame\n",
    "from numpy import log"
   ]
  },
  {
   "cell_type": "code",
   "execution_count": 5,
   "id": "8a6cb302",
   "metadata": {},
   "outputs": [],
   "source": [
    "df_delta = pd.read_excel(r'/Users/dilianaserafimova/Desktop/Delta_Airlines.xlsx')"
   ]
  },
  {
   "cell_type": "code",
   "execution_count": 6,
   "id": "5f379937",
   "metadata": {},
   "outputs": [
    {
     "data": {
      "text/html": [
       "<div>\n",
       "<style scoped>\n",
       "    .dataframe tbody tr th:only-of-type {\n",
       "        vertical-align: middle;\n",
       "    }\n",
       "\n",
       "    .dataframe tbody tr th {\n",
       "        vertical-align: top;\n",
       "    }\n",
       "\n",
       "    .dataframe thead th {\n",
       "        text-align: right;\n",
       "    }\n",
       "</style>\n",
       "<table border=\"1\" class=\"dataframe\">\n",
       "  <thead>\n",
       "    <tr style=\"text-align: right;\">\n",
       "      <th></th>\n",
       "      <th>Year</th>\n",
       "      <th>Month</th>\n",
       "      <th>date</th>\n",
       "      <th>flight_domestic</th>\n",
       "      <th>flight_int</th>\n",
       "      <th>pax_count</th>\n",
       "      <th>revenue</th>\n",
       "      <th>seat_miles</th>\n",
       "      <th>load_factor</th>\n",
       "      <th>flights</th>\n",
       "    </tr>\n",
       "  </thead>\n",
       "  <tbody>\n",
       "    <tr>\n",
       "      <th>0</th>\n",
       "      <td>2002</td>\n",
       "      <td>10</td>\n",
       "      <td>2002 10</td>\n",
       "      <td>5,055,393</td>\n",
       "      <td>255.646</td>\n",
       "      <td>5,311,039</td>\n",
       "      <td>5,379,708</td>\n",
       "      <td>7,635,713</td>\n",
       "      <td>70.45</td>\n",
       "      <td>64,788</td>\n",
       "    </tr>\n",
       "    <tr>\n",
       "      <th>1</th>\n",
       "      <td>2002</td>\n",
       "      <td>11</td>\n",
       "      <td>2002 11</td>\n",
       "      <td>4,742,031</td>\n",
       "      <td>241.053</td>\n",
       "      <td>4,983,084</td>\n",
       "      <td>4,971,506</td>\n",
       "      <td>7,205,672</td>\n",
       "      <td>68.99</td>\n",
       "      <td>61,138</td>\n",
       "    </tr>\n",
       "    <tr>\n",
       "      <th>2</th>\n",
       "      <td>2002</td>\n",
       "      <td>12</td>\n",
       "      <td>2002 12</td>\n",
       "      <td>5,166,581</td>\n",
       "      <td>252.903</td>\n",
       "      <td>5,419,484</td>\n",
       "      <td>5,525,107</td>\n",
       "      <td>7,275,940</td>\n",
       "      <td>75.94</td>\n",
       "      <td>62,085</td>\n",
       "    </tr>\n",
       "    <tr>\n",
       "      <th>3</th>\n",
       "      <td>2002</td>\n",
       "      <td>TOTAL</td>\n",
       "      <td>2002 TOTAL</td>\n",
       "      <td>59,937,792</td>\n",
       "      <td>3,250,368</td>\n",
       "      <td>63,188,160</td>\n",
       "      <td>65,230,904</td>\n",
       "      <td>89,739,736</td>\n",
       "      <td>72.69</td>\n",
       "      <td>823,261</td>\n",
       "    </tr>\n",
       "    <tr>\n",
       "      <th>4</th>\n",
       "      <td>2003</td>\n",
       "      <td>1</td>\n",
       "      <td>2003 1</td>\n",
       "      <td>4,525,201</td>\n",
       "      <td>224.647</td>\n",
       "      <td>4,749,848</td>\n",
       "      <td>4,883,578</td>\n",
       "      <td>7,285,372</td>\n",
       "      <td>67.03</td>\n",
       "      <td>62,999</td>\n",
       "    </tr>\n",
       "  </tbody>\n",
       "</table>\n",
       "</div>"
      ],
      "text/plain": [
       "   Year  Month        date flight_domestic flight_int   pax_count     revenue  \\\n",
       "0  2002     10     2002 10       5,055,393    255.646   5,311,039   5,379,708   \n",
       "1  2002     11     2002 11       4,742,031    241.053   4,983,084   4,971,506   \n",
       "2  2002     12     2002 12       5,166,581    252.903   5,419,484   5,525,107   \n",
       "3  2002  TOTAL  2002 TOTAL      59,937,792  3,250,368  63,188,160  65,230,904   \n",
       "4  2003      1      2003 1       4,525,201    224.647   4,749,848   4,883,578   \n",
       "\n",
       "   seat_miles  load_factor  flights  \n",
       "0   7,635,713        70.45   64,788  \n",
       "1   7,205,672        68.99   61,138  \n",
       "2   7,275,940        75.94   62,085  \n",
       "3  89,739,736        72.69  823,261  \n",
       "4   7,285,372        67.03   62,999  "
      ]
     },
     "execution_count": 6,
     "metadata": {},
     "output_type": "execute_result"
    }
   ],
   "source": [
    "df_delta.head()"
   ]
  },
  {
   "cell_type": "markdown",
   "id": "6b5a06a7",
   "metadata": {},
   "source": [
    "## Delete irrelevant data / years / months "
   ]
  },
  {
   "cell_type": "markdown",
   "id": "3ef05a3d",
   "metadata": {},
   "source": [
    "#### Delete irrelevant date"
   ]
  },
  {
   "cell_type": "code",
   "execution_count": 7,
   "id": "9b45b95e",
   "metadata": {},
   "outputs": [],
   "source": [
    "indexNames = df_delta[df_delta['Year'] == 2002].index\n",
    "df_delta.drop(indexNames , inplace=True)\n"
   ]
  },
  {
   "cell_type": "code",
   "execution_count": 8,
   "id": "ac60c6df",
   "metadata": {},
   "outputs": [],
   "source": [
    "indexNames = df_delta[df_delta['Year'] == 2020].index\n",
    "df_delta.drop(indexNames , inplace=True)"
   ]
  },
  {
   "cell_type": "code",
   "execution_count": 9,
   "id": "2574db3c",
   "metadata": {},
   "outputs": [],
   "source": [
    "indexNames = df_delta[df_delta['Year'] == 2021].index\n",
    "df_delta.drop(indexNames , inplace=True)"
   ]
  },
  {
   "cell_type": "code",
   "execution_count": 10,
   "id": "896d04ed",
   "metadata": {},
   "outputs": [],
   "source": [
    "indexNames = df_delta[df_delta['Year'] == 2022].index\n",
    "df_delta.drop(indexNames , inplace=True)"
   ]
  },
  {
   "cell_type": "code",
   "execution_count": 11,
   "id": "175b99d7",
   "metadata": {
    "scrolled": true
   },
   "outputs": [
    {
     "name": "stdout",
     "output_type": "stream",
     "text": [
      "     Year  Month        date flight_domestic  flight_int    pax_count  \\\n",
      "4    2003      1      2003 1       4,525,201     224.647    4,749,848   \n",
      "5    2003      2      2003 2       4,228,590     186.518    4,415,108   \n",
      "6    2003      3      2003 3       4,976,856     220.033    5,196,889   \n",
      "7    2003      4      2003 4       4,457,360     199.412    4,656,772   \n",
      "8    2003      5      2003 5       4,598,267     231.417    4,829,684   \n",
      "..    ...    ...         ...             ...         ...          ...   \n",
      "220  2019      9      2019 9       8,482,166   1,047,410    9,529,576   \n",
      "221  2019     10     2019 10       9,120,475   1,011,181   10,131,656   \n",
      "222  2019     11     2019 11       8,338,482     870.304    9,208,786   \n",
      "223  2019     12     2019 12       8,871,949   1,045,911    9,917,860   \n",
      "224  2019  TOTAL  2019 TOTAL     105,924,303  12,846,254  118,770,557   \n",
      "\n",
      "         revenue   seat_miles  load_factor    flights  \n",
      "4      4,883,578    7,285,372        67.03     62,999  \n",
      "5      4,399,172    6,286,464        69.98     54,334  \n",
      "6      5,223,931    7,131,359        73.25     61,523  \n",
      "7      4,660,313    6,542,917        71.23     55,024  \n",
      "8      4,950,716    6,520,162        75.93     55,443  \n",
      "..           ...          ...          ...        ...  \n",
      "220   12,339,717   14,319,730        86.17     93,787  \n",
      "221   12,566,741   14,518,382        86.56     98,314  \n",
      "222   11,122,609   13,038,005        85.31     90,237  \n",
      "223   12,532,681   14,041,912        89.25     93,422  \n",
      "224  151,759,269  173,470,475        87.48  1,141,949  \n",
      "\n",
      "[221 rows x 10 columns]\n"
     ]
    }
   ],
   "source": [
    "print(df_delta)"
   ]
  },
  {
   "cell_type": "markdown",
   "id": "f1a93baf",
   "metadata": {},
   "source": [
    "#### Delete irrelevant content"
   ]
  },
  {
   "cell_type": "code",
   "execution_count": 12,
   "id": "8418c50b",
   "metadata": {},
   "outputs": [],
   "source": [
    "indexNames = df_delta[df_delta['Month'] == 'TOTAL'].index\n",
    "df_delta.drop(indexNames , inplace=True)"
   ]
  },
  {
   "cell_type": "code",
   "execution_count": 13,
   "id": "c2778cd0",
   "metadata": {},
   "outputs": [
    {
     "data": {
      "text/html": [
       "<div>\n",
       "<style scoped>\n",
       "    .dataframe tbody tr th:only-of-type {\n",
       "        vertical-align: middle;\n",
       "    }\n",
       "\n",
       "    .dataframe tbody tr th {\n",
       "        vertical-align: top;\n",
       "    }\n",
       "\n",
       "    .dataframe thead th {\n",
       "        text-align: right;\n",
       "    }\n",
       "</style>\n",
       "<table border=\"1\" class=\"dataframe\">\n",
       "  <thead>\n",
       "    <tr style=\"text-align: right;\">\n",
       "      <th></th>\n",
       "      <th>Year</th>\n",
       "      <th>Month</th>\n",
       "      <th>date</th>\n",
       "      <th>flight_domestic</th>\n",
       "      <th>flight_int</th>\n",
       "      <th>pax_count</th>\n",
       "      <th>revenue</th>\n",
       "      <th>seat_miles</th>\n",
       "      <th>load_factor</th>\n",
       "      <th>flights</th>\n",
       "    </tr>\n",
       "  </thead>\n",
       "  <tbody>\n",
       "    <tr>\n",
       "      <th>4</th>\n",
       "      <td>2003</td>\n",
       "      <td>1</td>\n",
       "      <td>2003 1</td>\n",
       "      <td>4,525,201</td>\n",
       "      <td>224.647</td>\n",
       "      <td>4,749,848</td>\n",
       "      <td>4,883,578</td>\n",
       "      <td>7,285,372</td>\n",
       "      <td>67.03</td>\n",
       "      <td>62,999</td>\n",
       "    </tr>\n",
       "    <tr>\n",
       "      <th>5</th>\n",
       "      <td>2003</td>\n",
       "      <td>2</td>\n",
       "      <td>2003 2</td>\n",
       "      <td>4,228,590</td>\n",
       "      <td>186.518</td>\n",
       "      <td>4,415,108</td>\n",
       "      <td>4,399,172</td>\n",
       "      <td>6,286,464</td>\n",
       "      <td>69.98</td>\n",
       "      <td>54,334</td>\n",
       "    </tr>\n",
       "    <tr>\n",
       "      <th>6</th>\n",
       "      <td>2003</td>\n",
       "      <td>3</td>\n",
       "      <td>2003 3</td>\n",
       "      <td>4,976,856</td>\n",
       "      <td>220.033</td>\n",
       "      <td>5,196,889</td>\n",
       "      <td>5,223,931</td>\n",
       "      <td>7,131,359</td>\n",
       "      <td>73.25</td>\n",
       "      <td>61,523</td>\n",
       "    </tr>\n",
       "    <tr>\n",
       "      <th>7</th>\n",
       "      <td>2003</td>\n",
       "      <td>4</td>\n",
       "      <td>2003 4</td>\n",
       "      <td>4,457,360</td>\n",
       "      <td>199.412</td>\n",
       "      <td>4,656,772</td>\n",
       "      <td>4,660,313</td>\n",
       "      <td>6,542,917</td>\n",
       "      <td>71.23</td>\n",
       "      <td>55,024</td>\n",
       "    </tr>\n",
       "    <tr>\n",
       "      <th>8</th>\n",
       "      <td>2003</td>\n",
       "      <td>5</td>\n",
       "      <td>2003 5</td>\n",
       "      <td>4,598,267</td>\n",
       "      <td>231.417</td>\n",
       "      <td>4,829,684</td>\n",
       "      <td>4,950,716</td>\n",
       "      <td>6,520,162</td>\n",
       "      <td>75.93</td>\n",
       "      <td>55,443</td>\n",
       "    </tr>\n",
       "    <tr>\n",
       "      <th>9</th>\n",
       "      <td>2003</td>\n",
       "      <td>6</td>\n",
       "      <td>2003 6</td>\n",
       "      <td>4,942,610</td>\n",
       "      <td>285.511</td>\n",
       "      <td>5,228,121</td>\n",
       "      <td>5,563,780</td>\n",
       "      <td>6,769,492</td>\n",
       "      <td>82.19</td>\n",
       "      <td>57,218</td>\n",
       "    </tr>\n",
       "    <tr>\n",
       "      <th>10</th>\n",
       "      <td>2003</td>\n",
       "      <td>7</td>\n",
       "      <td>2003 7</td>\n",
       "      <td>5,201,640</td>\n",
       "      <td>284.778</td>\n",
       "      <td>5,486,418</td>\n",
       "      <td>5,880,555</td>\n",
       "      <td>7,044,643</td>\n",
       "      <td>83.48</td>\n",
       "      <td>58,965</td>\n",
       "    </tr>\n",
       "    <tr>\n",
       "      <th>11</th>\n",
       "      <td>2003</td>\n",
       "      <td>8</td>\n",
       "      <td>2003 8</td>\n",
       "      <td>5,125,297</td>\n",
       "      <td>287.758</td>\n",
       "      <td>5,413,055</td>\n",
       "      <td>5,894,368</td>\n",
       "      <td>7,235,282</td>\n",
       "      <td>81.47</td>\n",
       "      <td>59,871</td>\n",
       "    </tr>\n",
       "    <tr>\n",
       "      <th>12</th>\n",
       "      <td>2003</td>\n",
       "      <td>9</td>\n",
       "      <td>2003 9</td>\n",
       "      <td>4,150,183</td>\n",
       "      <td>246.578</td>\n",
       "      <td>4,396,761</td>\n",
       "      <td>4,776,037</td>\n",
       "      <td>7,071,848</td>\n",
       "      <td>67.54</td>\n",
       "      <td>57,529</td>\n",
       "    </tr>\n",
       "    <tr>\n",
       "      <th>13</th>\n",
       "      <td>2003</td>\n",
       "      <td>10</td>\n",
       "      <td>2003 10</td>\n",
       "      <td>4,849,132</td>\n",
       "      <td>251.073</td>\n",
       "      <td>5,100,205</td>\n",
       "      <td>5,326,522</td>\n",
       "      <td>7,324,601</td>\n",
       "      <td>72.72</td>\n",
       "      <td>60,206</td>\n",
       "    </tr>\n",
       "    <tr>\n",
       "      <th>14</th>\n",
       "      <td>2003</td>\n",
       "      <td>11</td>\n",
       "      <td>2003 11</td>\n",
       "      <td>4,519,425</td>\n",
       "      <td>241.962</td>\n",
       "      <td>4,761,387</td>\n",
       "      <td>5,004,190</td>\n",
       "      <td>7,020,674</td>\n",
       "      <td>71.28</td>\n",
       "      <td>57,74</td>\n",
       "    </tr>\n",
       "    <tr>\n",
       "      <th>15</th>\n",
       "      <td>2003</td>\n",
       "      <td>12</td>\n",
       "      <td>2003 12</td>\n",
       "      <td>4,737,497</td>\n",
       "      <td>267.211</td>\n",
       "      <td>5,004,708</td>\n",
       "      <td>5,423,010</td>\n",
       "      <td>7,199,753</td>\n",
       "      <td>75.32</td>\n",
       "      <td>59,622</td>\n",
       "    </tr>\n",
       "    <tr>\n",
       "      <th>17</th>\n",
       "      <td>2004</td>\n",
       "      <td>1</td>\n",
       "      <td>2004 1</td>\n",
       "      <td>4,277,472</td>\n",
       "      <td>229.978</td>\n",
       "      <td>4,507,450</td>\n",
       "      <td>4,865,357</td>\n",
       "      <td>7,132,714</td>\n",
       "      <td>68.21</td>\n",
       "      <td>59,381</td>\n",
       "    </tr>\n",
       "    <tr>\n",
       "      <th>18</th>\n",
       "      <td>2004</td>\n",
       "      <td>2</td>\n",
       "      <td>2004 2</td>\n",
       "      <td>4,356,213</td>\n",
       "      <td>203.688</td>\n",
       "      <td>4,559,901</td>\n",
       "      <td>4,719,299</td>\n",
       "      <td>6,779,657</td>\n",
       "      <td>69.61</td>\n",
       "      <td>56,903</td>\n",
       "    </tr>\n",
       "    <tr>\n",
       "      <th>19</th>\n",
       "      <td>2004</td>\n",
       "      <td>3</td>\n",
       "      <td>2004 3</td>\n",
       "      <td>5,073,099</td>\n",
       "      <td>264.263</td>\n",
       "      <td>5,337,362</td>\n",
       "      <td>5,745,838</td>\n",
       "      <td>7,504,714</td>\n",
       "      <td>76.56</td>\n",
       "      <td>62,266</td>\n",
       "    </tr>\n",
       "    <tr>\n",
       "      <th>20</th>\n",
       "      <td>2004</td>\n",
       "      <td>4</td>\n",
       "      <td>2004 4</td>\n",
       "      <td>4,909,672</td>\n",
       "      <td>279.384</td>\n",
       "      <td>5,189,056</td>\n",
       "      <td>5,650,312</td>\n",
       "      <td>7,521,918</td>\n",
       "      <td>75.12</td>\n",
       "      <td>61,081</td>\n",
       "    </tr>\n",
       "    <tr>\n",
       "      <th>21</th>\n",
       "      <td>2004</td>\n",
       "      <td>5</td>\n",
       "      <td>2004 5</td>\n",
       "      <td>4,904,280</td>\n",
       "      <td>310.102</td>\n",
       "      <td>5,214,382</td>\n",
       "      <td>5,793,577</td>\n",
       "      <td>7,714,475</td>\n",
       "      <td>75.10</td>\n",
       "      <td>62,468</td>\n",
       "    </tr>\n",
       "    <tr>\n",
       "      <th>22</th>\n",
       "      <td>2004</td>\n",
       "      <td>6</td>\n",
       "      <td>2004 6</td>\n",
       "      <td>5,250,668</td>\n",
       "      <td>345.339</td>\n",
       "      <td>5,596,007</td>\n",
       "      <td>6,388,059</td>\n",
       "      <td>7,701,682</td>\n",
       "      <td>82.94</td>\n",
       "      <td>61,827</td>\n",
       "    </tr>\n",
       "    <tr>\n",
       "      <th>23</th>\n",
       "      <td>2004</td>\n",
       "      <td>7</td>\n",
       "      <td>2004 7</td>\n",
       "      <td>5,450,443</td>\n",
       "      <td>341.265</td>\n",
       "      <td>5,791,708</td>\n",
       "      <td>6,647,226</td>\n",
       "      <td>7,916,667</td>\n",
       "      <td>83.96</td>\n",
       "      <td>62,828</td>\n",
       "    </tr>\n",
       "    <tr>\n",
       "      <th>24</th>\n",
       "      <td>2004</td>\n",
       "      <td>8</td>\n",
       "      <td>2004 8</td>\n",
       "      <td>5,128,037</td>\n",
       "      <td>323.251</td>\n",
       "      <td>5,451,288</td>\n",
       "      <td>6,309,543</td>\n",
       "      <td>7,909,233</td>\n",
       "      <td>79.77</td>\n",
       "      <td>62,851</td>\n",
       "    </tr>\n",
       "  </tbody>\n",
       "</table>\n",
       "</div>"
      ],
      "text/plain": [
       "    Year Month     date flight_domestic flight_int  pax_count    revenue  \\\n",
       "4   2003     1   2003 1       4,525,201    224.647  4,749,848  4,883,578   \n",
       "5   2003     2   2003 2       4,228,590    186.518  4,415,108  4,399,172   \n",
       "6   2003     3   2003 3       4,976,856    220.033  5,196,889  5,223,931   \n",
       "7   2003     4   2003 4       4,457,360    199.412  4,656,772  4,660,313   \n",
       "8   2003     5   2003 5       4,598,267    231.417  4,829,684  4,950,716   \n",
       "9   2003     6   2003 6       4,942,610    285.511  5,228,121  5,563,780   \n",
       "10  2003     7   2003 7       5,201,640    284.778  5,486,418  5,880,555   \n",
       "11  2003     8   2003 8       5,125,297    287.758  5,413,055  5,894,368   \n",
       "12  2003     9   2003 9       4,150,183    246.578  4,396,761  4,776,037   \n",
       "13  2003    10  2003 10       4,849,132    251.073  5,100,205  5,326,522   \n",
       "14  2003    11  2003 11       4,519,425    241.962  4,761,387  5,004,190   \n",
       "15  2003    12  2003 12       4,737,497    267.211  5,004,708  5,423,010   \n",
       "17  2004     1   2004 1       4,277,472    229.978  4,507,450  4,865,357   \n",
       "18  2004     2   2004 2       4,356,213    203.688  4,559,901  4,719,299   \n",
       "19  2004     3   2004 3       5,073,099    264.263  5,337,362  5,745,838   \n",
       "20  2004     4   2004 4       4,909,672    279.384  5,189,056  5,650,312   \n",
       "21  2004     5   2004 5       4,904,280    310.102  5,214,382  5,793,577   \n",
       "22  2004     6   2004 6       5,250,668    345.339  5,596,007  6,388,059   \n",
       "23  2004     7   2004 7       5,450,443    341.265  5,791,708  6,647,226   \n",
       "24  2004     8   2004 8       5,128,037    323.251  5,451,288  6,309,543   \n",
       "\n",
       "   seat_miles  load_factor flights  \n",
       "4   7,285,372        67.03  62,999  \n",
       "5   6,286,464        69.98  54,334  \n",
       "6   7,131,359        73.25  61,523  \n",
       "7   6,542,917        71.23  55,024  \n",
       "8   6,520,162        75.93  55,443  \n",
       "9   6,769,492        82.19  57,218  \n",
       "10  7,044,643        83.48  58,965  \n",
       "11  7,235,282        81.47  59,871  \n",
       "12  7,071,848        67.54  57,529  \n",
       "13  7,324,601        72.72  60,206  \n",
       "14  7,020,674        71.28   57,74  \n",
       "15  7,199,753        75.32  59,622  \n",
       "17  7,132,714        68.21  59,381  \n",
       "18  6,779,657        69.61  56,903  \n",
       "19  7,504,714        76.56  62,266  \n",
       "20  7,521,918        75.12  61,081  \n",
       "21  7,714,475        75.10  62,468  \n",
       "22  7,701,682        82.94  61,827  \n",
       "23  7,916,667        83.96  62,828  \n",
       "24  7,909,233        79.77  62,851  "
      ]
     },
     "execution_count": 13,
     "metadata": {},
     "output_type": "execute_result"
    }
   ],
   "source": [
    "df_delta.head(20)"
   ]
  },
  {
   "cell_type": "markdown",
   "id": "ec482cc5",
   "metadata": {},
   "source": [
    "#### Delete irrelevant column"
   ]
  },
  {
   "cell_type": "code",
   "execution_count": 14,
   "id": "7fb18da7",
   "metadata": {
    "scrolled": true
   },
   "outputs": [],
   "source": [
    "df_delta = df_delta.drop([\"flight_domestic\", \"flight_int\", 'Year', 'Month'], axis=1)"
   ]
  },
  {
   "cell_type": "markdown",
   "id": "4a50034d",
   "metadata": {},
   "source": [
    "#### Delete NaN"
   ]
  },
  {
   "cell_type": "code",
   "execution_count": 15,
   "id": "fe35ccb2",
   "metadata": {},
   "outputs": [],
   "source": [
    "incomplete_columns = list(df_delta.columns[df_delta.isnull().any()])"
   ]
  },
  {
   "cell_type": "code",
   "execution_count": 16,
   "id": "aa61bd8a",
   "metadata": {},
   "outputs": [
    {
     "data": {
      "text/plain": [
       "[]"
      ]
     },
     "execution_count": 16,
     "metadata": {},
     "output_type": "execute_result"
    }
   ],
   "source": [
    "incomplete_columns"
   ]
  },
  {
   "cell_type": "markdown",
   "id": "b10e56e7",
   "metadata": {},
   "source": [
    "#### Datensatz ist vollständig"
   ]
  },
  {
   "cell_type": "markdown",
   "id": "910ecad8",
   "metadata": {},
   "source": [
    "## Convert argument to datetime"
   ]
  },
  {
   "cell_type": "code",
   "execution_count": 17,
   "id": "780da8df",
   "metadata": {},
   "outputs": [],
   "source": [
    "df_delta['date'] = pd.to_datetime(df_delta['date'])"
   ]
  },
  {
   "cell_type": "code",
   "execution_count": 18,
   "id": "e72e6528",
   "metadata": {},
   "outputs": [
    {
     "data": {
      "text/html": [
       "<div>\n",
       "<style scoped>\n",
       "    .dataframe tbody tr th:only-of-type {\n",
       "        vertical-align: middle;\n",
       "    }\n",
       "\n",
       "    .dataframe tbody tr th {\n",
       "        vertical-align: top;\n",
       "    }\n",
       "\n",
       "    .dataframe thead th {\n",
       "        text-align: right;\n",
       "    }\n",
       "</style>\n",
       "<table border=\"1\" class=\"dataframe\">\n",
       "  <thead>\n",
       "    <tr style=\"text-align: right;\">\n",
       "      <th></th>\n",
       "      <th>date</th>\n",
       "      <th>pax_count</th>\n",
       "      <th>revenue</th>\n",
       "      <th>seat_miles</th>\n",
       "      <th>load_factor</th>\n",
       "      <th>flights</th>\n",
       "    </tr>\n",
       "  </thead>\n",
       "  <tbody>\n",
       "    <tr>\n",
       "      <th>4</th>\n",
       "      <td>2003-01-01</td>\n",
       "      <td>4,749,848</td>\n",
       "      <td>4,883,578</td>\n",
       "      <td>7,285,372</td>\n",
       "      <td>67.03</td>\n",
       "      <td>62,999</td>\n",
       "    </tr>\n",
       "    <tr>\n",
       "      <th>5</th>\n",
       "      <td>2003-02-01</td>\n",
       "      <td>4,415,108</td>\n",
       "      <td>4,399,172</td>\n",
       "      <td>6,286,464</td>\n",
       "      <td>69.98</td>\n",
       "      <td>54,334</td>\n",
       "    </tr>\n",
       "    <tr>\n",
       "      <th>6</th>\n",
       "      <td>2003-03-01</td>\n",
       "      <td>5,196,889</td>\n",
       "      <td>5,223,931</td>\n",
       "      <td>7,131,359</td>\n",
       "      <td>73.25</td>\n",
       "      <td>61,523</td>\n",
       "    </tr>\n",
       "    <tr>\n",
       "      <th>7</th>\n",
       "      <td>2003-04-01</td>\n",
       "      <td>4,656,772</td>\n",
       "      <td>4,660,313</td>\n",
       "      <td>6,542,917</td>\n",
       "      <td>71.23</td>\n",
       "      <td>55,024</td>\n",
       "    </tr>\n",
       "    <tr>\n",
       "      <th>8</th>\n",
       "      <td>2003-05-01</td>\n",
       "      <td>4,829,684</td>\n",
       "      <td>4,950,716</td>\n",
       "      <td>6,520,162</td>\n",
       "      <td>75.93</td>\n",
       "      <td>55,443</td>\n",
       "    </tr>\n",
       "  </tbody>\n",
       "</table>\n",
       "</div>"
      ],
      "text/plain": [
       "        date  pax_count    revenue seat_miles  load_factor flights\n",
       "4 2003-01-01  4,749,848  4,883,578  7,285,372        67.03  62,999\n",
       "5 2003-02-01  4,415,108  4,399,172  6,286,464        69.98  54,334\n",
       "6 2003-03-01  5,196,889  5,223,931  7,131,359        73.25  61,523\n",
       "7 2003-04-01  4,656,772  4,660,313  6,542,917        71.23  55,024\n",
       "8 2003-05-01  4,829,684  4,950,716  6,520,162        75.93  55,443"
      ]
     },
     "execution_count": 18,
     "metadata": {},
     "output_type": "execute_result"
    }
   ],
   "source": [
    "df_delta.head()"
   ]
  },
  {
   "cell_type": "markdown",
   "id": "f2b4ac0f",
   "metadata": {},
   "source": [
    "## Convert data types"
   ]
  },
  {
   "cell_type": "code",
   "execution_count": 19,
   "id": "9037fec3",
   "metadata": {
    "scrolled": true
   },
   "outputs": [
    {
     "data": {
      "text/plain": [
       "date           datetime64[ns]\n",
       "pax_count              object\n",
       "revenue                object\n",
       "seat_miles             object\n",
       "load_factor           float64\n",
       "flights                object\n",
       "dtype: object"
      ]
     },
     "execution_count": 19,
     "metadata": {},
     "output_type": "execute_result"
    }
   ],
   "source": [
    "df_delta.dtypes"
   ]
  },
  {
   "cell_type": "code",
   "execution_count": 20,
   "id": "81bd54e9",
   "metadata": {},
   "outputs": [
    {
     "name": "stderr",
     "output_type": "stream",
     "text": [
      "/var/folders/_h/_0hrsyw93ljbt2ws9kq8w6z40000gn/T/ipykernel_2335/2060240494.py:1: FutureWarning: The default value of regex will change from True to False in a future version.\n",
      "  df_delta['pax_count'] = df_delta['pax_count'].str.replace('[^\\w\\s]','').astype(int)\n"
     ]
    }
   ],
   "source": [
    "df_delta['pax_count'] = df_delta['pax_count'].str.replace('[^\\w\\s]','').astype(int)"
   ]
  },
  {
   "cell_type": "code",
   "execution_count": 21,
   "id": "50606cd3",
   "metadata": {},
   "outputs": [
    {
     "name": "stderr",
     "output_type": "stream",
     "text": [
      "/var/folders/_h/_0hrsyw93ljbt2ws9kq8w6z40000gn/T/ipykernel_2335/1567084121.py:1: FutureWarning: The default value of regex will change from True to False in a future version.\n",
      "  df_delta['revenue'] = df_delta['revenue'].str.replace('[^\\w\\s]','').astype(int)\n"
     ]
    }
   ],
   "source": [
    "df_delta['revenue'] = df_delta['revenue'].str.replace('[^\\w\\s]','').astype(int)"
   ]
  },
  {
   "cell_type": "code",
   "execution_count": 22,
   "id": "d09752f4",
   "metadata": {},
   "outputs": [
    {
     "name": "stderr",
     "output_type": "stream",
     "text": [
      "/var/folders/_h/_0hrsyw93ljbt2ws9kq8w6z40000gn/T/ipykernel_2335/220658234.py:1: FutureWarning: The default value of regex will change from True to False in a future version.\n",
      "  df_delta['seat_miles'] = df_delta['seat_miles'].str.replace('[^\\w\\s]','').astype(int)\n"
     ]
    }
   ],
   "source": [
    "df_delta['seat_miles'] = df_delta['seat_miles'].str.replace('[^\\w\\s]','').astype(int)"
   ]
  },
  {
   "cell_type": "code",
   "execution_count": 23,
   "id": "aa798114",
   "metadata": {},
   "outputs": [
    {
     "name": "stderr",
     "output_type": "stream",
     "text": [
      "/var/folders/_h/_0hrsyw93ljbt2ws9kq8w6z40000gn/T/ipykernel_2335/218922546.py:1: FutureWarning: The default value of regex will change from True to False in a future version.\n",
      "  df_delta['flights'] = df_delta['flights'].str.replace('[^\\w\\s]','').astype(int)\n"
     ]
    }
   ],
   "source": [
    "df_delta['flights'] = df_delta['flights'].str.replace('[^\\w\\s]','').astype(int)"
   ]
  },
  {
   "cell_type": "code",
   "execution_count": 24,
   "id": "e05d2316",
   "metadata": {},
   "outputs": [
    {
     "data": {
      "text/html": [
       "<div>\n",
       "<style scoped>\n",
       "    .dataframe tbody tr th:only-of-type {\n",
       "        vertical-align: middle;\n",
       "    }\n",
       "\n",
       "    .dataframe tbody tr th {\n",
       "        vertical-align: top;\n",
       "    }\n",
       "\n",
       "    .dataframe thead th {\n",
       "        text-align: right;\n",
       "    }\n",
       "</style>\n",
       "<table border=\"1\" class=\"dataframe\">\n",
       "  <thead>\n",
       "    <tr style=\"text-align: right;\">\n",
       "      <th></th>\n",
       "      <th>date</th>\n",
       "      <th>pax_count</th>\n",
       "      <th>revenue</th>\n",
       "      <th>seat_miles</th>\n",
       "      <th>load_factor</th>\n",
       "      <th>flights</th>\n",
       "    </tr>\n",
       "  </thead>\n",
       "  <tbody>\n",
       "    <tr>\n",
       "      <th>4</th>\n",
       "      <td>2003-01-01</td>\n",
       "      <td>4749848</td>\n",
       "      <td>4883578</td>\n",
       "      <td>7285372</td>\n",
       "      <td>67.03</td>\n",
       "      <td>62999</td>\n",
       "    </tr>\n",
       "    <tr>\n",
       "      <th>5</th>\n",
       "      <td>2003-02-01</td>\n",
       "      <td>4415108</td>\n",
       "      <td>4399172</td>\n",
       "      <td>6286464</td>\n",
       "      <td>69.98</td>\n",
       "      <td>54334</td>\n",
       "    </tr>\n",
       "    <tr>\n",
       "      <th>6</th>\n",
       "      <td>2003-03-01</td>\n",
       "      <td>5196889</td>\n",
       "      <td>5223931</td>\n",
       "      <td>7131359</td>\n",
       "      <td>73.25</td>\n",
       "      <td>61523</td>\n",
       "    </tr>\n",
       "    <tr>\n",
       "      <th>7</th>\n",
       "      <td>2003-04-01</td>\n",
       "      <td>4656772</td>\n",
       "      <td>4660313</td>\n",
       "      <td>6542917</td>\n",
       "      <td>71.23</td>\n",
       "      <td>55024</td>\n",
       "    </tr>\n",
       "    <tr>\n",
       "      <th>8</th>\n",
       "      <td>2003-05-01</td>\n",
       "      <td>4829684</td>\n",
       "      <td>4950716</td>\n",
       "      <td>6520162</td>\n",
       "      <td>75.93</td>\n",
       "      <td>55443</td>\n",
       "    </tr>\n",
       "  </tbody>\n",
       "</table>\n",
       "</div>"
      ],
      "text/plain": [
       "        date  pax_count  revenue  seat_miles  load_factor  flights\n",
       "4 2003-01-01    4749848  4883578     7285372        67.03    62999\n",
       "5 2003-02-01    4415108  4399172     6286464        69.98    54334\n",
       "6 2003-03-01    5196889  5223931     7131359        73.25    61523\n",
       "7 2003-04-01    4656772  4660313     6542917        71.23    55024\n",
       "8 2003-05-01    4829684  4950716     6520162        75.93    55443"
      ]
     },
     "execution_count": 24,
     "metadata": {},
     "output_type": "execute_result"
    }
   ],
   "source": [
    "df_delta.head()"
   ]
  },
  {
   "cell_type": "code",
   "execution_count": 25,
   "id": "b8d446e5",
   "metadata": {},
   "outputs": [
    {
     "data": {
      "text/plain": [
       "date           datetime64[ns]\n",
       "pax_count               int64\n",
       "revenue                 int64\n",
       "seat_miles              int64\n",
       "load_factor           float64\n",
       "flights                 int64\n",
       "dtype: object"
      ]
     },
     "execution_count": 25,
     "metadata": {},
     "output_type": "execute_result"
    }
   ],
   "source": [
    "df_delta.dtypes"
   ]
  },
  {
   "cell_type": "markdown",
   "id": "9f21f70a",
   "metadata": {},
   "source": [
    "## Date to index"
   ]
  },
  {
   "cell_type": "code",
   "execution_count": 26,
   "id": "8a2cc169",
   "metadata": {},
   "outputs": [],
   "source": [
    "df_delta = df_delta.set_index(['date'])"
   ]
  },
  {
   "cell_type": "code",
   "execution_count": 27,
   "id": "1dde11d9",
   "metadata": {
    "scrolled": false
   },
   "outputs": [
    {
     "data": {
      "text/plain": [
       "pax_count        int64\n",
       "revenue          int64\n",
       "seat_miles       int64\n",
       "load_factor    float64\n",
       "flights          int64\n",
       "dtype: object"
      ]
     },
     "execution_count": 27,
     "metadata": {},
     "output_type": "execute_result"
    }
   ],
   "source": [
    "df_delta.dtypes"
   ]
  },
  {
   "cell_type": "markdown",
   "id": "3b280585",
   "metadata": {},
   "source": [
    "## Clean data safe "
   ]
  },
  {
   "cell_type": "code",
   "execution_count": 28,
   "id": "69be985a",
   "metadata": {
    "scrolled": true
   },
   "outputs": [
    {
     "name": "stdout",
     "output_type": "stream",
     "text": [
      "/Users/dilianaserafimova/Library/Mobile Documents/com~apple~CloudDocs/Documents/My Files/Master Studium/Masterarbeit/Clean_Data/Delta Airlines\n"
     ]
    }
   ],
   "source": [
    "%cd  /Users/dilianaserafimova/Library/Mobile Documents/com~apple~CloudDocs/Documents/My Files/Master Studium/Masterarbeit/Clean_Data/Delta Airlines"
   ]
  },
  {
   "cell_type": "code",
   "execution_count": 29,
   "id": "713888cc",
   "metadata": {},
   "outputs": [],
   "source": [
    "df_delta.to_excel('df_delta_clean.xlsx', index = True)"
   ]
  },
  {
   "cell_type": "markdown",
   "id": "c8182702",
   "metadata": {},
   "source": [
    "## Generating rolling means and standard deviations"
   ]
  },
  {
   "cell_type": "markdown",
   "id": "c03f48a2",
   "metadata": {},
   "source": [
    "### Rolling mean"
   ]
  },
  {
   "cell_type": "code",
   "execution_count": 29,
   "id": "6ec086ae",
   "metadata": {},
   "outputs": [],
   "source": [
    "df_delta['pax_count_rolling_mean'] = df_delta['pax_count'].rolling(12).mean()"
   ]
  },
  {
   "cell_type": "code",
   "execution_count": 30,
   "id": "06e2bdb1",
   "metadata": {},
   "outputs": [
    {
     "data": {
      "text/plain": [
       "date\n",
       "2003-01-01             NaN\n",
       "2003-02-01             NaN\n",
       "2003-03-01             NaN\n",
       "2003-04-01             NaN\n",
       "2003-05-01             NaN\n",
       "                  ...     \n",
       "2019-08-01    9.661563e+06\n",
       "2019-09-01    9.728018e+06\n",
       "2019-10-01    9.783422e+06\n",
       "2019-11-01    9.805525e+06\n",
       "2019-12-01    9.897546e+06\n",
       "Name: pax_count_rolling_mean, Length: 204, dtype: float64"
      ]
     },
     "execution_count": 30,
     "metadata": {},
     "output_type": "execute_result"
    }
   ],
   "source": [
    "df_delta['pax_count_rolling_mean']"
   ]
  },
  {
   "cell_type": "markdown",
   "id": "abbc8b6a",
   "metadata": {},
   "source": [
    "### Rolling std"
   ]
  },
  {
   "cell_type": "code",
   "execution_count": 31,
   "id": "4f53ef90",
   "metadata": {},
   "outputs": [],
   "source": [
    "df_delta['pax_count_rolling_std'] = df_delta['pax_count'].rolling(12).std()"
   ]
  },
  {
   "cell_type": "markdown",
   "id": "eec798db",
   "metadata": {},
   "source": [
    "### Plot"
   ]
  },
  {
   "cell_type": "code",
   "execution_count": 32,
   "id": "45d1aa8b",
   "metadata": {},
   "outputs": [
    {
     "data": {
      "image/png": "[encoded data removed]",
      "text/plain": [
       "<Figure size 432x288 with 1 Axes>"
      ]
     },
     "metadata": {
      "needs_background": "light"
     },
     "output_type": "display_data"
    }
   ],
   "source": [
    "plt.plot(df_delta['pax_count_rolling_mean'], label = 'Monthly Rolling Mean', color = 'purple')\n",
    "plt.plot(df_delta['pax_count_rolling_std'], label = 'Monthly Rolling Std', color = 'green')\n",
    "plt.plot(df_delta['pax_count'], label='Raw Data')\n",
    "plt.legend()\n",
    "plt.xlabel('Year')\n",
    "plt.ylabel('Passanger')\n",
    "plt.show()"
   ]
  },
  {
   "cell_type": "code",
   "execution_count": 33,
   "id": "b462deb1",
   "metadata": {},
   "outputs": [
    {
     "data": {
      "text/plain": [
       "[<matplotlib.lines.Line2D at 0x7ffc2c88af10>]"
      ]
     },
     "execution_count": 33,
     "metadata": {},
     "output_type": "execute_result"
    },
    {
     "data": {
      "image/png": "[encoded data removed]",
      "text/plain": [
       "<Figure size 432x288 with 1 Axes>"
      ]
     },
     "metadata": {
      "needs_background": "light"
     },
     "output_type": "display_data"
    }
   ],
   "source": [
    "plt.plot(df_delta['pax_count_rolling_mean'], label = 'Monthly Rolling Mean', color = 'purple')"
   ]
  },
  {
   "cell_type": "markdown",
   "id": "828b1733",
   "metadata": {},
   "source": [
    "## Seasonal decompose"
   ]
  },
  {
   "cell_type": "code",
   "execution_count": 34,
   "id": "53c34606",
   "metadata": {},
   "outputs": [],
   "source": [
    "result=seasonal_decompose(df_delta['pax_count'], model='multiplicable', period=12)"
   ]
  },
  {
   "cell_type": "code",
   "execution_count": 35,
   "id": "e138dd72",
   "metadata": {},
   "outputs": [
    {
     "data": {
      "text/plain": [
       "<AxesSubplot:xlabel='date'>"
      ]
     },
     "execution_count": 35,
     "metadata": {},
     "output_type": "execute_result"
    },
    {
     "data": {
      "image/png": "[encoded data removed]",
      "text/plain": [
       "<Figure size 432x288 with 1 Axes>"
      ]
     },
     "metadata": {
      "needs_background": "light"
     },
     "output_type": "display_data"
    }
   ],
   "source": [
    "result.seasonal.plot()"
   ]
  },
  {
   "cell_type": "code",
   "execution_count": 36,
   "id": "92fb06f9",
   "metadata": {},
   "outputs": [
    {
     "data": {
      "text/plain": [
       "<AxesSubplot:xlabel='date'>"
      ]
     },
     "execution_count": 36,
     "metadata": {},
     "output_type": "execute_result"
    },
    {
     "data": {
      "image/png": "[encoded data removed]",
      "text/plain": [
       "<Figure size 432x288 with 1 Axes>"
      ]
     },
     "metadata": {
      "needs_background": "light"
     },
     "output_type": "display_data"
    }
   ],
   "source": [
    "result.trend.plot()"
   ]
  },
  {
   "cell_type": "code",
   "execution_count": 37,
   "id": "0d2379a9",
   "metadata": {},
   "outputs": [
    {
     "data": {
      "text/plain": [
       "<AxesSubplot:xlabel='date'>"
      ]
     },
     "execution_count": 37,
     "metadata": {},
     "output_type": "execute_result"
    },
    {
     "data": {
      "image/png": "[encoded data removed]",
      "text/plain": [
       "<Figure size 432x288 with 1 Axes>"
      ]
     },
     "metadata": {
      "needs_background": "light"
     },
     "output_type": "display_data"
    }
   ],
   "source": [
    "result.resid.plot()"
   ]
  },
  {
   "cell_type": "code",
   "execution_count": 38,
   "id": "f379dc6b",
   "metadata": {
    "scrolled": true
   },
   "outputs": [
    {
     "data": {
      "image/png": "[encoded data removed]",
      "text/plain": [
       "<Figure size 432x288 with 4 Axes>"
      ]
     },
     "execution_count": 38,
     "metadata": {},
     "output_type": "execute_result"
    },
    {
     "data": {
      "image/png": "[encoded data removed]",
      "text/plain": [
       "<Figure size 432x288 with 4 Axes>"
      ]
     },
     "metadata": {
      "needs_background": "light"
     },
     "output_type": "display_data"
    }
   ],
   "source": [
    "result.plot()"
   ]
  }
 ],
 "metadata": {
  "kernelspec": {
   "display_name": "Python 3 (ipykernel)",
   "language": "python",
   "name": "python3"
  },
  "language_info": {
   "codemirror_mode": {
    "name": "ipython",
    "version": 3
   },
   "file_extension": ".py",
   "mimetype": "text/x-python",
   "name": "python",
   "nbconvert_exporter": "python",
   "pygments_lexer": "ipython3",
   "version": "3.9.7"
  }
 },
 "nbformat": 4,
 "nbformat_minor": 5
}
