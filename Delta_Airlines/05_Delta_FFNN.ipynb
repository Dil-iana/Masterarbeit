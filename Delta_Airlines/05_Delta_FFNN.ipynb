{
 "cells": [
  {
   "cell_type": "code",
   "execution_count": 58,
   "id": "f5d1f583",
   "metadata": {
    "scrolled": false
   },
   "outputs": [],
   "source": [
    "import tensorflow as tf\n",
    "from tensorflow.keras.models import Sequential\n",
    "from tensorflow.keras.layers import Dense, Dropout\n",
    "import keras\n",
    "import pandas as pd\n",
    "from sklearn.model_selection import train_test_split\n",
    "from sklearn.preprocessing import MinMaxScaler\n",
    "from sklearn.metrics import mean_squared_error, mean_absolute_error\n",
    "import math\n",
    "import matplotlib.pyplot as plt\n",
    "from tensorflow.keras import initializers"
   ]
  },
  {
   "cell_type": "markdown",
   "id": "54f9bd01",
   "metadata": {},
   "source": [
    "## Import data "
   ]
  },
  {
   "cell_type": "code",
   "execution_count": 59,
   "id": "a992baa0",
   "metadata": {},
   "outputs": [],
   "source": [
    "df_delta = pd.read_excel(r'/Users/dilianaserafimova/Desktop/df_delta_clean.xlsx')"
   ]
  },
  {
   "cell_type": "code",
   "execution_count": 60,
   "id": "19f03ca1",
   "metadata": {},
   "outputs": [],
   "source": [
    "df_delta = df_delta.set_index(['date'])"
   ]
  },
  {
   "cell_type": "code",
   "execution_count": 61,
   "id": "3bae768c",
   "metadata": {},
   "outputs": [],
   "source": [
    "X = df_delta[['revenue', 'seat_miles', 'load_factor', 'flights']]"
   ]
  },
  {
   "cell_type": "code",
   "execution_count": 62,
   "id": "82e97e35",
   "metadata": {},
   "outputs": [],
   "source": [
    "y = df_delta['pax_count'].values"
   ]
  },
  {
   "cell_type": "markdown",
   "id": "20633ac5",
   "metadata": {},
   "source": [
    "## Train & test split"
   ]
  },
  {
   "cell_type": "code",
   "execution_count": 79,
   "id": "c54eb130",
   "metadata": {},
   "outputs": [],
   "source": [
    "X_train, X_test, y_train, y_test = train_test_split(X, y, test_size=0.2, random_state = 1)"
   ]
  },
  {
   "cell_type": "markdown",
   "id": "425cd75a",
   "metadata": {},
   "source": [
    "## Normalize the data"
   ]
  },
  {
   "cell_type": "code",
   "execution_count": 80,
   "id": "16720abf",
   "metadata": {},
   "outputs": [],
   "source": [
    "scaler = MinMaxScaler()"
   ]
  },
  {
   "cell_type": "code",
   "execution_count": 81,
   "id": "cebc19d9",
   "metadata": {},
   "outputs": [],
   "source": [
    "X_train = scaler.fit_transform(X_train)"
   ]
  },
  {
   "cell_type": "code",
   "execution_count": 82,
   "id": "7ca86aa3",
   "metadata": {},
   "outputs": [],
   "source": [
    "X_test = scaler.transform(X_test)"
   ]
  },
  {
   "cell_type": "markdown",
   "id": "2c1fb5df",
   "metadata": {},
   "source": [
    "## Creating the model "
   ]
  },
  {
   "cell_type": "code",
   "execution_count": 140,
   "id": "ce589b2c",
   "metadata": {},
   "outputs": [],
   "source": [
    "model = Sequential()\n",
    "\n",
    "model.add(Dense(4, activation='relu', \n",
    "                #kernel_initializer=initializers.RandomNormal(stddev=0.01),\n",
    "               # bias_initializer=initializers.Zeros()\n",
    "               ))\n",
    "model.add(Dense(8, activation='relu'))\n",
    "#model.add(Dense(6, activation='relu'))\n",
    "model.add(Dense(5, activation='relu'))\n",
    "model.add(Dense(3, activation='relu'))\n",
    "#model.add(Dense(2, activation='relu'))\n",
    "model.add(Dense(units=1,activation='relu'))"
   ]
  },
  {
   "cell_type": "code",
   "execution_count": 141,
   "id": "2a7029f3",
   "metadata": {},
   "outputs": [],
   "source": [
    "opt = keras.optimizers.Adam(learning_rate=0.2, beta_1=0.5, beta_2=0.999)\n",
    "\n",
    "model.compile(loss = 'mean_absolute_error', optimizer= opt)"
   ]
  },
  {
   "cell_type": "markdown",
   "id": "51a3371f",
   "metadata": {},
   "source": [
    "## Fit the model "
   ]
  },
  {
   "cell_type": "code",
   "execution_count": 142,
   "id": "e94ffd05",
   "metadata": {
    "scrolled": true
   },
   "outputs": [
    {
     "name": "stdout",
     "output_type": "stream",
     "text": [
      "Epoch 1/50\n",
      "6/6 [==============================] - 1s 46ms/step - loss: 6618195.0000 - val_loss: 6856957.5000\n",
      "Epoch 2/50\n",
      "6/6 [==============================] - 0s 14ms/step - loss: 6614277.5000 - val_loss: 6827659.0000\n",
      "Epoch 3/50\n",
      "6/6 [==============================] - 0s 21ms/step - loss: 6524009.0000 - val_loss: 6454113.0000\n",
      "Epoch 4/50\n",
      "6/6 [==============================] - 0s 12ms/step - loss: 5744079.5000 - val_loss: 4174213.0000\n",
      "Epoch 5/50\n",
      "6/6 [==============================] - 0s 14ms/step - loss: 2198615.2500 - val_loss: 371222.6250\n",
      "Epoch 6/50\n",
      "6/6 [==============================] - 0s 12ms/step - loss: 469630.6875 - val_loss: 492703.3750\n",
      "Epoch 7/50\n",
      "6/6 [==============================] - 0s 14ms/step - loss: 488857.4688 - val_loss: 446342.9688\n",
      "Epoch 8/50\n",
      "6/6 [==============================] - 0s 17ms/step - loss: 471491.7188 - val_loss: 383285.3750\n",
      "Epoch 9/50\n",
      "6/6 [==============================] - 0s 10ms/step - loss: 445340.1562 - val_loss: 554013.6875\n",
      "Epoch 10/50\n",
      "6/6 [==============================] - 0s 11ms/step - loss: 433607.9062 - val_loss: 341571.7500\n",
      "Epoch 11/50\n",
      "6/6 [==============================] - 0s 10ms/step - loss: 423538.5938 - val_loss: 372600.8125\n",
      "Epoch 12/50\n",
      "6/6 [==============================] - 0s 11ms/step - loss: 443227.9688 - val_loss: 365895.5312\n",
      "Epoch 13/50\n",
      "6/6 [==============================] - 0s 10ms/step - loss: 404392.8750 - val_loss: 448827.5000\n",
      "Epoch 14/50\n",
      "6/6 [==============================] - 0s 10ms/step - loss: 403600.9062 - val_loss: 328923.6562\n",
      "Epoch 15/50\n",
      "6/6 [==============================] - 0s 11ms/step - loss: 377683.6250 - val_loss: 333951.1250\n",
      "Epoch 16/50\n",
      "6/6 [==============================] - 0s 11ms/step - loss: 381996.7188 - val_loss: 595685.1875\n",
      "Epoch 17/50\n",
      "6/6 [==============================] - 0s 10ms/step - loss: 449035.4375 - val_loss: 332033.4688\n",
      "Epoch 18/50\n",
      "6/6 [==============================] - 0s 11ms/step - loss: 372604.7188 - val_loss: 745204.8750\n",
      "Epoch 19/50\n",
      "6/6 [==============================] - 0s 14ms/step - loss: 569084.1250 - val_loss: 326921.0625\n",
      "Epoch 20/50\n",
      "6/6 [==============================] - 0s 13ms/step - loss: 375240.4375 - val_loss: 356558.0625\n",
      "Epoch 21/50\n",
      "6/6 [==============================] - 0s 12ms/step - loss: 427993.2812 - val_loss: 901218.7500\n",
      "Epoch 22/50\n",
      "6/6 [==============================] - 0s 13ms/step - loss: 521282.1562 - val_loss: 432253.0625\n",
      "Epoch 23/50\n",
      "6/6 [==============================] - 0s 12ms/step - loss: 393467.6875 - val_loss: 342780.6250\n",
      "Epoch 24/50\n",
      "6/6 [==============================] - 0s 10ms/step - loss: 389021.1875 - val_loss: 673277.3750\n",
      "Epoch 25/50\n",
      "6/6 [==============================] - 0s 10ms/step - loss: 489163.3750 - val_loss: 378741.3750\n",
      "Epoch 26/50\n",
      "6/6 [==============================] - 0s 13ms/step - loss: 363853.1875 - val_loss: 494455.7188\n",
      "Epoch 27/50\n",
      "6/6 [==============================] - 0s 13ms/step - loss: 390363.0312 - val_loss: 323341.0625\n",
      "Epoch 28/50\n",
      "6/6 [==============================] - 0s 14ms/step - loss: 345531.8125 - val_loss: 331095.6875\n",
      "Epoch 29/50\n",
      "6/6 [==============================] - 0s 12ms/step - loss: 360017.1250 - val_loss: 470001.9062\n",
      "Epoch 30/50\n",
      "6/6 [==============================] - 0s 10ms/step - loss: 386941.5625 - val_loss: 341431.0938\n",
      "Epoch 31/50\n",
      "6/6 [==============================] - 0s 10ms/step - loss: 364048.8438 - val_loss: 325172.8438\n",
      "Epoch 32/50\n",
      "6/6 [==============================] - 0s 11ms/step - loss: 367392.1562 - val_loss: 316534.5000\n",
      "Epoch 33/50\n",
      "6/6 [==============================] - 0s 10ms/step - loss: 375345.3125 - val_loss: 495170.3438\n",
      "Epoch 34/50\n",
      "6/6 [==============================] - 0s 10ms/step - loss: 373343.2812 - val_loss: 313598.9375\n",
      "Epoch 35/50\n",
      "6/6 [==============================] - 0s 10ms/step - loss: 335299.7188 - val_loss: 470319.7500\n",
      "Epoch 36/50\n",
      "6/6 [==============================] - 0s 10ms/step - loss: 409200.9062 - val_loss: 392638.1875\n",
      "Epoch 37/50\n",
      "6/6 [==============================] - 0s 10ms/step - loss: 350032.5938 - val_loss: 588636.1875\n",
      "Epoch 38/50\n",
      "6/6 [==============================] - 0s 11ms/step - loss: 447275.9375 - val_loss: 499625.9375\n",
      "Epoch 39/50\n",
      "6/6 [==============================] - 0s 10ms/step - loss: 382980.3125 - val_loss: 321552.0000\n",
      "Epoch 40/50\n",
      "6/6 [==============================] - 0s 10ms/step - loss: 348517.4375 - val_loss: 505815.5625\n",
      "Epoch 41/50\n",
      "6/6 [==============================] - 0s 12ms/step - loss: 365650.0000 - val_loss: 339966.5000\n",
      "Epoch 42/50\n",
      "6/6 [==============================] - 0s 17ms/step - loss: 332186.8750 - val_loss: 672493.1875\n",
      "Epoch 43/50\n",
      "6/6 [==============================] - 0s 11ms/step - loss: 470316.0312 - val_loss: 353763.5625\n",
      "Epoch 44/50\n",
      "6/6 [==============================] - 0s 12ms/step - loss: 352047.5938 - val_loss: 391938.0938\n",
      "Epoch 45/50\n",
      "6/6 [==============================] - 0s 10ms/step - loss: 340336.3438 - val_loss: 662378.4375\n",
      "Epoch 46/50\n",
      "6/6 [==============================] - 0s 10ms/step - loss: 417269.3438 - val_loss: 346271.8438\n",
      "Epoch 47/50\n",
      "6/6 [==============================] - 0s 10ms/step - loss: 330109.5312 - val_loss: 340414.7188\n",
      "Epoch 48/50\n",
      "6/6 [==============================] - 0s 10ms/step - loss: 361230.0938 - val_loss: 338462.0938\n",
      "Epoch 49/50\n",
      "6/6 [==============================] - 0s 10ms/step - loss: 327872.8438 - val_loss: 425891.4062\n",
      "Epoch 50/50\n",
      "6/6 [==============================] - 0s 10ms/step - loss: 352484.5938 - val_loss: 360632.9375\n"
     ]
    },
    {
     "data": {
      "text/plain": [
       "<keras.callbacks.History at 0x7fabd2486ee0>"
      ]
     },
     "execution_count": 142,
     "metadata": {},
     "output_type": "execute_result"
    }
   ],
   "source": [
    "model.fit(X_train, y_train, epochs = 50, validation_data=(X_test, y_test))"
   ]
  },
  {
   "cell_type": "code",
   "execution_count": 143,
   "id": "34de54cb",
   "metadata": {},
   "outputs": [],
   "source": [
    "losses = pd.DataFrame(model.history.history)"
   ]
  },
  {
   "cell_type": "code",
   "execution_count": 144,
   "id": "6a248c4d",
   "metadata": {
    "scrolled": false
   },
   "outputs": [
    {
     "data": {
      "text/html": [
       "<div>\n",
       "<style scoped>\n",
       "    .dataframe tbody tr th:only-of-type {\n",
       "        vertical-align: middle;\n",
       "    }\n",
       "\n",
       "    .dataframe tbody tr th {\n",
       "        vertical-align: top;\n",
       "    }\n",
       "\n",
       "    .dataframe thead th {\n",
       "        text-align: right;\n",
       "    }\n",
       "</style>\n",
       "<table border=\"1\" class=\"dataframe\">\n",
       "  <thead>\n",
       "    <tr style=\"text-align: right;\">\n",
       "      <th></th>\n",
       "      <th>loss</th>\n",
       "      <th>val_loss</th>\n",
       "    </tr>\n",
       "  </thead>\n",
       "  <tbody>\n",
       "    <tr>\n",
       "      <th>0</th>\n",
       "      <td>6618195.00</td>\n",
       "      <td>6856957.500</td>\n",
       "    </tr>\n",
       "    <tr>\n",
       "      <th>1</th>\n",
       "      <td>6614277.50</td>\n",
       "      <td>6827659.000</td>\n",
       "    </tr>\n",
       "    <tr>\n",
       "      <th>2</th>\n",
       "      <td>6524009.00</td>\n",
       "      <td>6454113.000</td>\n",
       "    </tr>\n",
       "    <tr>\n",
       "      <th>3</th>\n",
       "      <td>5744079.50</td>\n",
       "      <td>4174213.000</td>\n",
       "    </tr>\n",
       "    <tr>\n",
       "      <th>4</th>\n",
       "      <td>2198615.25</td>\n",
       "      <td>371222.625</td>\n",
       "    </tr>\n",
       "  </tbody>\n",
       "</table>\n",
       "</div>"
      ],
      "text/plain": [
       "         loss     val_loss\n",
       "0  6618195.00  6856957.500\n",
       "1  6614277.50  6827659.000\n",
       "2  6524009.00  6454113.000\n",
       "3  5744079.50  4174213.000\n",
       "4  2198615.25   371222.625"
      ]
     },
     "execution_count": 144,
     "metadata": {},
     "output_type": "execute_result"
    }
   ],
   "source": [
    "losses.head()"
   ]
  },
  {
   "cell_type": "code",
   "execution_count": 145,
   "id": "cd9ea547",
   "metadata": {
    "scrolled": true
   },
   "outputs": [
    {
     "data": {
      "text/plain": [
       "<AxesSubplot:>"
      ]
     },
     "execution_count": 145,
     "metadata": {},
     "output_type": "execute_result"
    },
    {
     "data": {
      "image/png": "[encoded data removed]",
      "text/plain": [
       "<Figure size 432x288 with 1 Axes>"
      ]
     },
     "metadata": {
      "needs_background": "light"
     },
     "output_type": "display_data"
    }
   ],
   "source": [
    "losses.plot()"
   ]
  },
  {
   "cell_type": "code",
   "execution_count": 146,
   "id": "a46ba159",
   "metadata": {
    "scrolled": true
   },
   "outputs": [
    {
     "name": "stdout",
     "output_type": "stream",
     "text": [
      "6/6 [==============================] - 0s 2ms/step\n",
      "2/2 [==============================] - 0s 3ms/step\n"
     ]
    }
   ],
   "source": [
    "trainPredict = model.predict(X_train)\n",
    "testPredict = model.predict(X_test)"
   ]
  },
  {
   "cell_type": "code",
   "execution_count": 147,
   "id": "f6096681",
   "metadata": {},
   "outputs": [
    {
     "name": "stdout",
     "output_type": "stream",
     "text": [
      "Model: \"sequential_11\"\n",
      "_________________________________________________________________\n",
      " Layer (type)                Output Shape              Param #   \n",
      "=================================================================\n",
      " dense_65 (Dense)            (None, 4)                 20        \n",
      "                                                                 \n",
      " dense_66 (Dense)            (None, 8)                 40        \n",
      "                                                                 \n",
      " dense_67 (Dense)            (None, 5)                 45        \n",
      "                                                                 \n",
      " dense_68 (Dense)            (None, 3)                 18        \n",
      "                                                                 \n",
      " dense_69 (Dense)            (None, 1)                 4         \n",
      "                                                                 \n",
      "=================================================================\n",
      "Total params: 127\n",
      "Trainable params: 127\n",
      "Non-trainable params: 0\n",
      "_________________________________________________________________\n",
      "Layer:  dense_65\n",
      "  --Kernels (Weights):  [array([[-0.6294008 , 12.80158   ,  0.28350082,  0.16564249],\n",
      "       [ 0.20660621, 16.322618  , -0.6734409 , -0.5840685 ],\n",
      "       [-0.15130103,  2.0154495 , -0.5334149 , -0.32006538],\n",
      "       [-0.61149263,  9.324988  , -1.0647639 , -0.53742576]],\n",
      "      dtype=float32), array([ 0.        , 12.242406  , -0.39881745, -0.40142986], dtype=float32)]\n",
      "  --Biases:  [array([[-0.6294008 , 12.80158   ,  0.28350082,  0.16564249],\n",
      "       [ 0.20660621, 16.322618  , -0.6734409 , -0.5840685 ],\n",
      "       [-0.15130103,  2.0154495 , -0.5334149 , -0.32006538],\n",
      "       [-0.61149263,  9.324988  , -1.0647639 , -0.53742576]],\n",
      "      dtype=float32), array([ 0.        , 12.242406  , -0.39881745, -0.40142986], dtype=float32)]\n",
      "Layer:  dense_66\n",
      "  --Kernels (Weights):  [array([[-3.5171545e-01, -6.8973684e-01,  2.9668552e-01, -7.0656276e-01,\n",
      "        -2.6162556e-01, -5.8015472e-01, -3.0170196e-01, -4.2123199e-03],\n",
      "       [-1.6661137e-01, -4.3863252e-01,  1.1591621e+01, -2.9832542e-02,\n",
      "        -5.8632618e-01, -4.7886252e-01,  1.1779239e+01, -7.7926338e-02],\n",
      "       [ 1.9557214e-01,  6.8499464e-01, -2.1766093e-01, -5.9429127e-01,\n",
      "        -2.0242067e-02, -4.5500758e-01,  7.0719326e-01,  2.3583204e-01],\n",
      "       [-3.1456453e-01, -3.6754361e-01, -2.2195365e-01, -3.5831496e-01,\n",
      "         3.3027783e-02,  4.0779215e-01,  5.7717568e-01, -4.3104896e-01]],\n",
      "      dtype=float32), array([ 0.       ,  0.       , 12.199039 ,  0.       , -0.4015472,\n",
      "        0.       , 12.194055 ,  0.       ], dtype=float32)]\n",
      "  --Biases:  [array([[-3.5171545e-01, -6.8973684e-01,  2.9668552e-01, -7.0656276e-01,\n",
      "        -2.6162556e-01, -5.8015472e-01, -3.0170196e-01, -4.2123199e-03],\n",
      "       [-1.6661137e-01, -4.3863252e-01,  1.1591621e+01, -2.9832542e-02,\n",
      "        -5.8632618e-01, -4.7886252e-01,  1.1779239e+01, -7.7926338e-02],\n",
      "       [ 1.9557214e-01,  6.8499464e-01, -2.1766093e-01, -5.9429127e-01,\n",
      "        -2.0242067e-02, -4.5500758e-01,  7.0719326e-01,  2.3583204e-01],\n",
      "       [-3.1456453e-01, -3.6754361e-01, -2.2195365e-01, -3.5831496e-01,\n",
      "         3.3027783e-02,  4.0779215e-01,  5.7717568e-01, -4.3104896e-01]],\n",
      "      dtype=float32), array([ 0.       ,  0.       , 12.199039 ,  0.       , -0.4015472,\n",
      "        0.       , 12.194055 ,  0.       ], dtype=float32)]\n",
      "Layer:  dense_67\n",
      "  --Kernels (Weights):  [array([[ 0.01994413, -0.19459388, -0.5005005 , -0.51938415, -0.34163943],\n",
      "       [-0.16734487, -0.5198377 , -0.28027755,  0.4172548 ,  0.0708738 ],\n",
      "       [-0.62601894, 11.774047  , 10.9844675 , -0.23919943, 10.822665  ],\n",
      "       [-0.14158142, -0.36917946, -0.3912077 ,  0.14414072, -0.2796878 ],\n",
      "       [ 0.43981516,  0.38741243, -0.16828486,  0.5728942 ,  0.39797947],\n",
      "       [-0.07188338,  0.53226054, -0.49378765, -0.5756081 ,  0.10076582],\n",
      "       [-0.3750314 , 11.53059   , 11.360451  , -0.28982475, 11.358159  ],\n",
      "       [ 0.42947268, -0.28858775,  0.13009942,  0.07478756, -0.39844015]],\n",
      "      dtype=float32), array([ 0.      , 11.814121, 11.753717,  0.      , 11.888893],\n",
      "      dtype=float32)]\n",
      "  --Biases:  [array([[ 0.01994413, -0.19459388, -0.5005005 , -0.51938415, -0.34163943],\n",
      "       [-0.16734487, -0.5198377 , -0.28027755,  0.4172548 ,  0.0708738 ],\n",
      "       [-0.62601894, 11.774047  , 10.9844675 , -0.23919943, 10.822665  ],\n",
      "       [-0.14158142, -0.36917946, -0.3912077 ,  0.14414072, -0.2796878 ],\n",
      "       [ 0.43981516,  0.38741243, -0.16828486,  0.5728942 ,  0.39797947],\n",
      "       [-0.07188338,  0.53226054, -0.49378765, -0.5756081 ,  0.10076582],\n",
      "       [-0.3750314 , 11.53059   , 11.360451  , -0.28982475, 11.358159  ],\n",
      "       [ 0.42947268, -0.28858775,  0.13009942,  0.07478756, -0.39844015]],\n",
      "      dtype=float32), array([ 0.      , 11.814121, 11.753717,  0.      , 11.888893],\n",
      "      dtype=float32)]\n",
      "Layer:  dense_68\n",
      "  --Kernels (Weights):  [array([[-0.31695616,  0.35293716, -0.09907609],\n",
      "       [ 0.01332229, 11.013851  , 11.829604  ],\n",
      "       [-0.25628322, 11.817001  , 11.795771  ],\n",
      "       [-0.33987236, -0.40297985,  0.47345418],\n",
      "       [-0.61064863, 11.516289  , 10.524187  ]], dtype=float32), array([ 0.      , 10.793921, 10.8068  ], dtype=float32)]\n",
      "  --Biases:  [array([[-0.31695616,  0.35293716, -0.09907609],\n",
      "       [ 0.01332229, 11.013851  , 11.829604  ],\n",
      "       [-0.25628322, 11.817001  , 11.795771  ],\n",
      "       [-0.33987236, -0.40297985,  0.47345418],\n",
      "       [-0.61064863, 11.516289  , 10.524187  ]], dtype=float32), array([ 0.      , 10.793921, 10.8068  ], dtype=float32)]\n",
      "Layer:  dense_69\n",
      "  --Kernels (Weights):  [array([[-0.46662086],\n",
      "       [11.193625  ],\n",
      "       [11.168457  ]], dtype=float32), array([7.4531345], dtype=float32)]\n",
      "  --Biases:  [array([[-0.46662086],\n",
      "       [11.193625  ],\n",
      "       [11.168457  ]], dtype=float32), array([7.4531345], dtype=float32)]\n"
     ]
    }
   ],
   "source": [
    "model.summary()\n",
    "for layer in model.layers:\n",
    "    print(\"Layer: \", layer.name) # print layer name\n",
    "    print(\"  --Kernels (Weights): \", layer.get_weights()) # weights\n",
    "    print(\"  --Biases: \", layer.get_weights()) # biases\n",
    "    "
   ]
  },
  {
   "cell_type": "code",
   "execution_count": 148,
   "id": "43a7c10d",
   "metadata": {},
   "outputs": [
    {
     "name": "stdout",
     "output_type": "stream",
     "text": [
      "Test Score: 536064.14 RMSE\n"
     ]
    }
   ],
   "source": [
    "testScore = math.sqrt(mean_squared_error(y_test, testPredict))\n",
    "print(\"Test Score: %.2f RMSE\" % (testScore))"
   ]
  },
  {
   "cell_type": "code",
   "execution_count": 149,
   "id": "06f01f08",
   "metadata": {
    "scrolled": true
   },
   "outputs": [
    {
     "name": "stdout",
     "output_type": "stream",
     "text": [
      "Train Score: 536064.14 RMSE\n"
     ]
    }
   ],
   "source": [
    "trainScore = math.sqrt(mean_squared_error(y_train, trainPredict))\n",
    "print(\"Train Score: %.2f RMSE\" % (testScore))"
   ]
  },
  {
   "cell_type": "code",
   "execution_count": 150,
   "id": "54b7bb3f",
   "metadata": {},
   "outputs": [],
   "source": [
    "def plot_delta(actual, predictions):\n",
    "    title = 'Passanger Predictions Store '\n",
    "    act = plt.plot(actual, color='blue', label='Actual')\n",
    "    pred = plt.plot(predictions, color='orange', label='Predictions')\n",
    "    plt.xlabel(\"Date\")\n",
    "    plt.ylabel(\"Paxe\")\n",
    "    plt.legend(loc='best')\n",
    "    plt.title(title)\n",
    "    plt.show()"
   ]
  },
  {
   "cell_type": "code",
   "execution_count": 151,
   "id": "ec621dc7",
   "metadata": {
    "scrolled": false
   },
   "outputs": [
    {
     "data": {
      "image/png": "[encoded data removed]",
      "text/plain": [
       "<Figure size 432x288 with 1 Axes>"
      ]
     },
     "metadata": {
      "needs_background": "light"
     },
     "output_type": "display_data"
    }
   ],
   "source": [
    "plot_delta(y_test, testPredict)"
   ]
  }
 ],
 "metadata": {
  "kernelspec": {
   "display_name": "Python 3 (ipykernel)",
   "language": "python",
   "name": "python3"
  },
  "language_info": {
   "codemirror_mode": {
    "name": "ipython",
    "version": 3
   },
   "file_extension": ".py",
   "mimetype": "text/x-python",
   "name": "python",
   "nbconvert_exporter": "python",
   "pygments_lexer": "ipython3",
   "version": "3.9.7"
  }
 },
 "nbformat": 4,
 "nbformat_minor": 5
}
