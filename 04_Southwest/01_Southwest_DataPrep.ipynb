{
 "cells": [
  {
   "cell_type": "code",
   "execution_count": 1,
   "id": "ff5862b5",
   "metadata": {},
   "outputs": [],
   "source": [
    "from statsmodels.tsa.stattools import adfuller\n",
    "from pmdarima import auto_arima\n",
    "from pandas.plotting import autocorrelation_plot"
   ]
  },
  {
   "cell_type": "code",
   "execution_count": 2,
   "id": "ea5b9ea8",
   "metadata": {},
   "outputs": [],
   "source": [
    "from sklearn.metrics import mean_squared_error, mean_absolute_error\n",
    "from math import sqrt"
   ]
  },
  {
   "cell_type": "code",
   "execution_count": 3,
   "id": "14aa1db5",
   "metadata": {},
   "outputs": [],
   "source": [
    "from statsmodels.tsa.arima.model import ARIMA\n",
    "from statsmodels.tsa.seasonal import seasonal_decompose\n",
    "from statsmodels.tsa.holtwinters import SimpleExpSmoothing\n",
    "from statsmodels.tsa.holtwinters import Holt\n",
    "from statsmodels.tsa.holtwinters import ExponentialSmoothing\n",
    "from statsmodels.tsa.stattools import adfuller"
   ]
  },
  {
   "cell_type": "code",
   "execution_count": 4,
   "id": "098f7971",
   "metadata": {},
   "outputs": [],
   "source": [
    "import pandas as pd\n",
    "import numpy as np\n",
    "import seaborn as sns\n",
    "import matplotlib.pyplot as plt\n",
    "import os\n",
    "from matplotlib import pyplot\n",
    "from pandas import DataFrame\n",
    "from numpy import log"
   ]
  },
  {
   "cell_type": "code",
   "execution_count": 5,
   "id": "73c4872c",
   "metadata": {},
   "outputs": [],
   "source": [
    "df_southwest = pd.read_excel(r'/Users/dilianaserafimova/Desktop/Southwest.xlsx')"
   ]
  },
  {
   "cell_type": "code",
   "execution_count": 6,
   "id": "0753b706",
   "metadata": {},
   "outputs": [
    {
     "data": {
      "text/html": [
       "<div>\n",
       "<style scoped>\n",
       "    .dataframe tbody tr th:only-of-type {\n",
       "        vertical-align: middle;\n",
       "    }\n",
       "\n",
       "    .dataframe tbody tr th {\n",
       "        vertical-align: top;\n",
       "    }\n",
       "\n",
       "    .dataframe thead th {\n",
       "        text-align: right;\n",
       "    }\n",
       "</style>\n",
       "<table border=\"1\" class=\"dataframe\">\n",
       "  <thead>\n",
       "    <tr style=\"text-align: right;\">\n",
       "      <th></th>\n",
       "      <th>Year</th>\n",
       "      <th>Month</th>\n",
       "      <th>date</th>\n",
       "      <th>flight_domestic</th>\n",
       "      <th>flight_int</th>\n",
       "      <th>pax_count</th>\n",
       "      <th>revenue</th>\n",
       "      <th>seat_miles</th>\n",
       "      <th>load_factor</th>\n",
       "      <th>flights</th>\n",
       "    </tr>\n",
       "  </thead>\n",
       "  <tbody>\n",
       "    <tr>\n",
       "      <th>0</th>\n",
       "      <td>2002</td>\n",
       "      <td>10</td>\n",
       "      <td>2002 10</td>\n",
       "      <td>6,063,128</td>\n",
       "      <td>NaN</td>\n",
       "      <td>6,063,128</td>\n",
       "      <td>3,754,364</td>\n",
       "      <td>6,006,555</td>\n",
       "      <td>62.50</td>\n",
       "      <td>81,876</td>\n",
       "    </tr>\n",
       "    <tr>\n",
       "      <th>1</th>\n",
       "      <td>2002</td>\n",
       "      <td>11</td>\n",
       "      <td>2002 11</td>\n",
       "      <td>5,598,102</td>\n",
       "      <td>NaN</td>\n",
       "      <td>5,598,102</td>\n",
       "      <td>3,439,403</td>\n",
       "      <td>5,681,559</td>\n",
       "      <td>60.54</td>\n",
       "      <td>76,818</td>\n",
       "    </tr>\n",
       "    <tr>\n",
       "      <th>2</th>\n",
       "      <td>2002</td>\n",
       "      <td>12</td>\n",
       "      <td>2002 12</td>\n",
       "      <td>6,104,562</td>\n",
       "      <td>NaN</td>\n",
       "      <td>6,104,562</td>\n",
       "      <td>3,891,291</td>\n",
       "      <td>5,899,788</td>\n",
       "      <td>65.96</td>\n",
       "      <td>79,481</td>\n",
       "    </tr>\n",
       "    <tr>\n",
       "      <th>3</th>\n",
       "      <td>2002</td>\n",
       "      <td>TOTAL</td>\n",
       "      <td>2002 TOTAL</td>\n",
       "      <td>72,447,995</td>\n",
       "      <td>0</td>\n",
       "      <td>72,447,995</td>\n",
       "      <td>45,397,266</td>\n",
       "      <td>68,909,312</td>\n",
       "      <td>65.88</td>\n",
       "      <td>947,49</td>\n",
       "    </tr>\n",
       "    <tr>\n",
       "      <th>4</th>\n",
       "      <td>2003</td>\n",
       "      <td>1</td>\n",
       "      <td>2003 1</td>\n",
       "      <td>5,484,294</td>\n",
       "      <td>NaN</td>\n",
       "      <td>5,484,294</td>\n",
       "      <td>3,474,326</td>\n",
       "      <td>5,991,225</td>\n",
       "      <td>57.99</td>\n",
       "      <td>80,62</td>\n",
       "    </tr>\n",
       "  </tbody>\n",
       "</table>\n",
       "</div>"
      ],
      "text/plain": [
       "   Year  Month        date flight_domestic flight_int   pax_count     revenue  \\\n",
       "0  2002     10     2002 10       6,063,128        NaN   6,063,128   3,754,364   \n",
       "1  2002     11     2002 11       5,598,102        NaN   5,598,102   3,439,403   \n",
       "2  2002     12     2002 12       6,104,562        NaN   6,104,562   3,891,291   \n",
       "3  2002  TOTAL  2002 TOTAL      72,447,995          0  72,447,995  45,397,266   \n",
       "4  2003      1      2003 1       5,484,294        NaN   5,484,294   3,474,326   \n",
       "\n",
       "   seat_miles load_factor flights  \n",
       "0   6,006,555       62.50  81,876  \n",
       "1   5,681,559       60.54  76,818  \n",
       "2   5,899,788       65.96  79,481  \n",
       "3  68,909,312       65.88  947,49  \n",
       "4   5,991,225       57.99   80,62  "
      ]
     },
     "execution_count": 6,
     "metadata": {},
     "output_type": "execute_result"
    }
   ],
   "source": [
    "df_southwest.head()"
   ]
  },
  {
   "cell_type": "markdown",
   "id": "e94a77ca",
   "metadata": {},
   "source": [
    "## Delete irrelevant data / years / months "
   ]
  },
  {
   "cell_type": "markdown",
   "id": "1c525aa0",
   "metadata": {},
   "source": [
    "#### Delete irrelevant date"
   ]
  },
  {
   "cell_type": "code",
   "execution_count": 7,
   "id": "af63bddd",
   "metadata": {},
   "outputs": [],
   "source": [
    "indexNames = df_southwest[df_southwest['Year'] == 2002].index\n",
    "df_southwest.drop(indexNames , inplace=True)\n"
   ]
  },
  {
   "cell_type": "code",
   "execution_count": 8,
   "id": "092b0a84",
   "metadata": {},
   "outputs": [],
   "source": [
    "indexNames = df_southwest[df_southwest['Year'] == 2020].index\n",
    "df_southwest.drop(indexNames , inplace=True)"
   ]
  },
  {
   "cell_type": "code",
   "execution_count": 9,
   "id": "976ab048",
   "metadata": {},
   "outputs": [],
   "source": [
    "indexNames = df_southwest[df_southwest['Year'] == 2021].index\n",
    "df_southwest.drop(indexNames , inplace=True)"
   ]
  },
  {
   "cell_type": "code",
   "execution_count": 10,
   "id": "9f2a12dc",
   "metadata": {},
   "outputs": [],
   "source": [
    "indexNames = df_southwest[df_southwest['Year'] == 2022].index\n",
    "df_southwest.drop(indexNames , inplace=True)"
   ]
  },
  {
   "cell_type": "code",
   "execution_count": 11,
   "id": "8cca4e81",
   "metadata": {
    "scrolled": true
   },
   "outputs": [
    {
     "name": "stdout",
     "output_type": "stream",
     "text": [
      "     Year  Month        date flight_domestic flight_int    pax_count  \\\n",
      "4    2003      1      2003 1       5,484,294        NaN    5,484,294   \n",
      "5    2003      2      2003 2       5,357,402        NaN    5,357,402   \n",
      "6    2003      3      2003 3       6,327,876        NaN    6,327,876   \n",
      "7    2003      4      2003 4       6,133,270        NaN    6,133,270   \n",
      "8    2003      5      2003 5       6,537,711        NaN    6,537,711   \n",
      "..    ...    ...         ...             ...        ...          ...   \n",
      "220  2019      9      2019 9      12,394,694    203.532   12,598,226   \n",
      "221  2019     10     2019 10      13,752,707     255.69   14,008,397   \n",
      "222  2019     11     2019 11      12,697,679    355.189   13,052,868   \n",
      "223  2019     12     2019 12      13,741,387     398.67   14,140,057   \n",
      "224  2019  TOTAL  2019 TOTAL     158,418,529  4,262,482  162,681,011   \n",
      "\n",
      "         revenue   seat_miles load_factor    flights  \n",
      "4      3,474,326    5,991,225       57.99      80,62  \n",
      "5      3,363,428    5,382,904       62.48     72,108  \n",
      "6      4,059,191    6,027,126       67.35     80,362  \n",
      "7      3,935,024    5,909,157       66.59     78,676  \n",
      "8      4,189,524    6,050,221       69.25     79,998  \n",
      "..           ...          ...         ...        ...  \n",
      "220    9,923,069   12,246,711       81.03    109,444  \n",
      "221   11,084,092   13,224,056       83.82    117,436  \n",
      "222   10,587,035   13,052,633       81.11    111,329  \n",
      "223   11,553,987   13,729,093       84.16    116,649  \n",
      "224  131,348,564  157,258,128       83.52  1,367,721  \n",
      "\n",
      "[221 rows x 10 columns]\n"
     ]
    }
   ],
   "source": [
    "print(df_southwest)"
   ]
  },
  {
   "cell_type": "markdown",
   "id": "5ceebde8",
   "metadata": {},
   "source": [
    "#### Delete irrelevant content"
   ]
  },
  {
   "cell_type": "code",
   "execution_count": 12,
   "id": "92cea3fb",
   "metadata": {},
   "outputs": [],
   "source": [
    "indexNames = df_southwest[df_southwest['Month'] == 'TOTAL'].index\n",
    "df_southwest.drop(indexNames , inplace=True)"
   ]
  },
  {
   "cell_type": "code",
   "execution_count": 13,
   "id": "d966184a",
   "metadata": {},
   "outputs": [
    {
     "data": {
      "text/html": [
       "<div>\n",
       "<style scoped>\n",
       "    .dataframe tbody tr th:only-of-type {\n",
       "        vertical-align: middle;\n",
       "    }\n",
       "\n",
       "    .dataframe tbody tr th {\n",
       "        vertical-align: top;\n",
       "    }\n",
       "\n",
       "    .dataframe thead th {\n",
       "        text-align: right;\n",
       "    }\n",
       "</style>\n",
       "<table border=\"1\" class=\"dataframe\">\n",
       "  <thead>\n",
       "    <tr style=\"text-align: right;\">\n",
       "      <th></th>\n",
       "      <th>Year</th>\n",
       "      <th>Month</th>\n",
       "      <th>date</th>\n",
       "      <th>flight_domestic</th>\n",
       "      <th>flight_int</th>\n",
       "      <th>pax_count</th>\n",
       "      <th>revenue</th>\n",
       "      <th>seat_miles</th>\n",
       "      <th>load_factor</th>\n",
       "      <th>flights</th>\n",
       "    </tr>\n",
       "  </thead>\n",
       "  <tbody>\n",
       "    <tr>\n",
       "      <th>4</th>\n",
       "      <td>2003</td>\n",
       "      <td>1</td>\n",
       "      <td>2003 1</td>\n",
       "      <td>5,484,294</td>\n",
       "      <td>NaN</td>\n",
       "      <td>5,484,294</td>\n",
       "      <td>3,474,326</td>\n",
       "      <td>5,991,225</td>\n",
       "      <td>57.99</td>\n",
       "      <td>80,62</td>\n",
       "    </tr>\n",
       "    <tr>\n",
       "      <th>5</th>\n",
       "      <td>2003</td>\n",
       "      <td>2</td>\n",
       "      <td>2003 2</td>\n",
       "      <td>5,357,402</td>\n",
       "      <td>NaN</td>\n",
       "      <td>5,357,402</td>\n",
       "      <td>3,363,428</td>\n",
       "      <td>5,382,904</td>\n",
       "      <td>62.48</td>\n",
       "      <td>72,108</td>\n",
       "    </tr>\n",
       "    <tr>\n",
       "      <th>6</th>\n",
       "      <td>2003</td>\n",
       "      <td>3</td>\n",
       "      <td>2003 3</td>\n",
       "      <td>6,327,876</td>\n",
       "      <td>NaN</td>\n",
       "      <td>6,327,876</td>\n",
       "      <td>4,059,191</td>\n",
       "      <td>6,027,126</td>\n",
       "      <td>67.35</td>\n",
       "      <td>80,362</td>\n",
       "    </tr>\n",
       "    <tr>\n",
       "      <th>7</th>\n",
       "      <td>2003</td>\n",
       "      <td>4</td>\n",
       "      <td>2003 4</td>\n",
       "      <td>6,133,270</td>\n",
       "      <td>NaN</td>\n",
       "      <td>6,133,270</td>\n",
       "      <td>3,935,024</td>\n",
       "      <td>5,909,157</td>\n",
       "      <td>66.59</td>\n",
       "      <td>78,676</td>\n",
       "    </tr>\n",
       "    <tr>\n",
       "      <th>8</th>\n",
       "      <td>2003</td>\n",
       "      <td>5</td>\n",
       "      <td>2003 5</td>\n",
       "      <td>6,537,711</td>\n",
       "      <td>NaN</td>\n",
       "      <td>6,537,711</td>\n",
       "      <td>4,189,524</td>\n",
       "      <td>6,050,221</td>\n",
       "      <td>69.25</td>\n",
       "      <td>79,998</td>\n",
       "    </tr>\n",
       "    <tr>\n",
       "      <th>9</th>\n",
       "      <td>2003</td>\n",
       "      <td>6</td>\n",
       "      <td>2003 6</td>\n",
       "      <td>6,775,552</td>\n",
       "      <td>NaN</td>\n",
       "      <td>6,775,552</td>\n",
       "      <td>4,427,485</td>\n",
       "      <td>5,937,934</td>\n",
       "      <td>74.56</td>\n",
       "      <td>78,862</td>\n",
       "    </tr>\n",
       "    <tr>\n",
       "      <th>10</th>\n",
       "      <td>2003</td>\n",
       "      <td>7</td>\n",
       "      <td>2003 7</td>\n",
       "      <td>7,132,410</td>\n",
       "      <td>NaN</td>\n",
       "      <td>7,132,410</td>\n",
       "      <td>4,750,318</td>\n",
       "      <td>6,127,338</td>\n",
       "      <td>77.53</td>\n",
       "      <td>81,282</td>\n",
       "    </tr>\n",
       "    <tr>\n",
       "      <th>11</th>\n",
       "      <td>2003</td>\n",
       "      <td>8</td>\n",
       "      <td>2003 8</td>\n",
       "      <td>6,833,522</td>\n",
       "      <td>NaN</td>\n",
       "      <td>6,833,522</td>\n",
       "      <td>4,480,716</td>\n",
       "      <td>6,119,325</td>\n",
       "      <td>73.22</td>\n",
       "      <td>80,94</td>\n",
       "    </tr>\n",
       "    <tr>\n",
       "      <th>12</th>\n",
       "      <td>2003</td>\n",
       "      <td>9</td>\n",
       "      <td>2003 9</td>\n",
       "      <td>5,742,239</td>\n",
       "      <td>NaN</td>\n",
       "      <td>5,742,239</td>\n",
       "      <td>3,602,650</td>\n",
       "      <td>5,960,957</td>\n",
       "      <td>60.44</td>\n",
       "      <td>78,702</td>\n",
       "    </tr>\n",
       "    <tr>\n",
       "      <th>13</th>\n",
       "      <td>2003</td>\n",
       "      <td>10</td>\n",
       "      <td>2003 10</td>\n",
       "      <td>6,274,120</td>\n",
       "      <td>NaN</td>\n",
       "      <td>6,274,120</td>\n",
       "      <td>3,968,193</td>\n",
       "      <td>6,238,401</td>\n",
       "      <td>63.61</td>\n",
       "      <td>81,97</td>\n",
       "    </tr>\n",
       "    <tr>\n",
       "      <th>14</th>\n",
       "      <td>2003</td>\n",
       "      <td>11</td>\n",
       "      <td>2003 11</td>\n",
       "      <td>6,006,885</td>\n",
       "      <td>NaN</td>\n",
       "      <td>6,006,885</td>\n",
       "      <td>3,762,069</td>\n",
       "      <td>5,904,969</td>\n",
       "      <td>63.71</td>\n",
       "      <td>76,596</td>\n",
       "    </tr>\n",
       "    <tr>\n",
       "      <th>15</th>\n",
       "      <td>2003</td>\n",
       "      <td>12</td>\n",
       "      <td>2003 12</td>\n",
       "      <td>6,114,059</td>\n",
       "      <td>NaN</td>\n",
       "      <td>6,114,059</td>\n",
       "      <td>3,935,309</td>\n",
       "      <td>6,154,327</td>\n",
       "      <td>63.94</td>\n",
       "      <td>79,822</td>\n",
       "    </tr>\n",
       "    <tr>\n",
       "      <th>17</th>\n",
       "      <td>2004</td>\n",
       "      <td>1</td>\n",
       "      <td>2004 1</td>\n",
       "      <td>5,358,000</td>\n",
       "      <td>NaN</td>\n",
       "      <td>5,358,000</td>\n",
       "      <td>3,456,658</td>\n",
       "      <td>6,148,886</td>\n",
       "      <td>56.22</td>\n",
       "      <td>79,508</td>\n",
       "    </tr>\n",
       "    <tr>\n",
       "      <th>18</th>\n",
       "      <td>2004</td>\n",
       "      <td>2</td>\n",
       "      <td>2004 2</td>\n",
       "      <td>5,746,587</td>\n",
       "      <td>NaN</td>\n",
       "      <td>5,746,587</td>\n",
       "      <td>3,660,185</td>\n",
       "      <td>5,883,000</td>\n",
       "      <td>62.22</td>\n",
       "      <td>76,342</td>\n",
       "    </tr>\n",
       "    <tr>\n",
       "      <th>19</th>\n",
       "      <td>2004</td>\n",
       "      <td>3</td>\n",
       "      <td>2004 3</td>\n",
       "      <td>7,085,817</td>\n",
       "      <td>NaN</td>\n",
       "      <td>7,085,817</td>\n",
       "      <td>4,676,795</td>\n",
       "      <td>6,353,296</td>\n",
       "      <td>73.61</td>\n",
       "      <td>82,634</td>\n",
       "    </tr>\n",
       "    <tr>\n",
       "      <th>20</th>\n",
       "      <td>2004</td>\n",
       "      <td>4</td>\n",
       "      <td>2004 4</td>\n",
       "      <td>7,115,636</td>\n",
       "      <td>NaN</td>\n",
       "      <td>7,115,636</td>\n",
       "      <td>4,689,118</td>\n",
       "      <td>6,150,773</td>\n",
       "      <td>76.24</td>\n",
       "      <td>79,876</td>\n",
       "    </tr>\n",
       "    <tr>\n",
       "      <th>21</th>\n",
       "      <td>2004</td>\n",
       "      <td>5</td>\n",
       "      <td>2004 5</td>\n",
       "      <td>7,139,114</td>\n",
       "      <td>NaN</td>\n",
       "      <td>7,139,114</td>\n",
       "      <td>4,681,633</td>\n",
       "      <td>6,340,534</td>\n",
       "      <td>73.84</td>\n",
       "      <td>81,437</td>\n",
       "    </tr>\n",
       "    <tr>\n",
       "      <th>22</th>\n",
       "      <td>2004</td>\n",
       "      <td>6</td>\n",
       "      <td>2004 6</td>\n",
       "      <td>7,373,298</td>\n",
       "      <td>NaN</td>\n",
       "      <td>7,373,298</td>\n",
       "      <td>4,956,418</td>\n",
       "      <td>6,286,798</td>\n",
       "      <td>78.84</td>\n",
       "      <td>81,1</td>\n",
       "    </tr>\n",
       "    <tr>\n",
       "      <th>23</th>\n",
       "      <td>2004</td>\n",
       "      <td>7</td>\n",
       "      <td>2004 7</td>\n",
       "      <td>7,620,805</td>\n",
       "      <td>NaN</td>\n",
       "      <td>7,620,805</td>\n",
       "      <td>5,197,468</td>\n",
       "      <td>6,547,405</td>\n",
       "      <td>79.38</td>\n",
       "      <td>83,7</td>\n",
       "    </tr>\n",
       "    <tr>\n",
       "      <th>24</th>\n",
       "      <td>2004</td>\n",
       "      <td>8</td>\n",
       "      <td>2004 8</td>\n",
       "      <td>7,357,694</td>\n",
       "      <td>NaN</td>\n",
       "      <td>7,357,694</td>\n",
       "      <td>4,986,682</td>\n",
       "      <td>6,643,194</td>\n",
       "      <td>75.06</td>\n",
       "      <td>84,944</td>\n",
       "    </tr>\n",
       "  </tbody>\n",
       "</table>\n",
       "</div>"
      ],
      "text/plain": [
       "    Year Month     date flight_domestic flight_int  pax_count    revenue  \\\n",
       "4   2003     1   2003 1       5,484,294        NaN  5,484,294  3,474,326   \n",
       "5   2003     2   2003 2       5,357,402        NaN  5,357,402  3,363,428   \n",
       "6   2003     3   2003 3       6,327,876        NaN  6,327,876  4,059,191   \n",
       "7   2003     4   2003 4       6,133,270        NaN  6,133,270  3,935,024   \n",
       "8   2003     5   2003 5       6,537,711        NaN  6,537,711  4,189,524   \n",
       "9   2003     6   2003 6       6,775,552        NaN  6,775,552  4,427,485   \n",
       "10  2003     7   2003 7       7,132,410        NaN  7,132,410  4,750,318   \n",
       "11  2003     8   2003 8       6,833,522        NaN  6,833,522  4,480,716   \n",
       "12  2003     9   2003 9       5,742,239        NaN  5,742,239  3,602,650   \n",
       "13  2003    10  2003 10       6,274,120        NaN  6,274,120  3,968,193   \n",
       "14  2003    11  2003 11       6,006,885        NaN  6,006,885  3,762,069   \n",
       "15  2003    12  2003 12       6,114,059        NaN  6,114,059  3,935,309   \n",
       "17  2004     1   2004 1       5,358,000        NaN  5,358,000  3,456,658   \n",
       "18  2004     2   2004 2       5,746,587        NaN  5,746,587  3,660,185   \n",
       "19  2004     3   2004 3       7,085,817        NaN  7,085,817  4,676,795   \n",
       "20  2004     4   2004 4       7,115,636        NaN  7,115,636  4,689,118   \n",
       "21  2004     5   2004 5       7,139,114        NaN  7,139,114  4,681,633   \n",
       "22  2004     6   2004 6       7,373,298        NaN  7,373,298  4,956,418   \n",
       "23  2004     7   2004 7       7,620,805        NaN  7,620,805  5,197,468   \n",
       "24  2004     8   2004 8       7,357,694        NaN  7,357,694  4,986,682   \n",
       "\n",
       "   seat_miles load_factor flights  \n",
       "4   5,991,225       57.99   80,62  \n",
       "5   5,382,904       62.48  72,108  \n",
       "6   6,027,126       67.35  80,362  \n",
       "7   5,909,157       66.59  78,676  \n",
       "8   6,050,221       69.25  79,998  \n",
       "9   5,937,934       74.56  78,862  \n",
       "10  6,127,338       77.53  81,282  \n",
       "11  6,119,325       73.22   80,94  \n",
       "12  5,960,957       60.44  78,702  \n",
       "13  6,238,401       63.61   81,97  \n",
       "14  5,904,969       63.71  76,596  \n",
       "15  6,154,327       63.94  79,822  \n",
       "17  6,148,886       56.22  79,508  \n",
       "18  5,883,000       62.22  76,342  \n",
       "19  6,353,296       73.61  82,634  \n",
       "20  6,150,773       76.24  79,876  \n",
       "21  6,340,534       73.84  81,437  \n",
       "22  6,286,798       78.84    81,1  \n",
       "23  6,547,405       79.38    83,7  \n",
       "24  6,643,194       75.06  84,944  "
      ]
     },
     "execution_count": 13,
     "metadata": {},
     "output_type": "execute_result"
    }
   ],
   "source": [
    "df_southwest.head(20)"
   ]
  },
  {
   "cell_type": "markdown",
   "id": "ce22b132",
   "metadata": {},
   "source": [
    "#### Delete irrelevant column"
   ]
  },
  {
   "cell_type": "code",
   "execution_count": 14,
   "id": "88a87714",
   "metadata": {
    "scrolled": true
   },
   "outputs": [],
   "source": [
    "df_southwest = df_southwest.drop([\"flight_domestic\", \"flight_int\", 'Year', 'Month'], axis=1)"
   ]
  },
  {
   "cell_type": "markdown",
   "id": "c84666fd",
   "metadata": {},
   "source": [
    "#### Delete NaN"
   ]
  },
  {
   "cell_type": "code",
   "execution_count": 15,
   "id": "38950fb2",
   "metadata": {},
   "outputs": [],
   "source": [
    "incomplete_columns = list(df_southwest.columns[df_southwest.isnull().any()])"
   ]
  },
  {
   "cell_type": "code",
   "execution_count": 16,
   "id": "2cfb2ae8",
   "metadata": {},
   "outputs": [
    {
     "data": {
      "text/plain": [
       "[]"
      ]
     },
     "execution_count": 16,
     "metadata": {},
     "output_type": "execute_result"
    }
   ],
   "source": [
    "incomplete_columns"
   ]
  },
  {
   "cell_type": "markdown",
   "id": "f9b4337e",
   "metadata": {},
   "source": [
    "#### Datensatz ist vollständig"
   ]
  },
  {
   "cell_type": "markdown",
   "id": "e113e2fb",
   "metadata": {},
   "source": [
    "## Convert argument to datetime"
   ]
  },
  {
   "cell_type": "code",
   "execution_count": 17,
   "id": "00c21cc6",
   "metadata": {},
   "outputs": [],
   "source": [
    "df_southwest['date'] = pd.to_datetime(df_southwest['date'])"
   ]
  },
  {
   "cell_type": "code",
   "execution_count": 18,
   "id": "976234d6",
   "metadata": {},
   "outputs": [
    {
     "data": {
      "text/html": [
       "<div>\n",
       "<style scoped>\n",
       "    .dataframe tbody tr th:only-of-type {\n",
       "        vertical-align: middle;\n",
       "    }\n",
       "\n",
       "    .dataframe tbody tr th {\n",
       "        vertical-align: top;\n",
       "    }\n",
       "\n",
       "    .dataframe thead th {\n",
       "        text-align: right;\n",
       "    }\n",
       "</style>\n",
       "<table border=\"1\" class=\"dataframe\">\n",
       "  <thead>\n",
       "    <tr style=\"text-align: right;\">\n",
       "      <th></th>\n",
       "      <th>date</th>\n",
       "      <th>pax_count</th>\n",
       "      <th>revenue</th>\n",
       "      <th>seat_miles</th>\n",
       "      <th>load_factor</th>\n",
       "      <th>flights</th>\n",
       "    </tr>\n",
       "  </thead>\n",
       "  <tbody>\n",
       "    <tr>\n",
       "      <th>4</th>\n",
       "      <td>2003-01-01</td>\n",
       "      <td>5,484,294</td>\n",
       "      <td>3,474,326</td>\n",
       "      <td>5,991,225</td>\n",
       "      <td>57.99</td>\n",
       "      <td>80,62</td>\n",
       "    </tr>\n",
       "    <tr>\n",
       "      <th>5</th>\n",
       "      <td>2003-02-01</td>\n",
       "      <td>5,357,402</td>\n",
       "      <td>3,363,428</td>\n",
       "      <td>5,382,904</td>\n",
       "      <td>62.48</td>\n",
       "      <td>72,108</td>\n",
       "    </tr>\n",
       "    <tr>\n",
       "      <th>6</th>\n",
       "      <td>2003-03-01</td>\n",
       "      <td>6,327,876</td>\n",
       "      <td>4,059,191</td>\n",
       "      <td>6,027,126</td>\n",
       "      <td>67.35</td>\n",
       "      <td>80,362</td>\n",
       "    </tr>\n",
       "    <tr>\n",
       "      <th>7</th>\n",
       "      <td>2003-04-01</td>\n",
       "      <td>6,133,270</td>\n",
       "      <td>3,935,024</td>\n",
       "      <td>5,909,157</td>\n",
       "      <td>66.59</td>\n",
       "      <td>78,676</td>\n",
       "    </tr>\n",
       "    <tr>\n",
       "      <th>8</th>\n",
       "      <td>2003-05-01</td>\n",
       "      <td>6,537,711</td>\n",
       "      <td>4,189,524</td>\n",
       "      <td>6,050,221</td>\n",
       "      <td>69.25</td>\n",
       "      <td>79,998</td>\n",
       "    </tr>\n",
       "  </tbody>\n",
       "</table>\n",
       "</div>"
      ],
      "text/plain": [
       "        date  pax_count    revenue seat_miles load_factor flights\n",
       "4 2003-01-01  5,484,294  3,474,326  5,991,225       57.99   80,62\n",
       "5 2003-02-01  5,357,402  3,363,428  5,382,904       62.48  72,108\n",
       "6 2003-03-01  6,327,876  4,059,191  6,027,126       67.35  80,362\n",
       "7 2003-04-01  6,133,270  3,935,024  5,909,157       66.59  78,676\n",
       "8 2003-05-01  6,537,711  4,189,524  6,050,221       69.25  79,998"
      ]
     },
     "execution_count": 18,
     "metadata": {},
     "output_type": "execute_result"
    }
   ],
   "source": [
    "df_southwest.head()"
   ]
  },
  {
   "cell_type": "markdown",
   "id": "5f376232",
   "metadata": {},
   "source": [
    "## Convert data types"
   ]
  },
  {
   "cell_type": "code",
   "execution_count": 19,
   "id": "0e3dbf19",
   "metadata": {
    "scrolled": true
   },
   "outputs": [
    {
     "data": {
      "text/plain": [
       "date           datetime64[ns]\n",
       "pax_count              object\n",
       "revenue                object\n",
       "seat_miles             object\n",
       "load_factor            object\n",
       "flights                object\n",
       "dtype: object"
      ]
     },
     "execution_count": 19,
     "metadata": {},
     "output_type": "execute_result"
    }
   ],
   "source": [
    "df_southwest.dtypes"
   ]
  },
  {
   "cell_type": "code",
   "execution_count": 20,
   "id": "7f733b5f",
   "metadata": {},
   "outputs": [
    {
     "name": "stderr",
     "output_type": "stream",
     "text": [
      "/var/folders/_h/_0hrsyw93ljbt2ws9kq8w6z40000gn/T/ipykernel_2700/1660583784.py:1: FutureWarning: The default value of regex will change from True to False in a future version.\n",
      "  df_southwest['pax_count'] = df_southwest['pax_count'].str.replace('[^\\w\\s]','').astype(int)\n"
     ]
    }
   ],
   "source": [
    "df_southwest['pax_count'] = df_southwest['pax_count'].str.replace('[^\\w\\s]','').astype(int)"
   ]
  },
  {
   "cell_type": "code",
   "execution_count": 21,
   "id": "a02665f2",
   "metadata": {},
   "outputs": [
    {
     "name": "stderr",
     "output_type": "stream",
     "text": [
      "/var/folders/_h/_0hrsyw93ljbt2ws9kq8w6z40000gn/T/ipykernel_2700/2445603854.py:1: FutureWarning: The default value of regex will change from True to False in a future version.\n",
      "  df_southwest['revenue'] = df_southwest['revenue'].str.replace('[^\\w\\s]','').astype(int)\n"
     ]
    }
   ],
   "source": [
    "df_southwest['revenue'] = df_southwest['revenue'].str.replace('[^\\w\\s]','').astype(int)"
   ]
  },
  {
   "cell_type": "code",
   "execution_count": 22,
   "id": "57a0f6f0",
   "metadata": {},
   "outputs": [
    {
     "name": "stderr",
     "output_type": "stream",
     "text": [
      "/var/folders/_h/_0hrsyw93ljbt2ws9kq8w6z40000gn/T/ipykernel_2700/2593201998.py:1: FutureWarning: The default value of regex will change from True to False in a future version.\n",
      "  df_southwest['seat_miles'] = df_southwest['seat_miles'].str.replace('[^\\w\\s]','').astype(int)\n"
     ]
    }
   ],
   "source": [
    "df_southwest['seat_miles'] = df_southwest['seat_miles'].str.replace('[^\\w\\s]','').astype(int)"
   ]
  },
  {
   "cell_type": "code",
   "execution_count": 23,
   "id": "17039953",
   "metadata": {},
   "outputs": [
    {
     "name": "stderr",
     "output_type": "stream",
     "text": [
      "/var/folders/_h/_0hrsyw93ljbt2ws9kq8w6z40000gn/T/ipykernel_2700/478338512.py:1: FutureWarning: The default value of regex will change from True to False in a future version.\n",
      "  df_southwest['flights'] = df_southwest['flights'].str.replace('[^\\w\\s]','').astype(int)\n"
     ]
    }
   ],
   "source": [
    "df_southwest['flights'] = df_southwest['flights'].str.replace('[^\\w\\s]','').astype(int)"
   ]
  },
  {
   "cell_type": "code",
   "execution_count": 24,
   "id": "f8d91ca1",
   "metadata": {},
   "outputs": [],
   "source": [
    "df_southwest['load_factor']= df_southwest['load_factor'].astype(float)"
   ]
  },
  {
   "cell_type": "code",
   "execution_count": 25,
   "id": "ba9489bf",
   "metadata": {},
   "outputs": [
    {
     "data": {
      "text/html": [
       "<div>\n",
       "<style scoped>\n",
       "    .dataframe tbody tr th:only-of-type {\n",
       "        vertical-align: middle;\n",
       "    }\n",
       "\n",
       "    .dataframe tbody tr th {\n",
       "        vertical-align: top;\n",
       "    }\n",
       "\n",
       "    .dataframe thead th {\n",
       "        text-align: right;\n",
       "    }\n",
       "</style>\n",
       "<table border=\"1\" class=\"dataframe\">\n",
       "  <thead>\n",
       "    <tr style=\"text-align: right;\">\n",
       "      <th></th>\n",
       "      <th>date</th>\n",
       "      <th>pax_count</th>\n",
       "      <th>revenue</th>\n",
       "      <th>seat_miles</th>\n",
       "      <th>load_factor</th>\n",
       "      <th>flights</th>\n",
       "    </tr>\n",
       "  </thead>\n",
       "  <tbody>\n",
       "    <tr>\n",
       "      <th>4</th>\n",
       "      <td>2003-01-01</td>\n",
       "      <td>5484294</td>\n",
       "      <td>3474326</td>\n",
       "      <td>5991225</td>\n",
       "      <td>57.99</td>\n",
       "      <td>8062</td>\n",
       "    </tr>\n",
       "    <tr>\n",
       "      <th>5</th>\n",
       "      <td>2003-02-01</td>\n",
       "      <td>5357402</td>\n",
       "      <td>3363428</td>\n",
       "      <td>5382904</td>\n",
       "      <td>62.48</td>\n",
       "      <td>72108</td>\n",
       "    </tr>\n",
       "    <tr>\n",
       "      <th>6</th>\n",
       "      <td>2003-03-01</td>\n",
       "      <td>6327876</td>\n",
       "      <td>4059191</td>\n",
       "      <td>6027126</td>\n",
       "      <td>67.35</td>\n",
       "      <td>80362</td>\n",
       "    </tr>\n",
       "    <tr>\n",
       "      <th>7</th>\n",
       "      <td>2003-04-01</td>\n",
       "      <td>6133270</td>\n",
       "      <td>3935024</td>\n",
       "      <td>5909157</td>\n",
       "      <td>66.59</td>\n",
       "      <td>78676</td>\n",
       "    </tr>\n",
       "    <tr>\n",
       "      <th>8</th>\n",
       "      <td>2003-05-01</td>\n",
       "      <td>6537711</td>\n",
       "      <td>4189524</td>\n",
       "      <td>6050221</td>\n",
       "      <td>69.25</td>\n",
       "      <td>79998</td>\n",
       "    </tr>\n",
       "  </tbody>\n",
       "</table>\n",
       "</div>"
      ],
      "text/plain": [
       "        date  pax_count  revenue  seat_miles  load_factor  flights\n",
       "4 2003-01-01    5484294  3474326     5991225        57.99     8062\n",
       "5 2003-02-01    5357402  3363428     5382904        62.48    72108\n",
       "6 2003-03-01    6327876  4059191     6027126        67.35    80362\n",
       "7 2003-04-01    6133270  3935024     5909157        66.59    78676\n",
       "8 2003-05-01    6537711  4189524     6050221        69.25    79998"
      ]
     },
     "execution_count": 25,
     "metadata": {},
     "output_type": "execute_result"
    }
   ],
   "source": [
    "df_southwest.head()"
   ]
  },
  {
   "cell_type": "code",
   "execution_count": 26,
   "id": "21efbc96",
   "metadata": {},
   "outputs": [
    {
     "data": {
      "text/plain": [
       "date           datetime64[ns]\n",
       "pax_count               int64\n",
       "revenue                 int64\n",
       "seat_miles              int64\n",
       "load_factor           float64\n",
       "flights                 int64\n",
       "dtype: object"
      ]
     },
     "execution_count": 26,
     "metadata": {},
     "output_type": "execute_result"
    }
   ],
   "source": [
    "df_southwest.dtypes"
   ]
  },
  {
   "cell_type": "markdown",
   "id": "0652c402",
   "metadata": {},
   "source": [
    "## Date to Index"
   ]
  },
  {
   "cell_type": "code",
   "execution_count": 27,
   "id": "f6e0de4e",
   "metadata": {},
   "outputs": [],
   "source": [
    "df_southwest = df_southwest.set_index(['date'])"
   ]
  },
  {
   "cell_type": "markdown",
   "id": "8091d74d",
   "metadata": {},
   "source": [
    "## Clean data safe"
   ]
  },
  {
   "cell_type": "code",
   "execution_count": 28,
   "id": "61618345",
   "metadata": {
    "scrolled": true
   },
   "outputs": [
    {
     "name": "stdout",
     "output_type": "stream",
     "text": [
      "/Users/dilianaserafimova/Library/Mobile Documents/com~apple~CloudDocs/Documents/My Files/Master Studium/Masterarbeit/Clean_Data/Southwest\n"
     ]
    }
   ],
   "source": [
    "%cd  /Users/dilianaserafimova/Library/Mobile Documents/com~apple~CloudDocs/Documents/My Files/Master Studium/Masterarbeit/Clean_Data/Southwest"
   ]
  },
  {
   "cell_type": "code",
   "execution_count": 32,
   "id": "50456786",
   "metadata": {},
   "outputs": [],
   "source": [
    "df_southwest.to_excel('df_southwest_clean.xlsx', index = True)"
   ]
  },
  {
   "cell_type": "markdown",
   "id": "cd70ca86",
   "metadata": {},
   "source": [
    "## Generating rolling means and standard deviations"
   ]
  },
  {
   "cell_type": "markdown",
   "id": "d1c6675a",
   "metadata": {},
   "source": [
    "### Rolling mean"
   ]
  },
  {
   "cell_type": "code",
   "execution_count": 33,
   "id": "aeaea3e6",
   "metadata": {},
   "outputs": [],
   "source": [
    "df_southwest['pax_count_rolling_mean'] = df_southwest['pax_count'].rolling(12).mean()"
   ]
  },
  {
   "cell_type": "markdown",
   "id": "61a6c7ac",
   "metadata": {},
   "source": [
    "### Rolling std"
   ]
  },
  {
   "cell_type": "code",
   "execution_count": 34,
   "id": "6b1264fb",
   "metadata": {},
   "outputs": [],
   "source": [
    "df_southwest['pax_count_rolling_std'] = df_southwest['pax_count'].rolling(12).std()"
   ]
  },
  {
   "cell_type": "markdown",
   "id": "6d5fdc55",
   "metadata": {},
   "source": [
    "### Plot"
   ]
  },
  {
   "cell_type": "code",
   "execution_count": 35,
   "id": "4436fc34",
   "metadata": {
    "scrolled": true
   },
   "outputs": [
    {
     "data": {
      "image/png": "[encoded data removed]",
      "text/plain": [
       "<Figure size 432x288 with 1 Axes>"
      ]
     },
     "metadata": {
      "needs_background": "light"
     },
     "output_type": "display_data"
    }
   ],
   "source": [
    "plt.plot(df_southwest['pax_count_rolling_mean'], label = 'Monthly Rolling Mean', color = 'purple')\n",
    "plt.plot(df_southwest['pax_count_rolling_std'], label = 'Monthly Rolling Std', color = 'green')\n",
    "plt.plot(df_southwest['pax_count'], label='Raw Data')\n",
    "plt.legend()\n",
    "plt.xlabel('Year')\n",
    "plt.ylabel('Passanger')\n",
    "plt.show()"
   ]
  },
  {
   "cell_type": "code",
   "execution_count": 36,
   "id": "a9493138",
   "metadata": {},
   "outputs": [
    {
     "data": {
      "text/plain": [
       "[<matplotlib.lines.Line2D at 0x7ff4180bd400>]"
      ]
     },
     "execution_count": 36,
     "metadata": {},
     "output_type": "execute_result"
    },
    {
     "data": {
      "image/png": "[encoded data removed]",
      "text/plain": [
       "<Figure size 432x288 with 1 Axes>"
      ]
     },
     "metadata": {
      "needs_background": "light"
     },
     "output_type": "display_data"
    }
   ],
   "source": [
    "plt.plot(df_southwest['pax_count_rolling_mean'], label = 'Monthly Rolling Mean', color = 'purple')"
   ]
  },
  {
   "cell_type": "markdown",
   "id": "23eef5ca",
   "metadata": {},
   "source": [
    "## Seasonal decompose"
   ]
  },
  {
   "cell_type": "code",
   "execution_count": 37,
   "id": "238aeee6",
   "metadata": {},
   "outputs": [],
   "source": [
    "result=seasonal_decompose(df_southwest['pax_count'], model='multiplicable', period=12)"
   ]
  },
  {
   "cell_type": "code",
   "execution_count": 38,
   "id": "7e6c0168",
   "metadata": {},
   "outputs": [
    {
     "data": {
      "text/plain": [
       "<AxesSubplot:xlabel='date'>"
      ]
     },
     "execution_count": 38,
     "metadata": {},
     "output_type": "execute_result"
    },
    {
     "data": {
      "image/png": "[encoded data removed]",
      "text/plain": [
       "<Figure size 432x288 with 1 Axes>"
      ]
     },
     "metadata": {
      "needs_background": "light"
     },
     "output_type": "display_data"
    }
   ],
   "source": [
    "result.seasonal.plot()"
   ]
  },
  {
   "cell_type": "code",
   "execution_count": 39,
   "id": "3afaf18d",
   "metadata": {},
   "outputs": [
    {
     "data": {
      "text/plain": [
       "<AxesSubplot:xlabel='date'>"
      ]
     },
     "execution_count": 39,
     "metadata": {},
     "output_type": "execute_result"
    },
    {
     "data": {
      "image/png": "[encoded data removed]",
      "text/plain": [
       "<Figure size 432x288 with 1 Axes>"
      ]
     },
     "metadata": {
      "needs_background": "light"
     },
     "output_type": "display_data"
    }
   ],
   "source": [
    "result.trend.plot()"
   ]
  },
  {
   "cell_type": "code",
   "execution_count": 40,
   "id": "4150b4d1",
   "metadata": {},
   "outputs": [
    {
     "data": {
      "text/plain": [
       "<AxesSubplot:xlabel='date'>"
      ]
     },
     "execution_count": 40,
     "metadata": {},
     "output_type": "execute_result"
    },
    {
     "data": {
      "image/png": "[encoded data removed]",
      "text/plain": [
       "<Figure size 432x288 with 1 Axes>"
      ]
     },
     "metadata": {
      "needs_background": "light"
     },
     "output_type": "display_data"
    }
   ],
   "source": [
    "result.resid.plot()"
   ]
  },
  {
   "cell_type": "code",
   "execution_count": 41,
   "id": "a5e2d413",
   "metadata": {
    "scrolled": true
   },
   "outputs": [
    {
     "data": {
      "image/png": "[encoded data removed]",
      "text/plain": [
       "<Figure size 432x288 with 4 Axes>"
      ]
     },
     "execution_count": 41,
     "metadata": {},
     "output_type": "execute_result"
    },
    {
     "data": {
      "image/png": "[encoded data removed]",
      "text/plain": [
       "<Figure size 432x288 with 4 Axes>"
      ]
     },
     "metadata": {
      "needs_background": "light"
     },
     "output_type": "display_data"
    }
   ],
   "source": [
    "result.plot()"
   ]
  }
 ],
 "metadata": {
  "kernelspec": {
   "display_name": "Python 3 (ipykernel)",
   "language": "python",
   "name": "python3"
  },
  "language_info": {
   "codemirror_mode": {
    "name": "ipython",
    "version": 3
   },
   "file_extension": ".py",
   "mimetype": "text/x-python",
   "name": "python",
   "nbconvert_exporter": "python",
   "pygments_lexer": "ipython3",
   "version": "3.9.7"
  }
 },
 "nbformat": 4,
 "nbformat_minor": 5
}
