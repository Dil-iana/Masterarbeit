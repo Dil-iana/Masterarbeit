{
 "cells": [
  {
   "cell_type": "code",
   "execution_count": 30,
   "id": "f5d1f583",
   "metadata": {
    "scrolled": true
   },
   "outputs": [],
   "source": [
    "import tensorflow as tf\n",
    "from tensorflow.keras.models import Sequential\n",
    "from tensorflow.keras.layers import Dense, Dropout\n",
    "import keras\n",
    "import pandas as pd\n",
    "from sklearn.model_selection import train_test_split\n",
    "from sklearn.preprocessing import MinMaxScaler\n",
    "from sklearn.metrics import mean_squared_error, mean_absolute_error\n",
    "import math\n",
    "import matplotlib.pyplot as plt\n",
    "from tensorflow.keras import initializers\n",
    "import numpy as np\n",
    "\n",
    "import warnings\n",
    "warnings.filterwarnings('ignore')"
   ]
  },
  {
   "cell_type": "markdown",
   "id": "54f9bd01",
   "metadata": {},
   "source": [
    "## Import data "
   ]
  },
  {
   "cell_type": "code",
   "execution_count": 31,
   "id": "a992baa0",
   "metadata": {},
   "outputs": [],
   "source": [
    "df_southwest = pd.read_excel(r'/Users/dilianaserafimova/Desktop/df_southwest_clean.xlsx')"
   ]
  },
  {
   "cell_type": "code",
   "execution_count": 32,
   "id": "19f03ca1",
   "metadata": {},
   "outputs": [],
   "source": [
    "df_southwest = df_southwest.set_index(['date'])"
   ]
  },
  {
   "cell_type": "code",
   "execution_count": 33,
   "id": "3bae768c",
   "metadata": {},
   "outputs": [],
   "source": [
    "X = df_southwest[['revenue', 'seat_miles', 'load_factor', 'flights']]"
   ]
  },
  {
   "cell_type": "code",
   "execution_count": 34,
   "id": "82e97e35",
   "metadata": {},
   "outputs": [],
   "source": [
    "y = df_southwest['pax_count'].values"
   ]
  },
  {
   "cell_type": "markdown",
   "id": "20633ac5",
   "metadata": {},
   "source": [
    "## Train & test split"
   ]
  },
  {
   "cell_type": "code",
   "execution_count": 35,
   "id": "c54eb130",
   "metadata": {},
   "outputs": [],
   "source": [
    "X_train, X_test, y_train, y_test = train_test_split(X, y, test_size=0.2, random_state = 1)"
   ]
  },
  {
   "cell_type": "markdown",
   "id": "425cd75a",
   "metadata": {},
   "source": [
    "## Normalize the data"
   ]
  },
  {
   "cell_type": "code",
   "execution_count": 36,
   "id": "16720abf",
   "metadata": {},
   "outputs": [],
   "source": [
    "scaler = MinMaxScaler()"
   ]
  },
  {
   "cell_type": "code",
   "execution_count": 37,
   "id": "cebc19d9",
   "metadata": {},
   "outputs": [],
   "source": [
    "X_train = scaler.fit_transform(X_train)"
   ]
  },
  {
   "cell_type": "code",
   "execution_count": 38,
   "id": "7ca86aa3",
   "metadata": {},
   "outputs": [],
   "source": [
    "X_test = scaler.transform(X_test)"
   ]
  },
  {
   "cell_type": "markdown",
   "id": "2c1fb5df",
   "metadata": {},
   "source": [
    "## Creating the model "
   ]
  },
  {
   "cell_type": "code",
   "execution_count": 39,
   "id": "ce589b2c",
   "metadata": {},
   "outputs": [],
   "source": [
    "model = Sequential()\n",
    "\n",
    "model.add(Dense(4, activation='relu', \n",
    "                kernel_initializer=initializers.RandomNormal(stddev=0.01),\n",
    "                bias_initializer=initializers.Zeros()\n",
    "               ))\n",
    "model.add(Dense(8, activation='relu'))\n",
    "#model.add(Dense(6, activation='relu'))\n",
    "model.add(Dense(5, activation='relu'))\n",
    "model.add(Dense(3, activation='relu'))\n",
    "#model.add(Dense(2, activation='relu'))\n",
    "model.add(Dense(units=1,activation='relu'))"
   ]
  },
  {
   "cell_type": "code",
   "execution_count": 40,
   "id": "2a7029f3",
   "metadata": {},
   "outputs": [],
   "source": [
    "opt = keras.optimizers.Adam(learning_rate=0.2, beta_1=0.5, beta_2=0.999)\n",
    "\n",
    "model.compile(loss = 'mean_absolute_error', optimizer= opt)"
   ]
  },
  {
   "cell_type": "markdown",
   "id": "51a3371f",
   "metadata": {},
   "source": [
    "## Fit the model "
   ]
  },
  {
   "cell_type": "code",
   "execution_count": 41,
   "id": "e94ffd05",
   "metadata": {
    "scrolled": false
   },
   "outputs": [
    {
     "name": "stdout",
     "output_type": "stream",
     "text": [
      "Epoch 1/50\n",
      "6/6 [==============================] - 1s 49ms/step - loss: 9800532.0000 - val_loss: 9754484.0000\n",
      "Epoch 2/50\n",
      "6/6 [==============================] - 0s 15ms/step - loss: 9793342.0000 - val_loss: 9693158.0000\n",
      "Epoch 3/50\n",
      "6/6 [==============================] - 0s 18ms/step - loss: 9571385.0000 - val_loss: 8724434.0000\n",
      "Epoch 4/50\n",
      "6/6 [==============================] - 0s 15ms/step - loss: 7408246.5000 - val_loss: 2414672.5000\n",
      "Epoch 5/50\n",
      "6/6 [==============================] - 0s 14ms/step - loss: 1011169.5625 - val_loss: 330457.8438\n",
      "Epoch 6/50\n",
      "6/6 [==============================] - 0s 15ms/step - loss: 479991.7188 - val_loss: 390352.2500\n",
      "Epoch 7/50\n",
      "6/6 [==============================] - 0s 14ms/step - loss: 405685.0625 - val_loss: 1176368.0000\n",
      "Epoch 8/50\n",
      "6/6 [==============================] - 0s 15ms/step - loss: 742733.3125 - val_loss: 607542.7500\n",
      "Epoch 9/50\n",
      "6/6 [==============================] - 0s 16ms/step - loss: 433158.1250 - val_loss: 306063.8125\n",
      "Epoch 10/50\n",
      "6/6 [==============================] - 0s 16ms/step - loss: 371805.0625 - val_loss: 515875.8438\n",
      "Epoch 11/50\n",
      "6/6 [==============================] - 0s 15ms/step - loss: 441688.5000 - val_loss: 335883.2812\n",
      "Epoch 12/50\n",
      "6/6 [==============================] - 0s 16ms/step - loss: 367391.8750 - val_loss: 787441.5000\n",
      "Epoch 13/50\n",
      "6/6 [==============================] - 0s 15ms/step - loss: 520413.0938 - val_loss: 615777.0000\n",
      "Epoch 14/50\n",
      "6/6 [==============================] - 0s 15ms/step - loss: 397435.7188 - val_loss: 687339.4375\n",
      "Epoch 15/50\n",
      "6/6 [==============================] - 0s 20ms/step - loss: 476108.4688 - val_loss: 362078.4375\n",
      "Epoch 16/50\n",
      "6/6 [==============================] - 0s 17ms/step - loss: 414366.9688 - val_loss: 431246.0938\n",
      "Epoch 17/50\n",
      "6/6 [==============================] - 0s 17ms/step - loss: 398687.6875 - val_loss: 861185.7500\n",
      "Epoch 18/50\n",
      "6/6 [==============================] - 0s 23ms/step - loss: 639802.1875 - val_loss: 298878.2812\n",
      "Epoch 19/50\n",
      "6/6 [==============================] - 0s 19ms/step - loss: 339301.5000 - val_loss: 715781.0625\n",
      "Epoch 20/50\n",
      "6/6 [==============================] - 0s 17ms/step - loss: 529027.1250 - val_loss: 779897.4375\n",
      "Epoch 21/50\n",
      "6/6 [==============================] - 0s 16ms/step - loss: 463964.8438 - val_loss: 722288.3125\n",
      "Epoch 22/50\n",
      "6/6 [==============================] - 0s 19ms/step - loss: 523282.7500 - val_loss: 504052.4375\n",
      "Epoch 23/50\n",
      "6/6 [==============================] - 0s 17ms/step - loss: 448390.4688 - val_loss: 559840.3750\n",
      "Epoch 24/50\n",
      "6/6 [==============================] - 0s 16ms/step - loss: 439299.9688 - val_loss: 698040.5000\n",
      "Epoch 25/50\n",
      "6/6 [==============================] - 0s 18ms/step - loss: 451484.5000 - val_loss: 290476.6875\n",
      "Epoch 26/50\n",
      "6/6 [==============================] - 0s 16ms/step - loss: 479145.0938 - val_loss: 766201.9375\n",
      "Epoch 27/50\n",
      "6/6 [==============================] - 0s 16ms/step - loss: 520037.8438 - val_loss: 420781.6562\n",
      "Epoch 28/50\n",
      "6/6 [==============================] - 0s 19ms/step - loss: 354656.8125 - val_loss: 672316.8750\n",
      "Epoch 29/50\n",
      "6/6 [==============================] - 0s 16ms/step - loss: 420427.3750 - val_loss: 888788.6875\n",
      "Epoch 30/50\n",
      "6/6 [==============================] - 0s 17ms/step - loss: 602553.1250 - val_loss: 260555.7031\n",
      "Epoch 31/50\n",
      "6/6 [==============================] - 0s 19ms/step - loss: 383448.5938 - val_loss: 283838.5312\n",
      "Epoch 32/50\n",
      "6/6 [==============================] - 0s 27ms/step - loss: 298710.5625 - val_loss: 580922.6250\n",
      "Epoch 33/50\n",
      "6/6 [==============================] - 0s 20ms/step - loss: 575753.5000 - val_loss: 737925.3750\n",
      "Epoch 34/50\n",
      "6/6 [==============================] - 0s 23ms/step - loss: 549563.7500 - val_loss: 514567.6562\n",
      "Epoch 35/50\n",
      "6/6 [==============================] - 0s 17ms/step - loss: 439659.5938 - val_loss: 255966.7812\n",
      "Epoch 36/50\n",
      "6/6 [==============================] - 0s 18ms/step - loss: 329248.1562 - val_loss: 331252.4688\n",
      "Epoch 37/50\n",
      "6/6 [==============================] - 0s 22ms/step - loss: 343959.8438 - val_loss: 527870.0625\n",
      "Epoch 38/50\n",
      "6/6 [==============================] - 0s 22ms/step - loss: 398667.2500 - val_loss: 329560.6250\n",
      "Epoch 39/50\n",
      "6/6 [==============================] - 0s 15ms/step - loss: 338590.1250 - val_loss: 260632.5312\n",
      "Epoch 40/50\n",
      "6/6 [==============================] - 0s 17ms/step - loss: 307646.8125 - val_loss: 246652.5781\n",
      "Epoch 41/50\n",
      "6/6 [==============================] - 0s 19ms/step - loss: 291025.8750 - val_loss: 467141.4062\n",
      "Epoch 42/50\n",
      "6/6 [==============================] - 0s 21ms/step - loss: 327305.5000 - val_loss: 1118158.8750\n",
      "Epoch 43/50\n",
      "6/6 [==============================] - 0s 24ms/step - loss: 580432.2500 - val_loss: 560124.3125\n",
      "Epoch 44/50\n",
      "6/6 [==============================] - 0s 16ms/step - loss: 425791.2500 - val_loss: 256649.9531\n",
      "Epoch 45/50\n",
      "6/6 [==============================] - 0s 17ms/step - loss: 313643.2188 - val_loss: 238398.1406\n",
      "Epoch 46/50\n",
      "6/6 [==============================] - 0s 14ms/step - loss: 294064.5938 - val_loss: 689230.1250\n",
      "Epoch 47/50\n",
      "6/6 [==============================] - 0s 15ms/step - loss: 371003.7188 - val_loss: 365516.0312\n",
      "Epoch 48/50\n",
      "6/6 [==============================] - 0s 13ms/step - loss: 331814.6875 - val_loss: 240535.2500\n",
      "Epoch 49/50\n",
      "6/6 [==============================] - 0s 17ms/step - loss: 332995.4375 - val_loss: 628863.1250\n",
      "Epoch 50/50\n",
      "6/6 [==============================] - 0s 15ms/step - loss: 407915.8125 - val_loss: 404894.0938\n"
     ]
    },
    {
     "data": {
      "text/plain": [
       "<keras.callbacks.History at 0x7fbca53cbeb0>"
      ]
     },
     "execution_count": 41,
     "metadata": {},
     "output_type": "execute_result"
    }
   ],
   "source": [
    "model.fit(X_train, y_train, epochs = 50, validation_data=(X_test, y_test))"
   ]
  },
  {
   "cell_type": "code",
   "execution_count": 42,
   "id": "34de54cb",
   "metadata": {},
   "outputs": [],
   "source": [
    "losses = pd.DataFrame(model.history.history)"
   ]
  },
  {
   "cell_type": "code",
   "execution_count": 43,
   "id": "6a248c4d",
   "metadata": {
    "scrolled": true
   },
   "outputs": [
    {
     "data": {
      "text/html": [
       "<div>\n",
       "<style scoped>\n",
       "    .dataframe tbody tr th:only-of-type {\n",
       "        vertical-align: middle;\n",
       "    }\n",
       "\n",
       "    .dataframe tbody tr th {\n",
       "        vertical-align: top;\n",
       "    }\n",
       "\n",
       "    .dataframe thead th {\n",
       "        text-align: right;\n",
       "    }\n",
       "</style>\n",
       "<table border=\"1\" class=\"dataframe\">\n",
       "  <thead>\n",
       "    <tr style=\"text-align: right;\">\n",
       "      <th></th>\n",
       "      <th>loss</th>\n",
       "      <th>val_loss</th>\n",
       "    </tr>\n",
       "  </thead>\n",
       "  <tbody>\n",
       "    <tr>\n",
       "      <th>0</th>\n",
       "      <td>9.800532e+06</td>\n",
       "      <td>9.754484e+06</td>\n",
       "    </tr>\n",
       "    <tr>\n",
       "      <th>1</th>\n",
       "      <td>9.793342e+06</td>\n",
       "      <td>9.693158e+06</td>\n",
       "    </tr>\n",
       "    <tr>\n",
       "      <th>2</th>\n",
       "      <td>9.571385e+06</td>\n",
       "      <td>8.724434e+06</td>\n",
       "    </tr>\n",
       "    <tr>\n",
       "      <th>3</th>\n",
       "      <td>7.408246e+06</td>\n",
       "      <td>2.414672e+06</td>\n",
       "    </tr>\n",
       "    <tr>\n",
       "      <th>4</th>\n",
       "      <td>1.011170e+06</td>\n",
       "      <td>3.304578e+05</td>\n",
       "    </tr>\n",
       "  </tbody>\n",
       "</table>\n",
       "</div>"
      ],
      "text/plain": [
       "           loss      val_loss\n",
       "0  9.800532e+06  9.754484e+06\n",
       "1  9.793342e+06  9.693158e+06\n",
       "2  9.571385e+06  8.724434e+06\n",
       "3  7.408246e+06  2.414672e+06\n",
       "4  1.011170e+06  3.304578e+05"
      ]
     },
     "execution_count": 43,
     "metadata": {},
     "output_type": "execute_result"
    }
   ],
   "source": [
    "losses.head()"
   ]
  },
  {
   "cell_type": "code",
   "execution_count": 44,
   "id": "cd9ea547",
   "metadata": {
    "scrolled": true
   },
   "outputs": [
    {
     "data": {
      "text/plain": [
       "<AxesSubplot:>"
      ]
     },
     "execution_count": 44,
     "metadata": {},
     "output_type": "execute_result"
    },
    {
     "data": {
      "image/png": "[encoded data removed]",
      "text/plain": [
       "<Figure size 432x288 with 1 Axes>"
      ]
     },
     "metadata": {
      "needs_background": "light"
     },
     "output_type": "display_data"
    }
   ],
   "source": [
    "losses.plot()"
   ]
  },
  {
   "cell_type": "code",
   "execution_count": 45,
   "id": "a46ba159",
   "metadata": {
    "scrolled": true
   },
   "outputs": [
    {
     "name": "stdout",
     "output_type": "stream",
     "text": [
      "6/6 [==============================] - 0s 2ms/step\n",
      "2/2 [==============================] - 0s 3ms/step\n"
     ]
    }
   ],
   "source": [
    "trainPredict = model.predict(X_train)\n",
    "testPredict = model.predict(X_test)"
   ]
  },
  {
   "cell_type": "code",
   "execution_count": 46,
   "id": "f6096681",
   "metadata": {},
   "outputs": [
    {
     "name": "stdout",
     "output_type": "stream",
     "text": [
      "Model: \"sequential_1\"\n",
      "_________________________________________________________________\n",
      " Layer (type)                Output Shape              Param #   \n",
      "=================================================================\n",
      " dense_5 (Dense)             (None, 4)                 20        \n",
      "                                                                 \n",
      " dense_6 (Dense)             (None, 8)                 40        \n",
      "                                                                 \n",
      " dense_7 (Dense)             (None, 5)                 45        \n",
      "                                                                 \n",
      " dense_8 (Dense)             (None, 3)                 18        \n",
      "                                                                 \n",
      " dense_9 (Dense)             (None, 1)                 4         \n",
      "                                                                 \n",
      "=================================================================\n",
      "Total params: 127\n",
      "Trainable params: 127\n",
      "Non-trainable params: 0\n",
      "_________________________________________________________________\n",
      "Layer:  dense_5\n",
      "  --Kernels (Weights):  [array([[ 1.03027611e+01, -8.33817478e-03,  1.12580976e+01,\n",
      "         1.07928505e+01],\n",
      "       [ 1.16426973e+01, -1.45378681e-02,  1.25922546e+01,\n",
      "         1.21368732e+01],\n",
      "       [ 6.00896072e+00, -9.98749025e-03,  6.94983292e+00,\n",
      "         6.47238493e+00],\n",
      "       [ 4.08232880e+00, -1.17965769e-02,  5.06045008e+00,\n",
      "         4.58110905e+00]], dtype=float32), array([11.01746  ,  0.       , 11.960222 , 11.4967375], dtype=float32)]\n",
      "  --Biases:  [array([[ 1.03027611e+01, -8.33817478e-03,  1.12580976e+01,\n",
      "         1.07928505e+01],\n",
      "       [ 1.16426973e+01, -1.45378681e-02,  1.25922546e+01,\n",
      "         1.21368732e+01],\n",
      "       [ 6.00896072e+00, -9.98749025e-03,  6.94983292e+00,\n",
      "         6.47238493e+00],\n",
      "       [ 4.08232880e+00, -1.17965769e-02,  5.06045008e+00,\n",
      "         4.58110905e+00]], dtype=float32), array([11.01746  ,  0.       , 11.960222 , 11.4967375], dtype=float32)]\n",
      "Layer:  dense_6\n",
      "  --Kernels (Weights):  [array([[ 9.5240974e+00,  9.3732357e+00, -5.2139729e-01, -2.5330728e-01,\n",
      "        -2.4343631e-01, -2.6649451e-01,  8.5085373e+00,  6.0967070e-01],\n",
      "       [ 1.2703896e-02, -2.5878131e-01, -5.6001544e-02,  2.6052147e-01,\n",
      "        -6.7412853e-05, -3.8707852e-03,  3.4175748e-01, -5.6130123e-01],\n",
      "       [ 1.0343375e+01,  1.0317356e+01, -1.8497592e-01, -3.8444906e-01,\n",
      "        -4.1079739e-01, -2.9194462e-01,  1.0291469e+01, -6.4816999e-01],\n",
      "       [ 9.7520847e+00,  9.9809170e+00,  1.7984396e-01, -5.4537904e-01,\n",
      "        -6.1931777e-01,  6.9376409e-02,  9.2971659e+00, -4.5685261e-01]],\n",
      "      dtype=float32), array([12.009951  , 12.014619  ,  0.        , -0.40159568,  0.        ,\n",
      "       -0.4015956 , 12.018936  ,  0.        ], dtype=float32)]\n",
      "  --Biases:  [array([[ 9.5240974e+00,  9.3732357e+00, -5.2139729e-01, -2.5330728e-01,\n",
      "        -2.4343631e-01, -2.6649451e-01,  8.5085373e+00,  6.0967070e-01],\n",
      "       [ 1.2703896e-02, -2.5878131e-01, -5.6001544e-02,  2.6052147e-01,\n",
      "        -6.7412853e-05, -3.8707852e-03,  3.4175748e-01, -5.6130123e-01],\n",
      "       [ 1.0343375e+01,  1.0317356e+01, -1.8497592e-01, -3.8444906e-01,\n",
      "        -4.1079739e-01, -2.9194462e-01,  1.0291469e+01, -6.4816999e-01],\n",
      "       [ 9.7520847e+00,  9.9809170e+00,  1.7984396e-01, -5.4537904e-01,\n",
      "        -6.1931777e-01,  6.9376409e-02,  9.2971659e+00, -4.5685261e-01]],\n",
      "      dtype=float32), array([12.009951  , 12.014619  ,  0.        , -0.40159568,  0.        ,\n",
      "       -0.4015956 , 12.018936  ,  0.        ], dtype=float32)]\n",
      "Layer:  dense_7\n",
      "  --Kernels (Weights):  [array([[-3.9486152e-01,  1.0119925e+01,  8.5926676e+00, -6.5902072e-01,\n",
      "        -6.6004521e-01],\n",
      "       [ 1.5328008e-01,  9.9234848e+00,  8.9308929e+00, -2.0194924e-01,\n",
      "        -3.9591193e-03],\n",
      "       [ 4.6962619e-02,  1.9002753e-01, -1.5334439e-01,  4.9043787e-01,\n",
      "        -2.2626552e-01],\n",
      "       [-8.5909784e-02, -6.2256116e-02, -4.2817298e-01, -6.4470065e-01,\n",
      "        -6.5464872e-01],\n",
      "       [-1.4417231e-01,  1.6873896e-02,  1.4164448e-03,  1.1952591e-01,\n",
      "         6.3337600e-01],\n",
      "       [-3.1334445e-01, -1.5759647e-02,  2.2397423e-01,  6.4816391e-01,\n",
      "        -4.8601002e-01],\n",
      "       [-5.2567279e-01,  9.9449854e+00,  8.3901291e+00, -4.3825567e-01,\n",
      "        -5.7465684e-01],\n",
      "       [ 6.3328755e-01,  3.3564222e-01,  8.6144328e-02, -3.6762825e-01,\n",
      "        -1.6981190e-01]], dtype=float32), array([ 0.      , 11.541264, 10.732314,  0.      ,  0.      ],\n",
      "      dtype=float32)]\n",
      "  --Biases:  [array([[-3.9486152e-01,  1.0119925e+01,  8.5926676e+00, -6.5902072e-01,\n",
      "        -6.6004521e-01],\n",
      "       [ 1.5328008e-01,  9.9234848e+00,  8.9308929e+00, -2.0194924e-01,\n",
      "        -3.9591193e-03],\n",
      "       [ 4.6962619e-02,  1.9002753e-01, -1.5334439e-01,  4.9043787e-01,\n",
      "        -2.2626552e-01],\n",
      "       [-8.5909784e-02, -6.2256116e-02, -4.2817298e-01, -6.4470065e-01,\n",
      "        -6.5464872e-01],\n",
      "       [-1.4417231e-01,  1.6873896e-02,  1.4164448e-03,  1.1952591e-01,\n",
      "         6.3337600e-01],\n",
      "       [-3.1334445e-01, -1.5759647e-02,  2.2397423e-01,  6.4816391e-01,\n",
      "        -4.8601002e-01],\n",
      "       [-5.2567279e-01,  9.9449854e+00,  8.3901291e+00, -4.3825567e-01,\n",
      "        -5.7465684e-01],\n",
      "       [ 6.3328755e-01,  3.3564222e-01,  8.6144328e-02, -3.6762825e-01,\n",
      "        -1.6981190e-01]], dtype=float32), array([ 0.      , 11.541264, 10.732314,  0.      ,  0.      ],\n",
      "      dtype=float32)]\n",
      "Layer:  dense_8\n",
      "  --Kernels (Weights):  [array([[ 0.22599906,  0.3940634 , -0.04219741],\n",
      "       [10.611442  , 10.132573  , -0.22448267],\n",
      "       [ 8.972303  ,  8.911662  , -0.7445943 ],\n",
      "       [ 0.31261462,  0.05720741, -0.15262538],\n",
      "       [ 0.03122544, -0.3740023 , -0.46921754]], dtype=float32), array([10.319457 , 10.6607685, -0.4015882], dtype=float32)]\n",
      "  --Biases:  [array([[ 0.22599906,  0.3940634 , -0.04219741],\n",
      "       [10.611442  , 10.132573  , -0.22448267],\n",
      "       [ 8.972303  ,  8.911662  , -0.7445943 ],\n",
      "       [ 0.31261462,  0.05720741, -0.15262538],\n",
      "       [ 0.03122544, -0.3740023 , -0.46921754]], dtype=float32), array([10.319457 , 10.6607685, -0.4015882], dtype=float32)]\n",
      "Layer:  dense_9\n",
      "  --Kernels (Weights):  [array([[10.99797  ],\n",
      "       [10.35724  ],\n",
      "       [ 0.2640683]], dtype=float32), array([8.11199], dtype=float32)]\n",
      "  --Biases:  [array([[10.99797  ],\n",
      "       [10.35724  ],\n",
      "       [ 0.2640683]], dtype=float32), array([8.11199], dtype=float32)]\n"
     ]
    }
   ],
   "source": [
    "model.summary()\n",
    "for layer in model.layers:\n",
    "    print(\"Layer: \", layer.name) # print layer name\n",
    "    print(\"  --Kernels (Weights): \", layer.get_weights()) # weights\n",
    "    print(\"  --Biases: \", layer.get_weights()) # biases\n",
    "    "
   ]
  },
  {
   "cell_type": "markdown",
   "id": "5b1e52dc",
   "metadata": {},
   "source": [
    "### Evaluation "
   ]
  },
  {
   "cell_type": "markdown",
   "id": "456a7a55",
   "metadata": {},
   "source": [
    "#### MAE and RMSE"
   ]
  },
  {
   "cell_type": "code",
   "execution_count": 47,
   "id": "9470a576",
   "metadata": {},
   "outputs": [
    {
     "name": "stdout",
     "output_type": "stream",
     "text": [
      "Train Score: 459582.36 MAE\n"
     ]
    }
   ],
   "source": [
    "MAE_train = (round(mean_absolute_error(y_train, trainPredict),2))\n",
    "print(\"Train Score: %.2f MAE\" % (MAE_train))"
   ]
  },
  {
   "cell_type": "code",
   "execution_count": 48,
   "id": "9c0b7fc5",
   "metadata": {},
   "outputs": [
    {
     "name": "stdout",
     "output_type": "stream",
     "text": [
      "Test Score: 404894.10 MAE\n"
     ]
    }
   ],
   "source": [
    "MAE_test = (round(mean_absolute_error(y_test, testPredict),2))\n",
    "print(\"Test Score: %.2f MAE\" % (MAE_test))"
   ]
  },
  {
   "cell_type": "code",
   "execution_count": 49,
   "id": "06f01f08",
   "metadata": {
    "scrolled": true
   },
   "outputs": [
    {
     "name": "stdout",
     "output_type": "stream",
     "text": [
      "Train Score: 516670.21 RMSE\n"
     ]
    }
   ],
   "source": [
    "RMSE_train = math.sqrt(mean_squared_error(y_train, trainPredict))\n",
    "print(\"Train Score: %.2f RMSE\" % (RMSE_train))"
   ]
  },
  {
   "cell_type": "code",
   "execution_count": 50,
   "id": "43a7c10d",
   "metadata": {
    "scrolled": true
   },
   "outputs": [
    {
     "name": "stdout",
     "output_type": "stream",
     "text": [
      "Test Score: 468000.82 RMSE\n"
     ]
    }
   ],
   "source": [
    "RMSE_test = math.sqrt(mean_squared_error(y_test, testPredict))\n",
    "print(\"Test Score: %.2f RMSE\" % (RMSE_test))"
   ]
  },
  {
   "cell_type": "markdown",
   "id": "1f189b4b",
   "metadata": {},
   "source": [
    "### MAPE "
   ]
  },
  {
   "cell_type": "code",
   "execution_count": 51,
   "id": "8488b721",
   "metadata": {},
   "outputs": [],
   "source": [
    "def MAPE(y_true, y_pred):\n",
    "    y_true, y_pred = np.array(y_true), np.array(y_pred)\n",
    "    return np.mean(np.abs(y_true - y_pred) / y_true) * 100"
   ]
  },
  {
   "cell_type": "code",
   "execution_count": 52,
   "id": "1c9e93e0",
   "metadata": {
    "scrolled": true
   },
   "outputs": [
    {
     "data": {
      "text/plain": [
       "27.87"
      ]
     },
     "execution_count": 52,
     "metadata": {},
     "output_type": "execute_result"
    }
   ],
   "source": [
    "round(MAPE(y_test, testPredict),2)"
   ]
  },
  {
   "cell_type": "code",
   "execution_count": null,
   "id": "fa899fa9",
   "metadata": {},
   "outputs": [],
   "source": []
  },
  {
   "cell_type": "code",
   "execution_count": 53,
   "id": "54b7bb3f",
   "metadata": {},
   "outputs": [],
   "source": [
    "def plot_delta(actual, predictions):\n",
    "    title = 'Passanger Predictions Store '\n",
    "    act = plt.plot(actual, color='blue', label='Actual')\n",
    "    pred = plt.plot(predictions, color='orange', label='Predictions')\n",
    "    plt.xlabel(\"Date\")\n",
    "    plt.ylabel(\"Paxe\")\n",
    "    plt.legend(loc='best')\n",
    "    plt.title(title)\n",
    "    plt.show()"
   ]
  },
  {
   "cell_type": "code",
   "execution_count": 54,
   "id": "ec621dc7",
   "metadata": {
    "scrolled": true
   },
   "outputs": [
    {
     "data": {
      "image/png": "[encoded data removed]",
      "text/plain": [
       "<Figure size 432x288 with 1 Axes>"
      ]
     },
     "metadata": {
      "needs_background": "light"
     },
     "output_type": "display_data"
    }
   ],
   "source": [
    "plot_delta(y_test, testPredict)"
   ]
  },
  {
   "cell_type": "markdown",
   "id": "55b8475b",
   "metadata": {},
   "source": [
    "## Export Forecast"
   ]
  },
  {
   "cell_type": "code",
   "execution_count": 55,
   "id": "a9ba8656",
   "metadata": {},
   "outputs": [
    {
     "name": "stdout",
     "output_type": "stream",
     "text": [
      "/Users/dilianaserafimova/Library/Mobile Documents/com~apple~CloudDocs/Documents/My Files/Master Studium/Masterarbeit/Forecast/Southwest\n"
     ]
    }
   ],
   "source": [
    "%cd  /Users/dilianaserafimova/Library/Mobile Documents/com~apple~CloudDocs/Documents/My Files/Master Studium/Masterarbeit/Forecast/Southwest"
   ]
  },
  {
   "cell_type": "code",
   "execution_count": 56,
   "id": "e54ec16d",
   "metadata": {},
   "outputs": [],
   "source": [
    "testPredict.tofile('predictions_ffnn.csv')"
   ]
  }
 ],
 "metadata": {
  "kernelspec": {
   "display_name": "Python 3 (ipykernel)",
   "language": "python",
   "name": "python3"
  },
  "language_info": {
   "codemirror_mode": {
    "name": "ipython",
    "version": 3
   },
   "file_extension": ".py",
   "mimetype": "text/x-python",
   "name": "python",
   "nbconvert_exporter": "python",
   "pygments_lexer": "ipython3",
   "version": "3.9.7"
  }
 },
 "nbformat": 4,
 "nbformat_minor": 5
}
