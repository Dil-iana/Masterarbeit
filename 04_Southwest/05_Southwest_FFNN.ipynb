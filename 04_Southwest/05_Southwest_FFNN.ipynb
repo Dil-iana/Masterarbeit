{
 "cells": [
  {
   "cell_type": "code",
   "execution_count": 45,
   "id": "f5d1f583",
   "metadata": {
    "scrolled": true
   },
   "outputs": [],
   "source": [
    "import tensorflow as tf\n",
    "from tensorflow.keras.models import Sequential\n",
    "from tensorflow.keras.layers import Dense, Dropout\n",
    "import keras\n",
    "import pandas as pd\n",
    "from sklearn.model_selection import train_test_split\n",
    "from sklearn.preprocessing import MinMaxScaler\n",
    "from sklearn.metrics import mean_squared_error, mean_absolute_error\n",
    "import math\n",
    "import matplotlib.pyplot as plt\n",
    "from tensorflow.keras import initializers"
   ]
  },
  {
   "cell_type": "markdown",
   "id": "54f9bd01",
   "metadata": {},
   "source": [
    "## Import data "
   ]
  },
  {
   "cell_type": "code",
   "execution_count": 46,
   "id": "a992baa0",
   "metadata": {},
   "outputs": [],
   "source": [
    "df_southwest = pd.read_excel(r'/Users/dilianaserafimova/Desktop/df_southwest_clean.xlsx')"
   ]
  },
  {
   "cell_type": "code",
   "execution_count": 47,
   "id": "19f03ca1",
   "metadata": {},
   "outputs": [],
   "source": [
    "df_southwest = df_southwest.set_index(['date'])"
   ]
  },
  {
   "cell_type": "code",
   "execution_count": 48,
   "id": "3bae768c",
   "metadata": {},
   "outputs": [],
   "source": [
    "X = df_southwest[['revenue', 'seat_miles', 'load_factor', 'flights']]"
   ]
  },
  {
   "cell_type": "code",
   "execution_count": 49,
   "id": "82e97e35",
   "metadata": {},
   "outputs": [],
   "source": [
    "y = df_southwest['pax_count'].values"
   ]
  },
  {
   "cell_type": "markdown",
   "id": "20633ac5",
   "metadata": {},
   "source": [
    "## Train & test split"
   ]
  },
  {
   "cell_type": "code",
   "execution_count": 50,
   "id": "c54eb130",
   "metadata": {},
   "outputs": [],
   "source": [
    "X_train, X_test, y_train, y_test = train_test_split(X, y, test_size=0.2, random_state = 1)"
   ]
  },
  {
   "cell_type": "markdown",
   "id": "425cd75a",
   "metadata": {},
   "source": [
    "## Normalize the data"
   ]
  },
  {
   "cell_type": "code",
   "execution_count": 51,
   "id": "16720abf",
   "metadata": {},
   "outputs": [],
   "source": [
    "scaler = MinMaxScaler()"
   ]
  },
  {
   "cell_type": "code",
   "execution_count": 52,
   "id": "cebc19d9",
   "metadata": {},
   "outputs": [],
   "source": [
    "X_train = scaler.fit_transform(X_train)"
   ]
  },
  {
   "cell_type": "code",
   "execution_count": 53,
   "id": "7ca86aa3",
   "metadata": {},
   "outputs": [],
   "source": [
    "X_test = scaler.transform(X_test)"
   ]
  },
  {
   "cell_type": "markdown",
   "id": "2c1fb5df",
   "metadata": {},
   "source": [
    "## Creating the model "
   ]
  },
  {
   "cell_type": "code",
   "execution_count": 87,
   "id": "ce589b2c",
   "metadata": {},
   "outputs": [],
   "source": [
    "model = Sequential()\n",
    "\n",
    "model.add(Dense(4, activation='relu', \n",
    "                kernel_initializer=initializers.RandomNormal(stddev=0.01),\n",
    "                bias_initializer=initializers.Zeros()\n",
    "               ))\n",
    "model.add(Dense(8, activation='relu'))\n",
    "#model.add(Dense(6, activation='relu'))\n",
    "model.add(Dense(5, activation='relu'))\n",
    "model.add(Dense(3, activation='relu'))\n",
    "#model.add(Dense(2, activation='relu'))\n",
    "model.add(Dense(units=1,activation='relu'))"
   ]
  },
  {
   "cell_type": "code",
   "execution_count": 88,
   "id": "2a7029f3",
   "metadata": {},
   "outputs": [],
   "source": [
    "opt = keras.optimizers.Adam(learning_rate=0.2, beta_1=0.5, beta_2=0.999)\n",
    "\n",
    "model.compile(loss = 'mean_absolute_error', optimizer= opt)"
   ]
  },
  {
   "cell_type": "markdown",
   "id": "51a3371f",
   "metadata": {},
   "source": [
    "## Fit the model "
   ]
  },
  {
   "cell_type": "code",
   "execution_count": 89,
   "id": "e94ffd05",
   "metadata": {
    "scrolled": false
   },
   "outputs": [
    {
     "name": "stdout",
     "output_type": "stream",
     "text": [
      "Epoch 1/50\n",
      "6/6 [==============================] - 1s 46ms/step - loss: 9800520.0000 - val_loss: 9754021.0000\n",
      "Epoch 2/50\n",
      "6/6 [==============================] - 0s 14ms/step - loss: 9789975.0000 - val_loss: 9671867.0000\n",
      "Epoch 3/50\n",
      "6/6 [==============================] - 0s 14ms/step - loss: 9515614.0000 - val_loss: 8544268.0000\n",
      "Epoch 4/50\n",
      "6/6 [==============================] - 0s 13ms/step - loss: 7045416.0000 - val_loss: 1535148.8750\n",
      "Epoch 5/50\n",
      "6/6 [==============================] - 0s 11ms/step - loss: 1014512.1875 - val_loss: 710032.5625\n",
      "Epoch 6/50\n",
      "6/6 [==============================] - 0s 12ms/step - loss: 566632.3125 - val_loss: 636921.7500\n",
      "Epoch 7/50\n",
      "6/6 [==============================] - 0s 12ms/step - loss: 440486.3750 - val_loss: 1140753.5000\n",
      "Epoch 8/50\n",
      "6/6 [==============================] - 0s 15ms/step - loss: 637336.3750 - val_loss: 453509.1250\n",
      "Epoch 9/50\n",
      "6/6 [==============================] - 0s 14ms/step - loss: 463015.4062 - val_loss: 540205.8750\n",
      "Epoch 10/50\n",
      "6/6 [==============================] - 0s 15ms/step - loss: 424919.6562 - val_loss: 521315.5625\n",
      "Epoch 11/50\n",
      "6/6 [==============================] - 0s 13ms/step - loss: 436318.1250 - val_loss: 403870.9688\n",
      "Epoch 12/50\n",
      "6/6 [==============================] - 0s 15ms/step - loss: 362515.0312 - val_loss: 1164292.6250\n",
      "Epoch 13/50\n",
      "6/6 [==============================] - 0s 16ms/step - loss: 715314.8750 - val_loss: 982638.9375\n",
      "Epoch 14/50\n",
      "6/6 [==============================] - 0s 12ms/step - loss: 632035.9375 - val_loss: 293059.9062\n",
      "Epoch 15/50\n",
      "6/6 [==============================] - 0s 12ms/step - loss: 350452.0312 - val_loss: 766235.0000\n",
      "Epoch 16/50\n",
      "6/6 [==============================] - 0s 12ms/step - loss: 544137.3750 - val_loss: 289334.5312\n",
      "Epoch 17/50\n",
      "6/6 [==============================] - 0s 15ms/step - loss: 442456.4375 - val_loss: 285265.1562\n",
      "Epoch 18/50\n",
      "6/6 [==============================] - 0s 16ms/step - loss: 375981.6875 - val_loss: 349383.9375\n",
      "Epoch 19/50\n",
      "6/6 [==============================] - 0s 13ms/step - loss: 399546.8750 - val_loss: 845198.4375\n",
      "Epoch 20/50\n",
      "6/6 [==============================] - 0s 14ms/step - loss: 522165.2500 - val_loss: 625116.0000\n",
      "Epoch 21/50\n",
      "6/6 [==============================] - 0s 14ms/step - loss: 399068.5000 - val_loss: 630190.9375\n",
      "Epoch 22/50\n",
      "6/6 [==============================] - 0s 18ms/step - loss: 451036.7500 - val_loss: 579351.8125\n",
      "Epoch 23/50\n",
      "6/6 [==============================] - 0s 14ms/step - loss: 411536.9688 - val_loss: 532442.7500\n",
      "Epoch 24/50\n",
      "6/6 [==============================] - 0s 14ms/step - loss: 373541.7812 - val_loss: 345710.0625\n",
      "Epoch 25/50\n",
      "6/6 [==============================] - 0s 16ms/step - loss: 351377.1875 - val_loss: 301245.0625\n",
      "Epoch 26/50\n",
      "6/6 [==============================] - 0s 17ms/step - loss: 354674.4688 - val_loss: 442372.5938\n",
      "Epoch 27/50\n",
      "6/6 [==============================] - 0s 13ms/step - loss: 365159.1875 - val_loss: 285228.2812\n",
      "Epoch 28/50\n",
      "6/6 [==============================] - 0s 13ms/step - loss: 365778.0000 - val_loss: 331065.1250\n",
      "Epoch 29/50\n",
      "6/6 [==============================] - 0s 14ms/step - loss: 336717.6250 - val_loss: 400282.8750\n",
      "Epoch 30/50\n",
      "6/6 [==============================] - 0s 15ms/step - loss: 421011.3750 - val_loss: 693419.4375\n",
      "Epoch 31/50\n",
      "6/6 [==============================] - 0s 28ms/step - loss: 428891.1875 - val_loss: 300845.0625\n",
      "Epoch 32/50\n",
      "6/6 [==============================] - 0s 13ms/step - loss: 356968.8750 - val_loss: 567092.5000\n",
      "Epoch 33/50\n",
      "6/6 [==============================] - 0s 15ms/step - loss: 399080.8125 - val_loss: 843167.2500\n",
      "Epoch 34/50\n",
      "6/6 [==============================] - 0s 15ms/step - loss: 480400.6875 - val_loss: 1276124.5000\n",
      "Epoch 35/50\n",
      "6/6 [==============================] - 0s 12ms/step - loss: 866238.4375 - val_loss: 265535.8438\n",
      "Epoch 36/50\n",
      "6/6 [==============================] - 0s 11ms/step - loss: 340482.2188 - val_loss: 463577.2188\n",
      "Epoch 37/50\n",
      "6/6 [==============================] - 0s 11ms/step - loss: 387802.1250 - val_loss: 278358.8750\n",
      "Epoch 38/50\n",
      "6/6 [==============================] - 0s 11ms/step - loss: 296979.2812 - val_loss: 378526.1250\n",
      "Epoch 39/50\n",
      "6/6 [==============================] - 0s 15ms/step - loss: 326186.5312 - val_loss: 982045.0000\n",
      "Epoch 40/50\n",
      "6/6 [==============================] - 0s 11ms/step - loss: 598691.3125 - val_loss: 737394.4375\n",
      "Epoch 41/50\n",
      "6/6 [==============================] - 0s 11ms/step - loss: 522067.5938 - val_loss: 537841.2500\n",
      "Epoch 42/50\n",
      "6/6 [==============================] - 0s 15ms/step - loss: 345579.2812 - val_loss: 243214.3438\n",
      "Epoch 43/50\n",
      "6/6 [==============================] - 0s 11ms/step - loss: 328436.8438 - val_loss: 612358.7500\n",
      "Epoch 44/50\n",
      "6/6 [==============================] - 0s 11ms/step - loss: 405076.2812 - val_loss: 375018.0000\n",
      "Epoch 45/50\n",
      "6/6 [==============================] - 0s 14ms/step - loss: 335861.8750 - val_loss: 336502.9375\n",
      "Epoch 46/50\n",
      "6/6 [==============================] - 0s 14ms/step - loss: 334132.9375 - val_loss: 351079.0625\n",
      "Epoch 47/50\n",
      "6/6 [==============================] - 0s 19ms/step - loss: 382294.1875 - val_loss: 275358.0625\n",
      "Epoch 48/50\n",
      "6/6 [==============================] - 0s 14ms/step - loss: 340908.2812 - val_loss: 292810.3438\n",
      "Epoch 49/50\n",
      "6/6 [==============================] - 0s 16ms/step - loss: 272825.8125 - val_loss: 245054.6406\n",
      "Epoch 50/50\n",
      "6/6 [==============================] - 0s 14ms/step - loss: 325968.8438 - val_loss: 297071.9375\n"
     ]
    },
    {
     "data": {
      "text/plain": [
       "<keras.callbacks.History at 0x7fb1f3932190>"
      ]
     },
     "execution_count": 89,
     "metadata": {},
     "output_type": "execute_result"
    }
   ],
   "source": [
    "model.fit(X_train, y_train, epochs = 50, validation_data=(X_test, y_test))"
   ]
  },
  {
   "cell_type": "code",
   "execution_count": 90,
   "id": "34de54cb",
   "metadata": {},
   "outputs": [],
   "source": [
    "losses = pd.DataFrame(model.history.history)"
   ]
  },
  {
   "cell_type": "code",
   "execution_count": 91,
   "id": "6a248c4d",
   "metadata": {
    "scrolled": true
   },
   "outputs": [
    {
     "data": {
      "text/html": [
       "<div>\n",
       "<style scoped>\n",
       "    .dataframe tbody tr th:only-of-type {\n",
       "        vertical-align: middle;\n",
       "    }\n",
       "\n",
       "    .dataframe tbody tr th {\n",
       "        vertical-align: top;\n",
       "    }\n",
       "\n",
       "    .dataframe thead th {\n",
       "        text-align: right;\n",
       "    }\n",
       "</style>\n",
       "<table border=\"1\" class=\"dataframe\">\n",
       "  <thead>\n",
       "    <tr style=\"text-align: right;\">\n",
       "      <th></th>\n",
       "      <th>loss</th>\n",
       "      <th>val_loss</th>\n",
       "    </tr>\n",
       "  </thead>\n",
       "  <tbody>\n",
       "    <tr>\n",
       "      <th>0</th>\n",
       "      <td>9.800520e+06</td>\n",
       "      <td>9.754021e+06</td>\n",
       "    </tr>\n",
       "    <tr>\n",
       "      <th>1</th>\n",
       "      <td>9.789975e+06</td>\n",
       "      <td>9.671867e+06</td>\n",
       "    </tr>\n",
       "    <tr>\n",
       "      <th>2</th>\n",
       "      <td>9.515614e+06</td>\n",
       "      <td>8.544268e+06</td>\n",
       "    </tr>\n",
       "    <tr>\n",
       "      <th>3</th>\n",
       "      <td>7.045416e+06</td>\n",
       "      <td>1.535149e+06</td>\n",
       "    </tr>\n",
       "    <tr>\n",
       "      <th>4</th>\n",
       "      <td>1.014512e+06</td>\n",
       "      <td>7.100326e+05</td>\n",
       "    </tr>\n",
       "  </tbody>\n",
       "</table>\n",
       "</div>"
      ],
      "text/plain": [
       "           loss      val_loss\n",
       "0  9.800520e+06  9.754021e+06\n",
       "1  9.789975e+06  9.671867e+06\n",
       "2  9.515614e+06  8.544268e+06\n",
       "3  7.045416e+06  1.535149e+06\n",
       "4  1.014512e+06  7.100326e+05"
      ]
     },
     "execution_count": 91,
     "metadata": {},
     "output_type": "execute_result"
    }
   ],
   "source": [
    "losses.head()"
   ]
  },
  {
   "cell_type": "code",
   "execution_count": 93,
   "id": "cd9ea547",
   "metadata": {
    "scrolled": true
   },
   "outputs": [
    {
     "data": {
      "text/plain": [
       "<AxesSubplot:>"
      ]
     },
     "execution_count": 93,
     "metadata": {},
     "output_type": "execute_result"
    },
    {
     "data": {
      "image/png": "[encoded data removed]",
      "text/plain": [
       "<Figure size 432x288 with 1 Axes>"
      ]
     },
     "metadata": {
      "needs_background": "light"
     },
     "output_type": "display_data"
    }
   ],
   "source": [
    "losses.plot()"
   ]
  },
  {
   "cell_type": "code",
   "execution_count": 94,
   "id": "a46ba159",
   "metadata": {
    "scrolled": true
   },
   "outputs": [
    {
     "name": "stdout",
     "output_type": "stream",
     "text": [
      "6/6 [==============================] - 0s 3ms/step\n",
      "2/2 [==============================] - 0s 4ms/step\n"
     ]
    }
   ],
   "source": [
    "trainPredict = model.predict(X_train)\n",
    "testPredict = model.predict(X_test)"
   ]
  },
  {
   "cell_type": "code",
   "execution_count": 95,
   "id": "f6096681",
   "metadata": {},
   "outputs": [
    {
     "name": "stdout",
     "output_type": "stream",
     "text": [
      "Model: \"sequential_8\"\n",
      "_________________________________________________________________\n",
      " Layer (type)                Output Shape              Param #   \n",
      "=================================================================\n",
      " dense_49 (Dense)            (None, 4)                 20        \n",
      "                                                                 \n",
      " dense_50 (Dense)            (None, 8)                 40        \n",
      "                                                                 \n",
      " dense_51 (Dense)            (None, 5)                 45        \n",
      "                                                                 \n",
      " dense_52 (Dense)            (None, 3)                 18        \n",
      "                                                                 \n",
      " dense_53 (Dense)            (None, 1)                 4         \n",
      "                                                                 \n",
      "=================================================================\n",
      "Total params: 127\n",
      "Trainable params: 127\n",
      "Non-trainable params: 0\n",
      "_________________________________________________________________\n",
      "Layer:  dense_49\n",
      "  --Kernels (Weights):  [array([[-2.2560468e-02,  1.1013064e+01,  1.1021247e+01,  1.0996359e+01],\n",
      "       [-4.5708003e-03,  1.2407065e+01,  1.2421751e+01,  1.2406499e+01],\n",
      "       [ 6.0049705e-03,  6.5618072e+00,  6.5636830e+00,  6.5614114e+00],\n",
      "       [-7.2442358e-03,  4.4393291e+00,  4.4472542e+00,  4.4223876e+00]],\n",
      "      dtype=float32), array([ 0.      , 11.722296, 11.723989, 11.711711], dtype=float32)]\n",
      "  --Biases:  [array([[-2.2560468e-02,  1.1013064e+01,  1.1021247e+01,  1.0996359e+01],\n",
      "       [-4.5708003e-03,  1.2407065e+01,  1.2421751e+01,  1.2406499e+01],\n",
      "       [ 6.0049705e-03,  6.5618072e+00,  6.5636830e+00,  6.5614114e+00],\n",
      "       [-7.2442358e-03,  4.4393291e+00,  4.4472542e+00,  4.4223876e+00]],\n",
      "      dtype=float32), array([ 0.      , 11.722296, 11.723989, 11.711711], dtype=float32)]\n",
      "Layer:  dense_50\n",
      "  --Kernels (Weights):  [array([[ 7.26576447e-02, -4.08684492e-01,  6.08131111e-01,\n",
      "         3.71973217e-01, -4.18893486e-01,  1.07084334e-01,\n",
      "        -4.24985290e-02,  8.36551189e-04],\n",
      "       [ 3.88560295e-02,  9.21783352e+00,  3.05592835e-01,\n",
      "         1.08225882e-01, -1.75678939e-01,  9.78857613e+00,\n",
      "        -4.02190685e-01,  1.00567780e+01],\n",
      "       [-4.43295479e-01,  1.00888624e+01, -2.74102688e-01,\n",
      "        -6.81339681e-01, -3.62472460e-02,  9.80776882e+00,\n",
      "        -4.95262027e-01,  9.56688881e+00],\n",
      "       [ 3.98610771e-01,  9.55483723e+00, -3.10073853e-01,\n",
      "        -2.39210129e-02, -8.77530515e-01,  8.88962746e+00,\n",
      "        -4.30396706e-01,  1.01558123e+01]], dtype=float32), array([ 0.        , 11.796934  ,  0.        ,  0.        , -0.40155405,\n",
      "       11.786623  ,  0.        , 11.786765  ], dtype=float32)]\n",
      "  --Biases:  [array([[ 7.26576447e-02, -4.08684492e-01,  6.08131111e-01,\n",
      "         3.71973217e-01, -4.18893486e-01,  1.07084334e-01,\n",
      "        -4.24985290e-02,  8.36551189e-04],\n",
      "       [ 3.88560295e-02,  9.21783352e+00,  3.05592835e-01,\n",
      "         1.08225882e-01, -1.75678939e-01,  9.78857613e+00,\n",
      "        -4.02190685e-01,  1.00567780e+01],\n",
      "       [-4.43295479e-01,  1.00888624e+01, -2.74102688e-01,\n",
      "        -6.81339681e-01, -3.62472460e-02,  9.80776882e+00,\n",
      "        -4.95262027e-01,  9.56688881e+00],\n",
      "       [ 3.98610771e-01,  9.55483723e+00, -3.10073853e-01,\n",
      "        -2.39210129e-02, -8.77530515e-01,  8.88962746e+00,\n",
      "        -4.30396706e-01,  1.01558123e+01]], dtype=float32), array([ 0.        , 11.796934  ,  0.        ,  0.        , -0.40155405,\n",
      "       11.786623  ,  0.        , 11.786765  ], dtype=float32)]\n",
      "Layer:  dense_51\n",
      "  --Kernels (Weights):  [array([[ 0.13427252,  0.52006054, -0.35154623, -0.18183684, -0.3740918 ],\n",
      "       [ 8.894997  ,  9.859095  ,  9.9775915 ,  9.741095  , -0.11598862],\n",
      "       [-0.14713693, -0.18512896, -0.40866795,  0.23328203,  0.6375458 ],\n",
      "       [ 0.27088714, -0.5366907 , -0.57081157, -0.12396598,  0.4697435 ],\n",
      "       [-0.6475543 , -0.21204336,  0.40309268,  0.07256369, -0.7318172 ],\n",
      "       [ 9.493617  , 10.101341  , 10.1295595 ,  9.859739  , -0.45704144],\n",
      "       [-0.5634766 ,  0.5455843 , -0.51106036, -0.5808815 ,  0.57388425],\n",
      "       [ 9.853284  ,  9.63019   ,  9.965142  ,  9.943222  , -0.3593497 ]],\n",
      "      dtype=float32), array([11.392251  , 11.519691  , 11.614335  , 11.517662  , -0.40141162],\n",
      "      dtype=float32)]\n",
      "  --Biases:  [array([[ 0.13427252,  0.52006054, -0.35154623, -0.18183684, -0.3740918 ],\n",
      "       [ 8.894997  ,  9.859095  ,  9.9775915 ,  9.741095  , -0.11598862],\n",
      "       [-0.14713693, -0.18512896, -0.40866795,  0.23328203,  0.6375458 ],\n",
      "       [ 0.27088714, -0.5366907 , -0.57081157, -0.12396598,  0.4697435 ],\n",
      "       [-0.6475543 , -0.21204336,  0.40309268,  0.07256369, -0.7318172 ],\n",
      "       [ 9.493617  , 10.101341  , 10.1295595 ,  9.859739  , -0.45704144],\n",
      "       [-0.5634766 ,  0.5455843 , -0.51106036, -0.5808815 ,  0.57388425],\n",
      "       [ 9.853284  ,  9.63019   ,  9.965142  ,  9.943222  , -0.3593497 ]],\n",
      "      dtype=float32), array([11.392251  , 11.519691  , 11.614335  , 11.517662  , -0.40141162],\n",
      "      dtype=float32)]\n",
      "Layer:  dense_52\n",
      "  --Kernels (Weights):  [array([[-0.31564167,  0.5837148 ,  9.809897  ],\n",
      "       [-0.22875465, -0.44880527, 10.402922  ],\n",
      "       [-1.2066191 , -0.8588245 ,  9.642079  ],\n",
      "       [-0.66365206, -0.11218286, 10.395099  ],\n",
      "       [-0.63176537,  0.5471507 , -0.5518401 ]], dtype=float32), array([-0.6307513,  0.       , 10.847538 ], dtype=float32)]\n",
      "  --Biases:  [array([[-0.31564167,  0.5837148 ,  9.809897  ],\n",
      "       [-0.22875465, -0.44880527, 10.402922  ],\n",
      "       [-1.2066191 , -0.8588245 ,  9.642079  ],\n",
      "       [-0.66365206, -0.11218286, 10.395099  ],\n",
      "       [-0.63176537,  0.5471507 , -0.5518401 ]], dtype=float32), array([-0.6307513,  0.       , 10.847538 ], dtype=float32)]\n",
      "Layer:  dense_53\n",
      "  --Kernels (Weights):  [array([[-0.32073233],\n",
      "       [-0.67183805],\n",
      "       [ 9.607939  ]], dtype=float32), array([8.038998], dtype=float32)]\n",
      "  --Biases:  [array([[-0.32073233],\n",
      "       [-0.67183805],\n",
      "       [ 9.607939  ]], dtype=float32), array([8.038998], dtype=float32)]\n"
     ]
    }
   ],
   "source": [
    "model.summary()\n",
    "for layer in model.layers:\n",
    "    print(\"Layer: \", layer.name) # print layer name\n",
    "    print(\"  --Kernels (Weights): \", layer.get_weights()) # weights\n",
    "    print(\"  --Biases: \", layer.get_weights()) # biases\n",
    "    "
   ]
  },
  {
   "cell_type": "code",
   "execution_count": 96,
   "id": "43a7c10d",
   "metadata": {},
   "outputs": [
    {
     "name": "stdout",
     "output_type": "stream",
     "text": [
      "Test Score: 373840.07 RMSE\n"
     ]
    }
   ],
   "source": [
    "testScore = math.sqrt(mean_squared_error(y_test, testPredict))\n",
    "print(\"Test Score: %.2f RMSE\" % (testScore))"
   ]
  },
  {
   "cell_type": "code",
   "execution_count": 97,
   "id": "06f01f08",
   "metadata": {
    "scrolled": true
   },
   "outputs": [
    {
     "name": "stdout",
     "output_type": "stream",
     "text": [
      "Train Score: 373840.07 RMSE\n"
     ]
    }
   ],
   "source": [
    "trainScore = math.sqrt(mean_squared_error(y_train, trainPredict))\n",
    "print(\"Train Score: %.2f RMSE\" % (testScore))"
   ]
  },
  {
   "cell_type": "code",
   "execution_count": 98,
   "id": "54b7bb3f",
   "metadata": {},
   "outputs": [],
   "source": [
    "def plot_delta(actual, predictions):\n",
    "    title = 'Passanger Predictions Store '\n",
    "    act = plt.plot(actual, color='blue', label='Actual')\n",
    "    pred = plt.plot(predictions, color='orange', label='Predictions')\n",
    "    plt.xlabel(\"Date\")\n",
    "    plt.ylabel(\"Paxe\")\n",
    "    plt.legend(loc='best')\n",
    "    plt.title(title)\n",
    "    plt.show()"
   ]
  },
  {
   "cell_type": "code",
   "execution_count": 99,
   "id": "ec621dc7",
   "metadata": {
    "scrolled": true
   },
   "outputs": [
    {
     "data": {
      "image/png": "[encoded data removed]",
      "text/plain": [
       "<Figure size 432x288 with 1 Axes>"
      ]
     },
     "metadata": {
      "needs_background": "light"
     },
     "output_type": "display_data"
    }
   ],
   "source": [
    "plot_delta(y_test, testPredict)"
   ]
  }
 ],
 "metadata": {
  "kernelspec": {
   "display_name": "Python 3 (ipykernel)",
   "language": "python",
   "name": "python3"
  },
  "language_info": {
   "codemirror_mode": {
    "name": "ipython",
    "version": 3
   },
   "file_extension": ".py",
   "mimetype": "text/x-python",
   "name": "python",
   "nbconvert_exporter": "python",
   "pygments_lexer": "ipython3",
   "version": "3.9.7"
  }
 },
 "nbformat": 4,
 "nbformat_minor": 5
}
