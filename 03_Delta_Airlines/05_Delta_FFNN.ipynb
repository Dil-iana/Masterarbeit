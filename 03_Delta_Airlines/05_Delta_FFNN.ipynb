{
 "cells": [
  {
   "cell_type": "code",
   "execution_count": 24,
   "id": "f5d1f583",
   "metadata": {
    "scrolled": false
   },
   "outputs": [],
   "source": [
    "import tensorflow as tf\n",
    "from tensorflow.keras.models import Sequential\n",
    "from tensorflow.keras.layers import Dense, Dropout\n",
    "import keras\n",
    "import pandas as pd\n",
    "from sklearn.model_selection import train_test_split\n",
    "from sklearn.preprocessing import MinMaxScaler\n",
    "from sklearn.metrics import mean_squared_error, mean_absolute_error\n",
    "import math\n",
    "import matplotlib.pyplot as plt\n",
    "from tensorflow.keras import initializers\n",
    "\n",
    "import numpy as np"
   ]
  },
  {
   "cell_type": "markdown",
   "id": "54f9bd01",
   "metadata": {},
   "source": [
    "## Import data "
   ]
  },
  {
   "cell_type": "code",
   "execution_count": 2,
   "id": "a992baa0",
   "metadata": {},
   "outputs": [],
   "source": [
    "df_delta = pd.read_excel(r'/Users/dilianaserafimova/Desktop/df_delta_clean.xlsx')"
   ]
  },
  {
   "cell_type": "code",
   "execution_count": 3,
   "id": "19f03ca1",
   "metadata": {},
   "outputs": [],
   "source": [
    "df_delta = df_delta.set_index(['date'])"
   ]
  },
  {
   "cell_type": "code",
   "execution_count": 4,
   "id": "3bae768c",
   "metadata": {},
   "outputs": [],
   "source": [
    "X = df_delta[['revenue', 'seat_miles', 'load_factor', 'flights']]"
   ]
  },
  {
   "cell_type": "code",
   "execution_count": 5,
   "id": "82e97e35",
   "metadata": {},
   "outputs": [],
   "source": [
    "y = df_delta['pax_count'].values"
   ]
  },
  {
   "cell_type": "markdown",
   "id": "20633ac5",
   "metadata": {},
   "source": [
    "## Train & test split"
   ]
  },
  {
   "cell_type": "code",
   "execution_count": 6,
   "id": "c54eb130",
   "metadata": {},
   "outputs": [],
   "source": [
    "X_train, X_test, y_train, y_test = train_test_split(X, y, test_size=0.2, random_state = 1)"
   ]
  },
  {
   "cell_type": "markdown",
   "id": "425cd75a",
   "metadata": {},
   "source": [
    "## Normalize the data"
   ]
  },
  {
   "cell_type": "code",
   "execution_count": 7,
   "id": "16720abf",
   "metadata": {},
   "outputs": [],
   "source": [
    "scaler = MinMaxScaler()"
   ]
  },
  {
   "cell_type": "code",
   "execution_count": 8,
   "id": "cebc19d9",
   "metadata": {},
   "outputs": [],
   "source": [
    "X_train = scaler.fit_transform(X_train)"
   ]
  },
  {
   "cell_type": "code",
   "execution_count": 9,
   "id": "7ca86aa3",
   "metadata": {},
   "outputs": [],
   "source": [
    "X_test = scaler.transform(X_test)"
   ]
  },
  {
   "cell_type": "markdown",
   "id": "2c1fb5df",
   "metadata": {},
   "source": [
    "## Creating the model "
   ]
  },
  {
   "cell_type": "code",
   "execution_count": 10,
   "id": "ce589b2c",
   "metadata": {},
   "outputs": [
    {
     "name": "stderr",
     "output_type": "stream",
     "text": [
      "2022-12-08 23:57:00.725968: I tensorflow/core/platform/cpu_feature_guard.cc:193] This TensorFlow binary is optimized with oneAPI Deep Neural Network Library (oneDNN) to use the following CPU instructions in performance-critical operations:  AVX2 FMA\n",
      "To enable them in other operations, rebuild TensorFlow with the appropriate compiler flags.\n"
     ]
    }
   ],
   "source": [
    "model = Sequential()\n",
    "\n",
    "model.add(Dense(4, activation='relu', \n",
    "                #kernel_initializer=initializers.RandomNormal(stddev=0.01),\n",
    "               # bias_initializer=initializers.Zeros()\n",
    "               ))\n",
    "model.add(Dense(8, activation='relu'))\n",
    "#model.add(Dense(6, activation='relu'))\n",
    "model.add(Dense(5, activation='relu'))\n",
    "model.add(Dense(3, activation='relu'))\n",
    "#model.add(Dense(2, activation='relu'))\n",
    "model.add(Dense(units=1,activation='relu'))"
   ]
  },
  {
   "cell_type": "code",
   "execution_count": 11,
   "id": "2a7029f3",
   "metadata": {},
   "outputs": [],
   "source": [
    "opt = keras.optimizers.Adam(learning_rate=0.2, beta_1=0.5, beta_2=0.999)\n",
    "\n",
    "model.compile(loss = 'mean_absolute_error', optimizer= opt)"
   ]
  },
  {
   "cell_type": "markdown",
   "id": "51a3371f",
   "metadata": {},
   "source": [
    "## Fit the model "
   ]
  },
  {
   "cell_type": "code",
   "execution_count": 12,
   "id": "e94ffd05",
   "metadata": {
    "scrolled": true
   },
   "outputs": [
    {
     "name": "stdout",
     "output_type": "stream",
     "text": [
      "Epoch 1/50\n",
      "6/6 [==============================] - 1s 51ms/step - loss: 6618176.5000 - val_loss: 6856733.0000\n",
      "Epoch 2/50\n",
      "6/6 [==============================] - 0s 11ms/step - loss: 6613544.0000 - val_loss: 6822868.5000\n",
      "Epoch 3/50\n",
      "6/6 [==============================] - 0s 11ms/step - loss: 6509903.5000 - val_loss: 6409811.5000\n",
      "Epoch 4/50\n",
      "6/6 [==============================] - 0s 13ms/step - loss: 5677736.5000 - val_loss: 4031757.0000\n",
      "Epoch 5/50\n",
      "6/6 [==============================] - 0s 12ms/step - loss: 2076186.2500 - val_loss: 394786.0000\n",
      "Epoch 6/50\n",
      "6/6 [==============================] - 0s 15ms/step - loss: 492161.6250 - val_loss: 785712.1250\n",
      "Epoch 7/50\n",
      "6/6 [==============================] - 0s 12ms/step - loss: 534862.2500 - val_loss: 383768.1562\n",
      "Epoch 8/50\n",
      "6/6 [==============================] - 0s 15ms/step - loss: 434578.8438 - val_loss: 376623.2812\n",
      "Epoch 9/50\n",
      "6/6 [==============================] - 0s 10ms/step - loss: 431270.9688 - val_loss: 655915.3750\n",
      "Epoch 10/50\n",
      "6/6 [==============================] - 0s 10ms/step - loss: 522219.1562 - val_loss: 398999.5000\n",
      "Epoch 11/50\n",
      "6/6 [==============================] - 0s 11ms/step - loss: 439706.2500 - val_loss: 361019.8125\n",
      "Epoch 12/50\n",
      "6/6 [==============================] - 0s 14ms/step - loss: 418758.3438 - val_loss: 353151.2812\n",
      "Epoch 13/50\n",
      "6/6 [==============================] - 0s 11ms/step - loss: 426835.2812 - val_loss: 600454.5000\n",
      "Epoch 14/50\n",
      "6/6 [==============================] - 0s 11ms/step - loss: 458482.8438 - val_loss: 353583.5938\n",
      "Epoch 15/50\n",
      "6/6 [==============================] - 0s 11ms/step - loss: 407441.5000 - val_loss: 818712.1875\n",
      "Epoch 16/50\n",
      "6/6 [==============================] - 0s 10ms/step - loss: 529855.6250 - val_loss: 369092.3438\n",
      "Epoch 17/50\n",
      "6/6 [==============================] - 0s 10ms/step - loss: 451712.5938 - val_loss: 408401.8438\n",
      "Epoch 18/50\n",
      "6/6 [==============================] - 0s 11ms/step - loss: 406945.8125 - val_loss: 616324.3125\n",
      "Epoch 19/50\n",
      "6/6 [==============================] - 0s 10ms/step - loss: 502854.0938 - val_loss: 671821.9375\n",
      "Epoch 20/50\n",
      "6/6 [==============================] - 0s 11ms/step - loss: 490165.4062 - val_loss: 778968.6875\n",
      "Epoch 21/50\n",
      "6/6 [==============================] - 0s 11ms/step - loss: 524790.3125 - val_loss: 666211.6875\n",
      "Epoch 22/50\n",
      "6/6 [==============================] - 0s 10ms/step - loss: 474801.8125 - val_loss: 336784.3438\n",
      "Epoch 23/50\n",
      "6/6 [==============================] - 0s 11ms/step - loss: 374378.3438 - val_loss: 470655.3125\n",
      "Epoch 24/50\n",
      "6/6 [==============================] - 0s 10ms/step - loss: 385124.7500 - val_loss: 356402.9375\n",
      "Epoch 25/50\n",
      "6/6 [==============================] - 0s 11ms/step - loss: 362621.3438 - val_loss: 348391.6250\n",
      "Epoch 26/50\n",
      "6/6 [==============================] - 0s 11ms/step - loss: 359442.9062 - val_loss: 701938.5625\n",
      "Epoch 27/50\n",
      "6/6 [==============================] - 0s 14ms/step - loss: 509420.0625 - val_loss: 625113.3750\n",
      "Epoch 28/50\n",
      "6/6 [==============================] - 0s 10ms/step - loss: 439725.8438 - val_loss: 327673.6562\n",
      "Epoch 29/50\n",
      "6/6 [==============================] - 0s 11ms/step - loss: 353637.0000 - val_loss: 792188.7500\n",
      "Epoch 30/50\n",
      "6/6 [==============================] - 0s 11ms/step - loss: 575408.5625 - val_loss: 323936.5312\n",
      "Epoch 31/50\n",
      "6/6 [==============================] - 0s 10ms/step - loss: 337923.0000 - val_loss: 341898.3438\n",
      "Epoch 32/50\n",
      "6/6 [==============================] - 0s 10ms/step - loss: 352802.3750 - val_loss: 505939.7188\n",
      "Epoch 33/50\n",
      "6/6 [==============================] - 0s 11ms/step - loss: 364236.5000 - val_loss: 505761.8438\n",
      "Epoch 34/50\n",
      "6/6 [==============================] - 0s 10ms/step - loss: 401216.4062 - val_loss: 356409.1250\n",
      "Epoch 35/50\n",
      "6/6 [==============================] - 0s 11ms/step - loss: 368792.8438 - val_loss: 544151.1250\n",
      "Epoch 36/50\n",
      "6/6 [==============================] - 0s 10ms/step - loss: 413644.6562 - val_loss: 318257.9375\n",
      "Epoch 37/50\n",
      "6/6 [==============================] - 0s 11ms/step - loss: 347901.1250 - val_loss: 328242.3438\n",
      "Epoch 38/50\n",
      "6/6 [==============================] - 0s 11ms/step - loss: 345924.7812 - val_loss: 317417.0312\n",
      "Epoch 39/50\n",
      "6/6 [==============================] - 0s 10ms/step - loss: 340992.8125 - val_loss: 335209.3750\n",
      "Epoch 40/50\n",
      "6/6 [==============================] - 0s 10ms/step - loss: 381009.4062 - val_loss: 421803.8438\n",
      "Epoch 41/50\n",
      "6/6 [==============================] - 0s 12ms/step - loss: 360673.4375 - val_loss: 313562.0000\n",
      "Epoch 42/50\n",
      "6/6 [==============================] - 0s 12ms/step - loss: 359476.5000 - val_loss: 685144.8750\n",
      "Epoch 43/50\n",
      "6/6 [==============================] - 0s 11ms/step - loss: 461647.5000 - val_loss: 375742.2812\n",
      "Epoch 44/50\n",
      "6/6 [==============================] - 0s 10ms/step - loss: 345365.5000 - val_loss: 365541.2812\n",
      "Epoch 45/50\n",
      "6/6 [==============================] - 0s 11ms/step - loss: 342207.5938 - val_loss: 316997.6875\n",
      "Epoch 46/50\n",
      "6/6 [==============================] - 0s 11ms/step - loss: 332048.7188 - val_loss: 443227.3125\n",
      "Epoch 47/50\n",
      "6/6 [==============================] - 0s 13ms/step - loss: 366041.3125 - val_loss: 310127.2812\n",
      "Epoch 48/50\n",
      "6/6 [==============================] - 0s 12ms/step - loss: 317231.6250 - val_loss: 450406.3438\n",
      "Epoch 49/50\n",
      "6/6 [==============================] - 0s 10ms/step - loss: 352458.5938 - val_loss: 512548.0938\n",
      "Epoch 50/50\n",
      "6/6 [==============================] - 0s 11ms/step - loss: 376537.6562 - val_loss: 308916.4062\n"
     ]
    },
    {
     "data": {
      "text/plain": [
       "<keras.callbacks.History at 0x7fbd2cb38a90>"
      ]
     },
     "execution_count": 12,
     "metadata": {},
     "output_type": "execute_result"
    }
   ],
   "source": [
    "model.fit(X_train, y_train, epochs = 50, validation_data=(X_test, y_test))"
   ]
  },
  {
   "cell_type": "code",
   "execution_count": 13,
   "id": "34de54cb",
   "metadata": {},
   "outputs": [],
   "source": [
    "losses = pd.DataFrame(model.history.history)"
   ]
  },
  {
   "cell_type": "code",
   "execution_count": 14,
   "id": "6a248c4d",
   "metadata": {
    "scrolled": false
   },
   "outputs": [
    {
     "data": {
      "text/html": [
       "<div>\n",
       "<style scoped>\n",
       "    .dataframe tbody tr th:only-of-type {\n",
       "        vertical-align: middle;\n",
       "    }\n",
       "\n",
       "    .dataframe tbody tr th {\n",
       "        vertical-align: top;\n",
       "    }\n",
       "\n",
       "    .dataframe thead th {\n",
       "        text-align: right;\n",
       "    }\n",
       "</style>\n",
       "<table border=\"1\" class=\"dataframe\">\n",
       "  <thead>\n",
       "    <tr style=\"text-align: right;\">\n",
       "      <th></th>\n",
       "      <th>loss</th>\n",
       "      <th>val_loss</th>\n",
       "    </tr>\n",
       "  </thead>\n",
       "  <tbody>\n",
       "    <tr>\n",
       "      <th>0</th>\n",
       "      <td>6618176.50</td>\n",
       "      <td>6856733.0</td>\n",
       "    </tr>\n",
       "    <tr>\n",
       "      <th>1</th>\n",
       "      <td>6613544.00</td>\n",
       "      <td>6822868.5</td>\n",
       "    </tr>\n",
       "    <tr>\n",
       "      <th>2</th>\n",
       "      <td>6509903.50</td>\n",
       "      <td>6409811.5</td>\n",
       "    </tr>\n",
       "    <tr>\n",
       "      <th>3</th>\n",
       "      <td>5677736.50</td>\n",
       "      <td>4031757.0</td>\n",
       "    </tr>\n",
       "    <tr>\n",
       "      <th>4</th>\n",
       "      <td>2076186.25</td>\n",
       "      <td>394786.0</td>\n",
       "    </tr>\n",
       "  </tbody>\n",
       "</table>\n",
       "</div>"
      ],
      "text/plain": [
       "         loss   val_loss\n",
       "0  6618176.50  6856733.0\n",
       "1  6613544.00  6822868.5\n",
       "2  6509903.50  6409811.5\n",
       "3  5677736.50  4031757.0\n",
       "4  2076186.25   394786.0"
      ]
     },
     "execution_count": 14,
     "metadata": {},
     "output_type": "execute_result"
    }
   ],
   "source": [
    "losses.head()"
   ]
  },
  {
   "cell_type": "code",
   "execution_count": 15,
   "id": "cd9ea547",
   "metadata": {
    "scrolled": true
   },
   "outputs": [
    {
     "data": {
      "text/plain": [
       "<AxesSubplot:>"
      ]
     },
     "execution_count": 15,
     "metadata": {},
     "output_type": "execute_result"
    },
    {
     "data": {
      "image/png": "[encoded data removed]",
      "text/plain": [
       "<Figure size 432x288 with 1 Axes>"
      ]
     },
     "metadata": {
      "needs_background": "light"
     },
     "output_type": "display_data"
    }
   ],
   "source": [
    "losses.plot()"
   ]
  },
  {
   "cell_type": "code",
   "execution_count": 16,
   "id": "a46ba159",
   "metadata": {
    "scrolled": true
   },
   "outputs": [
    {
     "name": "stdout",
     "output_type": "stream",
     "text": [
      "6/6 [==============================] - 0s 2ms/step\n",
      "2/2 [==============================] - 0s 3ms/step\n"
     ]
    }
   ],
   "source": [
    "trainPredict = model.predict(X_train)\n",
    "testPredict = model.predict(X_test)"
   ]
  },
  {
   "cell_type": "code",
   "execution_count": 17,
   "id": "f6096681",
   "metadata": {},
   "outputs": [
    {
     "name": "stdout",
     "output_type": "stream",
     "text": [
      "Model: \"sequential\"\n",
      "_________________________________________________________________\n",
      " Layer (type)                Output Shape              Param #   \n",
      "=================================================================\n",
      " dense (Dense)               (None, 4)                 20        \n",
      "                                                                 \n",
      " dense_1 (Dense)             (None, 8)                 40        \n",
      "                                                                 \n",
      " dense_2 (Dense)             (None, 5)                 45        \n",
      "                                                                 \n",
      " dense_3 (Dense)             (None, 3)                 18        \n",
      "                                                                 \n",
      " dense_4 (Dense)             (None, 1)                 4         \n",
      "                                                                 \n",
      "=================================================================\n",
      "Total params: 127\n",
      "Trainable params: 127\n",
      "Non-trainable params: 0\n",
      "_________________________________________________________________\n",
      "Layer:  dense\n",
      "  --Kernels (Weights):  [array([[-0.27756953, 11.955515  , 12.814147  , -0.10813195],\n",
      "       [-0.10663831, 15.695944  , 15.501122  , -0.38680428],\n",
      "       [-0.25166684,  2.5613985 ,  2.2452803 , -0.23564035],\n",
      "       [-0.18107665, 10.126323  ,  9.694978  , -0.3135875 ]],\n",
      "      dtype=float32), array([ 0.      , 12.134887, 12.142887,  0.      ], dtype=float32)]\n",
      "  --Biases:  [array([[-0.27756953, 11.955515  , 12.814147  , -0.10813195],\n",
      "       [-0.10663831, 15.695944  , 15.501122  , -0.38680428],\n",
      "       [-0.25166684,  2.5613985 ,  2.2452803 , -0.23564035],\n",
      "       [-0.18107665, 10.126323  ,  9.694978  , -0.3135875 ]],\n",
      "      dtype=float32), array([ 0.      , 12.134887, 12.142887,  0.      ], dtype=float32)]\n",
      "Layer:  dense_1\n",
      "  --Kernels (Weights):  [array([[ 6.62492931e-01,  2.44189918e-01, -1.75162494e-01,\n",
      "        -9.79523063e-02,  5.31582057e-01,  6.70723259e-01,\n",
      "        -3.35459411e-01, -5.46031296e-01],\n",
      "       [ 1.14195690e+01, -6.85609162e-01,  1.10637245e+01,\n",
      "         1.12232742e+01, -3.22796315e-01, -2.11412311e-01,\n",
      "        -1.51744843e-01, -1.78872183e-01],\n",
      "       [ 1.15670614e+01, -2.95510292e-02,  1.14223871e+01,\n",
      "         1.05084429e+01, -1.03673503e-01, -1.08429015e-01,\n",
      "        -1.37714684e-01, -5.90199232e-01],\n",
      "       [ 8.33868980e-03, -4.33463454e-02,  4.03348148e-01,\n",
      "         2.87459373e-01,  2.47210622e-01,  4.47361290e-01,\n",
      "        -5.54669857e-01, -2.31970340e-01]], dtype=float32), array([12.018246  ,  0.        , 12.011724  , 12.050396  , -0.40159568,\n",
      "        0.        ,  0.        , -0.4015942 ], dtype=float32)]\n",
      "  --Biases:  [array([[ 6.62492931e-01,  2.44189918e-01, -1.75162494e-01,\n",
      "        -9.79523063e-02,  5.31582057e-01,  6.70723259e-01,\n",
      "        -3.35459411e-01, -5.46031296e-01],\n",
      "       [ 1.14195690e+01, -6.85609162e-01,  1.10637245e+01,\n",
      "         1.12232742e+01, -3.22796315e-01, -2.11412311e-01,\n",
      "        -1.51744843e-01, -1.78872183e-01],\n",
      "       [ 1.15670614e+01, -2.95510292e-02,  1.14223871e+01,\n",
      "         1.05084429e+01, -1.03673503e-01, -1.08429015e-01,\n",
      "        -1.37714684e-01, -5.90199232e-01],\n",
      "       [ 8.33868980e-03, -4.33463454e-02,  4.03348148e-01,\n",
      "         2.87459373e-01,  2.47210622e-01,  4.47361290e-01,\n",
      "        -5.54669857e-01, -2.31970340e-01]], dtype=float32), array([12.018246  ,  0.        , 12.011724  , 12.050396  , -0.40159568,\n",
      "        0.        ,  0.        , -0.4015942 ], dtype=float32)]\n",
      "Layer:  dense_2\n",
      "  --Kernels (Weights):  [array([[-0.49558133, 11.692117  , -0.60612684, -0.42884275, 11.482086  ],\n",
      "       [ 0.07351232,  0.05693644,  0.6301881 , -0.10513037, -0.34151146],\n",
      "       [-0.60748804, 11.59518   , -0.02284519,  0.18646538, 11.691684  ],\n",
      "       [ 0.5056597 , 11.080064  , -0.5144903 ,  0.13501418, 11.35032   ],\n",
      "       [ 0.15966654, -0.2369347 , -0.04860813, -0.5443908 , -0.07353669],\n",
      "       [ 0.2465477 ,  0.16405034,  0.36065853, -0.40983725,  0.14446664],\n",
      "       [ 0.34669554, -0.51220644, -0.31312108, -0.3863514 , -0.20097384],\n",
      "       [ 0.03652263, -0.21096304, -0.06213627, -0.08183306,  0.29317722]],\n",
      "      dtype=float32), array([ 0.        , 11.540219  , -0.40159056,  0.        , 11.5138445 ],\n",
      "      dtype=float32)]\n",
      "  --Biases:  [array([[-0.49558133, 11.692117  , -0.60612684, -0.42884275, 11.482086  ],\n",
      "       [ 0.07351232,  0.05693644,  0.6301881 , -0.10513037, -0.34151146],\n",
      "       [-0.60748804, 11.59518   , -0.02284519,  0.18646538, 11.691684  ],\n",
      "       [ 0.5056597 , 11.080064  , -0.5144903 ,  0.13501418, 11.35032   ],\n",
      "       [ 0.15966654, -0.2369347 , -0.04860813, -0.5443908 , -0.07353669],\n",
      "       [ 0.2465477 ,  0.16405034,  0.36065853, -0.40983725,  0.14446664],\n",
      "       [ 0.34669554, -0.51220644, -0.31312108, -0.3863514 , -0.20097384],\n",
      "       [ 0.03652263, -0.21096304, -0.06213627, -0.08183306,  0.29317722]],\n",
      "      dtype=float32), array([ 0.        , 11.540219  , -0.40159056,  0.        , 11.5138445 ],\n",
      "      dtype=float32)]\n",
      "Layer:  dense_3\n",
      "  --Kernels (Weights):  [array([[ 8.1848520e-01, -8.2024688e-01, -1.1233276e-01],\n",
      "       [ 3.4363741e-01, -7.3081094e-01,  1.1548681e+01],\n",
      "       [-5.9513831e-01, -9.6341729e-02,  1.6977869e-01],\n",
      "       [-8.0829638e-01,  5.5559081e-01, -1.0779500e-02],\n",
      "       [-4.6690005e-01,  2.4950010e-01,  1.1646410e+01]], dtype=float32), array([ 0.      ,  0.      , 10.279642], dtype=float32)]\n",
      "  --Biases:  [array([[ 8.1848520e-01, -8.2024688e-01, -1.1233276e-01],\n",
      "       [ 3.4363741e-01, -7.3081094e-01,  1.1548681e+01],\n",
      "       [-5.9513831e-01, -9.6341729e-02,  1.6977869e-01],\n",
      "       [-8.0829638e-01,  5.5559081e-01, -1.0779500e-02],\n",
      "       [-4.6690005e-01,  2.4950010e-01,  1.1646410e+01]], dtype=float32), array([ 0.      ,  0.      , 10.279642], dtype=float32)]\n",
      "Layer:  dense_4\n",
      "  --Kernels (Weights):  [array([[-1.0320497],\n",
      "       [ 0.8096839],\n",
      "       [11.744653 ]], dtype=float32), array([7.4535437], dtype=float32)]\n",
      "  --Biases:  [array([[-1.0320497],\n",
      "       [ 0.8096839],\n",
      "       [11.744653 ]], dtype=float32), array([7.4535437], dtype=float32)]\n"
     ]
    }
   ],
   "source": [
    "model.summary()\n",
    "for layer in model.layers:\n",
    "    print(\"Layer: \", layer.name) # print layer name\n",
    "    print(\"  --Kernels (Weights): \", layer.get_weights()) # weights\n",
    "    print(\"  --Biases: \", layer.get_weights()) # biases\n",
    "    "
   ]
  },
  {
   "cell_type": "markdown",
   "id": "dda53e54",
   "metadata": {},
   "source": [
    "### Evaluation "
   ]
  },
  {
   "cell_type": "markdown",
   "id": "6d22cbad",
   "metadata": {},
   "source": [
    "#### MAE and RMSE"
   ]
  },
  {
   "cell_type": "code",
   "execution_count": 18,
   "id": "1fe9523f",
   "metadata": {},
   "outputs": [
    {
     "name": "stdout",
     "output_type": "stream",
     "text": [
      "Train Score: 311023.19 MAE\n"
     ]
    }
   ],
   "source": [
    "MAE_train = (round(mean_absolute_error(y_train, trainPredict),2))\n",
    "print(\"Train Score: %.2f MAE\" % (MAE_train))"
   ]
  },
  {
   "cell_type": "code",
   "execution_count": 19,
   "id": "f3209e4c",
   "metadata": {},
   "outputs": [
    {
     "name": "stdout",
     "output_type": "stream",
     "text": [
      "Test Score: 308916.41 MAE\n"
     ]
    }
   ],
   "source": [
    "MAE_test = (round(mean_absolute_error(y_test, testPredict),2))\n",
    "print(\"Test Score: %.2f MAE\" % (MAE_test))"
   ]
  },
  {
   "cell_type": "code",
   "execution_count": 20,
   "id": "06f01f08",
   "metadata": {
    "scrolled": true
   },
   "outputs": [
    {
     "name": "stdout",
     "output_type": "stream",
     "text": [
      "Train Score: 465076.55 RMSE\n"
     ]
    }
   ],
   "source": [
    "RMSE_train = math.sqrt(mean_squared_error(y_train, trainPredict))\n",
    "print(\"Train Score: %.2f RMSE\" % (RMSE_train))"
   ]
  },
  {
   "cell_type": "code",
   "execution_count": 21,
   "id": "43a7c10d",
   "metadata": {
    "scrolled": true
   },
   "outputs": [
    {
     "name": "stdout",
     "output_type": "stream",
     "text": [
      "Test Score: 493274.55 RMSE\n"
     ]
    }
   ],
   "source": [
    "RMSE_test = math.sqrt(mean_squared_error(y_test, testPredict))\n",
    "print(\"Test Score: %.2f RMSE\" % (RMSE_test))"
   ]
  },
  {
   "cell_type": "markdown",
   "id": "1ce18af1",
   "metadata": {},
   "source": [
    "### MAPE "
   ]
  },
  {
   "cell_type": "code",
   "execution_count": 22,
   "id": "7201de77",
   "metadata": {},
   "outputs": [],
   "source": [
    "def MAPE(y_true, y_pred):\n",
    "    y_true, y_pred = np.array(y_true), np.array(y_pred)\n",
    "    return np.mean(np.abs(y_true - y_pred) / y_true) * 100"
   ]
  },
  {
   "cell_type": "code",
   "execution_count": 25,
   "id": "0c6e1fd9",
   "metadata": {
    "scrolled": true
   },
   "outputs": [
    {
     "data": {
      "text/plain": [
       "33.44"
      ]
     },
     "execution_count": 25,
     "metadata": {},
     "output_type": "execute_result"
    }
   ],
   "source": [
    "round(MAPE(y_test, testPredict),2)"
   ]
  },
  {
   "cell_type": "code",
   "execution_count": 26,
   "id": "54b7bb3f",
   "metadata": {},
   "outputs": [],
   "source": [
    "def plot_delta(actual, predictions):\n",
    "    title = 'Passanger Predictions'\n",
    "    act = plt.plot(actual, color='blue', label='Actual')\n",
    "    pred = plt.plot(predictions, color='orange', label='Predictions')\n",
    "    plt.xlabel(\"Date\")\n",
    "    plt.ylabel(\"Paxe\")\n",
    "    plt.legend(loc='best')\n",
    "    plt.title(title)\n",
    "    plt.show()"
   ]
  },
  {
   "cell_type": "code",
   "execution_count": 27,
   "id": "ec621dc7",
   "metadata": {
    "scrolled": false
   },
   "outputs": [
    {
     "data": {
      "image/png": "[encoded data removed]",
      "text/plain": [
       "<Figure size 432x288 with 1 Axes>"
      ]
     },
     "metadata": {
      "needs_background": "light"
     },
     "output_type": "display_data"
    }
   ],
   "source": [
    "plot_delta(y_test, testPredict)"
   ]
  },
  {
   "cell_type": "markdown",
   "id": "55b8475b",
   "metadata": {},
   "source": [
    "## Export Forecast"
   ]
  },
  {
   "cell_type": "code",
   "execution_count": 28,
   "id": "a9ba8656",
   "metadata": {},
   "outputs": [
    {
     "name": "stdout",
     "output_type": "stream",
     "text": [
      "[Errno 2] No such file or directory: '/Users/dilianaserafimova/Library/Mobile Documents/com~apple~CloudDocs/Documents/My Files/Master Studium/Masterarbeit/Forecast/Delta Airlines'\n",
      "/Users/dilianaserafimova/Source Code/Delta_Airlines\n"
     ]
    }
   ],
   "source": [
    "%cd  /Users/dilianaserafimova/Library/Mobile Documents/com~apple~CloudDocs/Documents/My Files/Master Studium/Masterarbeit/Forecast/Delta Airlines"
   ]
  },
  {
   "cell_type": "code",
   "execution_count": 29,
   "id": "e54ec16d",
   "metadata": {},
   "outputs": [],
   "source": [
    "testPredict.tofile('predictions_ffnn.csv')"
   ]
  }
 ],
 "metadata": {
  "kernelspec": {
   "display_name": "Python 3 (ipykernel)",
   "language": "python",
   "name": "python3"
  },
  "language_info": {
   "codemirror_mode": {
    "name": "ipython",
    "version": 3
   },
   "file_extension": ".py",
   "mimetype": "text/x-python",
   "name": "python",
   "nbconvert_exporter": "python",
   "pygments_lexer": "ipython3",
   "version": "3.9.7"
  }
 },
 "nbformat": 4,
 "nbformat_minor": 5
}
