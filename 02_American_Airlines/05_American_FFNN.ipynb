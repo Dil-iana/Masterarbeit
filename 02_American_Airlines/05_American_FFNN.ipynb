{
 "cells": [
  {
   "cell_type": "code",
   "execution_count": 80,
   "id": "f5d1f583",
   "metadata": {
    "scrolled": true
   },
   "outputs": [],
   "source": [
    "import tensorflow as tf\n",
    "from tensorflow.keras.models import Sequential\n",
    "from tensorflow.keras.layers import Dense, Dropout\n",
    "import keras\n",
    "import pandas as pd\n",
    "from sklearn.model_selection import train_test_split\n",
    "from sklearn.preprocessing import MinMaxScaler\n",
    "from sklearn.metrics import mean_squared_error, mean_absolute_error\n",
    "import math\n",
    "import matplotlib.pyplot as plt\n",
    "from tensorflow.keras import initializers\n",
    "import numpy as np\n",
    "\n",
    "import warnings\n",
    "warnings.filterwarnings('ignore')"
   ]
  },
  {
   "cell_type": "markdown",
   "id": "54f9bd01",
   "metadata": {},
   "source": [
    "## Import data "
   ]
  },
  {
   "cell_type": "code",
   "execution_count": 53,
   "id": "a992baa0",
   "metadata": {},
   "outputs": [],
   "source": [
    "df_american = pd.read_excel(r'/Users/dilianaserafimova/Desktop/df_american_clean.xlsx')"
   ]
  },
  {
   "cell_type": "code",
   "execution_count": 54,
   "id": "19f03ca1",
   "metadata": {},
   "outputs": [],
   "source": [
    "df_american = df_american.set_index(['date'])"
   ]
  },
  {
   "cell_type": "code",
   "execution_count": 55,
   "id": "3bae768c",
   "metadata": {},
   "outputs": [],
   "source": [
    "X = df_american[['revenue', 'seat_miles', 'load_factor', 'flights']]"
   ]
  },
  {
   "cell_type": "code",
   "execution_count": 56,
   "id": "82e97e35",
   "metadata": {},
   "outputs": [],
   "source": [
    "y = df_american['pax_count'].values"
   ]
  },
  {
   "cell_type": "markdown",
   "id": "20633ac5",
   "metadata": {},
   "source": [
    "## Train & test split"
   ]
  },
  {
   "cell_type": "code",
   "execution_count": 57,
   "id": "c54eb130",
   "metadata": {},
   "outputs": [],
   "source": [
    "X_train, X_test, y_train, y_test = train_test_split(X, y, test_size=0.2, random_state = 0)"
   ]
  },
  {
   "cell_type": "markdown",
   "id": "425cd75a",
   "metadata": {},
   "source": [
    "## Normalize the data"
   ]
  },
  {
   "cell_type": "code",
   "execution_count": 58,
   "id": "16720abf",
   "metadata": {},
   "outputs": [],
   "source": [
    "scaler = MinMaxScaler()"
   ]
  },
  {
   "cell_type": "code",
   "execution_count": 59,
   "id": "cebc19d9",
   "metadata": {},
   "outputs": [],
   "source": [
    "X_train = scaler.fit_transform(X_train)"
   ]
  },
  {
   "cell_type": "code",
   "execution_count": 60,
   "id": "7ca86aa3",
   "metadata": {},
   "outputs": [],
   "source": [
    "X_test = scaler.transform(X_test)"
   ]
  },
  {
   "cell_type": "markdown",
   "id": "2c1fb5df",
   "metadata": {},
   "source": [
    "## Creating the model "
   ]
  },
  {
   "cell_type": "code",
   "execution_count": 61,
   "id": "ce589b2c",
   "metadata": {},
   "outputs": [],
   "source": [
    "model = Sequential()\n",
    "\n",
    "model.add(Dense(4, activation='relu', \n",
    "                #kernel_initializer=initializers.RandomNormal(stddev=0.01),\n",
    "               # bias_initializer=initializers.Zeros()\n",
    "               ))\n",
    "model.add(Dense(8, activation='relu'))\n",
    "model.add(Dense(5, activation='relu'))\n",
    "model.add(Dense(3, activation='relu'))\n",
    "model.add(Dense(units=1,activation='relu'))"
   ]
  },
  {
   "cell_type": "code",
   "execution_count": 62,
   "id": "2a7029f3",
   "metadata": {},
   "outputs": [],
   "source": [
    "opt = keras.optimizers.Adam(learning_rate=0.2)\n",
    "\n",
    "model.compile(loss = 'mean_absolute_error', optimizer= opt)"
   ]
  },
  {
   "cell_type": "markdown",
   "id": "51a3371f",
   "metadata": {},
   "source": [
    "## Fit the model "
   ]
  },
  {
   "cell_type": "code",
   "execution_count": 63,
   "id": "e94ffd05",
   "metadata": {
    "scrolled": true
   },
   "outputs": [
    {
     "name": "stdout",
     "output_type": "stream",
     "text": [
      "Epoch 1/100\n",
      "6/6 [==============================] - 1s 59ms/step - loss: 8841781.0000 - val_loss: 8679780.0000\n",
      "Epoch 2/100\n",
      "6/6 [==============================] - 0s 12ms/step - loss: 8841328.0000 - val_loss: 8677772.0000\n",
      "Epoch 3/100\n",
      "6/6 [==============================] - 0s 12ms/step - loss: 8836504.0000 - val_loss: 8663995.0000\n",
      "Epoch 4/100\n",
      "6/6 [==============================] - 0s 11ms/step - loss: 8810794.0000 - val_loss: 8601755.0000\n",
      "Epoch 5/100\n",
      "6/6 [==============================] - 0s 11ms/step - loss: 8704898.0000 - val_loss: 8383634.0000\n",
      "Epoch 6/100\n",
      "6/6 [==============================] - 0s 11ms/step - loss: 8368805.0000 - val_loss: 7753843.5000\n",
      "Epoch 7/100\n",
      "6/6 [==============================] - 0s 11ms/step - loss: 7442493.5000 - val_loss: 6163231.0000\n",
      "Epoch 8/100\n",
      "6/6 [==============================] - 0s 12ms/step - loss: 5223685.5000 - val_loss: 2561928.5000\n",
      "Epoch 9/100\n",
      "6/6 [==============================] - 0s 11ms/step - loss: 1527481.3750 - val_loss: 1970678.8750\n",
      "Epoch 10/100\n",
      "6/6 [==============================] - 0s 12ms/step - loss: 1442623.1250 - val_loss: 659618.6250\n",
      "Epoch 11/100\n",
      "6/6 [==============================] - 0s 13ms/step - loss: 736682.3125 - val_loss: 455766.1875\n",
      "Epoch 12/100\n",
      "6/6 [==============================] - 0s 12ms/step - loss: 634625.0625 - val_loss: 445029.1562\n",
      "Epoch 13/100\n",
      "6/6 [==============================] - 0s 10ms/step - loss: 507814.0938 - val_loss: 452905.5625\n",
      "Epoch 14/100\n",
      "6/6 [==============================] - 0s 17ms/step - loss: 492880.3438 - val_loss: 436382.0938\n",
      "Epoch 15/100\n",
      "6/6 [==============================] - 0s 12ms/step - loss: 458518.0938 - val_loss: 440416.0938\n",
      "Epoch 16/100\n",
      "6/6 [==============================] - 0s 12ms/step - loss: 449922.5000 - val_loss: 427840.9375\n",
      "Epoch 17/100\n",
      "6/6 [==============================] - 0s 12ms/step - loss: 405532.6562 - val_loss: 440089.3125\n",
      "Epoch 18/100\n",
      "6/6 [==============================] - 0s 13ms/step - loss: 395692.9688 - val_loss: 415555.8438\n",
      "Epoch 19/100\n",
      "6/6 [==============================] - 0s 14ms/step - loss: 402582.6875 - val_loss: 432738.7188\n",
      "Epoch 20/100\n",
      "6/6 [==============================] - 0s 17ms/step - loss: 386725.1875 - val_loss: 405640.7500\n",
      "Epoch 21/100\n",
      "6/6 [==============================] - 0s 13ms/step - loss: 381998.3438 - val_loss: 400665.9688\n",
      "Epoch 22/100\n",
      "6/6 [==============================] - 0s 13ms/step - loss: 384550.6250 - val_loss: 427355.3125\n",
      "Epoch 23/100\n",
      "6/6 [==============================] - 0s 13ms/step - loss: 383097.1562 - val_loss: 395401.1562\n",
      "Epoch 24/100\n",
      "6/6 [==============================] - 0s 13ms/step - loss: 382621.2500 - val_loss: 405545.6250\n",
      "Epoch 25/100\n",
      "6/6 [==============================] - 0s 16ms/step - loss: 372532.9688 - val_loss: 385287.2500\n",
      "Epoch 26/100\n",
      "6/6 [==============================] - 0s 13ms/step - loss: 359541.0938 - val_loss: 381891.4375\n",
      "Epoch 27/100\n",
      "6/6 [==============================] - 0s 12ms/step - loss: 353484.0000 - val_loss: 418721.6562\n",
      "Epoch 28/100\n",
      "6/6 [==============================] - 0s 23ms/step - loss: 354326.0000 - val_loss: 379176.1250\n",
      "Epoch 29/100\n",
      "6/6 [==============================] - 0s 24ms/step - loss: 362886.9688 - val_loss: 374215.5625\n",
      "Epoch 30/100\n",
      "6/6 [==============================] - 0s 12ms/step - loss: 337726.3438 - val_loss: 366228.0625\n",
      "Epoch 31/100\n",
      "6/6 [==============================] - 0s 11ms/step - loss: 332897.8125 - val_loss: 363097.5000\n",
      "Epoch 32/100\n",
      "6/6 [==============================] - 0s 10ms/step - loss: 332105.4688 - val_loss: 382028.6875\n",
      "Epoch 33/100\n",
      "6/6 [==============================] - 0s 22ms/step - loss: 334449.6250 - val_loss: 398828.8750\n",
      "Epoch 34/100\n",
      "6/6 [==============================] - 0s 15ms/step - loss: 341798.9688 - val_loss: 358035.4688\n",
      "Epoch 35/100\n",
      "6/6 [==============================] - 0s 10ms/step - loss: 377352.2500 - val_loss: 412115.6250\n",
      "Epoch 36/100\n",
      "6/6 [==============================] - 0s 10ms/step - loss: 379116.6250 - val_loss: 371202.2188\n",
      "Epoch 37/100\n",
      "6/6 [==============================] - 0s 10ms/step - loss: 339940.1875 - val_loss: 361947.2500\n",
      "Epoch 38/100\n",
      "6/6 [==============================] - 0s 11ms/step - loss: 326711.5625 - val_loss: 348098.9375\n",
      "Epoch 39/100\n",
      "6/6 [==============================] - 0s 13ms/step - loss: 303826.8125 - val_loss: 357605.6250\n",
      "Epoch 40/100\n",
      "6/6 [==============================] - 0s 10ms/step - loss: 334118.0312 - val_loss: 355721.8750\n",
      "Epoch 41/100\n",
      "6/6 [==============================] - 0s 11ms/step - loss: 325963.0000 - val_loss: 347910.2812\n",
      "Epoch 42/100\n",
      "6/6 [==============================] - 0s 10ms/step - loss: 311166.2812 - val_loss: 340699.9375\n",
      "Epoch 43/100\n",
      "6/6 [==============================] - 0s 10ms/step - loss: 327322.1250 - val_loss: 368012.4375\n",
      "Epoch 44/100\n",
      "6/6 [==============================] - 0s 10ms/step - loss: 322343.1250 - val_loss: 347806.9688\n",
      "Epoch 45/100\n",
      "6/6 [==============================] - 0s 12ms/step - loss: 370460.0312 - val_loss: 477406.3438\n",
      "Epoch 46/100\n",
      "6/6 [==============================] - 0s 12ms/step - loss: 413051.6250 - val_loss: 478812.5938\n",
      "Epoch 47/100\n",
      "6/6 [==============================] - 0s 14ms/step - loss: 379886.8438 - val_loss: 369860.6250\n",
      "Epoch 48/100\n",
      "6/6 [==============================] - 0s 11ms/step - loss: 350329.8438 - val_loss: 343729.3125\n",
      "Epoch 49/100\n",
      "6/6 [==============================] - 0s 11ms/step - loss: 330531.6250 - val_loss: 342885.8125\n",
      "Epoch 50/100\n",
      "6/6 [==============================] - 0s 12ms/step - loss: 298667.0625 - val_loss: 331790.0625\n",
      "Epoch 51/100\n",
      "6/6 [==============================] - 0s 15ms/step - loss: 284212.8750 - val_loss: 322151.4688\n",
      "Epoch 52/100\n",
      "6/6 [==============================] - 0s 13ms/step - loss: 285110.5625 - val_loss: 363905.9375\n",
      "Epoch 53/100\n",
      "6/6 [==============================] - 0s 12ms/step - loss: 335327.3125 - val_loss: 424852.5938\n",
      "Epoch 54/100\n",
      "6/6 [==============================] - 0s 12ms/step - loss: 348713.3125 - val_loss: 316545.2188\n",
      "Epoch 55/100\n",
      "6/6 [==============================] - 0s 11ms/step - loss: 313471.5312 - val_loss: 362628.2812\n",
      "Epoch 56/100\n",
      "6/6 [==============================] - 0s 11ms/step - loss: 340194.2188 - val_loss: 360504.8125\n",
      "Epoch 57/100\n",
      "6/6 [==============================] - 0s 10ms/step - loss: 296441.8125 - val_loss: 326837.4688\n",
      "Epoch 58/100\n",
      "6/6 [==============================] - 0s 11ms/step - loss: 300428.8438 - val_loss: 303958.3438\n",
      "Epoch 59/100\n",
      "6/6 [==============================] - 0s 11ms/step - loss: 301616.4375 - val_loss: 358123.4062\n",
      "Epoch 60/100\n",
      "6/6 [==============================] - 0s 12ms/step - loss: 306020.3125 - val_loss: 297670.5938\n",
      "Epoch 61/100\n",
      "6/6 [==============================] - 0s 10ms/step - loss: 281410.5938 - val_loss: 377187.0625\n",
      "Epoch 62/100\n",
      "6/6 [==============================] - 0s 10ms/step - loss: 349227.1562 - val_loss: 314662.1562\n",
      "Epoch 63/100\n",
      "6/6 [==============================] - 0s 10ms/step - loss: 298457.3750 - val_loss: 296851.2500\n",
      "Epoch 64/100\n",
      "6/6 [==============================] - 0s 10ms/step - loss: 262526.8750 - val_loss: 290573.1562\n",
      "Epoch 65/100\n",
      "6/6 [==============================] - 0s 11ms/step - loss: 263651.3750 - val_loss: 287708.9375\n",
      "Epoch 66/100\n",
      "6/6 [==============================] - 0s 10ms/step - loss: 254022.3281 - val_loss: 316231.9375\n",
      "Epoch 67/100\n",
      "6/6 [==============================] - 0s 10ms/step - loss: 314369.3125 - val_loss: 325497.0312\n",
      "Epoch 68/100\n",
      "6/6 [==============================] - 0s 11ms/step - loss: 262977.1250 - val_loss: 292994.6875\n",
      "Epoch 69/100\n",
      "6/6 [==============================] - 0s 11ms/step - loss: 322274.4062 - val_loss: 287775.7188\n",
      "Epoch 70/100\n",
      "6/6 [==============================] - 0s 13ms/step - loss: 260821.5469 - val_loss: 293360.8750\n",
      "Epoch 71/100\n",
      "6/6 [==============================] - 0s 10ms/step - loss: 258666.6562 - val_loss: 344219.8750\n",
      "Epoch 72/100\n",
      "6/6 [==============================] - 0s 10ms/step - loss: 274754.5938 - val_loss: 295705.5938\n",
      "Epoch 73/100\n",
      "6/6 [==============================] - 0s 10ms/step - loss: 291366.3438 - val_loss: 309793.3125\n",
      "Epoch 74/100\n",
      "6/6 [==============================] - 0s 10ms/step - loss: 289676.0625 - val_loss: 398281.9375\n",
      "Epoch 75/100\n",
      "6/6 [==============================] - 0s 13ms/step - loss: 351153.4688 - val_loss: 360073.6562\n",
      "Epoch 76/100\n"
     ]
    },
    {
     "name": "stdout",
     "output_type": "stream",
     "text": [
      "6/6 [==============================] - 0s 10ms/step - loss: 289998.2500 - val_loss: 344532.5625\n",
      "Epoch 77/100\n",
      "6/6 [==============================] - 0s 11ms/step - loss: 293901.8750 - val_loss: 308179.4062\n",
      "Epoch 78/100\n",
      "6/6 [==============================] - 0s 10ms/step - loss: 275816.5625 - val_loss: 278294.1875\n",
      "Epoch 79/100\n",
      "6/6 [==============================] - 0s 13ms/step - loss: 250868.3438 - val_loss: 295089.7188\n",
      "Epoch 80/100\n",
      "6/6 [==============================] - 0s 10ms/step - loss: 264926.8125 - val_loss: 261617.1250\n",
      "Epoch 81/100\n",
      "6/6 [==============================] - 0s 10ms/step - loss: 244096.8594 - val_loss: 299841.7500\n",
      "Epoch 82/100\n",
      "6/6 [==============================] - 0s 10ms/step - loss: 283870.7812 - val_loss: 300387.2812\n",
      "Epoch 83/100\n",
      "6/6 [==============================] - 0s 10ms/step - loss: 256758.9219 - val_loss: 262095.7500\n",
      "Epoch 84/100\n",
      "6/6 [==============================] - 0s 10ms/step - loss: 265957.5312 - val_loss: 269746.0312\n",
      "Epoch 85/100\n",
      "6/6 [==============================] - 0s 10ms/step - loss: 231655.9062 - val_loss: 275400.6875\n",
      "Epoch 86/100\n",
      "6/6 [==============================] - 0s 10ms/step - loss: 237800.2656 - val_loss: 301221.5000\n",
      "Epoch 87/100\n",
      "6/6 [==============================] - 0s 10ms/step - loss: 257750.4844 - val_loss: 253400.5781\n",
      "Epoch 88/100\n",
      "6/6 [==============================] - 0s 10ms/step - loss: 248874.9375 - val_loss: 255114.5312\n",
      "Epoch 89/100\n",
      "6/6 [==============================] - 0s 10ms/step - loss: 232186.8906 - val_loss: 265983.2500\n",
      "Epoch 90/100\n",
      "6/6 [==============================] - 0s 10ms/step - loss: 242837.1719 - val_loss: 306878.0625\n",
      "Epoch 91/100\n",
      "6/6 [==============================] - 0s 10ms/step - loss: 277019.4375 - val_loss: 264687.8750\n",
      "Epoch 92/100\n",
      "6/6 [==============================] - 0s 10ms/step - loss: 275586.0938 - val_loss: 242498.8281\n",
      "Epoch 93/100\n",
      "6/6 [==============================] - 0s 14ms/step - loss: 236712.8281 - val_loss: 240203.3125\n",
      "Epoch 94/100\n",
      "6/6 [==============================] - 0s 10ms/step - loss: 218185.9375 - val_loss: 252781.4375\n",
      "Epoch 95/100\n",
      "6/6 [==============================] - 0s 11ms/step - loss: 230708.3750 - val_loss: 235641.1250\n",
      "Epoch 96/100\n",
      "6/6 [==============================] - 0s 10ms/step - loss: 224220.3438 - val_loss: 253587.8594\n",
      "Epoch 97/100\n",
      "6/6 [==============================] - 0s 10ms/step - loss: 231754.4062 - val_loss: 282333.6562\n",
      "Epoch 98/100\n",
      "6/6 [==============================] - 0s 10ms/step - loss: 240139.4062 - val_loss: 238052.7344\n",
      "Epoch 99/100\n",
      "6/6 [==============================] - 0s 10ms/step - loss: 216468.4219 - val_loss: 237211.2656\n",
      "Epoch 100/100\n",
      "6/6 [==============================] - 0s 11ms/step - loss: 228311.2656 - val_loss: 260377.4844\n"
     ]
    },
    {
     "data": {
      "text/plain": [
       "<keras.callbacks.History at 0x7fb3469b1eb0>"
      ]
     },
     "execution_count": 63,
     "metadata": {},
     "output_type": "execute_result"
    }
   ],
   "source": [
    "model.fit(X_train, y_train, epochs = 100, validation_data=(X_test, y_test))"
   ]
  },
  {
   "cell_type": "code",
   "execution_count": 64,
   "id": "34de54cb",
   "metadata": {},
   "outputs": [],
   "source": [
    "losses = pd.DataFrame(model.history.history)"
   ]
  },
  {
   "cell_type": "code",
   "execution_count": 65,
   "id": "6a248c4d",
   "metadata": {
    "scrolled": true
   },
   "outputs": [
    {
     "data": {
      "text/html": [
       "<div>\n",
       "<style scoped>\n",
       "    .dataframe tbody tr th:only-of-type {\n",
       "        vertical-align: middle;\n",
       "    }\n",
       "\n",
       "    .dataframe tbody tr th {\n",
       "        vertical-align: top;\n",
       "    }\n",
       "\n",
       "    .dataframe thead th {\n",
       "        text-align: right;\n",
       "    }\n",
       "</style>\n",
       "<table border=\"1\" class=\"dataframe\">\n",
       "  <thead>\n",
       "    <tr style=\"text-align: right;\">\n",
       "      <th></th>\n",
       "      <th>loss</th>\n",
       "      <th>val_loss</th>\n",
       "    </tr>\n",
       "  </thead>\n",
       "  <tbody>\n",
       "    <tr>\n",
       "      <th>0</th>\n",
       "      <td>8.841781e+06</td>\n",
       "      <td>8.679780e+06</td>\n",
       "    </tr>\n",
       "    <tr>\n",
       "      <th>1</th>\n",
       "      <td>8.841328e+06</td>\n",
       "      <td>8.677772e+06</td>\n",
       "    </tr>\n",
       "    <tr>\n",
       "      <th>2</th>\n",
       "      <td>8.836504e+06</td>\n",
       "      <td>8.663995e+06</td>\n",
       "    </tr>\n",
       "    <tr>\n",
       "      <th>3</th>\n",
       "      <td>8.810794e+06</td>\n",
       "      <td>8.601755e+06</td>\n",
       "    </tr>\n",
       "    <tr>\n",
       "      <th>4</th>\n",
       "      <td>8.704898e+06</td>\n",
       "      <td>8.383634e+06</td>\n",
       "    </tr>\n",
       "    <tr>\n",
       "      <th>...</th>\n",
       "      <td>...</td>\n",
       "      <td>...</td>\n",
       "    </tr>\n",
       "    <tr>\n",
       "      <th>95</th>\n",
       "      <td>2.242203e+05</td>\n",
       "      <td>2.535879e+05</td>\n",
       "    </tr>\n",
       "    <tr>\n",
       "      <th>96</th>\n",
       "      <td>2.317544e+05</td>\n",
       "      <td>2.823337e+05</td>\n",
       "    </tr>\n",
       "    <tr>\n",
       "      <th>97</th>\n",
       "      <td>2.401394e+05</td>\n",
       "      <td>2.380527e+05</td>\n",
       "    </tr>\n",
       "    <tr>\n",
       "      <th>98</th>\n",
       "      <td>2.164684e+05</td>\n",
       "      <td>2.372113e+05</td>\n",
       "    </tr>\n",
       "    <tr>\n",
       "      <th>99</th>\n",
       "      <td>2.283113e+05</td>\n",
       "      <td>2.603775e+05</td>\n",
       "    </tr>\n",
       "  </tbody>\n",
       "</table>\n",
       "<p>100 rows × 2 columns</p>\n",
       "</div>"
      ],
      "text/plain": [
       "            loss      val_loss\n",
       "0   8.841781e+06  8.679780e+06\n",
       "1   8.841328e+06  8.677772e+06\n",
       "2   8.836504e+06  8.663995e+06\n",
       "3   8.810794e+06  8.601755e+06\n",
       "4   8.704898e+06  8.383634e+06\n",
       "..           ...           ...\n",
       "95  2.242203e+05  2.535879e+05\n",
       "96  2.317544e+05  2.823337e+05\n",
       "97  2.401394e+05  2.380527e+05\n",
       "98  2.164684e+05  2.372113e+05\n",
       "99  2.283113e+05  2.603775e+05\n",
       "\n",
       "[100 rows x 2 columns]"
      ]
     },
     "execution_count": 65,
     "metadata": {},
     "output_type": "execute_result"
    }
   ],
   "source": [
    "losses"
   ]
  },
  {
   "cell_type": "code",
   "execution_count": 66,
   "id": "cd9ea547",
   "metadata": {
    "scrolled": false
   },
   "outputs": [
    {
     "data": {
      "text/plain": [
       "<AxesSubplot:>"
      ]
     },
     "execution_count": 66,
     "metadata": {},
     "output_type": "execute_result"
    },
    {
     "data": {
      "image/png": "[encoded data removed]",
      "text/plain": [
       "<Figure size 432x288 with 1 Axes>"
      ]
     },
     "metadata": {
      "needs_background": "light"
     },
     "output_type": "display_data"
    }
   ],
   "source": [
    "losses.plot()"
   ]
  },
  {
   "cell_type": "markdown",
   "id": "3b2427ea",
   "metadata": {},
   "source": [
    "### Prediction"
   ]
  },
  {
   "cell_type": "code",
   "execution_count": 67,
   "id": "a46ba159",
   "metadata": {
    "scrolled": false
   },
   "outputs": [
    {
     "name": "stdout",
     "output_type": "stream",
     "text": [
      "6/6 [==============================] - 0s 3ms/step\n",
      "2/2 [==============================] - 0s 5ms/step\n"
     ]
    }
   ],
   "source": [
    "trainPredict = model.predict(X_train)\n",
    "testPredict = model.predict(X_test)"
   ]
  },
  {
   "cell_type": "code",
   "execution_count": 68,
   "id": "f6096681",
   "metadata": {},
   "outputs": [
    {
     "name": "stdout",
     "output_type": "stream",
     "text": [
      "Model: \"sequential_2\"\n",
      "_________________________________________________________________\n",
      " Layer (type)                Output Shape              Param #   \n",
      "=================================================================\n",
      " dense_10 (Dense)            (None, 4)                 20        \n",
      "                                                                 \n",
      " dense_11 (Dense)            (None, 8)                 40        \n",
      "                                                                 \n",
      " dense_12 (Dense)            (None, 5)                 45        \n",
      "                                                                 \n",
      " dense_13 (Dense)            (None, 3)                 18        \n",
      "                                                                 \n",
      " dense_14 (Dense)            (None, 1)                 4         \n",
      "                                                                 \n",
      "=================================================================\n",
      "Total params: 127\n",
      "Trainable params: 127\n",
      "Non-trainable params: 0\n",
      "_________________________________________________________________\n",
      "Layer:  dense_10\n",
      "  --Kernels (Weights):  [array([[11.461538  , -0.02060986, -0.53950524, 10.415995  ],\n",
      "       [17.572319  , -0.35831136, -0.15594018, 17.15232   ],\n",
      "       [ 3.4066389 , -0.10806262, -0.11995935,  2.831676  ],\n",
      "       [ 1.789012  , -0.8388041 , -0.4325665 ,  1.4331542 ]],\n",
      "      dtype=float32), array([16.92903 ,  0.      ,  0.      , 16.922989], dtype=float32)]\n",
      "  --Biases:  [array([[11.461538  , -0.02060986, -0.53950524, 10.415995  ],\n",
      "       [17.572319  , -0.35831136, -0.15594018, 17.15232   ],\n",
      "       [ 3.4066389 , -0.10806262, -0.11995935,  2.831676  ],\n",
      "       [ 1.789012  , -0.8388041 , -0.4325665 ,  1.4331542 ]],\n",
      "      dtype=float32), array([16.92903 ,  0.      ,  0.      , 16.922989], dtype=float32)]\n",
      "Layer:  dense_11\n",
      "  --Kernels (Weights):  [array([[ 1.26578140e+01,  1.26164179e+01,  1.21440611e+01,\n",
      "        -9.79298115e-01, -8.45096707e-02, -1.10741568e+00,\n",
      "        -6.61624610e-01, -1.99711144e-01],\n",
      "       [ 6.88879550e-01, -3.70528609e-01, -6.69210494e-01,\n",
      "        -6.47380114e-01,  4.11213458e-01, -9.39143300e-02,\n",
      "         4.89167631e-01,  5.22496283e-01],\n",
      "       [-6.36438489e-01, -1.37494147e-01, -4.11121249e-01,\n",
      "         5.41379154e-01, -5.90804219e-01, -2.59227395e-01,\n",
      "         6.43399656e-01,  6.90204680e-01],\n",
      "       [ 1.23911200e+01,  1.23181305e+01,  1.23345108e+01,\n",
      "        -1.28979182e+00,  2.26378441e-03, -1.72073138e+00,\n",
      "        -2.05107880e+00, -2.88511366e-01]], dtype=float32), array([17.977116 , 17.91575  , 17.784115 , -1.4982306,  0.       ,\n",
      "       -1.745849 , -0.1856814,  0.       ], dtype=float32)]\n",
      "  --Biases:  [array([[ 1.26578140e+01,  1.26164179e+01,  1.21440611e+01,\n",
      "        -9.79298115e-01, -8.45096707e-02, -1.10741568e+00,\n",
      "        -6.61624610e-01, -1.99711144e-01],\n",
      "       [ 6.88879550e-01, -3.70528609e-01, -6.69210494e-01,\n",
      "        -6.47380114e-01,  4.11213458e-01, -9.39143300e-02,\n",
      "         4.89167631e-01,  5.22496283e-01],\n",
      "       [-6.36438489e-01, -1.37494147e-01, -4.11121249e-01,\n",
      "         5.41379154e-01, -5.90804219e-01, -2.59227395e-01,\n",
      "         6.43399656e-01,  6.90204680e-01],\n",
      "       [ 1.23911200e+01,  1.23181305e+01,  1.23345108e+01,\n",
      "        -1.28979182e+00,  2.26378441e-03, -1.72073138e+00,\n",
      "        -2.05107880e+00, -2.88511366e-01]], dtype=float32), array([17.977116 , 17.91575  , 17.784115 , -1.4982306,  0.       ,\n",
      "       -1.745849 , -0.1856814,  0.       ], dtype=float32)]\n",
      "Layer:  dense_12\n",
      "  --Kernels (Weights):  [array([[12.637224  ,  0.11986834, -1.1423988 , 12.736578  , -1.1771443 ],\n",
      "       [12.020454  , -0.4930672 , -1.4811633 , 12.492071  , -1.0903542 ],\n",
      "       [11.745781  ,  0.069538  , -1.5856084 , 12.295236  , -0.7940829 ],\n",
      "       [ 0.5710936 , -0.66062737, -1.02451   ,  1.5294799 , -1.7406415 ],\n",
      "       [ 0.23916787, -0.63255656,  0.46952176,  0.39436543, -0.34019205],\n",
      "       [ 0.5486522 ,  0.04655021, -0.8382011 ,  1.4128903 , -0.5286385 ],\n",
      "       [ 0.87999135, -0.03826106, -1.5732548 ,  1.8328252 , -1.7988224 ],\n",
      "       [-0.5603163 ,  0.6475284 , -0.29526302,  0.05782425,  0.33897305]],\n",
      "      dtype=float32), array([18.532616 ,  0.       , -1.2010776, 18.757294 , -1.2009552],\n",
      "      dtype=float32)]\n",
      "  --Biases:  [array([[12.637224  ,  0.11986834, -1.1423988 , 12.736578  , -1.1771443 ],\n",
      "       [12.020454  , -0.4930672 , -1.4811633 , 12.492071  , -1.0903542 ],\n",
      "       [11.745781  ,  0.069538  , -1.5856084 , 12.295236  , -0.7940829 ],\n",
      "       [ 0.5710936 , -0.66062737, -1.02451   ,  1.5294799 , -1.7406415 ],\n",
      "       [ 0.23916787, -0.63255656,  0.46952176,  0.39436543, -0.34019205],\n",
      "       [ 0.5486522 ,  0.04655021, -0.8382011 ,  1.4128903 , -0.5286385 ],\n",
      "       [ 0.87999135, -0.03826106, -1.5732548 ,  1.8328252 , -1.7988224 ],\n",
      "       [-0.5603163 ,  0.6475284 , -0.29526302,  0.05782425,  0.33897305]],\n",
      "      dtype=float32), array([18.532616 ,  0.       , -1.2010776, 18.757294 , -1.2009552],\n",
      "      dtype=float32)]\n",
      "Layer:  dense_13\n",
      "  --Kernels (Weights):  [array([[-0.6230508 , 12.592122  , -0.07371873],\n",
      "       [ 0.75093573, -0.11551142, -0.10765564],\n",
      "       [-0.09502548,  0.477759  , -0.7573958 ],\n",
      "       [-0.8522726 , 12.452101  , -0.39979807],\n",
      "       [ 0.18041402,  1.0863568 , -0.61913913]], dtype=float32), array([ 0.      , 18.958612,  0.      ], dtype=float32)]\n",
      "  --Biases:  [array([[-0.6230508 , 12.592122  , -0.07371873],\n",
      "       [ 0.75093573, -0.11551142, -0.10765564],\n",
      "       [-0.09502548,  0.477759  , -0.7573958 ],\n",
      "       [-0.8522726 , 12.452101  , -0.39979807],\n",
      "       [ 0.18041402,  1.0863568 , -0.61913913]], dtype=float32), array([ 0.      , 18.958612,  0.      ], dtype=float32)]\n",
      "Layer:  dense_14\n",
      "  --Kernels (Weights):  [array([[ 0.3768344],\n",
      "       [12.385267 ],\n",
      "       [-1.1162087]], dtype=float32), array([16.015682], dtype=float32)]\n",
      "  --Biases:  [array([[ 0.3768344],\n",
      "       [12.385267 ],\n",
      "       [-1.1162087]], dtype=float32), array([16.015682], dtype=float32)]\n"
     ]
    }
   ],
   "source": [
    "model.summary()\n",
    "for layer in model.layers:\n",
    "    print(\"Layer: \", layer.name) # print layer name\n",
    "    print(\"  --Kernels (Weights): \", layer.get_weights()) # weights\n",
    "    print(\"  --Biases: \", layer.get_weights()) # biases\n",
    "    "
   ]
  },
  {
   "cell_type": "markdown",
   "id": "3efae8df",
   "metadata": {},
   "source": [
    "### Evaluation "
   ]
  },
  {
   "cell_type": "markdown",
   "id": "9fbc286f",
   "metadata": {},
   "source": [
    "#### MAE and RMSE"
   ]
  },
  {
   "cell_type": "code",
   "execution_count": 69,
   "id": "4090e178",
   "metadata": {},
   "outputs": [
    {
     "name": "stdout",
     "output_type": "stream",
     "text": [
      "Train Score: 237990.38 MAE\n"
     ]
    }
   ],
   "source": [
    "MAE_train = (round(mean_absolute_error(y_train, trainPredict),2))\n",
    "print(\"Train Score: %.2f MAE\" % (MAE_train))"
   ]
  },
  {
   "cell_type": "code",
   "execution_count": 70,
   "id": "e45cc968",
   "metadata": {},
   "outputs": [
    {
     "name": "stdout",
     "output_type": "stream",
     "text": [
      "Test Score: 260377.49 MAE\n"
     ]
    }
   ],
   "source": [
    "MAE_test = (round(mean_absolute_error(y_test, testPredict),2))\n",
    "print(\"Test Score: %.2f MAE\" % (MAE_test))"
   ]
  },
  {
   "cell_type": "code",
   "execution_count": 71,
   "id": "06f01f08",
   "metadata": {
    "scrolled": true
   },
   "outputs": [
    {
     "name": "stdout",
     "output_type": "stream",
     "text": [
      "Train Score: 316505.28 RMSE\n"
     ]
    }
   ],
   "source": [
    "RMSE_train = math.sqrt(mean_squared_error(y_train, trainPredict))\n",
    "print(\"Train Score: %.2f RMSE\" % (RMSE_train))"
   ]
  },
  {
   "cell_type": "code",
   "execution_count": 72,
   "id": "43a7c10d",
   "metadata": {
    "scrolled": true
   },
   "outputs": [
    {
     "name": "stdout",
     "output_type": "stream",
     "text": [
      "Test Score: 327432.36 RMSE\n"
     ]
    }
   ],
   "source": [
    "RMSE_test = math.sqrt(mean_squared_error(y_test, testPredict))\n",
    "print(\"Test Score: %.2f RMSE\" % (RMSE_test))"
   ]
  },
  {
   "cell_type": "markdown",
   "id": "fe7e5c66",
   "metadata": {},
   "source": [
    "### MAPE "
   ]
  },
  {
   "cell_type": "code",
   "execution_count": 78,
   "id": "4827ef11",
   "metadata": {},
   "outputs": [],
   "source": [
    "def MAPE(y_true, y_pred):\n",
    "    y_true, y_pred = np.array(y_true), np.array(y_pred)\n",
    "    return np.mean(np.abs(y_true - y_pred) / y_true) * 100"
   ]
  },
  {
   "cell_type": "code",
   "execution_count": 81,
   "id": "702ff26f",
   "metadata": {
    "scrolled": true
   },
   "outputs": [
    {
     "data": {
      "text/plain": [
       "2.97"
      ]
     },
     "execution_count": 81,
     "metadata": {},
     "output_type": "execute_result"
    }
   ],
   "source": [
    "round(MAPE(y_test, testPredict),2)"
   ]
  },
  {
   "cell_type": "code",
   "execution_count": 73,
   "id": "54b7bb3f",
   "metadata": {},
   "outputs": [],
   "source": [
    "def plot_american(actual, predictions):\n",
    "    title = 'Passanger Predictions'\n",
    "    act = plt.plot(actual, color='blue', label='Actual')\n",
    "    pred = plt.plot(predictions, color='orange', label='Predictions')\n",
    "    plt.xlabel(\"Date\")\n",
    "    plt.ylabel(\"Paxe\")\n",
    "    plt.legend(loc='best')\n",
    "    plt.title(title)\n",
    "    plt.show()"
   ]
  },
  {
   "cell_type": "code",
   "execution_count": 74,
   "id": "ec621dc7",
   "metadata": {
    "scrolled": true
   },
   "outputs": [
    {
     "data": {
      "image/png": "[encoded data removed]",
      "text/plain": [
       "<Figure size 432x288 with 1 Axes>"
      ]
     },
     "metadata": {
      "needs_background": "light"
     },
     "output_type": "display_data"
    }
   ],
   "source": [
    "plot_american(y_test, testPredict)"
   ]
  },
  {
   "cell_type": "markdown",
   "id": "55b8475b",
   "metadata": {},
   "source": [
    "## Export Forecast"
   ]
  },
  {
   "cell_type": "code",
   "execution_count": 25,
   "id": "a9ba8656",
   "metadata": {},
   "outputs": [
    {
     "name": "stdout",
     "output_type": "stream",
     "text": [
      "/Users/dilianaserafimova/Library/Mobile Documents/com~apple~CloudDocs/Documents/My Files/Master Studium/Masterarbeit/Forecast/American Airlines\n"
     ]
    }
   ],
   "source": [
    "%cd  /Users/dilianaserafimova/Library/Mobile Documents/com~apple~CloudDocs/Documents/My Files/Master Studium/Masterarbeit/Forecast/American Airlines"
   ]
  },
  {
   "cell_type": "code",
   "execution_count": 26,
   "id": "e54ec16d",
   "metadata": {},
   "outputs": [],
   "source": [
    "testPredict.tofile('predictions_ffnn.csv')"
   ]
  }
 ],
 "metadata": {
  "kernelspec": {
   "display_name": "Python 3 (ipykernel)",
   "language": "python",
   "name": "python3"
  },
  "language_info": {
   "codemirror_mode": {
    "name": "ipython",
    "version": 3
   },
   "file_extension": ".py",
   "mimetype": "text/x-python",
   "name": "python",
   "nbconvert_exporter": "python",
   "pygments_lexer": "ipython3",
   "version": "3.9.7"
  }
 },
 "nbformat": 4,
 "nbformat_minor": 5
}
